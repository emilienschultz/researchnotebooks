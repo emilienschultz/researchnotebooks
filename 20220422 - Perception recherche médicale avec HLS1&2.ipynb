{
 "cells": [
  {
   "cell_type": "markdown",
   "id": "04ed0990",
   "metadata": {
    "slideshow": {
     "slide_type": "slide"
    }
   },
   "source": [
    "# La perception de la recherche médicale\n",
    "\n",
    "Et son lien avec la littéracie"
   ]
  },
  {
   "cell_type": "markdown",
   "id": "a20bdc66",
   "metadata": {
    "slideshow": {
     "slide_type": "skip"
    }
   },
   "source": [
    "jupyter nbconvert XXX --to slides --post serve"
   ]
  },
  {
   "cell_type": "markdown",
   "id": "73b813f1",
   "metadata": {
    "slideshow": {
     "slide_type": "slide"
    }
   },
   "source": [
    "## Cadrage\n",
    "\n",
    "### Problématique\n",
    "\n",
    "- Les essais cliniques sont promus pour l'accès précoce à l'innovation\n",
    "- L'épidémie de COVID-19 a donné une grande visibilité à la recherche médicale et clinique\n",
    "- Mobilisations autour de la vaccination qui relie santé/science\n",
    "\n",
    "### Traitement\n",
    "\n",
    "- Enquête 1 le 25/05/2020 et Enquête 2 le 04/01/2021\n",
    "- Quelques questions différentes\n",
    "- Données originales dans une période critique\n",
    "- Systématiquement, regarder l'influence de HL12"
   ]
  },
  {
   "cell_type": "markdown",
   "id": "8c542fa4",
   "metadata": {
    "slideshow": {
     "slide_type": "slide"
    }
   },
   "source": [
    "## Des publications déjà parues\n",
    "\n",
    "- Schultz E., Mignot L., Ward J.K., Silva D.B., Chabannon C., Mancini J., 2022, « Public perceptions of the association between drug effectiveness and drug novelty in France during the COVID-19 pandemic », Therapies. https://halshs.archives-ouvertes.fr/halshs-03445771\n",
    "\n",
    "Abstract : During the COVID-19 pandemic, public debates overtly addressed the promises of new innovative treatments. Many of these debates pitted those who advocated for the development of new treatments by pharmaceutical companies against those who favored the repositioning of existing drugs. Our study explored perceptions of the association between drug novelty and effectiveness as well as perceptions of the role of the pharmaceutical industry in drug development. Data were collected in January 2021 from a quota sample of the French population aged 18–75 years (N = 1,000) during the second round of the “Health Literacy Survey 2019” (HLS19). We tested the hypothesis that individuals with a high level of familiarity with the health care system and those with a high level of trust in institutions are more likely to agree that new drugs are more effective than old ones and that drug development should be driven by the pharmaceutical industry. A quarter (25%) of respondents agreed that new drugs are always more effective than old ones. Agreement with this statement was stronger among respondents with a high level of familiarity with the health care system (as measured by the Navigational Health Literacy score, OR 3.34 [2.13-5.24]) and among those with a high level of trust in pharmaceutical companies or politicians. A high level of trust in pharmaceutical companies was reported by 42% of respondents, and 43% agreed that drug development should be driven by the pharmaceutical industry. Respondents who agreed that new drugs are always more effective than old ones were almost four times more likely to agree that drug development should be driven by the pharmaceutical industry (OR 3.85 [2.76-5.39]). A better understanding of public attitudes towards new treatments is needed to elucidate individual preferences in health care and their consequences on health behavior.\n"
   ]
  },
  {
   "cell_type": "markdown",
   "id": "566cea4f",
   "metadata": {
    "slideshow": {
     "slide_type": "slide"
    }
   },
   "source": [
    "- Schultz É., Ward J.K., Atlani-Duault L., Holmes S.M., Mancini J., 2021, « French Public Familiarity and Attitudes toward Clinical Research during the COVID-19 Pandemic », International Journal of Environmental Research and Public Health, 18, 5, p. 2611. https://www.mdpi.com/1660-4601/18/5/2611\n",
    "\n",
    "Abstract : The COVID-19 pandemic put clinical research in the media spotlight globally. This article proposes a first measure of familiarity with and attitude toward clinical research in France. Drawing from the “Health Literacy Survey 2019” (HLS19) conducted online between 27 May and 5 June 2020 on a sample of the French adult population (N = 1003), we show that a significant proportion of the French population claimed some familiarity with clinical trials (64.8%) and had positive attitudes (72%) toward them. One of the important findings of this study is that positive attitudes toward clinical research exist side by side with a strong distancing from the pharmaceutical industry. While respondents acknowledged that the pharmaceutical industry plays an important role in clinical research (68.3%), only one-quarter indicated that they trust the industry (25.7%). Positive attitudes toward clinical trials were associated with familiarity with clinical trials (Odds Ratio, OR 2.97 [1.90–4.63]), financial difficulties (OR 0.63 [0.46–0.85]), as well as mistrust of doctors (0.48 [0.27–0.85]) and of scientists (OR 0.62 [0.38–0.99]). Although the French media provided a great deal of information on how clinical research works during the first months of the pandemic, there remains profound mistrust of the pharmaceutical industry in France. This suspicion can undermine crisis management, especially in the areas of vaccine development and preparation for future pandemics.\n",
    "\n",
    "\n",
    "Et intégration de la littéracie dans d'autres réflexions en cours (Vague 3 sur les COI)"
   ]
  },
  {
   "cell_type": "markdown",
   "id": "8ed5ddb0",
   "metadata": {
    "slideshow": {
     "slide_type": "slide"
    }
   },
   "source": [
    "## Questions d'intérêt\n",
    "\n",
    "Questions sur les essais cliniques\n",
    "\n",
    "- EC0 :     • 1\tJe n’ai jamais entendu parler d’essais cliniques avant aujourd’hui\n",
    "    • 2\tJe connais seulement le terme « essai clinique »\n",
    "    • 3\tJe connais un peu les essais cliniques\n",
    "    • 4\tJe connais bien les essais cliniques\n",
    "    • 5\tJe connais très bien les essais cliniques\n",
    "    \n",
    "- EC2 : D’après ce que vous en savez, quelle est votre impression générale sur les essais cliniques ?  (de 1 à 10)\n",
    "- EC3 : Savez-vous que les différents types d’essais cliniques sont parfois distingués en « Phases » ? (oui/non)\n",
    "\n",
    "Questions spécifiques essais cliniques (Pas d'accord à d'accord)\n",
    "\n",
    "1. Les essais cliniques sont utiles uniquement en dernier recours – après avoir essayé tous les traitements disponibles\n",
    "2. Les essais cliniques offrent une alternative à un traitement que vous souhaitez éviter (chirurgie invasive, chimiothérapie, etc.)\n",
    "3. Les essais cliniques ne conviennent qu’aux personnes dont le pronostic vital est engagé\n",
    "4. Les participants aux essais cliniques ne sont que des « cobayes »\n",
    "5. Les essais cliniques donnent de l’espoir aux personnes en leur donnant accès à de nouveaux traitements qu’ils ne pourraient obtenir autrement\n",
    "6. Les personnes qui participent à la recherche permettent de faire progresser les connaissances médicales et les traitements pour les autres malades\n",
    "7. Les personnes malades devraient avoir le droit de tester les nouveaux médicaments s’ils le souhaitent même si les médecins ne sont pas d’accord\n",
    "8. C’est une chance de recevoir un traitement expérimental\n",
    "9. Un traitement expérimental est avant tout un traitement comme un autre \n"
   ]
  },
  {
   "cell_type": "markdown",
   "id": "06107675",
   "metadata": {
    "slideshow": {
     "slide_type": "slide"
    }
   },
   "source": [
    "**Suite des questions**\n",
    "\n",
    "Recherche médicale RM : de tout à fait d'accord à pas d'accord du tout\n",
    "\n",
    "- 1 \tASK IF ALEA= 1 La recherche dans le domaine du cancer se fait est conduite de la même manière que la recherche dans les autres maladies\n",
    "- 2 \tASK IF ALEA=2 La recherche dans le domaine du coronavirus se fait est conduite de la même manière que la recherche dans les autres maladies\n",
    "- 3 \t**Les industriels doivent avoir un rôle important dans la recherche médicale -> Il faut laisser aux industriels la responsabilité de développer les nouveaux** \n",
    "- 4 \t**La recherche médicale est faite uniquement par les médecins -> -Il est normal que les industriels collaborent avec les médecins pour développer un nouveau médicament** \n",
    "- 5\t\tLutter contre le chômage est plus important que de financer la recherche médicale\n",
    "- 6\t\tLes nouveaux médicaments sont toujours plus efficaces que les anciens\n",
    "- 7\t\tLes citoyens doivent pouvoir donner leur avis sur les choix de recherche financés par l’Etat\n",
    "- 8\t\tIl faut financer en priorité la recherche sur les nouvelles maladies par rapport à celles plus \n",
    "- 9     Responsabilité de l'état de développer de nouveaux médicaments\n",
    "\n",
    "\n",
    "\n",
    "+ Confiance industriels -> laboratoires pharmaceutiques (6)"
   ]
  },
  {
   "cell_type": "markdown",
   "id": "d7a66543",
   "metadata": {
    "slideshow": {
     "slide_type": "slide"
    }
   },
   "source": [
    "## Chargement et mise en forme des données"
   ]
  },
  {
   "cell_type": "code",
   "execution_count": 1,
   "id": "7ef1295e",
   "metadata": {
    "slideshow": {
     "slide_type": "skip"
    }
   },
   "outputs": [],
   "source": [
    "# Chargement des bibliothèques\n",
    "import pandas as pd\n",
    "import matplotlib.pyplot as plt\n",
    "import seaborn as sns\n",
    "from scipy import stats\n",
    "import pyshs\n",
    "\n",
    "# Chargement des données \n",
    "data = pd.read_excel(\"./Data/bdd2.xlsx\")\n",
    "data[\"ID\"] = data.apply(lambda x : \"%s-%s\"%(x[\"Vague\"],x[\"Respondent.Serial\"]),axis=1)\n",
    "\n",
    "# Données supplémentaires\n",
    "ajout = pd.read_excel(\"./Data/04.2022.Base-HLS19-Colonnes-sup.xlsx\")\n",
    "ajout[\"ID\"] = ajout.apply(lambda x : \"%s-%s\"%(x[\"Vague\"],x[\"RespondentSerial\"]),axis=1)\n",
    "ajout = ajout.set_index(\"ID\")\n",
    "\n",
    "# Joindre les données\n",
    "data = data.join(ajout,on=\"ID\",rsuffix=\"ADD\")\n",
    "\n",
    "def reco(x):\n",
    "    if x<4:\n",
    "        return \"1 - Below BD\"\n",
    "    if x == 4:\n",
    "        return \"2 - BD\"\n",
    "    else:\n",
    "        return \"3 - Above BD\"\n",
    "data[\"dip\"] = data[\"DET6\"].apply(reco)\n",
    "\n",
    "data[\"zones\"] = data[\"FRINSEEMKTSIZE\"].replace({1:\"Rural\",2:\"Urban <20k\",3:\"Urban <100k\",4:\"Urban >100k\",5:\"Paris\"})\n",
    "data[\"sexe\"] = data[\"resp_gender\"]\n",
    "data[\"age\"] = pd.cut(data[\"resp_age\"],[0,25,45,65,100],labels = [\"[0-25[\",\"[25-45[\",\"[45-65[\",\"[65+\"])\n",
    "data[\"age2\"] = pd.cut(data[\"resp_age\"],[0,35,45,55,65,100],\n",
    "                labels = [\"[18-35[\",\"[35-45[\",\"[45-55[\",\"[55-65[\",\"[65-75]\"])\n",
    "data[\"rechercheinfo\"] = data[\"HI1\"].replace({1:\"1 - Yes\",2:\"2 - No\"})\n",
    "data[\"DET8\"] = data[\"DET8\"].replace({1:\"Yes\",2:\"No\"})\n",
    "\n",
    "data[\"EtatSante\"] = data[\"HSTAT1\"].replace({1:\"1 - Good\",2:\"1 - Good\",3:\"2 - Average\",4:\"3 - Bad\",5:\"3 - Bad\"})\n",
    "\n",
    "\n",
    "# Indicateur de position sociale\n",
    "data[\"def\"] = data.apply(lambda x : \"Yes\" if (x[\"DET10\"]>2) or (x[\"DET11\"]>2) else \"No\",axis=1)\n",
    "data[\"DEF\"] = data[\"def\"]\n",
    "\n",
    "\n",
    "data[\"consult\"] = data[\"HCUT3\"]>0\n",
    "data[\"formationsante\"] = data[\"DET8\"]\n",
    "\n",
    "data[\"rev\"] = data[\"D16\"].replace({1:\"1 - less than 1000\",2:\"1 - less than 1000\",3:\"1 - less than 1000\",\n",
    "                     4:\"2 - 1000 to 2000\",5:\"2 - 1000 to 2000\",6:\"2 - 1000 to 2000\",\n",
    "                     7:\"3 - 2000 to 3000\",8:\"3 - 2000 to 3000\",9:\"4 - 3000 to 5000\",\n",
    "                     10:\"5 - 5000 and more\",11:\"5 - 5000 and more\",12:\"6 - NSPR\"\n",
    "                    })\n",
    "\n",
    "data[\"rev2\"] = data[\"D16\"].replace({1:\"1 - less than 1000\",2:\"1 - less than 1000\",3:\"1 - less than 1000\",\n",
    "                     4:\"2 - 1000 to 2000\",5:\"2 - 1000 to 2000\",6:\"2 - 1000 to 2000\",\n",
    "                     7:\"3 - 2000 to 3000\",8:\"3 - 2000 to 3000\",9:\"4 - 3000 and more\",\n",
    "                     10:\"4 - 3000 and more\",11:\"4 - 3000 and more\",12:\"5 - NSPR\" \n",
    "                    })\n",
    "\n",
    "# Navigating quartile\n",
    "dic = {1:1,2:1,3:0,4:0}\n",
    "data[\"NHL\"] = data[[\"NHL1_%d._scale\"%i for i in range(1,7)]+[\"NHL2_%d._scale\"%i for i in range(1,7)]].replace(dic).sum(axis=1)\n",
    "data[\"NHL_C\"] = pd.qcut(data[\"NHL\"],4,[\"Q1-Low\",\"Q2\",\"Q3\",\"Q4-High\"])\n",
    "\n",
    "# HLQ\n",
    "data[\"HLQ12\"] = data[\"HLQ12\"].replace({'Problématique':\"3-Problématique\", 'Excellent':\"1-Excellente\", \n",
    "                       'suffisant':\"2-Suffisante\", 'Inadéquat':\"4-Inadéquate\"})\n",
    "\n",
    "# Confiance (les deux derniers ont changé)\n",
    "data[\"confiance\"] = data[[\"CONF_%d._scale\"%i for i in range(1,6)]].replace({1:1,2:1,3:0,4:0}).sum(axis=1)/5\n",
    "data[\"confIndLabo\"] = data['CONF_6._scale'].replace({1:\"1 - Yes\",2:\"1 - Yes\",3:\"2 - No\",4:\"2 - No\"})\n",
    "data[\"confMedecins\"] = data['CONF_4._scale'].replace({1:\"1 - Yes\",2:\"1 - Yes\",3:\"2 - No\",4:\"2 - No\"})\n",
    "data[\"confScientifiques\"] = data['CONF_3._scale'].replace({1:\"1 - Yes\",2:\"1 - Yes\",3:\"2 - No\",4:\"2 - No\"})\n",
    "data[\"confPolitiques\"] = data['CONF_2._scale'].replace({1:\"1 - Yes\",2:\"1 - Yes\",3:\"2 - No\",4:\"2 - No\"})\n",
    "\n",
    "\n",
    "# Connaissance des EC\n",
    "data[\"ConnaissanceEC\"] = data[\"EC0\"].replace({3:\"3-Somewhat familiar with what CTs are\", 5:\"5-Extremely familiar with what CTs are\", \n",
    "        2:\"2-Only know the term, CTs\", 4:\"4-Very familiar with what CTs are\", 1:\"1-Never heard of CTs before today\"})\n",
    "data[\"ConnaissanceECT\"] = data[\"EC0\"].replace({3:\"2-Somewhat familiar\", 5:\"1-Familiar\", \n",
    "        2:\"3-Not familiar\", 4:\"1-Familiar\", 1:\"3-Not familiar\"})\n",
    "data[\"avisEC\"] = data[\"EC2__1._scale\"]\n",
    "data[\"ConnaissanceBien\"] = data[\"ConnaissanceEC\"].apply(lambda x : 1 if x \n",
    "            in [\"5-Extremely familiar with what CTs are\",\"4-Very familiar with what CTs are\"] else 0)\n",
    "data[\"familiarityCT\"] = data[\"ConnaissanceBien\"].replace({0:\"1-No\",1:\"2-Yes\"})\n",
    "data[\"Phase\"] = data[\"EC3\"].replace({1:\"Yes\",2:\"No\"}).fillna(\"NA\")\n",
    "data[\"avisEC_score\"] = data[\"EC2__1._scale\"]\n",
    "data[\"avisEC_C\"] = pd.qcut(data[\"EC2__1._scale\"],[0,0.33,0.66,1],[\"Q1\",\"Q2\",\"Q3\"])\n",
    "data[\"FavorableEC\"] = data[\"avisEC_score\"].apply(lambda x : 1 if x >=6 else 0) \n",
    "\n",
    "# Echelle sur la recherche médicale\n",
    "reco1 = {1:\"1 - Totally agree\", 2:\"2 - Rather agree\",\n",
    "        3:\"3 - Rather disagree\",4:\"4 - Totally disagree\"}\n",
    "reco2 = {1:\"1 - Agree\", 2:\"1 - Agree\",\n",
    "        3:\"2 - Disagree\",4:\"2 - Disagree\"}\n",
    "data[\"RM_cancer\"] = data[\"RM_1._scale\"].replace(reco2)\n",
    "data[\"RM_covid\"] = data[\"RM_2._scale\"].replace(reco2)\n",
    "data[\"RM_industriels\"] = data[\"RM_3._scale\"].replace(reco2)\n",
    "data[\"RM_medecins\"] = data[\"RM_4._scale\"].replace(reco2)\n",
    "data[\"RM_chomage\"] = data[\"RM_5._scale\"].replace(reco2)\n",
    "data[\"RM_medicaments\"] = data[\"RM_6._scale\"].replace(reco2)\n",
    "data[\"RM_choix_citoyens\"] = data[\"RM_7._scale\"].replace(reco2)\n",
    "data[\"RM_nouvelles_maladies\"] = data[\"RM_8._scale\"].replace(reco2)\n",
    "data[\"RM_responsabilite_etat\"] = data[\"RM_9._scale\"].replace(reco2)\n"
   ]
  },
  {
   "cell_type": "markdown",
   "id": "8f4137ea",
   "metadata": {
    "slideshow": {
     "slide_type": "slide"
    }
   },
   "source": [
    "## Rapport  aux essais cliniques"
   ]
  },
  {
   "cell_type": "markdown",
   "id": "e364d157",
   "metadata": {},
   "source": [
    "### Avoir entendu parler des essais cliniques"
   ]
  },
  {
   "cell_type": "code",
   "execution_count": 14,
   "id": "c4252da9",
   "metadata": {
    "slideshow": {
     "slide_type": "-"
    }
   },
   "outputs": [
    {
     "data": {
      "text/html": [
       "<div>\n",
       "<style scoped>\n",
       "    .dataframe tbody tr th:only-of-type {\n",
       "        vertical-align: middle;\n",
       "    }\n",
       "\n",
       "    .dataframe tbody tr th {\n",
       "        vertical-align: top;\n",
       "    }\n",
       "\n",
       "    .dataframe thead th {\n",
       "        text-align: right;\n",
       "    }\n",
       "</style>\n",
       "<table border=\"1\" class=\"dataframe\">\n",
       "  <thead>\n",
       "    <tr style=\"text-align: right;\">\n",
       "      <th></th>\n",
       "      <th>1-Never heard of CTs before today</th>\n",
       "      <th>2-Only know the term, CTs</th>\n",
       "      <th>3-Somewhat familiar with what CTs are</th>\n",
       "      <th>4-Very familiar with what CTs are</th>\n",
       "      <th>5-Extremely familiar with what CTs are</th>\n",
       "      <th>Total</th>\n",
       "    </tr>\n",
       "  </thead>\n",
       "  <tbody>\n",
       "    <tr>\n",
       "      <th>1-Excellente</th>\n",
       "      <td>15.1 (4.6%)</td>\n",
       "      <td>61.0 (18.7%)</td>\n",
       "      <td>134.0 (41.0%)</td>\n",
       "      <td>74.8 (22.9%)</td>\n",
       "      <td>42.0 (12.8%)</td>\n",
       "      <td>326.9 (100%)</td>\n",
       "    </tr>\n",
       "    <tr>\n",
       "      <th>2-Suffisante</th>\n",
       "      <td>27.7 (3.5%)</td>\n",
       "      <td>275.7 (34.7%)</td>\n",
       "      <td>340.6 (42.9%)</td>\n",
       "      <td>117.2 (14.8%)</td>\n",
       "      <td>32.4 (4.1%)</td>\n",
       "      <td>793.7 (100%)</td>\n",
       "    </tr>\n",
       "    <tr>\n",
       "      <th>3-Problématique</th>\n",
       "      <td>11.9 (2.0%)</td>\n",
       "      <td>230.1 (38.6%)</td>\n",
       "      <td>257.8 (43.2%)</td>\n",
       "      <td>75.5 (12.7%)</td>\n",
       "      <td>21.3 (3.6%)</td>\n",
       "      <td>596.6 (100%)</td>\n",
       "    </tr>\n",
       "    <tr>\n",
       "      <th>4-Inadéquate</th>\n",
       "      <td>6.1 (2.1%)</td>\n",
       "      <td>111.4 (39.0%)</td>\n",
       "      <td>136.9 (47.9%)</td>\n",
       "      <td>24.3 (8.5%)</td>\n",
       "      <td>7.1 (2.5%)</td>\n",
       "      <td>285.8 (100%)</td>\n",
       "    </tr>\n",
       "    <tr>\n",
       "      <th>Total</th>\n",
       "      <td>60.8 (3.0%)</td>\n",
       "      <td>678.2 (33.9%)</td>\n",
       "      <td>869.3 (43.4%)</td>\n",
       "      <td>291.8 (14.6%)</td>\n",
       "      <td>102.9 (5.1%)</td>\n",
       "      <td>2003.0 (100%)</td>\n",
       "    </tr>\n",
       "  </tbody>\n",
       "</table>\n",
       "</div>"
      ],
      "text/plain": [
       "                1-Never heard of CTs before today 2-Only know the term, CTs  \\\n",
       "1-Excellente                          15.1 (4.6%)              61.0 (18.7%)   \n",
       "2-Suffisante                          27.7 (3.5%)             275.7 (34.7%)   \n",
       "3-Problématique                       11.9 (2.0%)             230.1 (38.6%)   \n",
       "4-Inadéquate                           6.1 (2.1%)             111.4 (39.0%)   \n",
       "Total                                 60.8 (3.0%)             678.2 (33.9%)   \n",
       "\n",
       "                3-Somewhat familiar with what CTs are  \\\n",
       "1-Excellente                            134.0 (41.0%)   \n",
       "2-Suffisante                            340.6 (42.9%)   \n",
       "3-Problématique                         257.8 (43.2%)   \n",
       "4-Inadéquate                            136.9 (47.9%)   \n",
       "Total                                   869.3 (43.4%)   \n",
       "\n",
       "                4-Very familiar with what CTs are  \\\n",
       "1-Excellente                         74.8 (22.9%)   \n",
       "2-Suffisante                        117.2 (14.8%)   \n",
       "3-Problématique                      75.5 (12.7%)   \n",
       "4-Inadéquate                          24.3 (8.5%)   \n",
       "Total                               291.8 (14.6%)   \n",
       "\n",
       "                5-Extremely familiar with what CTs are          Total  \n",
       "1-Excellente                              42.0 (12.8%)   326.9 (100%)  \n",
       "2-Suffisante                               32.4 (4.1%)   793.7 (100%)  \n",
       "3-Problématique                            21.3 (3.6%)   596.6 (100%)  \n",
       "4-Inadéquate                                7.1 (2.5%)   285.8 (100%)  \n",
       "Total                                     102.9 (5.1%)  2003.0 (100%)  "
      ]
     },
     "execution_count": 14,
     "metadata": {},
     "output_type": "execute_result"
    }
   ],
   "source": [
    "pyshs.tableau_croise(data, \"HLQ12\", \"ConnaissanceEC\",\"weight\")"
   ]
  },
  {
   "cell_type": "markdown",
   "id": "f00e3193",
   "metadata": {},
   "source": [
    "Lien connaissances des EC & littéracie"
   ]
  },
  {
   "cell_type": "markdown",
   "id": "fe524aa7",
   "metadata": {
    "slideshow": {
     "slide_type": "slide"
    }
   },
   "source": [
    "### Connaissance de la distinction en phases"
   ]
  },
  {
   "cell_type": "code",
   "execution_count": 53,
   "id": "30dd9a61",
   "metadata": {},
   "outputs": [
    {
     "data": {
      "text/html": [
       "<div>\n",
       "<style scoped>\n",
       "    .dataframe tbody tr th:only-of-type {\n",
       "        vertical-align: middle;\n",
       "    }\n",
       "\n",
       "    .dataframe tbody tr th {\n",
       "        vertical-align: top;\n",
       "    }\n",
       "\n",
       "    .dataframe thead th {\n",
       "        text-align: right;\n",
       "    }\n",
       "</style>\n",
       "<table border=\"1\" class=\"dataframe\">\n",
       "  <thead>\n",
       "    <tr style=\"text-align: right;\">\n",
       "      <th></th>\n",
       "      <th>NA</th>\n",
       "      <th>No</th>\n",
       "      <th>Yes</th>\n",
       "      <th>Total</th>\n",
       "    </tr>\n",
       "  </thead>\n",
       "  <tbody>\n",
       "    <tr>\n",
       "      <th>1-Excellente</th>\n",
       "      <td>15.1 (4.6%)</td>\n",
       "      <td>96.0 (29.4%)</td>\n",
       "      <td>215.9 (66.0%)</td>\n",
       "      <td>326.9 (100%)</td>\n",
       "    </tr>\n",
       "    <tr>\n",
       "      <th>2-Suffisante</th>\n",
       "      <td>27.7 (3.5%)</td>\n",
       "      <td>355.6 (44.8%)</td>\n",
       "      <td>410.4 (51.7%)</td>\n",
       "      <td>793.7 (100%)</td>\n",
       "    </tr>\n",
       "    <tr>\n",
       "      <th>3-Problématique</th>\n",
       "      <td>11.9 (2.0%)</td>\n",
       "      <td>264.2 (44.3%)</td>\n",
       "      <td>320.6 (53.7%)</td>\n",
       "      <td>596.6 (100%)</td>\n",
       "    </tr>\n",
       "    <tr>\n",
       "      <th>4-Inadéquate</th>\n",
       "      <td>6.1 (2.1%)</td>\n",
       "      <td>146.9 (51.4%)</td>\n",
       "      <td>132.8 (46.5%)</td>\n",
       "      <td>285.8 (100%)</td>\n",
       "    </tr>\n",
       "    <tr>\n",
       "      <th>Total</th>\n",
       "      <td>60.8 (3.0%)</td>\n",
       "      <td>862.6 (43.1%)</td>\n",
       "      <td>1079.6 (53.9%)</td>\n",
       "      <td>2003.0 (100%)</td>\n",
       "    </tr>\n",
       "  </tbody>\n",
       "</table>\n",
       "</div>"
      ],
      "text/plain": [
       "                          NA             No             Yes          Total\n",
       "1-Excellente     15.1 (4.6%)   96.0 (29.4%)   215.9 (66.0%)   326.9 (100%)\n",
       "2-Suffisante     27.7 (3.5%)  355.6 (44.8%)   410.4 (51.7%)   793.7 (100%)\n",
       "3-Problématique  11.9 (2.0%)  264.2 (44.3%)   320.6 (53.7%)   596.6 (100%)\n",
       "4-Inadéquate      6.1 (2.1%)  146.9 (51.4%)   132.8 (46.5%)   285.8 (100%)\n",
       "Total            60.8 (3.0%)  862.6 (43.1%)  1079.6 (53.9%)  2003.0 (100%)"
      ]
     },
     "execution_count": 53,
     "metadata": {},
     "output_type": "execute_result"
    }
   ],
   "source": [
    "pyshs.tableau_croise(data, \"HLQ12\", \"Phase\",\"weight\")"
   ]
  },
  {
   "cell_type": "markdown",
   "id": "30e45617",
   "metadata": {},
   "source": [
    "Lien confirmé"
   ]
  },
  {
   "cell_type": "markdown",
   "id": "95e90897",
   "metadata": {
    "slideshow": {
     "slide_type": "slide"
    }
   },
   "source": [
    "### Avis sur les essais cliniques"
   ]
  },
  {
   "cell_type": "code",
   "execution_count": 122,
   "id": "daf4ed1a",
   "metadata": {},
   "outputs": [
    {
     "data": {
      "image/png": "[encoded data removed]",
      "text/plain": [
       "<Figure size 432x288 with 1 Axes>"
      ]
     },
     "metadata": {
      "needs_background": "light"
     },
     "output_type": "display_data"
    }
   ],
   "source": [
    "data.boxplot(column=\"avisEC\",by=\"HLQ12\",showmeans=True)\n",
    "plt.suptitle(\"\")\n",
    "plt.title(\"Attitude sur les essais cliniques (1-10)\")\n",
    "plt.show()"
   ]
  },
  {
   "cell_type": "markdown",
   "id": "37d315ce",
   "metadata": {},
   "source": [
    "Attitude sur les essais cliniques associé à la littéracie"
   ]
  },
  {
   "cell_type": "markdown",
   "id": "b08b1697",
   "metadata": {
    "slideshow": {
     "slide_type": "slide"
    }
   },
   "source": [
    "### Tableau générale des représentations"
   ]
  },
  {
   "cell_type": "code",
   "execution_count": null,
   "id": "4d86da9d",
   "metadata": {
    "slideshow": {
     "slide_type": "skip"
    }
   },
   "outputs": [],
   "source": [
    "s = [\"EC4__\"+str(i)+\"._scale\" for i in range(1,10)]\n",
    "titles = [\n",
    "    \"1. Les essais cliniques sont utiles uniquement\\n en dernier recours – après avoir\\n essayé tous les traitements disponibles\",\n",
    "    \"2. Les essais cliniques offrent une alternative\\n à un traitement que vous souhaitez \\néviter (chirurgie invasive, chimiothérapie, etc.)\",\n",
    "    \"3. Les essais cliniques ne conviennent qu’aux \\npersonnes dont le pronostic vital est engagé\",\n",
    "    \"3. Les participants aux essais cliniques\\n ne sont que des « cobayes »\",\n",
    "    \"5. Les essais cliniques donnent de l’espoir \\naux personnes en leur donnant accès à de nouveaux\\n traitements qu’ils ne pourraient obtenir autrement\",\n",
    "    \"6. Les personnes qui participent à la recherche\\n permettent de faire progresser les connaissances\\n médicales et les traitements pour les autres malades\",\n",
    "    \"7. Les personnes malades devraient avoir le \\ndroit de tester les nouveaux médicaments \\ns’ils le souhaitent même si les médecins\\n ne sont pas d’accord\",\n",
    "    \"8. C’est une chance de recevoir\\n un traitement expérimental\",\n",
    "    \"9. Un traitement expérimental est avant\\n tout un traitement comme un autre\"]\n",
    "data_ax = []\n",
    "for i in s:\n",
    "    t =data[i].value_counts().sort_index()\n",
    "    t.index = [\"1-Pas Accord\",\"2\",\"3\",\"4\",\"5\",\"6\",\"7\",\"8\",\"9\",\"10-Accord\"]\n",
    "    data_ax.append(t)\n"
   ]
  },
  {
   "cell_type": "code",
   "execution_count": 135,
   "id": "5fa549cb",
   "metadata": {},
   "outputs": [
    {
     "data": {
      "image/png": "[encoded data removed]",
      "text/plain": [
       "<Figure size 1080x720 with 9 Axes>"
      ]
     },
     "metadata": {
      "needs_background": "light"
     },
     "output_type": "display_data"
    }
   ],
   "source": [
    "fig,ax = plt.subplots(3,3,figsize=(15,10),sharex=True,sharey=True)\n",
    "ax = ax.flatten()\n",
    "for i,t in zip(range(0,len(s)),data_ax):\n",
    "    t.plot(kind=\"bar\",ax=ax[i],color=\"orange\",alpha=0.5,rot=50)\n",
    "    ax[i].set_title(titles[i])\n",
    "    ax[i].set_ylabel(\"N\")\n",
    "plt.suptitle(\"Affirmations à propos des essais cliniques\")\n",
    "plt.tight_layout()"
   ]
  },
  {
   "cell_type": "code",
   "execution_count": 43,
   "id": "4c69c814",
   "metadata": {
    "slideshow": {
     "slide_type": "slide"
    }
   },
   "outputs": [
    {
     "data": {
      "image/png": "[encoded data removed]",
      "text/plain": [
       "<Figure size 1440x720 with 9 Axes>"
      ]
     },
     "metadata": {
      "needs_background": "light"
     },
     "output_type": "display_data"
    }
   ],
   "source": [
    "ax = data.boxplot(column=s,by=\"HLQ12\",figsize=(20,10),rot=45, showmeans=True)\n",
    "for i,a in enumerate(ax.flatten()):\n",
    "    a.set_title(titles[i])\n",
    "plt.tight_layout()"
   ]
  },
  {
   "cell_type": "markdown",
   "id": "a186da6b",
   "metadata": {},
   "source": [
    "Une association différencielle des dimensions : sur le rapport au nouveau médicament, une relation"
   ]
  },
  {
   "cell_type": "markdown",
   "id": "339ac800",
   "metadata": {
    "slideshow": {
     "slide_type": "slide"
    }
   },
   "source": [
    "### La recherche médicale (RM)"
   ]
  },
  {
   "cell_type": "code",
   "execution_count": 147,
   "id": "c4d129ed",
   "metadata": {
    "slideshow": {
     "slide_type": "skip"
    }
   },
   "outputs": [],
   "source": [
    "t= {\"\"\"Industriels doivent avoir un \\\n",
    "       rôle important dans RM (vague 1)\"\"\":pyshs.tableau_croise(data[data[\"Vague\"]==1],\n",
    "        \"HLQ12\",\"RM_industriels\", \"weight\"),\n",
    "   \"\"\"Industriels doivent avoir la responsabilité \\\n",
    "   nouveaux médicaments (vague 2)\"\"\":pyshs.tableau_croise(data[data[\"Vague\"]==2],\"HLQ12\",\n",
    "        \"RM_industriels\", \"weight\"),\n",
    "   \"\"\"Recherche médicale uniquement médecins\"\"\":pyshs.tableau_croise(data[data[\"Vague\"]==1],\"HLQ12\",\n",
    "        \"RM_medecins\", \"weight\"),\n",
    "   \"\"\"Normalité collaboration médecin/industriels\"\"\":pyshs.tableau_croise(data[data[\"Vague\"]==2],\"HLQ12\",\n",
    "        \"RM_medecins\", \"weight\")}\n",
    "tableau = pd.concat(t)"
   ]
  },
  {
   "cell_type": "code",
   "execution_count": 148,
   "id": "141381a0",
   "metadata": {
    "slideshow": {
     "slide_type": "slide"
    }
   },
   "outputs": [
    {
     "data": {
      "text/html": [
       "<div>\n",
       "<style scoped>\n",
       "    .dataframe tbody tr th:only-of-type {\n",
       "        vertical-align: middle;\n",
       "    }\n",
       "\n",
       "    .dataframe tbody tr th {\n",
       "        vertical-align: top;\n",
       "    }\n",
       "\n",
       "    .dataframe thead th {\n",
       "        text-align: right;\n",
       "    }\n",
       "</style>\n",
       "<table border=\"1\" class=\"dataframe\">\n",
       "  <thead>\n",
       "    <tr style=\"text-align: right;\">\n",
       "      <th></th>\n",
       "      <th></th>\n",
       "      <th>1 - Agree</th>\n",
       "      <th>2 - Disagree</th>\n",
       "      <th>Total</th>\n",
       "    </tr>\n",
       "  </thead>\n",
       "  <tbody>\n",
       "    <tr>\n",
       "      <th rowspan=\"5\" valign=\"top\">Industriels doivent avoir un        rôle important dans RM (vague 1)</th>\n",
       "      <th>1-Excellente</th>\n",
       "      <td>125.0 (75.1%)</td>\n",
       "      <td>41.4 (24.9%)</td>\n",
       "      <td>166.5 (100%)</td>\n",
       "    </tr>\n",
       "    <tr>\n",
       "      <th>2-Suffisante</th>\n",
       "      <td>295.0 (67.9%)</td>\n",
       "      <td>139.2 (32.1%)</td>\n",
       "      <td>434.2 (100%)</td>\n",
       "    </tr>\n",
       "    <tr>\n",
       "      <th>3-Problématique</th>\n",
       "      <td>181.0 (67.0%)</td>\n",
       "      <td>89.2 (33.0%)</td>\n",
       "      <td>270.2 (100%)</td>\n",
       "    </tr>\n",
       "    <tr>\n",
       "      <th>4-Inadéquate</th>\n",
       "      <td>84.3 (63.8%)</td>\n",
       "      <td>47.9 (36.2%)</td>\n",
       "      <td>132.2 (100%)</td>\n",
       "    </tr>\n",
       "    <tr>\n",
       "      <th>Total</th>\n",
       "      <td>685.3 (68.3%)</td>\n",
       "      <td>317.7 (31.7%)</td>\n",
       "      <td>1003.0 (100%)</td>\n",
       "    </tr>\n",
       "    <tr>\n",
       "      <th rowspan=\"5\" valign=\"top\">Industriels doivent avoir la responsabilité    nouveaux médicaments (vague 2)</th>\n",
       "      <th>1-Excellente</th>\n",
       "      <td>84.7 (52.8%)</td>\n",
       "      <td>75.8 (47.2%)</td>\n",
       "      <td>160.5 (100%)</td>\n",
       "    </tr>\n",
       "    <tr>\n",
       "      <th>2-Suffisante</th>\n",
       "      <td>181.7 (50.6%)</td>\n",
       "      <td>177.7 (49.4%)</td>\n",
       "      <td>359.4 (100%)</td>\n",
       "    </tr>\n",
       "    <tr>\n",
       "      <th>3-Problématique</th>\n",
       "      <td>111.6 (34.2%)</td>\n",
       "      <td>214.8 (65.8%)</td>\n",
       "      <td>326.5 (100%)</td>\n",
       "    </tr>\n",
       "    <tr>\n",
       "      <th>4-Inadéquate</th>\n",
       "      <td>54.4 (35.4%)</td>\n",
       "      <td>99.2 (64.6%)</td>\n",
       "      <td>153.6 (100%)</td>\n",
       "    </tr>\n",
       "    <tr>\n",
       "      <th>Total</th>\n",
       "      <td>432.5 (43.2%)</td>\n",
       "      <td>567.5 (56.8%)</td>\n",
       "      <td>1000.0 (100%)</td>\n",
       "    </tr>\n",
       "    <tr>\n",
       "      <th rowspan=\"5\" valign=\"top\">Recherche médicale uniquement médecins</th>\n",
       "      <th>1-Excellente</th>\n",
       "      <td>47.0 (28.2%)</td>\n",
       "      <td>119.4 (71.8%)</td>\n",
       "      <td>166.5 (100%)</td>\n",
       "    </tr>\n",
       "    <tr>\n",
       "      <th>2-Suffisante</th>\n",
       "      <td>141.4 (32.6%)</td>\n",
       "      <td>292.9 (67.4%)</td>\n",
       "      <td>434.2 (100%)</td>\n",
       "    </tr>\n",
       "    <tr>\n",
       "      <th>3-Problématique</th>\n",
       "      <td>70.4 (26.1%)</td>\n",
       "      <td>199.8 (73.9%)</td>\n",
       "      <td>270.2 (100%)</td>\n",
       "    </tr>\n",
       "    <tr>\n",
       "      <th>4-Inadéquate</th>\n",
       "      <td>34.7 (26.3%)</td>\n",
       "      <td>97.4 (73.7%)</td>\n",
       "      <td>132.2 (100%)</td>\n",
       "    </tr>\n",
       "    <tr>\n",
       "      <th>Total</th>\n",
       "      <td>293.5 (29.3%)</td>\n",
       "      <td>709.5 (70.7%)</td>\n",
       "      <td>1003.0 (100%)</td>\n",
       "    </tr>\n",
       "    <tr>\n",
       "      <th rowspan=\"5\" valign=\"top\">Normalité collaboration médecin/industriels</th>\n",
       "      <th>1-Excellente</th>\n",
       "      <td>145.5 (90.7%)</td>\n",
       "      <td>15.0 (9.3%)</td>\n",
       "      <td>160.5 (100%)</td>\n",
       "    </tr>\n",
       "    <tr>\n",
       "      <th>2-Suffisante</th>\n",
       "      <td>324.2 (90.2%)</td>\n",
       "      <td>35.3 (9.8%)</td>\n",
       "      <td>359.4 (100%)</td>\n",
       "    </tr>\n",
       "    <tr>\n",
       "      <th>3-Problématique</th>\n",
       "      <td>265.1 (81.2%)</td>\n",
       "      <td>61.3 (18.8%)</td>\n",
       "      <td>326.5 (100%)</td>\n",
       "    </tr>\n",
       "    <tr>\n",
       "      <th>4-Inadéquate</th>\n",
       "      <td>127.5 (83.0%)</td>\n",
       "      <td>26.2 (17.0%)</td>\n",
       "      <td>153.6 (100%)</td>\n",
       "    </tr>\n",
       "    <tr>\n",
       "      <th>Total</th>\n",
       "      <td>862.2 (86.2%)</td>\n",
       "      <td>137.8 (13.8%)</td>\n",
       "      <td>1000.0 (100%)</td>\n",
       "    </tr>\n",
       "  </tbody>\n",
       "</table>\n",
       "</div>"
      ],
      "text/plain": [
       "                                                                        1 - Agree  \\\n",
       "Industriels doivent avoir un        rôle import... 1-Excellente     125.0 (75.1%)   \n",
       "                                                   2-Suffisante     295.0 (67.9%)   \n",
       "                                                   3-Problématique  181.0 (67.0%)   \n",
       "                                                   4-Inadéquate      84.3 (63.8%)   \n",
       "                                                   Total            685.3 (68.3%)   \n",
       "Industriels doivent avoir la responsabilité    ... 1-Excellente      84.7 (52.8%)   \n",
       "                                                   2-Suffisante     181.7 (50.6%)   \n",
       "                                                   3-Problématique  111.6 (34.2%)   \n",
       "                                                   4-Inadéquate      54.4 (35.4%)   \n",
       "                                                   Total            432.5 (43.2%)   \n",
       "Recherche médicale uniquement médecins             1-Excellente      47.0 (28.2%)   \n",
       "                                                   2-Suffisante     141.4 (32.6%)   \n",
       "                                                   3-Problématique   70.4 (26.1%)   \n",
       "                                                   4-Inadéquate      34.7 (26.3%)   \n",
       "                                                   Total            293.5 (29.3%)   \n",
       "Normalité collaboration médecin/industriels        1-Excellente     145.5 (90.7%)   \n",
       "                                                   2-Suffisante     324.2 (90.2%)   \n",
       "                                                   3-Problématique  265.1 (81.2%)   \n",
       "                                                   4-Inadéquate     127.5 (83.0%)   \n",
       "                                                   Total            862.2 (86.2%)   \n",
       "\n",
       "                                                                     2 - Disagree  \\\n",
       "Industriels doivent avoir un        rôle import... 1-Excellente      41.4 (24.9%)   \n",
       "                                                   2-Suffisante     139.2 (32.1%)   \n",
       "                                                   3-Problématique   89.2 (33.0%)   \n",
       "                                                   4-Inadéquate      47.9 (36.2%)   \n",
       "                                                   Total            317.7 (31.7%)   \n",
       "Industriels doivent avoir la responsabilité    ... 1-Excellente      75.8 (47.2%)   \n",
       "                                                   2-Suffisante     177.7 (49.4%)   \n",
       "                                                   3-Problématique  214.8 (65.8%)   \n",
       "                                                   4-Inadéquate      99.2 (64.6%)   \n",
       "                                                   Total            567.5 (56.8%)   \n",
       "Recherche médicale uniquement médecins             1-Excellente     119.4 (71.8%)   \n",
       "                                                   2-Suffisante     292.9 (67.4%)   \n",
       "                                                   3-Problématique  199.8 (73.9%)   \n",
       "                                                   4-Inadéquate      97.4 (73.7%)   \n",
       "                                                   Total            709.5 (70.7%)   \n",
       "Normalité collaboration médecin/industriels        1-Excellente       15.0 (9.3%)   \n",
       "                                                   2-Suffisante       35.3 (9.8%)   \n",
       "                                                   3-Problématique   61.3 (18.8%)   \n",
       "                                                   4-Inadéquate      26.2 (17.0%)   \n",
       "                                                   Total            137.8 (13.8%)   \n",
       "\n",
       "                                                                            Total  \n",
       "Industriels doivent avoir un        rôle import... 1-Excellente      166.5 (100%)  \n",
       "                                                   2-Suffisante      434.2 (100%)  \n",
       "                                                   3-Problématique   270.2 (100%)  \n",
       "                                                   4-Inadéquate      132.2 (100%)  \n",
       "                                                   Total            1003.0 (100%)  \n",
       "Industriels doivent avoir la responsabilité    ... 1-Excellente      160.5 (100%)  \n",
       "                                                   2-Suffisante      359.4 (100%)  \n",
       "                                                   3-Problématique   326.5 (100%)  \n",
       "                                                   4-Inadéquate      153.6 (100%)  \n",
       "                                                   Total            1000.0 (100%)  \n",
       "Recherche médicale uniquement médecins             1-Excellente      166.5 (100%)  \n",
       "                                                   2-Suffisante      434.2 (100%)  \n",
       "                                                   3-Problématique   270.2 (100%)  \n",
       "                                                   4-Inadéquate      132.2 (100%)  \n",
       "                                                   Total            1003.0 (100%)  \n",
       "Normalité collaboration médecin/industriels        1-Excellente      160.5 (100%)  \n",
       "                                                   2-Suffisante      359.4 (100%)  \n",
       "                                                   3-Problématique   326.5 (100%)  \n",
       "                                                   4-Inadéquate      153.6 (100%)  \n",
       "                                                   Total            1000.0 (100%)  "
      ]
     },
     "execution_count": 148,
     "metadata": {},
     "output_type": "execute_result"
    }
   ],
   "source": [
    "tableau"
   ]
  },
  {
   "cell_type": "markdown",
   "id": "1fc6e937",
   "metadata": {},
   "source": [
    "Les HCQ++ ont une tendance à davantage considérer comme normale la place des industriels dans l'innovation médicale"
   ]
  },
  {
   "cell_type": "markdown",
   "id": "50260e4a",
   "metadata": {},
   "source": [
    "### Organisation générale de la recherche clinique"
   ]
  },
  {
   "cell_type": "code",
   "execution_count": 145,
   "id": "b4d53dad",
   "metadata": {
    "slideshow": {
     "slide_type": "skip"
    }
   },
   "outputs": [
    {
     "name": "stdout",
     "output_type": "stream",
     "text": [
      "Attention, les totaux par tableaux sont différents (valeurs manquantes)\n"
     ]
    }
   ],
   "source": [
    "var = {\n",
    "    \"RM_chomage\":\"Chômage plus important que recherche médicale\",\n",
    "    \"RM_medicaments\":\"Nouveaux médicaments plus efficaces\",\n",
    "    \"RM_choix_citoyens\":\"Les citoyens doivent pouvoir donner leur avis\",\n",
    "    \"RM_nouvelles_maladies\":\"Priorité nouvelles maladies\",\n",
    "    \"RM_responsabilite_etat\":\"Responsabilité état nouveaux médicaments\"\n",
    "}\n",
    "\n",
    "tableau = pyshs.tableau_croise_multiple(data, \"HLQ12\",var,\"weight\",axis=1)"
   ]
  },
  {
   "cell_type": "code",
   "execution_count": 146,
   "id": "a694b79b",
   "metadata": {
    "slideshow": {
     "slide_type": "slide"
    }
   },
   "outputs": [
    {
     "data": {
      "text/html": [
       "<div>\n",
       "<style scoped>\n",
       "    .dataframe tbody tr th:only-of-type {\n",
       "        vertical-align: middle;\n",
       "    }\n",
       "\n",
       "    .dataframe tbody tr th {\n",
       "        vertical-align: top;\n",
       "    }\n",
       "\n",
       "    .dataframe thead th {\n",
       "        text-align: right;\n",
       "    }\n",
       "</style>\n",
       "<table border=\"1\" class=\"dataframe\">\n",
       "  <thead>\n",
       "    <tr style=\"text-align: right;\">\n",
       "      <th></th>\n",
       "      <th></th>\n",
       "      <th>1-Excellente</th>\n",
       "      <th>2-Suffisante</th>\n",
       "      <th>3-Problématique</th>\n",
       "      <th>4-Inadéquate</th>\n",
       "      <th>Total</th>\n",
       "      <th>Distribution</th>\n",
       "    </tr>\n",
       "    <tr>\n",
       "      <th>Variable</th>\n",
       "      <th>Modalités</th>\n",
       "      <th></th>\n",
       "      <th></th>\n",
       "      <th></th>\n",
       "      <th></th>\n",
       "      <th></th>\n",
       "      <th></th>\n",
       "    </tr>\n",
       "  </thead>\n",
       "  <tbody>\n",
       "    <tr>\n",
       "      <th rowspan=\"3\" valign=\"top\">Chômage plus important que recherche médicale (p = 0.000)</th>\n",
       "      <th>1 - Agree</th>\n",
       "      <td>99.7 (30.5%)</td>\n",
       "      <td>234.9 (29.6%)</td>\n",
       "      <td>117.0 (19.6%)</td>\n",
       "      <td>76.8 (26.9%)</td>\n",
       "      <td>528.5 (26.4%)</td>\n",
       "      <td>26.4%</td>\n",
       "    </tr>\n",
       "    <tr>\n",
       "      <th>2 - Disagree</th>\n",
       "      <td>227.2 (69.5%)</td>\n",
       "      <td>558.8 (70.4%)</td>\n",
       "      <td>479.6 (80.4%)</td>\n",
       "      <td>209.0 (73.1%)</td>\n",
       "      <td>1474.5 (73.6%)</td>\n",
       "      <td>73.6%</td>\n",
       "    </tr>\n",
       "    <tr>\n",
       "      <th>Total</th>\n",
       "      <td>326.9 (100%)</td>\n",
       "      <td>793.7 (100%)</td>\n",
       "      <td>596.6 (100%)</td>\n",
       "      <td>285.8 (100%)</td>\n",
       "      <td>2003.0 (100%)</td>\n",
       "      <td>100.0%</td>\n",
       "    </tr>\n",
       "    <tr>\n",
       "      <th rowspan=\"3\" valign=\"top\">Nouveaux médicaments plus efficaces (p = 0.000)</th>\n",
       "      <th>1 - Agree</th>\n",
       "      <td>102.9 (31.5%)</td>\n",
       "      <td>236.7 (29.8%)</td>\n",
       "      <td>103.3 (17.3%)</td>\n",
       "      <td>54.8 (19.2%)</td>\n",
       "      <td>497.7 (24.8%)</td>\n",
       "      <td>24.8%</td>\n",
       "    </tr>\n",
       "    <tr>\n",
       "      <th>2 - Disagree</th>\n",
       "      <td>224.1 (68.5%)</td>\n",
       "      <td>557.0 (70.2%)</td>\n",
       "      <td>493.3 (82.7%)</td>\n",
       "      <td>231.0 (80.8%)</td>\n",
       "      <td>1505.3 (75.2%)</td>\n",
       "      <td>75.2%</td>\n",
       "    </tr>\n",
       "    <tr>\n",
       "      <th>Total</th>\n",
       "      <td>326.9 (100%)</td>\n",
       "      <td>793.7 (100%)</td>\n",
       "      <td>596.6 (100%)</td>\n",
       "      <td>285.8 (100%)</td>\n",
       "      <td>2003.0 (100%)</td>\n",
       "      <td>100.0%</td>\n",
       "    </tr>\n",
       "    <tr>\n",
       "      <th rowspan=\"3\" valign=\"top\">Les citoyens doivent pouvoir donner leur avis (p = 0.365)</th>\n",
       "      <th>1 - Agree</th>\n",
       "      <td>238.5 (73.0%)</td>\n",
       "      <td>601.6 (75.8%)</td>\n",
       "      <td>427.6 (71.7%)</td>\n",
       "      <td>209.6 (73.3%)</td>\n",
       "      <td>1477.4 (73.8%)</td>\n",
       "      <td>73.8%</td>\n",
       "    </tr>\n",
       "    <tr>\n",
       "      <th>2 - Disagree</th>\n",
       "      <td>88.4 (27.0%)</td>\n",
       "      <td>192.1 (24.2%)</td>\n",
       "      <td>169.0 (28.3%)</td>\n",
       "      <td>76.2 (26.7%)</td>\n",
       "      <td>525.6 (26.2%)</td>\n",
       "      <td>26.2%</td>\n",
       "    </tr>\n",
       "    <tr>\n",
       "      <th>Total</th>\n",
       "      <td>326.9 (100%)</td>\n",
       "      <td>793.7 (100%)</td>\n",
       "      <td>596.6 (100%)</td>\n",
       "      <td>285.8 (100%)</td>\n",
       "      <td>2003.0 (100%)</td>\n",
       "      <td>100.0%</td>\n",
       "    </tr>\n",
       "    <tr>\n",
       "      <th rowspan=\"3\" valign=\"top\">Priorité nouvelles maladies (p = 0.000)</th>\n",
       "      <th>1 - Agree</th>\n",
       "      <td>138.4 (42.3%)</td>\n",
       "      <td>357.7 (45.1%)</td>\n",
       "      <td>190.5 (31.9%)</td>\n",
       "      <td>98.1 (34.3%)</td>\n",
       "      <td>784.7 (39.2%)</td>\n",
       "      <td>39.2%</td>\n",
       "    </tr>\n",
       "    <tr>\n",
       "      <th>2 - Disagree</th>\n",
       "      <td>188.5 (57.7%)</td>\n",
       "      <td>435.9 (54.9%)</td>\n",
       "      <td>406.1 (68.1%)</td>\n",
       "      <td>187.8 (65.7%)</td>\n",
       "      <td>1218.3 (60.8%)</td>\n",
       "      <td>60.8%</td>\n",
       "    </tr>\n",
       "    <tr>\n",
       "      <th>Total</th>\n",
       "      <td>326.9 (100%)</td>\n",
       "      <td>793.7 (100%)</td>\n",
       "      <td>596.6 (100%)</td>\n",
       "      <td>285.8 (100%)</td>\n",
       "      <td>2003.0 (100%)</td>\n",
       "      <td>100.0%</td>\n",
       "    </tr>\n",
       "    <tr>\n",
       "      <th rowspan=\"3\" valign=\"top\">Responsabilité état nouveaux médicaments (p = 0.131)</th>\n",
       "      <th>1 - Agree</th>\n",
       "      <td>134.1 (83.6%)</td>\n",
       "      <td>302.1 (84.1%)</td>\n",
       "      <td>255.0 (78.1%)</td>\n",
       "      <td>119.7 (77.9%)</td>\n",
       "      <td>810.9 (81.1%)</td>\n",
       "      <td>81.1%</td>\n",
       "    </tr>\n",
       "    <tr>\n",
       "      <th>2 - Disagree</th>\n",
       "      <td>26.3 (16.4%)</td>\n",
       "      <td>57.3 (15.9%)</td>\n",
       "      <td>71.5 (21.9%)</td>\n",
       "      <td>33.9 (22.1%)</td>\n",
       "      <td>189.1 (18.9%)</td>\n",
       "      <td>18.9%</td>\n",
       "    </tr>\n",
       "    <tr>\n",
       "      <th>Total</th>\n",
       "      <td>160.5 (100%)</td>\n",
       "      <td>359.4 (100%)</td>\n",
       "      <td>326.5 (100%)</td>\n",
       "      <td>153.6 (100%)</td>\n",
       "      <td>1000.0 (100%)</td>\n",
       "      <td>100.0%</td>\n",
       "    </tr>\n",
       "  </tbody>\n",
       "</table>\n",
       "</div>"
      ],
      "text/plain": [
       "                                                                  1-Excellente  \\\n",
       "Variable                                           Modalités                     \n",
       "Chômage plus important que recherche médicale (... 1 - Agree      99.7 (30.5%)   \n",
       "                                                   2 - Disagree  227.2 (69.5%)   \n",
       "                                                   Total          326.9 (100%)   \n",
       "Nouveaux médicaments plus efficaces (p = 0.000)    1 - Agree     102.9 (31.5%)   \n",
       "                                                   2 - Disagree  224.1 (68.5%)   \n",
       "                                                   Total          326.9 (100%)   \n",
       "Les citoyens doivent pouvoir donner leur avis (... 1 - Agree     238.5 (73.0%)   \n",
       "                                                   2 - Disagree   88.4 (27.0%)   \n",
       "                                                   Total          326.9 (100%)   \n",
       "Priorité nouvelles maladies (p = 0.000)            1 - Agree     138.4 (42.3%)   \n",
       "                                                   2 - Disagree  188.5 (57.7%)   \n",
       "                                                   Total          326.9 (100%)   \n",
       "Responsabilité état nouveaux médicaments (p = 0... 1 - Agree     134.1 (83.6%)   \n",
       "                                                   2 - Disagree   26.3 (16.4%)   \n",
       "                                                   Total          160.5 (100%)   \n",
       "\n",
       "                                                                  2-Suffisante  \\\n",
       "Variable                                           Modalités                     \n",
       "Chômage plus important que recherche médicale (... 1 - Agree     234.9 (29.6%)   \n",
       "                                                   2 - Disagree  558.8 (70.4%)   \n",
       "                                                   Total          793.7 (100%)   \n",
       "Nouveaux médicaments plus efficaces (p = 0.000)    1 - Agree     236.7 (29.8%)   \n",
       "                                                   2 - Disagree  557.0 (70.2%)   \n",
       "                                                   Total          793.7 (100%)   \n",
       "Les citoyens doivent pouvoir donner leur avis (... 1 - Agree     601.6 (75.8%)   \n",
       "                                                   2 - Disagree  192.1 (24.2%)   \n",
       "                                                   Total          793.7 (100%)   \n",
       "Priorité nouvelles maladies (p = 0.000)            1 - Agree     357.7 (45.1%)   \n",
       "                                                   2 - Disagree  435.9 (54.9%)   \n",
       "                                                   Total          793.7 (100%)   \n",
       "Responsabilité état nouveaux médicaments (p = 0... 1 - Agree     302.1 (84.1%)   \n",
       "                                                   2 - Disagree   57.3 (15.9%)   \n",
       "                                                   Total          359.4 (100%)   \n",
       "\n",
       "                                                                3-Problématique  \\\n",
       "Variable                                           Modalités                      \n",
       "Chômage plus important que recherche médicale (... 1 - Agree      117.0 (19.6%)   \n",
       "                                                   2 - Disagree   479.6 (80.4%)   \n",
       "                                                   Total           596.6 (100%)   \n",
       "Nouveaux médicaments plus efficaces (p = 0.000)    1 - Agree      103.3 (17.3%)   \n",
       "                                                   2 - Disagree   493.3 (82.7%)   \n",
       "                                                   Total           596.6 (100%)   \n",
       "Les citoyens doivent pouvoir donner leur avis (... 1 - Agree      427.6 (71.7%)   \n",
       "                                                   2 - Disagree   169.0 (28.3%)   \n",
       "                                                   Total           596.6 (100%)   \n",
       "Priorité nouvelles maladies (p = 0.000)            1 - Agree      190.5 (31.9%)   \n",
       "                                                   2 - Disagree   406.1 (68.1%)   \n",
       "                                                   Total           596.6 (100%)   \n",
       "Responsabilité état nouveaux médicaments (p = 0... 1 - Agree      255.0 (78.1%)   \n",
       "                                                   2 - Disagree    71.5 (21.9%)   \n",
       "                                                   Total           326.5 (100%)   \n",
       "\n",
       "                                                                  4-Inadéquate  \\\n",
       "Variable                                           Modalités                     \n",
       "Chômage plus important que recherche médicale (... 1 - Agree      76.8 (26.9%)   \n",
       "                                                   2 - Disagree  209.0 (73.1%)   \n",
       "                                                   Total          285.8 (100%)   \n",
       "Nouveaux médicaments plus efficaces (p = 0.000)    1 - Agree      54.8 (19.2%)   \n",
       "                                                   2 - Disagree  231.0 (80.8%)   \n",
       "                                                   Total          285.8 (100%)   \n",
       "Les citoyens doivent pouvoir donner leur avis (... 1 - Agree     209.6 (73.3%)   \n",
       "                                                   2 - Disagree   76.2 (26.7%)   \n",
       "                                                   Total          285.8 (100%)   \n",
       "Priorité nouvelles maladies (p = 0.000)            1 - Agree      98.1 (34.3%)   \n",
       "                                                   2 - Disagree  187.8 (65.7%)   \n",
       "                                                   Total          285.8 (100%)   \n",
       "Responsabilité état nouveaux médicaments (p = 0... 1 - Agree     119.7 (77.9%)   \n",
       "                                                   2 - Disagree   33.9 (22.1%)   \n",
       "                                                   Total          153.6 (100%)   \n",
       "\n",
       "                                                                          Total  \\\n",
       "Variable                                           Modalités                      \n",
       "Chômage plus important que recherche médicale (... 1 - Agree      528.5 (26.4%)   \n",
       "                                                   2 - Disagree  1474.5 (73.6%)   \n",
       "                                                   Total          2003.0 (100%)   \n",
       "Nouveaux médicaments plus efficaces (p = 0.000)    1 - Agree      497.7 (24.8%)   \n",
       "                                                   2 - Disagree  1505.3 (75.2%)   \n",
       "                                                   Total          2003.0 (100%)   \n",
       "Les citoyens doivent pouvoir donner leur avis (... 1 - Agree     1477.4 (73.8%)   \n",
       "                                                   2 - Disagree   525.6 (26.2%)   \n",
       "                                                   Total          2003.0 (100%)   \n",
       "Priorité nouvelles maladies (p = 0.000)            1 - Agree      784.7 (39.2%)   \n",
       "                                                   2 - Disagree  1218.3 (60.8%)   \n",
       "                                                   Total          2003.0 (100%)   \n",
       "Responsabilité état nouveaux médicaments (p = 0... 1 - Agree      810.9 (81.1%)   \n",
       "                                                   2 - Disagree   189.1 (18.9%)   \n",
       "                                                   Total          1000.0 (100%)   \n",
       "\n",
       "                                                                Distribution  \n",
       "Variable                                           Modalités                  \n",
       "Chômage plus important que recherche médicale (... 1 - Agree           26.4%  \n",
       "                                                   2 - Disagree        73.6%  \n",
       "                                                   Total              100.0%  \n",
       "Nouveaux médicaments plus efficaces (p = 0.000)    1 - Agree           24.8%  \n",
       "                                                   2 - Disagree        75.2%  \n",
       "                                                   Total              100.0%  \n",
       "Les citoyens doivent pouvoir donner leur avis (... 1 - Agree           73.8%  \n",
       "                                                   2 - Disagree        26.2%  \n",
       "                                                   Total              100.0%  \n",
       "Priorité nouvelles maladies (p = 0.000)            1 - Agree           39.2%  \n",
       "                                                   2 - Disagree        60.8%  \n",
       "                                                   Total              100.0%  \n",
       "Responsabilité état nouveaux médicaments (p = 0... 1 - Agree           81.1%  \n",
       "                                                   2 - Disagree        18.9%  \n",
       "                                                   Total              100.0%  "
      ]
     },
     "execution_count": 146,
     "metadata": {},
     "output_type": "execute_result"
    }
   ],
   "source": [
    "tableau"
   ]
  },
  {
   "cell_type": "markdown",
   "id": "fbf97714",
   "metadata": {},
   "source": [
    "Les répondants HLQ++ ont davantage tendance à considérer les nouveaux médicaments comme plus efficaces et les nouvelles maladies comme plus prioritaires -> orienté vers la nouveauté"
   ]
  },
  {
   "cell_type": "markdown",
   "id": "c8049023",
   "metadata": {
    "slideshow": {
     "slide_type": "slide"
    }
   },
   "source": [
    "## Éléments liés à la confiance"
   ]
  },
  {
   "cell_type": "code",
   "execution_count": 149,
   "id": "6d73bedd",
   "metadata": {},
   "outputs": [
    {
     "data": {
      "text/plain": [
       "Text(0.5, 1.0, 'Indicateur de confiance 0-1')"
      ]
     },
     "execution_count": 149,
     "metadata": {},
     "output_type": "execute_result"
    },
    {
     "data": {
      "image/png": "[encoded data removed]",
      "text/plain": [
       "<Figure size 432x288 with 1 Axes>"
      ]
     },
     "metadata": {
      "needs_background": "light"
     },
     "output_type": "display_data"
    }
   ],
   "source": [
    "data.boxplot(column=\"confiance\",by=\"HLQ12\",showmeans=True)\n",
    "plt.suptitle(\"\")\n",
    "plt.title(\"Indicateur de confiance 0-1\")"
   ]
  },
  {
   "cell_type": "markdown",
   "id": "96272136",
   "metadata": {},
   "source": [
    "Association littéracie avec la confiance"
   ]
  },
  {
   "cell_type": "code",
   "execution_count": 150,
   "id": "7acb4a26",
   "metadata": {
    "slideshow": {
     "slide_type": "slide"
    }
   },
   "outputs": [
    {
     "data": {
      "text/html": [
       "<div>\n",
       "<style scoped>\n",
       "    .dataframe tbody tr th:only-of-type {\n",
       "        vertical-align: middle;\n",
       "    }\n",
       "\n",
       "    .dataframe tbody tr th {\n",
       "        vertical-align: top;\n",
       "    }\n",
       "\n",
       "    .dataframe thead tr th {\n",
       "        text-align: left;\n",
       "    }\n",
       "</style>\n",
       "<table border=\"1\" class=\"dataframe\">\n",
       "  <thead>\n",
       "    <tr>\n",
       "      <th></th>\n",
       "      <th colspan=\"3\" halign=\"left\">Confiance médecins</th>\n",
       "      <th colspan=\"3\" halign=\"left\">Confiance scientifiques</th>\n",
       "    </tr>\n",
       "    <tr>\n",
       "      <th></th>\n",
       "      <th>1 - Yes</th>\n",
       "      <th>2 - No</th>\n",
       "      <th>Total</th>\n",
       "      <th>1 - Yes</th>\n",
       "      <th>2 - No</th>\n",
       "      <th>Total</th>\n",
       "    </tr>\n",
       "  </thead>\n",
       "  <tbody>\n",
       "    <tr>\n",
       "      <th>1-Excellente</th>\n",
       "      <td>317.6 (97.2%)</td>\n",
       "      <td>9.3 (2.8%)</td>\n",
       "      <td>326.9 (100%)</td>\n",
       "      <td>305.9 (93.6%)</td>\n",
       "      <td>21.0 (6.4%)</td>\n",
       "      <td>326.9 (100%)</td>\n",
       "    </tr>\n",
       "    <tr>\n",
       "      <th>2-Suffisante</th>\n",
       "      <td>745.9 (94.0%)</td>\n",
       "      <td>47.8 (6.0%)</td>\n",
       "      <td>793.7 (100%)</td>\n",
       "      <td>708.0 (89.2%)</td>\n",
       "      <td>85.6 (10.8%)</td>\n",
       "      <td>793.7 (100%)</td>\n",
       "    </tr>\n",
       "    <tr>\n",
       "      <th>3-Problématique</th>\n",
       "      <td>548.1 (91.9%)</td>\n",
       "      <td>48.5 (8.1%)</td>\n",
       "      <td>596.6 (100%)</td>\n",
       "      <td>528.4 (88.6%)</td>\n",
       "      <td>68.2 (11.4%)</td>\n",
       "      <td>596.6 (100%)</td>\n",
       "    </tr>\n",
       "    <tr>\n",
       "      <th>4-Inadéquate</th>\n",
       "      <td>243.1 (85.1%)</td>\n",
       "      <td>42.7 (14.9%)</td>\n",
       "      <td>285.8 (100%)</td>\n",
       "      <td>224.4 (78.5%)</td>\n",
       "      <td>61.4 (21.5%)</td>\n",
       "      <td>285.8 (100%)</td>\n",
       "    </tr>\n",
       "    <tr>\n",
       "      <th>Total</th>\n",
       "      <td>1854.7 (92.6%)</td>\n",
       "      <td>148.3 (7.4%)</td>\n",
       "      <td>2003.0 (100%)</td>\n",
       "      <td>1766.8 (88.2%)</td>\n",
       "      <td>236.2 (11.8%)</td>\n",
       "      <td>2003.0 (100%)</td>\n",
       "    </tr>\n",
       "  </tbody>\n",
       "</table>\n",
       "</div>"
      ],
      "text/plain": [
       "                Confiance médecins                               \\\n",
       "                           1 - Yes        2 - No          Total   \n",
       "1-Excellente         317.6 (97.2%)    9.3 (2.8%)   326.9 (100%)   \n",
       "2-Suffisante         745.9 (94.0%)   47.8 (6.0%)   793.7 (100%)   \n",
       "3-Problématique      548.1 (91.9%)   48.5 (8.1%)   596.6 (100%)   \n",
       "4-Inadéquate         243.1 (85.1%)  42.7 (14.9%)   285.8 (100%)   \n",
       "Total               1854.7 (92.6%)  148.3 (7.4%)  2003.0 (100%)   \n",
       "\n",
       "                Confiance scientifiques                                \n",
       "                                1 - Yes         2 - No          Total  \n",
       "1-Excellente              305.9 (93.6%)    21.0 (6.4%)   326.9 (100%)  \n",
       "2-Suffisante              708.0 (89.2%)   85.6 (10.8%)   793.7 (100%)  \n",
       "3-Problématique           528.4 (88.6%)   68.2 (11.4%)   596.6 (100%)  \n",
       "4-Inadéquate              224.4 (78.5%)   61.4 (21.5%)   285.8 (100%)  \n",
       "Total                    1766.8 (88.2%)  236.2 (11.8%)  2003.0 (100%)  "
      ]
     },
     "execution_count": 150,
     "metadata": {},
     "output_type": "execute_result"
    }
   ],
   "source": [
    "t = {\"Confiance médecins\":pyshs.tableau_croise(data,\"HLQ12\",\"confMedecins\",\"weight\"),\n",
    "\"Confiance scientifiques\":pyshs.tableau_croise(data,\"HLQ12\",\"confScientifiques\",\"weight\")}\n",
    "t = pd.concat(t,axis=1)\n",
    "t"
   ]
  },
  {
   "cell_type": "markdown",
   "id": "e69e33c2",
   "metadata": {
    "slideshow": {
     "slide_type": "slide"
    }
   },
   "source": [
    "## Fin de l'analyse provisoire. Des idées ?\n",
    "\n",
    "En cours : perception des conflits d'intérêts, association avec la NHL"
   ]
  }
 ],
 "metadata": {
  "celltoolbar": "Aucun(e)",
  "kernelspec": {
   "display_name": "Python 3",
   "language": "python",
   "name": "python3"
  },
  "language_info": {
   "codemirror_mode": {
    "name": "ipython",
    "version": 3
   },
   "file_extension": ".py",
   "mimetype": "text/x-python",
   "name": "python",
   "nbconvert_exporter": "python",
   "pygments_lexer": "ipython3",
   "version": "3.7.11"
  }
 },
 "nbformat": 4,
 "nbformat_minor": 5
}
