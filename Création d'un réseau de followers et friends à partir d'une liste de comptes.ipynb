{
 "cells": [
  {
   "cell_type": "markdown",
   "metadata": {},
   "source": [
    "# Création d'un réseau à partir de l'API Twitter"
   ]
  },
  {
   "cell_type": "markdown",
   "metadata": {},
   "source": [
    "Sources qui ont servi d'inspiration pour le code pour collecter les données\n",
    "\n",
    "- https://gist.github.com/PandaWhoCodes/46f58fdead71f4c71453d9ed1e21adf8"
   ]
  },
  {
   "cell_type": "markdown",
   "metadata": {},
   "source": [
    "Chargement des bibliothèques"
   ]
  },
  {
   "cell_type": "code",
   "execution_count": 1,
   "metadata": {},
   "outputs": [],
   "source": [
    "import pandas as pd\n",
    "import tweepy as tw\n",
    "import json\n",
    "import time\n",
    "\n",
    "# Chargement du token d'accès\n",
    "with open(\"twitter.keys\",\"r\") as f:\n",
    "    codes = json.load(f)"
   ]
  },
  {
   "cell_type": "markdown",
   "metadata": {},
   "source": [
    "Définition des variables"
   ]
  },
  {
   "cell_type": "code",
   "execution_count": 2,
   "metadata": {},
   "outputs": [
    {
     "name": "stdout",
     "output_type": "stream",
     "text": [
      "263\n"
     ]
    }
   ],
   "source": [
    "liste = pd.read_csv(\"./base id-usernames.csv\",sep=\";\") # liste de comptes\n",
    "liste = list(liste[\"username\"])\n",
    "print(len(liste))"
   ]
  },
  {
   "cell_type": "markdown",
   "metadata": {},
   "source": [
    "Boucle sur l'ensemble des comptes\n",
    "\n",
    "- un problème rencontré sur un compte, exclu pour le moment, et modification du script avec gestion des exceptions"
   ]
  },
  {
   "cell_type": "code",
   "execution_count": null,
   "metadata": {},
   "outputs": [],
   "source": [
    "auth = tw.OAuthHandler(codes[\"consumer_key\"], codes[\"consumer_secret\"])\n",
    "auth.set_access_token(codes[\"access_token\"], codes[\"access_token_secret\"])\n",
    "\n",
    "api = tw.API(auth)\n",
    "\n",
    "#corpus_followers = {}\n",
    "\n",
    "# Boucle sur les utilisateurs\n",
    "for i in liste[71:]: \n",
    "    print(i)\n",
    "    # Boucle pour un compte\n",
    "    followers = []\n",
    "    friends = []\n",
    "    \n",
    "    # followers\n",
    "    try:\n",
    "        for page in tw.Cursor(api.followers, screen_name=i, wait_on_rate_limit=True,count=200).pages():\n",
    "            try:\n",
    "                followers.extend(page)\n",
    "            except tw.TweepError as e:\n",
    "                print(\"Going to sleep:\", e)\n",
    "                time.sleep(60)\n",
    "        print(\"followers....done\")\n",
    "    except:\n",
    "        print(\"Problème followers\")\n",
    "        time.sleep(60)\n",
    "        \n",
    "    # friends\n",
    "    try:\n",
    "        for page in tw.Cursor(api.friends, screen_name=i, wait_on_rate_limit=True,count=200).pages():\n",
    "            try:\n",
    "                friends.extend(page)\n",
    "            except tw.TweepError as e:\n",
    "                print(\"Going to sleep:\", e)\n",
    "                time.sleep(60)\n",
    "        print(\"friends....done\")\n",
    "    except:\n",
    "        print(\"Problème friends\")\n",
    "        time.sleep(60)\n",
    "        \n",
    "            \n",
    "    # Ajout au corpus\n",
    "    corpus_followers[i] = {\"followers\":[d._json for d in followers],\"friends\":[d._json for d in friends]}\n",
    "    time.sleep(60)\n",
    "    \n",
    "    # Sauvegarde progressive des données\n",
    "    with open(\"data.json\",\"w\") as f:\n",
    "        json.dump(corpus_followers,f)"
   ]
  },
  {
   "cell_type": "markdown",
   "metadata": {},
   "source": [
    "## Chargement des données sauvegardées pour traitement"
   ]
  },
  {
   "cell_type": "markdown",
   "metadata": {},
   "source": [
    "Attention : le fichier collecté est très lourd. Penser à mettre en forme dès le début le JSON plutôt que tout récupérer ..."
   ]
  },
  {
   "cell_type": "code",
   "execution_count": 2,
   "metadata": {},
   "outputs": [],
   "source": [
    "with open(\"data.json\",\"r\") as f:\n",
    "    c = json.load(f)"
   ]
  },
  {
   "cell_type": "code",
   "execution_count": 52,
   "metadata": {},
   "outputs": [
    {
     "data": {
      "text/plain": [
       "263"
      ]
     },
     "execution_count": 52,
     "metadata": {},
     "output_type": "execute_result"
    }
   ],
   "source": [
    "len(c)"
   ]
  },
  {
   "cell_type": "markdown",
   "metadata": {},
   "source": [
    "Exemple de données"
   ]
  },
  {
   "cell_type": "code",
   "execution_count": 3,
   "metadata": {
    "scrolled": true
   },
   "outputs": [
    {
     "data": {
      "text/plain": [
       "'HenriBergeronSP'"
      ]
     },
     "execution_count": 3,
     "metadata": {},
     "output_type": "execute_result"
    }
   ],
   "source": [
    "c[\"noe_kabouche\"][\"friends\"][0][\"screen_name\"]"
   ]
  },
  {
   "cell_type": "markdown",
   "metadata": {},
   "source": [
    "Extraction du corpus uniquement des noms"
   ]
  },
  {
   "cell_type": "code",
   "execution_count": 5,
   "metadata": {},
   "outputs": [],
   "source": [
    "corpus_names_only = {}\n",
    "for i in c:\n",
    "    corpus_names_only[i] = {}\n",
    "    corpus_names_only[i][\"friends\"] = [j[\"screen_name\"] for j in c[i][\"friends\"]]\n",
    "    corpus_names_only[i][\"followers\"] = [j[\"screen_name\"] for j in c[i][\"followers\"]]"
   ]
  },
  {
   "cell_type": "markdown",
   "metadata": {},
   "source": [
    "Création du réseau"
   ]
  },
  {
   "cell_type": "code",
   "execution_count": 51,
   "metadata": {},
   "outputs": [],
   "source": [
    "import networkx as nx\n",
    "\n",
    "# Graph dirigé\n",
    "G = nx.DiGraph()\n",
    "\n",
    "# Ajout des noeuds de la liste\n",
    "for n in corpus_names_only:\n",
    "    G.add_node(n,label = n,friends=len(corpus_names_only[n][\"friends\"]),\n",
    "               followers=len(corpus_names_only[n][\"followers\"]),\n",
    "               categorie=\"liste\",weight=1)\n",
    "\n",
    "# Ajout des liens et des noeuds des autres comptes\n",
    "for n in corpus_names_only:    \n",
    "    \n",
    "    # Ajout des friends\n",
    "    for f in corpus_names_only[n][\"friends\"]:\n",
    "        if not G.has_node(f):\n",
    "            G.add_node(f,label=f,weight=1,categorie=\"supp\")\n",
    "        else:\n",
    "            G.nodes[f][\"weight\"]+=1\n",
    "       \n",
    "        if not G.has_edge(n,f):\n",
    "            G.add_edge(n,f,weight=1,categorie=\"friends\")  \n",
    "            \n",
    "    # Ajout des followers\n",
    "    for f in corpus_names_only[n][\"followers\"]:\n",
    "        if not G.has_node(f):\n",
    "            G.add_node(f,label = f,weight=1,categorie=\"supp\")\n",
    "        else:\n",
    "            G.nodes[f][\"weight\"]+=1\n",
    "       \n",
    "        if not G.has_edge(n,f):\n",
    "            G.add_edge(f,n,weight=1,categorie=\"followers\")   "
   ]
  },
  {
   "cell_type": "code",
   "execution_count": 40,
   "metadata": {},
   "outputs": [
    {
     "data": {
      "text/plain": [
       "680804"
      ]
     },
     "execution_count": 40,
     "metadata": {},
     "output_type": "execute_result"
    }
   ],
   "source": [
    "len(G.edges)"
   ]
  },
  {
   "cell_type": "markdown",
   "metadata": {},
   "source": [
    "Filtrage pour faire un réseau sans les noeuds de 1 afin de réduire la taille, mais ça reste gros"
   ]
  },
  {
   "cell_type": "code",
   "execution_count": 34,
   "metadata": {},
   "outputs": [],
   "source": [
    "G_filtre = G.copy()\n",
    "for i in G.nodes:\n",
    "    if G.nodes[i][\"weight\"]<2 and G.nodes[i][\"categorie\"]!=\"liste\":\n",
    "        G_filtre.remove_node(i)"
   ]
  },
  {
   "cell_type": "markdown",
   "metadata": {},
   "source": [
    "Réseau uniquement avec les comptes de la liste initiale"
   ]
  },
  {
   "cell_type": "code",
   "execution_count": 52,
   "metadata": {},
   "outputs": [],
   "source": [
    "G_liste = G.copy()\n",
    "for i in G.nodes:\n",
    "    if G.nodes[i][\"categorie\"]!=\"liste\":\n",
    "        G_liste.remove_node(i)"
   ]
  },
  {
   "cell_type": "code",
   "execution_count": 44,
   "metadata": {},
   "outputs": [
    {
     "data": {
      "text/plain": [
       "263"
      ]
     },
     "execution_count": 44,
     "metadata": {},
     "output_type": "execute_result"
    }
   ],
   "source": [
    "len(G_liste.nodes)"
   ]
  },
  {
   "cell_type": "markdown",
   "metadata": {},
   "source": [
    "Sauvegarder les réseaux das un format compatible Gephi"
   ]
  },
  {
   "cell_type": "code",
   "execution_count": 41,
   "metadata": {},
   "outputs": [],
   "source": [
    "nx.write_graphml(G_filtre,\"reseau_twitter.graphml\")"
   ]
  },
  {
   "cell_type": "code",
   "execution_count": 53,
   "metadata": {},
   "outputs": [],
   "source": [
    "nx.write_graphml(G_liste,\"reseau_twitter_liste.graphml\")"
   ]
  }
 ],
 "metadata": {
  "kernelspec": {
   "display_name": "Python 3",
   "language": "python",
   "name": "python3"
  },
  "language_info": {
   "codemirror_mode": {
    "name": "ipython",
    "version": 3
   },
   "file_extension": ".py",
   "mimetype": "text/x-python",
   "name": "python",
   "nbconvert_exporter": "python",
   "pygments_lexer": "ipython3",
   "version": "3.7.7"
  }
 },
 "nbformat": 4,
 "nbformat_minor": 4
}
