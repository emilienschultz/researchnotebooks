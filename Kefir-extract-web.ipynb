{
 "cells": [
  {
   "cell_type": "code",
   "execution_count": 413,
   "metadata": {
    "collapsed": false
   },
   "outputs": [],
   "source": [
    "import requests\n",
    "import bs4\n",
    "import pandas as pd\n",
    "import os\n",
    "import re\n",
    "import networkx as nx\n",
    "from IPython.display import Image\n",
    "from IPython.display import display\n",
    "import matplotlib.pyplot as plt\n",
    "import statsmodels\n",
    "import matplotlib.pyplot as plt\n",
    "from statsmodels.graphics.mosaicplot import mosaic\n",
    "import scipy.stats\n",
    "\n",
    "%matplotlib inline\n",
    "plt.style.use('ggplot')"
   ]
  },
  {
   "cell_type": "markdown",
   "metadata": {},
   "source": [
    "## Extraction à partir du bon coin des annonce"
   ]
  },
  {
   "cell_type": "markdown",
   "metadata": {},
   "source": [
    "La démarche est la suivante:\n",
    "    - récupération de l'url de la recherche sur le bon coin avec la requête \"kéfir\", recherche sur l'ensemble de la France\n",
    "    - parcourir les pages et récupérer les liens des annonces\n",
    "    - parser chaque annonce pour récupérer l'information pertinente\n",
    "    - stocker dans un fichier"
   ]
  },
  {
   "cell_type": "markdown",
   "metadata": {},
   "source": [
    "Définition des fonctions de parsing de la page des annonces pour récupérer les différentes informations intéressantes"
   ]
  },
  {
   "cell_type": "code",
   "execution_count": 45,
   "metadata": {
    "collapsed": false
   },
   "outputs": [],
   "source": [
    "def title(page):\n",
    "    return page.find(\"h1\",{\"class\":\"no-border\"}).text.replace(\"\\n\",\"\").replace(\"\\t\",\"\").strip()\n",
    "def content(page):\n",
    "    return page.find(\"p\",{\"itemprop\":\"description\"}).text\n",
    "def date(page):\n",
    "    try:\n",
    "        try:\n",
    "            return page.find(\"p\",{\"class\":\"line line_pro\"}).text.split(\"Mise en ligne le \")[-1].split(\". \\n\")[0]\n",
    "        except:\n",
    "            return  \"NA\"\n",
    "    except:\n",
    "        return \"NA\"\n",
    "def seller(page):\n",
    "    try:\n",
    "        return page.find(\"a\",{\"class\":\"uppercase bold trackable\"}).text\n",
    "    except:\n",
    "        return \"NA\"\n",
    "def loc(page):\n",
    "    try:\n",
    "        return page.find(\"span\",{\"itemprop\":\"address\"}).text.replace(\"\\n\",\"\")\n",
    "    except:\n",
    "        return \"NA\"\n",
    "def prix(page):\n",
    "    try:\n",
    "        return page.find(\"span\",{\"class\":\"value\"}).text.replace(\"\\n\",\"\").replace(\"\\t\",\"\").strip()\n",
    "    except:\n",
    "        return \"NA\"\n",
    "def img(page):\n",
    "    try:\n",
    "        return page.find(\"a\",{\"id\":\"image\"})[\"style\"].split(\"url('\")[-1].split(\"')\")[0]\n",
    "    except:\n",
    "        return \"NA\"\n",
    "def idobj(lien):\n",
    "    try:\n",
    "        return page.find(\"div\",{\"id\":\"descItemNumber\"}).text\n",
    "    except:\n",
    "        return \"NA\""
   ]
  },
  {
   "cell_type": "markdown",
   "metadata": {},
   "source": [
    "Boucle sur l'ensemble des pages de la recherche (6 pages), récupération des liens et boucle sur l'ensemble des liens de chaque page pour parser les annonces"
   ]
  },
  {
   "cell_type": "code",
   "execution_count": null,
   "metadata": {
    "collapsed": false,
    "scrolled": true
   },
   "outputs": [],
   "source": [
    "infos = []\n",
    "for p in range(1,7):\n",
    "    url = \"http://www.leboncoin.fr/annonces/offres/ile_de_france/occasions/?o=\"+str(p)+\"&q=kefir\"\n",
    "    data = bs4.BeautifulSoup(requests.get(url).content)\n",
    "    u = data.find(\"section\",{\"class\":\"tabsContent\"}).findAll(\"a\")\n",
    "    for i in u:\n",
    "        lien = i[\"href\"].replace(\"//\",\"http://\")\n",
    "        name = lien.split(\"/\")[-1].split(\"?\")[0]\n",
    "        print(lien)\n",
    "        d = bs4.BeautifulSoup(requests.get(lien).content)\n",
    "        infos.append([name,lien,title(d),date(d),seller(d),loc(d),prix(d),content(d)])"
   ]
  },
  {
   "cell_type": "markdown",
   "metadata": {},
   "source": [
    "Construction d'un DataFrame Pandas"
   ]
  },
  {
   "cell_type": "code",
   "execution_count": 62,
   "metadata": {
    "collapsed": false
   },
   "outputs": [
    {
     "data": {
      "text/html": [
       "<div>\n",
       "<table border=\"1\" class=\"dataframe\">\n",
       "  <thead>\n",
       "    <tr style=\"text-align: right;\">\n",
       "      <th></th>\n",
       "      <th>0</th>\n",
       "      <th>1</th>\n",
       "      <th>2</th>\n",
       "      <th>3</th>\n",
       "      <th>4</th>\n",
       "      <th>5</th>\n",
       "      <th>6</th>\n",
       "      <th>7</th>\n",
       "    </tr>\n",
       "  </thead>\n",
       "  <tbody>\n",
       "    <tr>\n",
       "      <th>0</th>\n",
       "      <td>981120259.htm</td>\n",
       "      <td>http://www.leboncoin.fr/vins_gastronomie/98112...</td>\n",
       "      <td>Graines de Kéfir de fruits</td>\n",
       "      <td>15 juin à 15:40</td>\n",
       "      <td>foure</td>\n",
       "      <td>Rochefort 17300</td>\n",
       "      <td>6 €</td>\n",
       "      <td>Le kéfir est un probiotique naturel originaire...</td>\n",
       "    </tr>\n",
       "    <tr>\n",
       "      <th>1</th>\n",
       "      <td>981058598.htm</td>\n",
       "      <td>http://www.leboncoin.fr/vins_gastronomie/98105...</td>\n",
       "      <td>Grains de kéfir de lait</td>\n",
       "      <td>15 juin à 13:55</td>\n",
       "      <td>Laura</td>\n",
       "      <td>Cesson 77240</td>\n",
       "      <td>2 €</td>\n",
       "      <td>je vends des grains de kéfir pour faire du kéf...</td>\n",
       "    </tr>\n",
       "    <tr>\n",
       "      <th>2</th>\n",
       "      <td>981035760.htm</td>\n",
       "      <td>http://www.leboncoin.fr/arts_de_la_table/98103...</td>\n",
       "      <td>Grains de Kéfir de fruit bio</td>\n",
       "      <td>15 juin à 13:02</td>\n",
       "      <td>Alexandra</td>\n",
       "      <td>Schiltigheim 67300</td>\n",
       "      <td>4 €</td>\n",
       "      <td>On lui connait différentes vertus, mais le Kéf...</td>\n",
       "    </tr>\n",
       "    <tr>\n",
       "      <th>3</th>\n",
       "      <td>980776222.htm</td>\n",
       "      <td>http://www.leboncoin.fr/vins_gastronomie/98077...</td>\n",
       "      <td>Kéfir de fruits</td>\n",
       "      <td>14 juin à 19:38</td>\n",
       "      <td>GIL</td>\n",
       "      <td>Parmain 95620</td>\n",
       "      <td>Parmain 95620</td>\n",
       "      <td>Donne grains de kéfir de fruits.à venir cherch...</td>\n",
       "    </tr>\n",
       "    <tr>\n",
       "      <th>4</th>\n",
       "      <td>980766371.htm</td>\n",
       "      <td>http://www.leboncoin.fr/vins_gastronomie/98076...</td>\n",
       "      <td>Grains de Kefir de fruits bios - probiotique n...</td>\n",
       "      <td>14 juin à 19:18</td>\n",
       "      <td>Revif45</td>\n",
       "      <td>Bellegarde 45270</td>\n",
       "      <td>5 €</td>\n",
       "      <td>Grains de Kefir de fruits bios - probiotique n...</td>\n",
       "    </tr>\n",
       "    <tr>\n",
       "      <th>5</th>\n",
       "      <td>980676585.htm</td>\n",
       "      <td>http://www.leboncoin.fr/vins_gastronomie/98067...</td>\n",
       "      <td>Grains de Kéfir</td>\n",
       "      <td>14 juin à 16:17</td>\n",
       "      <td>Marie</td>\n",
       "      <td>Lyon 69001</td>\n",
       "      <td>5 €</td>\n",
       "      <td>Grains FRAIS de kéfir à fruitBien entretenus, ...</td>\n",
       "    </tr>\n",
       "    <tr>\n",
       "      <th>6</th>\n",
       "      <td>980601122.htm</td>\n",
       "      <td>http://www.leboncoin.fr/arts_de_la_table/98060...</td>\n",
       "      <td>Kefir</td>\n",
       "      <td>14 juin à 14:05</td>\n",
       "      <td>pascal</td>\n",
       "      <td>Venise 25870</td>\n",
       "      <td>3 €</td>\n",
       "      <td>VENDS KEFIR 3 €ME CONTACTER AU 06 77 96 09 80</td>\n",
       "    </tr>\n",
       "    <tr>\n",
       "      <th>7</th>\n",
       "      <td>953061956.htm</td>\n",
       "      <td>http://www.leboncoin.fr/vins_gastronomie/95306...</td>\n",
       "      <td>Graines de kefir de fruits</td>\n",
       "      <td>14 juin à 10:29</td>\n",
       "      <td>baric</td>\n",
       "      <td>Jard-sur-Mer 85520</td>\n",
       "      <td>Jard-sur-Mer 85520</td>\n",
       "      <td>cède gratuitement sachet de 150 gr de graines ...</td>\n",
       "    </tr>\n",
       "    <tr>\n",
       "      <th>8</th>\n",
       "      <td>980413317.htm</td>\n",
       "      <td>http://www.leboncoin.fr/vins_gastronomie/98041...</td>\n",
       "      <td>Donne grains de kéfirs - Paris 15 ou envoi postal</td>\n",
       "      <td>14 juin à 00:06</td>\n",
       "      <td>Celine</td>\n",
       "      <td>Paris 75015</td>\n",
       "      <td>Paris 75015</td>\n",
       "      <td>Donne grains de kéfir à venir chercher à Paris...</td>\n",
       "    </tr>\n",
       "    <tr>\n",
       "      <th>9</th>\n",
       "      <td>980312011.htm</td>\n",
       "      <td>http://www.leboncoin.fr/jardinage/980312011.ht...</td>\n",
       "      <td>graine de kéfir</td>\n",
       "      <td>13 juin à 19:47</td>\n",
       "      <td>Thomas</td>\n",
       "      <td>Albertville 73200</td>\n",
       "      <td>1 €</td>\n",
       "      <td>sous forme déshydratée je les envoie par la poste</td>\n",
       "    </tr>\n",
       "    <tr>\n",
       "      <th>10</th>\n",
       "      <td>952874034.htm</td>\n",
       "      <td>http://www.leboncoin.fr/vins_gastronomie/95287...</td>\n",
       "      <td>Grains de kefir de lait</td>\n",
       "      <td>13 juin à 15:31</td>\n",
       "      <td>Buggy</td>\n",
       "      <td>Allan 26780</td>\n",
       "      <td>5 €</td>\n",
       "      <td>Vends grains de kefir de lait suite multiplica...</td>\n",
       "    </tr>\n",
       "    <tr>\n",
       "      <th>11</th>\n",
       "      <td>980118532.htm</td>\n",
       "      <td>http://www.leboncoin.fr/autres/980118532.htm?c...</td>\n",
       "      <td>Donne Kéfir de fruits</td>\n",
       "      <td>13 juin à 14:02</td>\n",
       "      <td>Caroline</td>\n",
       "      <td>Trélazé 49800</td>\n",
       "      <td>Trélazé 49800</td>\n",
       "      <td>Donne kéfir de fruits pour faire boissons pro-...</td>\n",
       "    </tr>\n",
       "    <tr>\n",
       "      <th>12</th>\n",
       "      <td>979506540.htm</td>\n",
       "      <td>http://www.leboncoin.fr/arts_de_la_table/97950...</td>\n",
       "      <td>Kéfir</td>\n",
       "      <td>12 juin à 11:02</td>\n",
       "      <td>waldighoffen</td>\n",
       "      <td>Waldighofen 68640</td>\n",
       "      <td>1 €</td>\n",
       "      <td>Cède grains de kéfirles bienfaits du kefir la ...</td>\n",
       "    </tr>\n",
       "    <tr>\n",
       "      <th>13</th>\n",
       "      <td>818345871.htm</td>\n",
       "      <td>http://www.leboncoin.fr/vins_gastronomie/81834...</td>\n",
       "      <td>Donne Kéfir de fruit</td>\n",
       "      <td>12 juin à 08:58</td>\n",
       "      <td>Chris</td>\n",
       "      <td>Toulon 83100</td>\n",
       "      <td>Toulon 83100</td>\n",
       "      <td>Afin d'avoir des boissons pro-biotiques : je d...</td>\n",
       "    </tr>\n",
       "    <tr>\n",
       "      <th>14</th>\n",
       "      <td>952016362.htm</td>\n",
       "      <td>http://www.leboncoin.fr/vins_gastronomie/95201...</td>\n",
       "      <td>Grains de Kefir de fruit</td>\n",
       "      <td>11 juin à 20:41</td>\n",
       "      <td>alex</td>\n",
       "      <td>Boulogne-Billancourt 92100</td>\n",
       "      <td>3 €</td>\n",
       "      <td>pour faire son kefir2 grosses cuillères de gra...</td>\n",
       "    </tr>\n",
       "    <tr>\n",
       "      <th>15</th>\n",
       "      <td>979044443.htm</td>\n",
       "      <td>http://www.leboncoin.fr/vins_gastronomie/97904...</td>\n",
       "      <td>Kéfir de fruit</td>\n",
       "      <td>11 juin à 09:21</td>\n",
       "      <td>Flo</td>\n",
       "      <td>Paris 75011</td>\n",
       "      <td>Paris 75011</td>\n",
       "      <td>Bonjour, je donne des grains de Kéfir de fruit...</td>\n",
       "    </tr>\n",
       "    <tr>\n",
       "      <th>16</th>\n",
       "      <td>951202206.htm</td>\n",
       "      <td>http://www.leboncoin.fr/vins_gastronomie/95120...</td>\n",
       "      <td>Kéfir de fruits</td>\n",
       "      <td>10 juin à 17:14</td>\n",
       "      <td>gégé</td>\n",
       "      <td>Tournay 65190</td>\n",
       "      <td>Tournay 65190</td>\n",
       "      <td>Échange grains de kéfir de fruits contre ce qu...</td>\n",
       "    </tr>\n",
       "    <tr>\n",
       "      <th>17</th>\n",
       "      <td>948870205.htm</td>\n",
       "      <td>http://www.leboncoin.fr/arts_de_la_table/94887...</td>\n",
       "      <td>Graines de Kéfir</td>\n",
       "      <td>10 juin à 16:03</td>\n",
       "      <td>Pierre</td>\n",
       "      <td>Roanne 42300</td>\n",
       "      <td>5 €</td>\n",
       "      <td>Vends graines de kéfir de fruits, permettant d...</td>\n",
       "    </tr>\n",
       "    <tr>\n",
       "      <th>18</th>\n",
       "      <td>818142303.htm</td>\n",
       "      <td>http://www.leboncoin.fr/vins_gastronomie/81814...</td>\n",
       "      <td>Graines de kefir de fruits</td>\n",
       "      <td>9 juin à 22:44</td>\n",
       "      <td>jacq</td>\n",
       "      <td>Grenoble 38000</td>\n",
       "      <td>3 €</td>\n",
       "      <td>GRAINES DE KEFIR DE FRUITS DE MA PRODUCTION RE...</td>\n",
       "    </tr>\n",
       "    <tr>\n",
       "      <th>19</th>\n",
       "      <td>978451455.htm</td>\n",
       "      <td>http://www.leboncoin.fr/vins_gastronomie/97845...</td>\n",
       "      <td>Kéfir</td>\n",
       "      <td>9 juin à 16:51</td>\n",
       "      <td>Delphine</td>\n",
       "      <td>Villeréal 47210</td>\n",
       "      <td>Villeréal 47210</td>\n",
       "      <td>Je donne du Kéfir qui se multiplie en excès !</td>\n",
       "    </tr>\n",
       "    <tr>\n",
       "      <th>20</th>\n",
       "      <td>978260881.htm</td>\n",
       "      <td>http://www.leboncoin.fr/vins_gastronomie/97826...</td>\n",
       "      <td>Grains de kéfir de fruit BIO</td>\n",
       "      <td>9 juin à 09:32</td>\n",
       "      <td>JessyJess</td>\n",
       "      <td>Chaudenay 71150</td>\n",
       "      <td>Chaudenay 71150</td>\n",
       "      <td>à prendre sur place à Chaudenay, proche Chagny...</td>\n",
       "    </tr>\n",
       "    <tr>\n",
       "      <th>21</th>\n",
       "      <td>922358714.htm</td>\n",
       "      <td>http://www.leboncoin.fr/arts_de_la_table/92235...</td>\n",
       "      <td>Kéfir de lait</td>\n",
       "      <td>9 juin à 09:13</td>\n",
       "      <td>christophe</td>\n",
       "      <td>Arras 62000</td>\n",
       "      <td>4 €</td>\n",
       "      <td>Le kéfir est une boisson issue de la fermentat...</td>\n",
       "    </tr>\n",
       "    <tr>\n",
       "      <th>22</th>\n",
       "      <td>647215980.htm</td>\n",
       "      <td>http://www.leboncoin.fr/livres/647215980.htm?c...</td>\n",
       "      <td>Revue L'IMPATIENT-ALTERNATIVE SANTE n°9</td>\n",
       "      <td>9 juin à 06:56</td>\n",
       "      <td>dcf</td>\n",
       "      <td>La Côte-Saint-André 38260</td>\n",
       "      <td>8 €</td>\n",
       "      <td>L'impatient N°9 Soleil, Sommeil, Climat et San...</td>\n",
       "    </tr>\n",
       "    <tr>\n",
       "      <th>23</th>\n",
       "      <td>978135209.htm</td>\n",
       "      <td>http://www.leboncoin.fr/vins_gastronomie/97813...</td>\n",
       "      <td>Grains de kefir de lait</td>\n",
       "      <td>8 juin à 20:28</td>\n",
       "      <td>cocoemy</td>\n",
       "      <td>Crest 26400</td>\n",
       "      <td>Crest 26400</td>\n",
       "      <td>grains de kefir de laitrenforce le système imm...</td>\n",
       "    </tr>\n",
       "    <tr>\n",
       "      <th>24</th>\n",
       "      <td>768442087.htm</td>\n",
       "      <td>http://www.leboncoin.fr/arts_de_la_table/76844...</td>\n",
       "      <td>Kéfir de fruit</td>\n",
       "      <td>8 juin à 18:57</td>\n",
       "      <td>jourde</td>\n",
       "      <td>Amiens 80000</td>\n",
       "      <td>4 €</td>\n",
       "      <td>vend grain de kéfir de fruit.</td>\n",
       "    </tr>\n",
       "    <tr>\n",
       "      <th>25</th>\n",
       "      <td>977955709.htm</td>\n",
       "      <td>http://www.leboncoin.fr/vins_gastronomie/97795...</td>\n",
       "      <td>Donne grains de kefir</td>\n",
       "      <td>8 juin à 13:34</td>\n",
       "      <td>momo</td>\n",
       "      <td>Gignac 34150</td>\n",
       "      <td>Gignac 34150</td>\n",
       "      <td>donne grains de Kéfir de fruits</td>\n",
       "    </tr>\n",
       "    <tr>\n",
       "      <th>26</th>\n",
       "      <td>977844189.htm</td>\n",
       "      <td>http://www.leboncoin.fr/offres_d_emploi/977844...</td>\n",
       "      <td>Préparateur de commandes en surgelés (H/F)</td>\n",
       "      <td>8 juin à 09:25</td>\n",
       "      <td>ORLYGEL</td>\n",
       "      <td>Orly 94310</td>\n",
       "      <td>1 632 €</td>\n",
       "      <td>Préparer les commandes des clients (à l’aide d...</td>\n",
       "    </tr>\n",
       "    <tr>\n",
       "      <th>27</th>\n",
       "      <td>977635836.htm</td>\n",
       "      <td>http://www.leboncoin.fr/autres/977635836.htm?c...</td>\n",
       "      <td>Donne Kefir</td>\n",
       "      <td>7 juin à 18:05</td>\n",
       "      <td>Glook</td>\n",
       "      <td>Amboise 37400</td>\n",
       "      <td>Amboise 37400</td>\n",
       "      <td>Donne Kefir de fruit</td>\n",
       "    </tr>\n",
       "    <tr>\n",
       "      <th>28</th>\n",
       "      <td>977569097.htm</td>\n",
       "      <td>http://www.leboncoin.fr/jardinage/977569097.ht...</td>\n",
       "      <td>Grain kefir de fruits soigne tout répare corps</td>\n",
       "      <td>7 juin à 15:15</td>\n",
       "      <td>rglory</td>\n",
       "      <td>Roubaix 59100</td>\n",
       "      <td>5 €</td>\n",
       "      <td>quantite limité  se multiplie tout seulQuels e...</td>\n",
       "    </tr>\n",
       "    <tr>\n",
       "      <th>29</th>\n",
       "      <td>977568495.htm</td>\n",
       "      <td>http://www.leboncoin.fr/vins_gastronomie/97756...</td>\n",
       "      <td>Donne du kefir de fruit</td>\n",
       "      <td>7 juin à 15:14</td>\n",
       "      <td>manuel</td>\n",
       "      <td>Grenoble 38000</td>\n",
       "      <td>Grenoble 38000</td>\n",
       "      <td>Je donne du kefir de fruit.Possibilité  d'envo...</td>\n",
       "    </tr>\n",
       "    <tr>\n",
       "      <th>...</th>\n",
       "      <td>...</td>\n",
       "      <td>...</td>\n",
       "      <td>...</td>\n",
       "      <td>...</td>\n",
       "      <td>...</td>\n",
       "      <td>...</td>\n",
       "      <td>...</td>\n",
       "      <td>...</td>\n",
       "    </tr>\n",
       "    <tr>\n",
       "      <th>176</th>\n",
       "      <td>959282729.htm</td>\n",
       "      <td>http://www.leboncoin.fr/jardinage/959282729.ht...</td>\n",
       "      <td>kéfir de fruits ou lait</td>\n",
       "      <td>27 avril à 21:22</td>\n",
       "      <td>ludo</td>\n",
       "      <td>Velaines 55500</td>\n",
       "      <td>Velaines 55500</td>\n",
       "      <td>donne graine de kefiren mains propres de préfé...</td>\n",
       "    </tr>\n",
       "    <tr>\n",
       "      <th>177</th>\n",
       "      <td>931071312.htm</td>\n",
       "      <td>http://www.leboncoin.fr/vins_gastronomie/93107...</td>\n",
       "      <td>Donne Kéfir à l'eau ou aux fruits</td>\n",
       "      <td>27 avril à 18:32</td>\n",
       "      <td>William</td>\n",
       "      <td>Saint-Martin-d'Uriage 38410</td>\n",
       "      <td>Saint-Martin-d'Uriage 38410</td>\n",
       "      <td>Donne des graines de kéfir de fruit de ma prod...</td>\n",
       "    </tr>\n",
       "    <tr>\n",
       "      <th>178</th>\n",
       "      <td>903050447.htm</td>\n",
       "      <td>http://www.leboncoin.fr/vins_gastronomie/90305...</td>\n",
       "      <td>Donne KEFIRde FRUIT</td>\n",
       "      <td>27 avril à 16:51</td>\n",
       "      <td>joelle</td>\n",
       "      <td>Paris 75018</td>\n",
       "      <td>Paris 75018</td>\n",
       "      <td>Donne Kefir de fruit .......</td>\n",
       "    </tr>\n",
       "    <tr>\n",
       "      <th>179</th>\n",
       "      <td>958921744.htm</td>\n",
       "      <td>http://www.leboncoin.fr/decoration/958921744.h...</td>\n",
       "      <td>A donner grains de kéfir de fruits</td>\n",
       "      <td>27 avril à 08:43</td>\n",
       "      <td>MISSTINGUETT</td>\n",
       "      <td>Nandy 77176</td>\n",
       "      <td>Nandy 77176</td>\n",
       "      <td>Donne grains de kéfir fruits de quoi commencer...</td>\n",
       "    </tr>\n",
       "    <tr>\n",
       "      <th>180</th>\n",
       "      <td>847921312.htm</td>\n",
       "      <td>http://www.leboncoin.fr/vins_gastronomie/84792...</td>\n",
       "      <td>Grains de kéfir de fruit</td>\n",
       "      <td>26 avril à 18:23</td>\n",
       "      <td>Lupalibera</td>\n",
       "      <td>Uzès 30700</td>\n",
       "      <td>5 €</td>\n",
       "      <td>100 g de grains de kéfir de fruit, soit la qua...</td>\n",
       "    </tr>\n",
       "    <tr>\n",
       "      <th>181</th>\n",
       "      <td>958481108.htm</td>\n",
       "      <td>http://www.leboncoin.fr/vins_gastronomie/95848...</td>\n",
       "      <td>Graines de kefir de fuit bio</td>\n",
       "      <td>26 avril à 09:36</td>\n",
       "      <td>DM</td>\n",
       "      <td>Toulouse 31200</td>\n",
       "      <td>Toulouse 31200</td>\n",
       "      <td>Donne graines de Kéfir de fruit BIOPas d'envoi...</td>\n",
       "    </tr>\n",
       "    <tr>\n",
       "      <th>182</th>\n",
       "      <td>958340425.htm</td>\n",
       "      <td>http://www.leboncoin.fr/arts_de_la_table/95834...</td>\n",
       "      <td>Grain de Kéfir</td>\n",
       "      <td>25 avril à 20:46</td>\n",
       "      <td>curie didier</td>\n",
       "      <td>Seloncourt 25230</td>\n",
       "      <td>5 €</td>\n",
       "      <td>vend 200 gr de grain de Kéfir, avec recette si...</td>\n",
       "    </tr>\n",
       "    <tr>\n",
       "      <th>183</th>\n",
       "      <td>958247419.htm</td>\n",
       "      <td>http://www.leboncoin.fr/vins_gastronomie/95824...</td>\n",
       "      <td>Kéfir de fruit</td>\n",
       "      <td>25 avril à 17:50</td>\n",
       "      <td>aurore</td>\n",
       "      <td>Alençon 61000</td>\n",
       "      <td>3 €</td>\n",
       "      <td>Bonjour, Je vend des graines de kéfir de fruit...</td>\n",
       "    </tr>\n",
       "    <tr>\n",
       "      <th>184</th>\n",
       "      <td>846664571.htm</td>\n",
       "      <td>http://www.leboncoin.fr/vins_gastronomie/84666...</td>\n",
       "      <td>Graines de kéfir</td>\n",
       "      <td>25 avril à 10:08</td>\n",
       "      <td>Momo</td>\n",
       "      <td>Saint-Etienne-lès-Remiremont 88200            ...</td>\n",
       "      <td>2 €</td>\n",
       "      <td>Graines de kéfir pour fabrication d'une boisso...</td>\n",
       "    </tr>\n",
       "    <tr>\n",
       "      <th>185</th>\n",
       "      <td>957951942.htm</td>\n",
       "      <td>http://www.leboncoin.fr/vins_gastronomie/95795...</td>\n",
       "      <td>graines de Kefir</td>\n",
       "      <td>25 avril à 08:50</td>\n",
       "      <td>Cailbaut</td>\n",
       "      <td>Saint-Germain-sur-Moine 49230</td>\n",
       "      <td>2 €</td>\n",
       "      <td>graine de Kefir de fruitparfaitement conservé ...</td>\n",
       "    </tr>\n",
       "    <tr>\n",
       "      <th>186</th>\n",
       "      <td>824167662.htm</td>\n",
       "      <td>http://www.leboncoin.fr/vins_gastronomie/82416...</td>\n",
       "      <td>Kéfir de fruit</td>\n",
       "      <td>24 avril à 16:02</td>\n",
       "      <td>cactus</td>\n",
       "      <td>La Roche-sur-Yon 85000</td>\n",
       "      <td>2 €</td>\n",
       "      <td>Graines de kéfir, à venir chercher, pas d'expé...</td>\n",
       "    </tr>\n",
       "    <tr>\n",
       "      <th>187</th>\n",
       "      <td>869713620.htm</td>\n",
       "      <td>http://www.leboncoin.fr/vins_gastronomie/86971...</td>\n",
       "      <td>Grains de kéfir de fruits bio</td>\n",
       "      <td>24 avril à 11:50</td>\n",
       "      <td>sev</td>\n",
       "      <td>Pagney-derrière-Barine 54200</td>\n",
       "      <td>Pagney-derrière-Barine 54200</td>\n",
       "      <td>Je donne des grains de kéfir de fruits. J'util...</td>\n",
       "    </tr>\n",
       "    <tr>\n",
       "      <th>188</th>\n",
       "      <td>872622820.htm</td>\n",
       "      <td>http://www.leboncoin.fr/vins_gastronomie/87262...</td>\n",
       "      <td>PROBIOTIC Kefir de fruit AND33</td>\n",
       "      <td>23 avril à 15:46</td>\n",
       "      <td>veiga</td>\n",
       "      <td>Bègles 33130</td>\n",
       "      <td>3 €</td>\n",
       "      <td>SI VOUS DESIREZ AVOIR UNE BOISSON PROBIOTIC NA...</td>\n",
       "    </tr>\n",
       "    <tr>\n",
       "      <th>189</th>\n",
       "      <td>928672360.htm</td>\n",
       "      <td>http://www.leboncoin.fr/arts_de_la_table/92867...</td>\n",
       "      <td>KEFIR DE LAIT</td>\n",
       "      <td>22 avril à 15:12</td>\n",
       "      <td>jess</td>\n",
       "      <td>Talange 57525</td>\n",
       "      <td>5 €</td>\n",
       "      <td>Kefir de lait 5Euro(s)</td>\n",
       "    </tr>\n",
       "    <tr>\n",
       "      <th>190</th>\n",
       "      <td>956514387.htm</td>\n",
       "      <td>http://www.leboncoin.fr/vins_gastronomie/95651...</td>\n",
       "      <td>Grains. De kefir</td>\n",
       "      <td>22 avril à 09:58</td>\n",
       "      <td>cl</td>\n",
       "      <td>88500</td>\n",
       "      <td>88500</td>\n",
       "      <td>Donne grains de kefir</td>\n",
       "    </tr>\n",
       "    <tr>\n",
       "      <th>191</th>\n",
       "      <td>927442446.htm</td>\n",
       "      <td>http://www.leboncoin.fr/vins_gastronomie/92744...</td>\n",
       "      <td>Graines de Kefir fruits</td>\n",
       "      <td>21 avril à 22:54</td>\n",
       "      <td>matinbleu</td>\n",
       "      <td>Ploemeur 56270</td>\n",
       "      <td>Ploemeur 56270</td>\n",
       "      <td>si vous souhaitez du kéfir de fruitsje peux vo...</td>\n",
       "    </tr>\n",
       "    <tr>\n",
       "      <th>192</th>\n",
       "      <td>956371567.htm</td>\n",
       "      <td>http://www.leboncoin.fr/arts_de_la_table/95637...</td>\n",
       "      <td>Kefir</td>\n",
       "      <td>21 avril à 20:04</td>\n",
       "      <td>Alexis</td>\n",
       "      <td>Montirat 81190</td>\n",
       "      <td>Montirat 81190</td>\n",
       "      <td>Description :donne Kéfir de fruits ,pour comme...</td>\n",
       "    </tr>\n",
       "    <tr>\n",
       "      <th>193</th>\n",
       "      <td>927818981.htm</td>\n",
       "      <td>http://www.leboncoin.fr/vins_gastronomie/92781...</td>\n",
       "      <td>Kéfir</td>\n",
       "      <td>20 avril à 23:19</td>\n",
       "      <td>Caprécieuse</td>\n",
       "      <td>Alès 30100</td>\n",
       "      <td>Alès 30100</td>\n",
       "      <td>Donne grains de kéfir</td>\n",
       "    </tr>\n",
       "    <tr>\n",
       "      <th>194</th>\n",
       "      <td>900706173.htm</td>\n",
       "      <td>http://www.leboncoin.fr/vins_gastronomie/90070...</td>\n",
       "      <td>Donne graines de kéfir de fruit</td>\n",
       "      <td>20 avril à 14:10</td>\n",
       "      <td>meleuc</td>\n",
       "      <td>Plessala 22330</td>\n",
       "      <td>Plessala 22330</td>\n",
       "      <td>Bonjour,Suite à la multiplication de mon kéfir...</td>\n",
       "    </tr>\n",
       "    <tr>\n",
       "      <th>195</th>\n",
       "      <td>844194180.htm</td>\n",
       "      <td>http://www.leboncoin.fr/vins_gastronomie/84419...</td>\n",
       "      <td>Grains de kéfir de fruit (44anna)</td>\n",
       "      <td>20 avril à 10:37</td>\n",
       "      <td>anna</td>\n",
       "      <td>Saint-Gildas-des-Bois 44530</td>\n",
       "      <td>3 €</td>\n",
       "      <td>vend des graines de kéfir de fruit sucre roux ...</td>\n",
       "    </tr>\n",
       "    <tr>\n",
       "      <th>196</th>\n",
       "      <td>955590383.htm</td>\n",
       "      <td>http://www.leboncoin.fr/jardinage/955590383.ht...</td>\n",
       "      <td>Kefir de fruits ou d'eau ***excellente qualité***</td>\n",
       "      <td>19 avril à 22:41</td>\n",
       "      <td>Chris</td>\n",
       "      <td>Tours 37000</td>\n",
       "      <td>4 €</td>\n",
       "      <td>Profitez des vertus du kefir, si vous ne conna...</td>\n",
       "    </tr>\n",
       "    <tr>\n",
       "      <th>197</th>\n",
       "      <td>955587490.htm</td>\n",
       "      <td>http://www.leboncoin.fr/jardinage/955587490.ht...</td>\n",
       "      <td>Kefir de lait</td>\n",
       "      <td>19 avril à 22:35</td>\n",
       "      <td>Chris</td>\n",
       "      <td>Tours 37000</td>\n",
       "      <td>5 €</td>\n",
       "      <td>Profitez des vertus du kefir, si vous ne conna...</td>\n",
       "    </tr>\n",
       "    <tr>\n",
       "      <th>198</th>\n",
       "      <td>843085779.htm</td>\n",
       "      <td>http://www.leboncoin.fr/arts_de_la_table/84308...</td>\n",
       "      <td>Donne grains de kéfir de fruit</td>\n",
       "      <td>18 avril à 20:18</td>\n",
       "      <td>Annie</td>\n",
       "      <td>Villenoy 77124</td>\n",
       "      <td>Villenoy 77124</td>\n",
       "      <td>Je donne des grains de kéfir de fruit très pro...</td>\n",
       "    </tr>\n",
       "    <tr>\n",
       "      <th>199</th>\n",
       "      <td>926536475.htm</td>\n",
       "      <td>http://www.leboncoin.fr/vins_gastronomie/92653...</td>\n",
       "      <td>Grains de kefir frais - Kéfir de fruits</td>\n",
       "      <td>18 avril à 13:03</td>\n",
       "      <td>francky</td>\n",
       "      <td>Montséret 11200</td>\n",
       "      <td>Montséret 11200</td>\n",
       "      <td>Je donne des semences de ce sympathique champi...</td>\n",
       "    </tr>\n",
       "    <tr>\n",
       "      <th>200</th>\n",
       "      <td>924414810.htm</td>\n",
       "      <td>http://www.leboncoin.fr/vins_gastronomie/92441...</td>\n",
       "      <td>Grains de kéfir de fruits</td>\n",
       "      <td>18 avril à 12:17</td>\n",
       "      <td>Lestrat</td>\n",
       "      <td>Liffré 35340</td>\n",
       "      <td>6 €</td>\n",
       "      <td>Donne des grains de kéfir de fruit d'excellent...</td>\n",
       "    </tr>\n",
       "    <tr>\n",
       "      <th>201</th>\n",
       "      <td>954724513.htm</td>\n",
       "      <td>http://www.leboncoin.fr/vins_gastronomie/95472...</td>\n",
       "      <td>Graines de kefir</td>\n",
       "      <td>18 avril à 11:43</td>\n",
       "      <td>folk</td>\n",
       "      <td>Girmont 88150</td>\n",
       "      <td>2 €</td>\n",
       "      <td>JE VEND DES GRAINES DE KEFIR2 EUROS LES 100GR ...</td>\n",
       "    </tr>\n",
       "    <tr>\n",
       "      <th>202</th>\n",
       "      <td>954716079.htm</td>\n",
       "      <td>http://www.leboncoin.fr/arts_de_la_table/95471...</td>\n",
       "      <td>Probiotique naturel</td>\n",
       "      <td>18 avril à 11:29</td>\n",
       "      <td>Sylvie</td>\n",
       "      <td>Cournon-d'Auvergne 63800</td>\n",
       "      <td>10 €</td>\n",
       "      <td>Vend la va leur de deux louches de kéfir de fr...</td>\n",
       "    </tr>\n",
       "    <tr>\n",
       "      <th>203</th>\n",
       "      <td>870897521.htm</td>\n",
       "      <td>http://www.leboncoin.fr/vins_gastronomie/87089...</td>\n",
       "      <td>Grains de KEFIR de fruits</td>\n",
       "      <td>18 avril à 10:25</td>\n",
       "      <td>Lalabiba</td>\n",
       "      <td>Villeneuve-Loubet 06270</td>\n",
       "      <td>Villeneuve-Loubet 06270</td>\n",
       "      <td>Échange grains de kefir de fruits contre :Un p...</td>\n",
       "    </tr>\n",
       "    <tr>\n",
       "      <th>204</th>\n",
       "      <td>866381957.htm</td>\n",
       "      <td>http://www.leboncoin.fr/vins_gastronomie/86638...</td>\n",
       "      <td>Grains de Kéfir de fruits</td>\n",
       "      <td>16 avril à 18:56</td>\n",
       "      <td>andre</td>\n",
       "      <td>Nantes 44200</td>\n",
       "      <td>3 €</td>\n",
       "      <td>Nourris avec des figues, du citron et un mélan...</td>\n",
       "    </tr>\n",
       "    <tr>\n",
       "      <th>205</th>\n",
       "      <td>924143269.htm</td>\n",
       "      <td>http://www.leboncoin.fr/vins_gastronomie/92414...</td>\n",
       "      <td>Kéfir de fruits</td>\n",
       "      <td>16 avril à 17:47</td>\n",
       "      <td>garriock</td>\n",
       "      <td>Aix-les-Bains 73100</td>\n",
       "      <td>5 €</td>\n",
       "      <td>graines de kéfir de fruits, permettant de fair...</td>\n",
       "    </tr>\n",
       "  </tbody>\n",
       "</table>\n",
       "<p>206 rows × 8 columns</p>\n",
       "</div>"
      ],
      "text/plain": [
       "                 0                                                  1  \\\n",
       "0    981120259.htm  http://www.leboncoin.fr/vins_gastronomie/98112...   \n",
       "1    981058598.htm  http://www.leboncoin.fr/vins_gastronomie/98105...   \n",
       "2    981035760.htm  http://www.leboncoin.fr/arts_de_la_table/98103...   \n",
       "3    980776222.htm  http://www.leboncoin.fr/vins_gastronomie/98077...   \n",
       "4    980766371.htm  http://www.leboncoin.fr/vins_gastronomie/98076...   \n",
       "5    980676585.htm  http://www.leboncoin.fr/vins_gastronomie/98067...   \n",
       "6    980601122.htm  http://www.leboncoin.fr/arts_de_la_table/98060...   \n",
       "7    953061956.htm  http://www.leboncoin.fr/vins_gastronomie/95306...   \n",
       "8    980413317.htm  http://www.leboncoin.fr/vins_gastronomie/98041...   \n",
       "9    980312011.htm  http://www.leboncoin.fr/jardinage/980312011.ht...   \n",
       "10   952874034.htm  http://www.leboncoin.fr/vins_gastronomie/95287...   \n",
       "11   980118532.htm  http://www.leboncoin.fr/autres/980118532.htm?c...   \n",
       "12   979506540.htm  http://www.leboncoin.fr/arts_de_la_table/97950...   \n",
       "13   818345871.htm  http://www.leboncoin.fr/vins_gastronomie/81834...   \n",
       "14   952016362.htm  http://www.leboncoin.fr/vins_gastronomie/95201...   \n",
       "15   979044443.htm  http://www.leboncoin.fr/vins_gastronomie/97904...   \n",
       "16   951202206.htm  http://www.leboncoin.fr/vins_gastronomie/95120...   \n",
       "17   948870205.htm  http://www.leboncoin.fr/arts_de_la_table/94887...   \n",
       "18   818142303.htm  http://www.leboncoin.fr/vins_gastronomie/81814...   \n",
       "19   978451455.htm  http://www.leboncoin.fr/vins_gastronomie/97845...   \n",
       "20   978260881.htm  http://www.leboncoin.fr/vins_gastronomie/97826...   \n",
       "21   922358714.htm  http://www.leboncoin.fr/arts_de_la_table/92235...   \n",
       "22   647215980.htm  http://www.leboncoin.fr/livres/647215980.htm?c...   \n",
       "23   978135209.htm  http://www.leboncoin.fr/vins_gastronomie/97813...   \n",
       "24   768442087.htm  http://www.leboncoin.fr/arts_de_la_table/76844...   \n",
       "25   977955709.htm  http://www.leboncoin.fr/vins_gastronomie/97795...   \n",
       "26   977844189.htm  http://www.leboncoin.fr/offres_d_emploi/977844...   \n",
       "27   977635836.htm  http://www.leboncoin.fr/autres/977635836.htm?c...   \n",
       "28   977569097.htm  http://www.leboncoin.fr/jardinage/977569097.ht...   \n",
       "29   977568495.htm  http://www.leboncoin.fr/vins_gastronomie/97756...   \n",
       "..             ...                                                ...   \n",
       "176  959282729.htm  http://www.leboncoin.fr/jardinage/959282729.ht...   \n",
       "177  931071312.htm  http://www.leboncoin.fr/vins_gastronomie/93107...   \n",
       "178  903050447.htm  http://www.leboncoin.fr/vins_gastronomie/90305...   \n",
       "179  958921744.htm  http://www.leboncoin.fr/decoration/958921744.h...   \n",
       "180  847921312.htm  http://www.leboncoin.fr/vins_gastronomie/84792...   \n",
       "181  958481108.htm  http://www.leboncoin.fr/vins_gastronomie/95848...   \n",
       "182  958340425.htm  http://www.leboncoin.fr/arts_de_la_table/95834...   \n",
       "183  958247419.htm  http://www.leboncoin.fr/vins_gastronomie/95824...   \n",
       "184  846664571.htm  http://www.leboncoin.fr/vins_gastronomie/84666...   \n",
       "185  957951942.htm  http://www.leboncoin.fr/vins_gastronomie/95795...   \n",
       "186  824167662.htm  http://www.leboncoin.fr/vins_gastronomie/82416...   \n",
       "187  869713620.htm  http://www.leboncoin.fr/vins_gastronomie/86971...   \n",
       "188  872622820.htm  http://www.leboncoin.fr/vins_gastronomie/87262...   \n",
       "189  928672360.htm  http://www.leboncoin.fr/arts_de_la_table/92867...   \n",
       "190  956514387.htm  http://www.leboncoin.fr/vins_gastronomie/95651...   \n",
       "191  927442446.htm  http://www.leboncoin.fr/vins_gastronomie/92744...   \n",
       "192  956371567.htm  http://www.leboncoin.fr/arts_de_la_table/95637...   \n",
       "193  927818981.htm  http://www.leboncoin.fr/vins_gastronomie/92781...   \n",
       "194  900706173.htm  http://www.leboncoin.fr/vins_gastronomie/90070...   \n",
       "195  844194180.htm  http://www.leboncoin.fr/vins_gastronomie/84419...   \n",
       "196  955590383.htm  http://www.leboncoin.fr/jardinage/955590383.ht...   \n",
       "197  955587490.htm  http://www.leboncoin.fr/jardinage/955587490.ht...   \n",
       "198  843085779.htm  http://www.leboncoin.fr/arts_de_la_table/84308...   \n",
       "199  926536475.htm  http://www.leboncoin.fr/vins_gastronomie/92653...   \n",
       "200  924414810.htm  http://www.leboncoin.fr/vins_gastronomie/92441...   \n",
       "201  954724513.htm  http://www.leboncoin.fr/vins_gastronomie/95472...   \n",
       "202  954716079.htm  http://www.leboncoin.fr/arts_de_la_table/95471...   \n",
       "203  870897521.htm  http://www.leboncoin.fr/vins_gastronomie/87089...   \n",
       "204  866381957.htm  http://www.leboncoin.fr/vins_gastronomie/86638...   \n",
       "205  924143269.htm  http://www.leboncoin.fr/vins_gastronomie/92414...   \n",
       "\n",
       "                                                     2                 3  \\\n",
       "0                           Graines de Kéfir de fruits   15 juin à 15:40   \n",
       "1                              Grains de kéfir de lait   15 juin à 13:55   \n",
       "2                         Grains de Kéfir de fruit bio   15 juin à 13:02   \n",
       "3                                      Kéfir de fruits   14 juin à 19:38   \n",
       "4    Grains de Kefir de fruits bios - probiotique n...   14 juin à 19:18   \n",
       "5                                      Grains de Kéfir   14 juin à 16:17   \n",
       "6                                                Kefir   14 juin à 14:05   \n",
       "7                           Graines de kefir de fruits   14 juin à 10:29   \n",
       "8    Donne grains de kéfirs - Paris 15 ou envoi postal   14 juin à 00:06   \n",
       "9                                      graine de kéfir   13 juin à 19:47   \n",
       "10                             Grains de kefir de lait   13 juin à 15:31   \n",
       "11                               Donne Kéfir de fruits   13 juin à 14:02   \n",
       "12                                               Kéfir   12 juin à 11:02   \n",
       "13                                Donne Kéfir de fruit   12 juin à 08:58   \n",
       "14                            Grains de Kefir de fruit   11 juin à 20:41   \n",
       "15                                      Kéfir de fruit   11 juin à 09:21   \n",
       "16                                     Kéfir de fruits   10 juin à 17:14   \n",
       "17                                    Graines de Kéfir   10 juin à 16:03   \n",
       "18                          Graines de kefir de fruits    9 juin à 22:44   \n",
       "19                                               Kéfir    9 juin à 16:51   \n",
       "20                        Grains de kéfir de fruit BIO    9 juin à 09:32   \n",
       "21                                       Kéfir de lait    9 juin à 09:13   \n",
       "22             Revue L'IMPATIENT-ALTERNATIVE SANTE n°9    9 juin à 06:56   \n",
       "23                             Grains de kefir de lait    8 juin à 20:28   \n",
       "24                                      Kéfir de fruit    8 juin à 18:57   \n",
       "25                               Donne grains de kefir    8 juin à 13:34   \n",
       "26          Préparateur de commandes en surgelés (H/F)    8 juin à 09:25   \n",
       "27                                         Donne Kefir    7 juin à 18:05   \n",
       "28      Grain kefir de fruits soigne tout répare corps    7 juin à 15:15   \n",
       "29                             Donne du kefir de fruit    7 juin à 15:14   \n",
       "..                                                 ...               ...   \n",
       "176                            kéfir de fruits ou lait  27 avril à 21:22   \n",
       "177                  Donne Kéfir à l'eau ou aux fruits  27 avril à 18:32   \n",
       "178                                Donne KEFIRde FRUIT  27 avril à 16:51   \n",
       "179                 A donner grains de kéfir de fruits  27 avril à 08:43   \n",
       "180                           Grains de kéfir de fruit  26 avril à 18:23   \n",
       "181                       Graines de kefir de fuit bio  26 avril à 09:36   \n",
       "182                                     Grain de Kéfir  25 avril à 20:46   \n",
       "183                                     Kéfir de fruit  25 avril à 17:50   \n",
       "184                                   Graines de kéfir  25 avril à 10:08   \n",
       "185                                   graines de Kefir  25 avril à 08:50   \n",
       "186                                     Kéfir de fruit  24 avril à 16:02   \n",
       "187                      Grains de kéfir de fruits bio  24 avril à 11:50   \n",
       "188                     PROBIOTIC Kefir de fruit AND33  23 avril à 15:46   \n",
       "189                                      KEFIR DE LAIT  22 avril à 15:12   \n",
       "190                                   Grains. De kefir  22 avril à 09:58   \n",
       "191                            Graines de Kefir fruits  21 avril à 22:54   \n",
       "192                                              Kefir  21 avril à 20:04   \n",
       "193                                              Kéfir  20 avril à 23:19   \n",
       "194                    Donne graines de kéfir de fruit  20 avril à 14:10   \n",
       "195                  Grains de kéfir de fruit (44anna)  20 avril à 10:37   \n",
       "196  Kefir de fruits ou d'eau ***excellente qualité***  19 avril à 22:41   \n",
       "197                                      Kefir de lait  19 avril à 22:35   \n",
       "198                     Donne grains de kéfir de fruit  18 avril à 20:18   \n",
       "199            Grains de kefir frais - Kéfir de fruits  18 avril à 13:03   \n",
       "200                          Grains de kéfir de fruits  18 avril à 12:17   \n",
       "201                                   Graines de kefir  18 avril à 11:43   \n",
       "202                                Probiotique naturel  18 avril à 11:29   \n",
       "203                          Grains de KEFIR de fruits  18 avril à 10:25   \n",
       "204                          Grains de Kéfir de fruits  16 avril à 18:56   \n",
       "205                                    Kéfir de fruits  16 avril à 17:47   \n",
       "\n",
       "                4                                                  5  \\\n",
       "0           foure                    Rochefort 17300                   \n",
       "1           Laura                       Cesson 77240                   \n",
       "2       Alexandra                 Schiltigheim 67300                   \n",
       "3             GIL                      Parmain 95620                   \n",
       "4         Revif45                   Bellegarde 45270                   \n",
       "5           Marie                         Lyon 69001                   \n",
       "6          pascal                       Venise 25870                   \n",
       "7           baric                 Jard-sur-Mer 85520                   \n",
       "8          Celine                        Paris 75015                   \n",
       "9          Thomas                  Albertville 73200                   \n",
       "10          Buggy                        Allan 26780                   \n",
       "11       Caroline                      Trélazé 49800                   \n",
       "12   waldighoffen                  Waldighofen 68640                   \n",
       "13          Chris                       Toulon 83100                   \n",
       "14           alex         Boulogne-Billancourt 92100                   \n",
       "15            Flo                        Paris 75011                   \n",
       "16           gégé                      Tournay 65190                   \n",
       "17         Pierre                       Roanne 42300                   \n",
       "18           jacq                     Grenoble 38000                   \n",
       "19       Delphine                    Villeréal 47210                   \n",
       "20      JessyJess                    Chaudenay 71150                   \n",
       "21     christophe                        Arras 62000                   \n",
       "22            dcf          La Côte-Saint-André 38260                   \n",
       "23        cocoemy                        Crest 26400                   \n",
       "24         jourde                       Amiens 80000                   \n",
       "25           momo                       Gignac 34150                   \n",
       "26        ORLYGEL                         Orly 94310                   \n",
       "27          Glook                      Amboise 37400                   \n",
       "28         rglory                      Roubaix 59100                   \n",
       "29         manuel                     Grenoble 38000                   \n",
       "..            ...                                                ...   \n",
       "176          ludo                     Velaines 55500                   \n",
       "177       William        Saint-Martin-d'Uriage 38410                   \n",
       "178        joelle                        Paris 75018                   \n",
       "179  MISSTINGUETT                        Nandy 77176                   \n",
       "180    Lupalibera                         Uzès 30700                   \n",
       "181            DM                     Toulouse 31200                   \n",
       "182  curie didier                   Seloncourt 25230                   \n",
       "183        aurore                      Alençon 61000                   \n",
       "184          Momo  Saint-Etienne-lès-Remiremont 88200            ...   \n",
       "185      Cailbaut      Saint-Germain-sur-Moine 49230                   \n",
       "186        cactus             La Roche-sur-Yon 85000                   \n",
       "187           sev       Pagney-derrière-Barine 54200                   \n",
       "188         veiga                       Bègles 33130                   \n",
       "189          jess                      Talange 57525                   \n",
       "190            cl                              88500                   \n",
       "191     matinbleu                     Ploemeur 56270                   \n",
       "192        Alexis                     Montirat 81190                   \n",
       "193   Caprécieuse                         Alès 30100                   \n",
       "194        meleuc                     Plessala 22330                   \n",
       "195          anna        Saint-Gildas-des-Bois 44530                   \n",
       "196         Chris                        Tours 37000                   \n",
       "197         Chris                        Tours 37000                   \n",
       "198         Annie                     Villenoy 77124                   \n",
       "199       francky                    Montséret 11200                   \n",
       "200       Lestrat                       Liffré 35340                   \n",
       "201          folk                      Girmont 88150                   \n",
       "202        Sylvie           Cournon-d'Auvergne 63800                   \n",
       "203      Lalabiba            Villeneuve-Loubet 06270                   \n",
       "204         andre                       Nantes 44200                   \n",
       "205      garriock                Aix-les-Bains 73100                   \n",
       "\n",
       "                                6  \\\n",
       "0                             6 €   \n",
       "1                             2 €   \n",
       "2                             4 €   \n",
       "3                   Parmain 95620   \n",
       "4                             5 €   \n",
       "5                             5 €   \n",
       "6                             3 €   \n",
       "7              Jard-sur-Mer 85520   \n",
       "8                     Paris 75015   \n",
       "9                             1 €   \n",
       "10                            5 €   \n",
       "11                  Trélazé 49800   \n",
       "12                            1 €   \n",
       "13                   Toulon 83100   \n",
       "14                            3 €   \n",
       "15                    Paris 75011   \n",
       "16                  Tournay 65190   \n",
       "17                            5 €   \n",
       "18                            3 €   \n",
       "19                Villeréal 47210   \n",
       "20                Chaudenay 71150   \n",
       "21                            4 €   \n",
       "22                            8 €   \n",
       "23                    Crest 26400   \n",
       "24                            4 €   \n",
       "25                   Gignac 34150   \n",
       "26                        1 632 €   \n",
       "27                  Amboise 37400   \n",
       "28                            5 €   \n",
       "29                 Grenoble 38000   \n",
       "..                            ...   \n",
       "176                Velaines 55500   \n",
       "177   Saint-Martin-d'Uriage 38410   \n",
       "178                   Paris 75018   \n",
       "179                   Nandy 77176   \n",
       "180                           5 €   \n",
       "181                Toulouse 31200   \n",
       "182                           5 €   \n",
       "183                           3 €   \n",
       "184                           2 €   \n",
       "185                           2 €   \n",
       "186                           2 €   \n",
       "187  Pagney-derrière-Barine 54200   \n",
       "188                           3 €   \n",
       "189                           5 €   \n",
       "190                         88500   \n",
       "191                Ploemeur 56270   \n",
       "192                Montirat 81190   \n",
       "193                    Alès 30100   \n",
       "194                Plessala 22330   \n",
       "195                           3 €   \n",
       "196                           4 €   \n",
       "197                           5 €   \n",
       "198                Villenoy 77124   \n",
       "199               Montséret 11200   \n",
       "200                           6 €   \n",
       "201                           2 €   \n",
       "202                          10 €   \n",
       "203       Villeneuve-Loubet 06270   \n",
       "204                           3 €   \n",
       "205                           5 €   \n",
       "\n",
       "                                                     7  \n",
       "0    Le kéfir est un probiotique naturel originaire...  \n",
       "1    je vends des grains de kéfir pour faire du kéf...  \n",
       "2    On lui connait différentes vertus, mais le Kéf...  \n",
       "3    Donne grains de kéfir de fruits.à venir cherch...  \n",
       "4    Grains de Kefir de fruits bios - probiotique n...  \n",
       "5    Grains FRAIS de kéfir à fruitBien entretenus, ...  \n",
       "6        VENDS KEFIR 3 €ME CONTACTER AU 06 77 96 09 80  \n",
       "7    cède gratuitement sachet de 150 gr de graines ...  \n",
       "8    Donne grains de kéfir à venir chercher à Paris...  \n",
       "9    sous forme déshydratée je les envoie par la poste  \n",
       "10   Vends grains de kefir de lait suite multiplica...  \n",
       "11   Donne kéfir de fruits pour faire boissons pro-...  \n",
       "12   Cède grains de kéfirles bienfaits du kefir la ...  \n",
       "13   Afin d'avoir des boissons pro-biotiques : je d...  \n",
       "14   pour faire son kefir2 grosses cuillères de gra...  \n",
       "15   Bonjour, je donne des grains de Kéfir de fruit...  \n",
       "16   Échange grains de kéfir de fruits contre ce qu...  \n",
       "17   Vends graines de kéfir de fruits, permettant d...  \n",
       "18   GRAINES DE KEFIR DE FRUITS DE MA PRODUCTION RE...  \n",
       "19       Je donne du Kéfir qui se multiplie en excès !  \n",
       "20   à prendre sur place à Chaudenay, proche Chagny...  \n",
       "21   Le kéfir est une boisson issue de la fermentat...  \n",
       "22   L'impatient N°9 Soleil, Sommeil, Climat et San...  \n",
       "23   grains de kefir de laitrenforce le système imm...  \n",
       "24                       vend grain de kéfir de fruit.  \n",
       "25                     donne grains de Kéfir de fruits  \n",
       "26   Préparer les commandes des clients (à l’aide d...  \n",
       "27                                Donne Kefir de fruit  \n",
       "28   quantite limité  se multiplie tout seulQuels e...  \n",
       "29   Je donne du kefir de fruit.Possibilité  d'envo...  \n",
       "..                                                 ...  \n",
       "176  donne graine de kefiren mains propres de préfé...  \n",
       "177  Donne des graines de kéfir de fruit de ma prod...  \n",
       "178                       Donne Kefir de fruit .......  \n",
       "179  Donne grains de kéfir fruits de quoi commencer...  \n",
       "180  100 g de grains de kéfir de fruit, soit la qua...  \n",
       "181  Donne graines de Kéfir de fruit BIOPas d'envoi...  \n",
       "182  vend 200 gr de grain de Kéfir, avec recette si...  \n",
       "183  Bonjour, Je vend des graines de kéfir de fruit...  \n",
       "184  Graines de kéfir pour fabrication d'une boisso...  \n",
       "185  graine de Kefir de fruitparfaitement conservé ...  \n",
       "186  Graines de kéfir, à venir chercher, pas d'expé...  \n",
       "187  Je donne des grains de kéfir de fruits. J'util...  \n",
       "188  SI VOUS DESIREZ AVOIR UNE BOISSON PROBIOTIC NA...  \n",
       "189                             Kefir de lait 5Euro(s)  \n",
       "190                              Donne grains de kefir  \n",
       "191  si vous souhaitez du kéfir de fruitsje peux vo...  \n",
       "192  Description :donne Kéfir de fruits ,pour comme...  \n",
       "193                              Donne grains de kéfir  \n",
       "194  Bonjour,Suite à la multiplication de mon kéfir...  \n",
       "195  vend des graines de kéfir de fruit sucre roux ...  \n",
       "196  Profitez des vertus du kefir, si vous ne conna...  \n",
       "197  Profitez des vertus du kefir, si vous ne conna...  \n",
       "198  Je donne des grains de kéfir de fruit très pro...  \n",
       "199  Je donne des semences de ce sympathique champi...  \n",
       "200  Donne des grains de kéfir de fruit d'excellent...  \n",
       "201  JE VEND DES GRAINES DE KEFIR2 EUROS LES 100GR ...  \n",
       "202  Vend la va leur de deux louches de kéfir de fr...  \n",
       "203  Échange grains de kefir de fruits contre :Un p...  \n",
       "204  Nourris avec des figues, du citron et un mélan...  \n",
       "205  graines de kéfir de fruits, permettant de fair...  \n",
       "\n",
       "[206 rows x 8 columns]"
      ]
     },
     "execution_count": 62,
     "metadata": {},
     "output_type": "execute_result"
    }
   ],
   "source": [
    "infos = pd.DataFrame(infos)\n",
    "infos"
   ]
  },
  {
   "cell_type": "markdown",
   "metadata": {},
   "source": [
    "Sauvegarde sous un fichier excel"
   ]
  },
  {
   "cell_type": "code",
   "execution_count": 63,
   "metadata": {
    "collapsed": false
   },
   "outputs": [],
   "source": [
    "infos.to_excel(\"leboncoin-kefir-15062016.xls\")"
   ]
  },
  {
   "cell_type": "markdown",
   "metadata": {},
   "source": [
    "Le fichier est modifié pour recoder le type de kéfir, le prix, et le poids quand ces valeurs sont mentionnées"
   ]
  },
  {
   "cell_type": "markdown",
   "metadata": {},
   "source": [
    "On recharge le fichier"
   ]
  },
  {
   "cell_type": "code",
   "execution_count": 135,
   "metadata": {
    "collapsed": false
   },
   "outputs": [],
   "source": [
    "data = pd.read_excel(\"leboncoin-kefir-15062016.xls\")"
   ]
  },
  {
   "cell_type": "code",
   "execution_count": 136,
   "metadata": {
    "collapsed": false
   },
   "outputs": [],
   "source": [
    "data[\"ville\"] = data[5].apply(lambda x: x.split(\" \")[0])\n",
    "data[\"code postal\"] = data[5].apply(lambda x: x.split(\" \")[1])"
   ]
  },
  {
   "cell_type": "code",
   "execution_count": 137,
   "metadata": {
    "collapsed": false
   },
   "outputs": [],
   "source": [
    "data.to_excel(\"leboncoin-kefir-15062016-reco.xls\")"
   ]
  },
  {
   "cell_type": "markdown",
   "metadata": {},
   "source": [
    "On crée les colonnes nécessaires : type de transaction ; prix au gramme"
   ]
  },
  {
   "cell_type": "code",
   "execution_count": 138,
   "metadata": {
    "collapsed": false
   },
   "outputs": [],
   "source": [
    "def fun(row):\n",
    "    if row[\"Prix\"] not in [\"donne\",\"échange\",\"cherche\"]:\n",
    "        return \"vente\"\n",
    "    else:\n",
    "        return row[\"Prix\"]\n",
    "data[\"transaction\"] = data.apply(fun,axis=1)\n",
    "\n",
    "def fun(row):\n",
    "    if row[\"Prix\"] not in [\"donne\",\"échange\",\"cherche\"]:\n",
    "        return int(row[\"Prix\"])\n",
    "    else:\n",
    "        return \"NA\"\n",
    "data[\"Prix\"] = data.apply(fun,axis=1)\n",
    "\n",
    "def fun(row):\n",
    "    try:\n",
    "        return int(row[\"poids\"])\n",
    "    except:\n",
    "        return \"NA\"\n",
    "data[\"poids_reco\"] = data.apply(fun,axis=1)\n",
    "\n",
    "def fun(row):\n",
    "    try:\n",
    "        return round(row[\"Prix\"]/row[\"poids_reco\"],3)\n",
    "    except:\n",
    "        return \"NA\"\n",
    "data[\"poids_gramme\"] = data.apply(fun,axis=1)"
   ]
  },
  {
   "cell_type": "code",
   "execution_count": 139,
   "metadata": {
    "collapsed": false
   },
   "outputs": [
    {
     "data": {
      "text/plain": [
       "Index([             0,              1,              2,              3,\n",
       "                    4,              5,         'Prix',        'Poids',\n",
       "               'Type',   'Bienfaits ',      'Recette',      'Produit',\n",
       "         'Importance',              7,        'ville',  'code postal',\n",
       "        'transaction',   'poids_reco', 'poids_gramme'],\n",
       "      dtype='object')"
      ]
     },
     "execution_count": 139,
     "metadata": {},
     "output_type": "execute_result"
    }
   ],
   "source": [
    "data.columns"
   ]
  },
  {
   "cell_type": "markdown",
   "metadata": {},
   "source": [
    "## Traitement des données"
   ]
  },
  {
   "cell_type": "markdown",
   "metadata": {},
   "source": [
    "Réparitition des types d'annonces"
   ]
  },
  {
   "cell_type": "code",
   "execution_count": 140,
   "metadata": {
    "collapsed": false,
    "scrolled": true
   },
   "outputs": [
    {
     "data": {
      "text/plain": [
       "<matplotlib.text.Text at 0x111dacc50>"
      ]
     },
     "execution_count": 140,
     "metadata": {},
     "output_type": "execute_result"
    },
    {
     "data": {
      "image/png": "[encoded data removed]",
      "text/plain": [
       "<matplotlib.figure.Figure at 0x111ba6ef0>"
      ]
     },
     "metadata": {},
     "output_type": "display_data"
    }
   ],
   "source": [
    "fig, ax = plt.subplots(1, 2, figsize=(16, 6), sharey=True)\n",
    "\n",
    "data[\"Type\"].value_counts().plot(kind=\"bar\",ax=ax[0])\n",
    "ax[0].set_title(\"Type de kéfir\")\n",
    "ax[0].set_ylabel(\"Effectif\")\n",
    "\n",
    "data[\"transaction\"].value_counts().plot(kind=\"bar\",ax=ax[1])\n",
    "ax[1].set_title(\"Type de transaction\")\n",
    "ax[1].set_ylabel(\"Effectif\")"
   ]
  },
  {
   "cell_type": "markdown",
   "metadata": {},
   "source": [
    "Tableau croisé des types de kéfir / transactions"
   ]
  },
  {
   "cell_type": "code",
   "execution_count": 175,
   "metadata": {
    "collapsed": false
   },
   "outputs": [
    {
     "data": {
      "text/html": [
       "<div>\n",
       "<table border=\"1\" class=\"dataframe\">\n",
       "  <thead>\n",
       "    <tr style=\"text-align: right;\">\n",
       "      <th>transaction</th>\n",
       "      <th>cherche</th>\n",
       "      <th>donne</th>\n",
       "      <th>vente</th>\n",
       "      <th>échange</th>\n",
       "    </tr>\n",
       "    <tr>\n",
       "      <th>type</th>\n",
       "      <th></th>\n",
       "      <th></th>\n",
       "      <th></th>\n",
       "      <th></th>\n",
       "    </tr>\n",
       "  </thead>\n",
       "  <tbody>\n",
       "    <tr>\n",
       "      <th>deux</th>\n",
       "      <td>0</td>\n",
       "      <td>2</td>\n",
       "      <td>5</td>\n",
       "      <td>0</td>\n",
       "    </tr>\n",
       "    <tr>\n",
       "      <th>fruit</th>\n",
       "      <td>1</td>\n",
       "      <td>75</td>\n",
       "      <td>78</td>\n",
       "      <td>7</td>\n",
       "    </tr>\n",
       "    <tr>\n",
       "      <th>lait</th>\n",
       "      <td>1</td>\n",
       "      <td>5</td>\n",
       "      <td>15</td>\n",
       "      <td>0</td>\n",
       "    </tr>\n",
       "  </tbody>\n",
       "</table>\n",
       "</div>"
      ],
      "text/plain": [
       "transaction  cherche  donne  vente  échange\n",
       "type                                       \n",
       "deux               0      2      5        0\n",
       "fruit              1     75     78        7\n",
       "lait               1      5     15        0"
      ]
     },
     "execution_count": 175,
     "metadata": {},
     "output_type": "execute_result"
    }
   ],
   "source": [
    "pd.crosstab(data.type,data.transaction )"
   ]
  },
  {
   "cell_type": "markdown",
   "metadata": {},
   "source": [
    "Répartition des prix des annonces sur le kéfir"
   ]
  },
  {
   "cell_type": "code",
   "execution_count": 157,
   "metadata": {
    "collapsed": false
   },
   "outputs": [
    {
     "data": {
      "text/plain": [
       "<matplotlib.text.Text at 0x113337320>"
      ]
     },
     "execution_count": 157,
     "metadata": {},
     "output_type": "execute_result"
    },
    {
     "data": {
      "image/png": "[encoded data removed]",
      "text/plain": [
       "<matplotlib.figure.Figure at 0x110038b00>"
      ]
     },
     "metadata": {},
     "output_type": "display_data"
    }
   ],
   "source": [
    "fig, ax = plt.subplots(1, 2, figsize=(16, 6), sharey=True)\n",
    "data[(data[\"prix\"]!=\"NA\") & (data[\"type\"]==\"fruit\")][\"prix\"].hist(ax=ax[0])\n",
    "ax[0].set_title(\"Kéfir de fruit\")\n",
    "ax[0].set_ylabel(\"Effectif\")\n",
    "ax[0].set_xlabel(\"Prix (euros)\")\n",
    "data[(data[\"prix\"]!=\"NA\") & (data[\"type\"]==\"lait\")][\"prix\"].hist(ax=ax[1])\n",
    "ax[1].set_title(\"Kéfir de lait\")\n",
    "ax[1].set_ylabel(\"Effectif\")\n",
    "ax[1].set_xlabel(\"Prix (euros)\")"
   ]
  },
  {
   "cell_type": "markdown",
   "metadata": {},
   "source": [
    "Prix au gramme du kéfir"
   ]
  },
  {
   "cell_type": "code",
   "execution_count": 139,
   "metadata": {
    "collapsed": false
   },
   "outputs": [
    {
     "data": {
      "text/plain": [
       "<matplotlib.text.Text at 0x1101c3978>"
      ]
     },
     "execution_count": 139,
     "metadata": {},
     "output_type": "execute_result"
    },
    {
     "data": {
      "image/png": "[encoded data removed]",
      "text/plain": [
       "<matplotlib.figure.Figure at 0x11291b6a0>"
      ]
     },
     "metadata": {},
     "output_type": "display_data"
    }
   ],
   "source": [
    "fig, ax = plt.subplots(1, 2, figsize=(16, 6), sharey=True)\n",
    "data[(data[\"poids_gramme\"]!=\"NA\") & (data[\"type\"]==\"fruit\")][\"poids_gramme\"].hist(ax=ax[0],bins=20)\n",
    "ax[0].set_title(\"Kéfir de fruit\")\n",
    "ax[0].set_ylabel(\"Effectif\")\n",
    "ax[0].set_xlabel(\"Prix au gramme (euros)\")\n",
    "data[(data[\"poids_gramme\"]!=\"NA\") & (data[\"type\"]==\"lait\")][\"poids_gramme\"].hist(ax=ax[1],bins=20)\n",
    "ax[1].set_title(\"Kéfir de lait\")\n",
    "ax[1].set_ylabel(\"Effectif\")\n",
    "ax[1].set_xlabel(\"Prix au gramme (euros)\")"
   ]
  },
  {
   "cell_type": "markdown",
   "metadata": {},
   "source": [
    "Présentation du kéfir comme un produit"
   ]
  },
  {
   "cell_type": "code",
   "execution_count": 16,
   "metadata": {
    "collapsed": false,
    "scrolled": true
   },
   "outputs": [
    {
     "data": {
      "text/plain": [
       "<matplotlib.axes._subplots.AxesSubplot at 0x10d83c0f0>"
      ]
     },
     "execution_count": 16,
     "metadata": {},
     "output_type": "execute_result"
    },
    {
     "data": {
      "image/png": "[encoded data removed]",
      "text/plain": [
       "<matplotlib.figure.Figure at 0x10cd8d240>"
      ]
     },
     "metadata": {},
     "output_type": "display_data"
    }
   ],
   "source": [
    "data[\"Produit\"].value_counts().plot(kind=\"bar\")"
   ]
  },
  {
   "cell_type": "markdown",
   "metadata": {},
   "source": [
    "Mention explicite d'une recette"
   ]
  },
  {
   "cell_type": "code",
   "execution_count": 18,
   "metadata": {
    "collapsed": false
   },
   "outputs": [
    {
     "data": {
      "text/plain": [
       "<matplotlib.axes._subplots.AxesSubplot at 0x10e1ed5c0>"
      ]
     },
     "execution_count": 18,
     "metadata": {},
     "output_type": "execute_result"
    },
    {
     "data": {
      "image/png": "[encoded data removed]",
      "text/plain": [
       "<matplotlib.figure.Figure at 0x10e231518>"
      ]
     },
     "metadata": {},
     "output_type": "display_data"
    }
   ],
   "source": [
    "data[\"Recette\"].value_counts().plot(kind=\"bar\")"
   ]
  },
  {
   "cell_type": "markdown",
   "metadata": {},
   "source": [
    "Mention des bienfaits"
   ]
  },
  {
   "cell_type": "code",
   "execution_count": 23,
   "metadata": {
    "collapsed": false
   },
   "outputs": [
    {
     "data": {
      "text/plain": [
       "<matplotlib.axes._subplots.AxesSubplot at 0x10d935860>"
      ]
     },
     "execution_count": 23,
     "metadata": {},
     "output_type": "execute_result"
    },
    {
     "data": {
      "image/png": "[encoded data removed]",
      "text/plain": [
       "<matplotlib.figure.Figure at 0x10318acf8>"
      ]
     },
     "metadata": {},
     "output_type": "display_data"
    }
   ],
   "source": [
    "data[\"Bienfaits \"].value_counts().plot(kind=\"bar\")"
   ]
  },
  {
   "cell_type": "markdown",
   "metadata": {},
   "source": [
    "Quelques croisements"
   ]
  },
  {
   "cell_type": "code",
   "execution_count": 46,
   "metadata": {
    "collapsed": false
   },
   "outputs": [
    {
     "data": {
      "image/png": "[encoded data removed]",
      "text/plain": [
       "<matplotlib.figure.Figure at 0x10f67cbe0>"
      ]
     },
     "metadata": {},
     "output_type": "display_data"
    }
   ],
   "source": [
    "a = mosaic(pd.crosstab(data[\"Produit\"],data[\"Bienfaits \"]).stack())"
   ]
  },
  {
   "cell_type": "code",
   "execution_count": 53,
   "metadata": {
    "collapsed": false
   },
   "outputs": [
    {
     "data": {
      "image/png": "[encoded data removed]",
      "text/plain": [
       "<matplotlib.figure.Figure at 0x10fb5c0f0>"
      ]
     },
     "metadata": {},
     "output_type": "display_data"
    }
   ],
   "source": [
    "a = mosaic(pd.crosstab(data[\"Type\"],data[\"Bienfaits \"]).stack())"
   ]
  },
  {
   "cell_type": "code",
   "execution_count": 141,
   "metadata": {
    "collapsed": true
   },
   "outputs": [],
   "source": [
    "lbc = data"
   ]
  },
  {
   "cell_type": "markdown",
   "metadata": {},
   "source": [
    "## Extraction à partir de craiglist"
   ]
  },
  {
   "cell_type": "markdown",
   "metadata": {},
   "source": [
    "L'extraction est faite à partir d'un script tierce"
   ]
  },
  {
   "cell_type": "code",
   "execution_count": 273,
   "metadata": {
    "collapsed": false
   },
   "outputs": [
    {
     "data": {
      "text/plain": [
       "Index([            0,             1,             2,             3,\n",
       "                   4,             5,             6,             7,\n",
       "                   8,        'Type',   'Bienfaits',     'Recette',\n",
       "           'Produit', 'transaction',  'Importance'],\n",
       "      dtype='object')"
      ]
     },
     "execution_count": 273,
     "metadata": {},
     "output_type": "execute_result"
    }
   ],
   "source": [
    "data = pd.read_excel(\"craiglist-kefir-reco.xls\")\n",
    "data.columns"
   ]
  },
  {
   "cell_type": "code",
   "execution_count": 256,
   "metadata": {
    "collapsed": false
   },
   "outputs": [
    {
     "data": {
      "text/plain": [
       "<matplotlib.text.Text at 0x114704358>"
      ]
     },
     "execution_count": 256,
     "metadata": {},
     "output_type": "execute_result"
    },
    {
     "data": {
      "image/png": "[encoded data removed]",
      "text/plain": [
       "<matplotlib.figure.Figure at 0x114784e80>"
      ]
     },
     "metadata": {},
     "output_type": "display_data"
    }
   ],
   "source": [
    "fig, ax = plt.subplots(1, 2, figsize=(16, 6), sharey=True)\n",
    "\n",
    "data[\"Type\"].value_counts().plot(kind=\"bar\",ax=ax[0])\n",
    "ax[0].set_title(\"Type de kéfir\")\n",
    "ax[0].set_ylabel(\"Effectif\")\n",
    "\n",
    "data[\"transaction\"].value_counts().plot(kind=\"bar\",ax=ax[1])\n",
    "ax[1].set_title(\"Type de transaction\")\n",
    "ax[1].set_ylabel(\"Effectif\")"
   ]
  },
  {
   "cell_type": "markdown",
   "metadata": {},
   "source": [
    "Ajout des données GPS pour le fichier craiglist non codé initialement (facultatif, à remonter dans le script d'aspiration)"
   ]
  },
  {
   "cell_type": "markdown",
   "metadata": {
    "collapsed": false
   },
   "source": [
    "def fun(x):\n",
    "    print(x)\n",
    "    html = bs4.BeautifulSoup(requests.get(x).content, 'html.parser')\n",
    "    d = html.find(\"div\",{\"id\":\"map\"})\n",
    "    try:\n",
    "        print((d[\"data-latitude\"],d[\"data-longitude\"]))\n",
    "        return (d[\"data-latitude\"],d[\"data-longitude\"])\n",
    "    except:\n",
    "        return (0,0)\n",
    "data[\"gps\"] = data[1].apply(fun)\n",
    "data[\"latitude\"] = data.gps.apply(lambda x: x[0])\n",
    "data[\"longitude\"] = data.gps.apply(lambda x: x[1])\n",
    "data.to_excel(\"craiglist-kefir-reco-geo.xls\")"
   ]
  },
  {
   "cell_type": "code",
   "execution_count": 274,
   "metadata": {
    "collapsed": false
   },
   "outputs": [],
   "source": [
    "def fun(row):\n",
    "    if row[\"transaction\"]==\"Vente\":\n",
    "        try:\n",
    "            return int(row[5])\n",
    "        except:\n",
    "            return \"NA\"\n",
    "    else:\n",
    "        return \"NA\"\n",
    "data[\"prix\"] = data.apply(fun,axis=1)\n",
    "data.Bienfaits = data.Bienfaits.apply(lambda x: x.strip())\n",
    "data.Produit = data.Produit.apply(lambda x: x.strip())\n",
    "cl = data"
   ]
  },
  {
   "cell_type": "code",
   "execution_count": 275,
   "metadata": {
    "collapsed": false,
    "scrolled": true
   },
   "outputs": [
    {
     "data": {
      "text/plain": [
       "<matplotlib.text.Text at 0x11613a438>"
      ]
     },
     "execution_count": 275,
     "metadata": {},
     "output_type": "execute_result"
    },
    {
     "data": {
      "image/png": "[encoded data removed]",
      "text/plain": [
       "<matplotlib.figure.Figure at 0x115702f98>"
      ]
     },
     "metadata": {},
     "output_type": "display_data"
    }
   ],
   "source": [
    "fig, ax = plt.subplots(1, 2, figsize=(16, 6), sharey=True)\n",
    "data[(data[\"prix\"]!=\"NA\") & (data[\"Type\"]==\"water\")][\"prix\"].hist(ax=ax[0])\n",
    "ax[0].set_title(\"Kéfir de fruit\")\n",
    "ax[0].set_ylabel(\"Effectif\")\n",
    "ax[0].set_xlabel(\"Prix (euros)\")\n",
    "data[(data[\"prix\"]!=\"NA\") & (data[\"Type\"]==\"milk\")][\"prix\"].hist(ax=ax[1])\n",
    "ax[1].set_title(\"Kéfir de lait\")\n",
    "ax[1].set_ylabel(\"Effectif\")\n",
    "ax[1].set_xlabel(\"Prix (euros)\")"
   ]
  },
  {
   "cell_type": "code",
   "execution_count": 259,
   "metadata": {
    "collapsed": false
   },
   "outputs": [
    {
     "data": {
      "text/plain": [
       "<matplotlib.axes._subplots.AxesSubplot at 0x1147c1f28>"
      ]
     },
     "execution_count": 259,
     "metadata": {},
     "output_type": "execute_result"
    },
    {
     "data": {
      "image/png": "[encoded data removed]",
      "text/plain": [
       "<matplotlib.figure.Figure at 0x114793588>"
      ]
     },
     "metadata": {},
     "output_type": "display_data"
    }
   ],
   "source": [
    "data[\"Produit\"].value_counts().plot(kind=\"bar\")"
   ]
  },
  {
   "cell_type": "code",
   "execution_count": 260,
   "metadata": {
    "collapsed": false
   },
   "outputs": [
    {
     "data": {
      "text/plain": [
       "<matplotlib.axes._subplots.AxesSubplot at 0x114e673c8>"
      ]
     },
     "execution_count": 260,
     "metadata": {},
     "output_type": "execute_result"
    },
    {
     "data": {
      "image/png": "[encoded data removed]",
      "text/plain": [
       "<matplotlib.figure.Figure at 0x114ed5400>"
      ]
     },
     "metadata": {},
     "output_type": "display_data"
    }
   ],
   "source": [
    "data[\"Recette\"].value_counts().plot(kind=\"bar\")"
   ]
  },
  {
   "cell_type": "code",
   "execution_count": 91,
   "metadata": {
    "collapsed": false
   },
   "outputs": [
    {
     "data": {
      "text/plain": [
       "<matplotlib.axes._subplots.AxesSubplot at 0x10f914ba8>"
      ]
     },
     "execution_count": 91,
     "metadata": {},
     "output_type": "execute_result"
    },
    {
     "data": {
      "image/png": "[encoded data removed]",
      "text/plain": [
       "<matplotlib.figure.Figure at 0x10f551c50>"
      ]
     },
     "metadata": {},
     "output_type": "display_data"
    }
   ],
   "source": [
    "data[\"Bienfaits\"].value_counts().plot(kind=\"bar\")"
   ]
  },
  {
   "cell_type": "code",
   "execution_count": 96,
   "metadata": {
    "collapsed": false
   },
   "outputs": [
    {
     "data": {
      "image/png": "[encoded data removed]",
      "text/plain": [
       "<matplotlib.figure.Figure at 0x10f0eb6d8>"
      ]
     },
     "metadata": {},
     "output_type": "display_data"
    }
   ],
   "source": [
    "a = mosaic(pd.crosstab(data[\"Produit\"],data[\"Bienfaits\"]).stack())"
   ]
  },
  {
   "cell_type": "code",
   "execution_count": 97,
   "metadata": {
    "collapsed": false
   },
   "outputs": [
    {
     "data": {
      "image/png": "[encoded data removed]",
      "text/plain": [
       "<matplotlib.figure.Figure at 0x10fc4c550>"
      ]
     },
     "metadata": {},
     "output_type": "display_data"
    }
   ],
   "source": [
    "a = mosaic(pd.crosstab(data[\"Type\"],data[\"Bienfaits\"]).stack())"
   ]
  },
  {
   "cell_type": "markdown",
   "metadata": {},
   "source": [
    "### Comparaison des deux jeux de données"
   ]
  },
  {
   "cell_type": "markdown",
   "metadata": {},
   "source": [
    "Mise en forme des données pour le traitement ultérieur"
   ]
  },
  {
   "cell_type": "code",
   "execution_count": 276,
   "metadata": {
    "collapsed": false
   },
   "outputs": [],
   "source": [
    "def fun(x):\n",
    "    if x==\"lait\":\n",
    "        return \"milk\"\n",
    "    if x==\"fruit\":\n",
    "        return \"water\"\n",
    "    if x==\"deux\":\n",
    "        return \"both\"\n",
    "    return x\n",
    "lbc[\"Type\"] = lbc[\"Type\"].apply(fun)\n",
    "def fun(x):\n",
    "    d = {\"vente\":\"sell\",\"donne\":\"give\",\"échange\":\"exchange\",\"cherche\":\"search\"}\n",
    "    try:\n",
    "        return d[x]\n",
    "    except:\n",
    "        return x\n",
    "lbc[\"transaction\"] = lbc[\"transaction\"].apply(fun)\n",
    "def fun(x):\n",
    "    d = {\"Vente\":\"sell\",\"Don\":\"give\",\"Echange\":\"exchange\",\"Echange\":\"search\",\"Demande\":\"ask\"}\n",
    "    try:\n",
    "        return d[x]\n",
    "    except:\n",
    "        return x\n",
    "cl[\"transaction\"] = cl[\"transaction\"].apply(fun)"
   ]
  },
  {
   "cell_type": "markdown",
   "metadata": {},
   "source": [
    "Graphique sur le type de kéfir"
   ]
  },
  {
   "cell_type": "code",
   "execution_count": 403,
   "metadata": {
    "collapsed": false
   },
   "outputs": [
    {
     "data": {
      "image/png": "[encoded data removed]",
      "text/plain": [
       "<matplotlib.figure.Figure at 0x11845dd68>"
      ]
     },
     "metadata": {},
     "output_type": "display_data"
    }
   ],
   "source": [
    "pd.DataFrame([lbc[\"Type\"].value_counts(),cl[\"Type\"].value_counts()],index=[\"Le bon coin\",\"Craiglist\"]).plot(kind=\"bar\",alpha=0.75, rot=0)\n",
    "plt.title(\"Kefir types in advertisements\")\n",
    "plt.ylabel(\"Frequency\")\n",
    "plt.savefig(\"kefir-type-kefir.png\",dpi=300)"
   ]
  },
  {
   "cell_type": "markdown",
   "metadata": {},
   "source": [
    "Comparaison sur le type d'annonces"
   ]
  },
  {
   "cell_type": "code",
   "execution_count": 402,
   "metadata": {
    "collapsed": false
   },
   "outputs": [
    {
     "data": {
      "image/png": "[encoded data removed]",
      "text/plain": [
       "<matplotlib.figure.Figure at 0x117058d30>"
      ]
     },
     "metadata": {},
     "output_type": "display_data"
    }
   ],
   "source": [
    "pd.DataFrame([lbc[\"transaction\"].value_counts(),cl[\"transaction\"].value_counts()],index=[\"Le bon coin\",\"Craiglist\"]).plot(kind=\"bar\",alpha=0.75, rot=0)\n",
    "plt.title(\"Types of advertisement on kefir\")\n",
    "plt.ylabel(\"Frequency\")\n",
    "plt.savefig(\"kefir-type-advertisement.png\",dpi=300)"
   ]
  },
  {
   "cell_type": "markdown",
   "metadata": {},
   "source": [
    "Construction d'une structure de données sur les deux jeux d'annonces"
   ]
  },
  {
   "cell_type": "code",
   "execution_count": 391,
   "metadata": {
    "collapsed": false
   },
   "outputs": [],
   "source": [
    "lbc[\"site\"]=\"Le Bon coin\"\n",
    "cl[\"site\"]=\"Craiglist\"\n",
    "cl[\"Prix\"]=cl[\"prix\"]\n",
    "lbc[\"benefits\"] = lbc[\"Bienfaits \"]\n",
    "cl[\"benefits\"] = cl.Bienfaits\n",
    "data = pd.concat([lbc[[\"site\",\"Type\",\"transaction\",\"Prix\",\"benefits\",\"Produit\"]],cl[[\"site\",\"Type\",\"transaction\",\"Prix\",\"benefits\",\"Produit\"]]])"
   ]
  },
  {
   "cell_type": "markdown",
   "metadata": {},
   "source": [
    "Calculs d'indicateurs sur le prix mentionné dans les annonces"
   ]
  },
  {
   "cell_type": "code",
   "execution_count": null,
   "metadata": {
    "collapsed": true
   },
   "outputs": [],
   "source": [
    "data.Prix[data.Prix == \"NA\"] = np.nan\n",
    "data[\"Prix\"] = data[\"Prix\"].astype(float)"
   ]
  },
  {
   "cell_type": "code",
   "execution_count": 379,
   "metadata": {
    "collapsed": false,
    "scrolled": true
   },
   "outputs": [
    {
     "data": {
      "text/html": [
       "<div>\n",
       "<table border=\"1\" class=\"dataframe\">\n",
       "  <thead>\n",
       "    <tr style=\"text-align: right;\">\n",
       "      <th></th>\n",
       "      <th></th>\n",
       "      <th>sum</th>\n",
       "      <th>mean</th>\n",
       "      <th>std</th>\n",
       "    </tr>\n",
       "    <tr>\n",
       "      <th>site</th>\n",
       "      <th>Type</th>\n",
       "      <th></th>\n",
       "      <th></th>\n",
       "      <th></th>\n",
       "    </tr>\n",
       "  </thead>\n",
       "  <tbody>\n",
       "    <tr>\n",
       "      <th rowspan=\"3\" valign=\"top\">Craiglist</th>\n",
       "      <th>both</th>\n",
       "      <td>461</td>\n",
       "      <td>10.720930</td>\n",
       "      <td>7.095691</td>\n",
       "    </tr>\n",
       "    <tr>\n",
       "      <th>milk</th>\n",
       "      <td>994</td>\n",
       "      <td>7.888889</td>\n",
       "      <td>4.845158</td>\n",
       "    </tr>\n",
       "    <tr>\n",
       "      <th>water</th>\n",
       "      <td>393</td>\n",
       "      <td>10.076923</td>\n",
       "      <td>8.417978</td>\n",
       "    </tr>\n",
       "    <tr>\n",
       "      <th rowspan=\"3\" valign=\"top\">Le Bon coin</th>\n",
       "      <th>both</th>\n",
       "      <td>22</td>\n",
       "      <td>4.400000</td>\n",
       "      <td>0.894427</td>\n",
       "    </tr>\n",
       "    <tr>\n",
       "      <th>milk</th>\n",
       "      <td>100</td>\n",
       "      <td>6.666667</td>\n",
       "      <td>5.690426</td>\n",
       "    </tr>\n",
       "    <tr>\n",
       "      <th>water</th>\n",
       "      <td>335</td>\n",
       "      <td>4.294872</td>\n",
       "      <td>2.007188</td>\n",
       "    </tr>\n",
       "  </tbody>\n",
       "</table>\n",
       "</div>"
      ],
      "text/plain": [
       "                   sum       mean       std\n",
       "site        Type                           \n",
       "Craiglist   both   461  10.720930  7.095691\n",
       "            milk   994   7.888889  4.845158\n",
       "            water  393  10.076923  8.417978\n",
       "Le Bon coin both    22   4.400000  0.894427\n",
       "            milk   100   6.666667  5.690426\n",
       "            water  335   4.294872  2.007188"
      ]
     },
     "execution_count": 379,
     "metadata": {},
     "output_type": "execute_result"
    }
   ],
   "source": [
    "data.groupby([\"site\",\"Type\"])[\"Prix\"].agg([np.sum, np.mean, np.std])"
   ]
  },
  {
   "cell_type": "markdown",
   "metadata": {},
   "source": [
    "Tableau croisé sur un certain nombre de variables"
   ]
  },
  {
   "cell_type": "code",
   "execution_count": 401,
   "metadata": {
    "collapsed": false,
    "scrolled": true
   },
   "outputs": [
    {
     "data": {
      "text/html": [
       "<div>\n",
       "<table border=\"1\" class=\"dataframe\">\n",
       "  <thead>\n",
       "    <tr>\n",
       "      <th>site</th>\n",
       "      <th colspan=\"6\" halign=\"left\">Craiglist</th>\n",
       "      <th colspan=\"6\" halign=\"left\">Le Bon coin</th>\n",
       "    </tr>\n",
       "    <tr>\n",
       "      <th>Type</th>\n",
       "      <th colspan=\"2\" halign=\"left\">both</th>\n",
       "      <th colspan=\"2\" halign=\"left\">milk</th>\n",
       "      <th colspan=\"2\" halign=\"left\">water</th>\n",
       "      <th colspan=\"2\" halign=\"left\">both</th>\n",
       "      <th colspan=\"2\" halign=\"left\">milk</th>\n",
       "      <th colspan=\"2\" halign=\"left\">water</th>\n",
       "    </tr>\n",
       "    <tr>\n",
       "      <th>benefits</th>\n",
       "      <th>Non</th>\n",
       "      <th>Oui</th>\n",
       "      <th>Non</th>\n",
       "      <th>Oui</th>\n",
       "      <th>Non</th>\n",
       "      <th>Oui</th>\n",
       "      <th>Non</th>\n",
       "      <th>Oui</th>\n",
       "      <th>Non</th>\n",
       "      <th>Oui</th>\n",
       "      <th>Non</th>\n",
       "      <th>Oui</th>\n",
       "    </tr>\n",
       "    <tr>\n",
       "      <th>transaction</th>\n",
       "      <th></th>\n",
       "      <th></th>\n",
       "      <th></th>\n",
       "      <th></th>\n",
       "      <th></th>\n",
       "      <th></th>\n",
       "      <th></th>\n",
       "      <th></th>\n",
       "      <th></th>\n",
       "      <th></th>\n",
       "      <th></th>\n",
       "      <th></th>\n",
       "    </tr>\n",
       "  </thead>\n",
       "  <tbody>\n",
       "    <tr>\n",
       "      <th>Na</th>\n",
       "      <td>0</td>\n",
       "      <td>0</td>\n",
       "      <td>1</td>\n",
       "      <td>0</td>\n",
       "      <td>0</td>\n",
       "      <td>0</td>\n",
       "      <td>0</td>\n",
       "      <td>0</td>\n",
       "      <td>0</td>\n",
       "      <td>0</td>\n",
       "      <td>0</td>\n",
       "      <td>0</td>\n",
       "    </tr>\n",
       "    <tr>\n",
       "      <th>ask</th>\n",
       "      <td>5</td>\n",
       "      <td>0</td>\n",
       "      <td>4</td>\n",
       "      <td>0</td>\n",
       "      <td>1</td>\n",
       "      <td>0</td>\n",
       "      <td>0</td>\n",
       "      <td>0</td>\n",
       "      <td>0</td>\n",
       "      <td>0</td>\n",
       "      <td>0</td>\n",
       "      <td>0</td>\n",
       "    </tr>\n",
       "    <tr>\n",
       "      <th>exchange</th>\n",
       "      <td>0</td>\n",
       "      <td>0</td>\n",
       "      <td>0</td>\n",
       "      <td>0</td>\n",
       "      <td>0</td>\n",
       "      <td>0</td>\n",
       "      <td>0</td>\n",
       "      <td>0</td>\n",
       "      <td>0</td>\n",
       "      <td>0</td>\n",
       "      <td>6</td>\n",
       "      <td>1</td>\n",
       "    </tr>\n",
       "    <tr>\n",
       "      <th>give</th>\n",
       "      <td>2</td>\n",
       "      <td>0</td>\n",
       "      <td>11</td>\n",
       "      <td>6</td>\n",
       "      <td>4</td>\n",
       "      <td>1</td>\n",
       "      <td>1</td>\n",
       "      <td>1</td>\n",
       "      <td>2</td>\n",
       "      <td>3</td>\n",
       "      <td>61</td>\n",
       "      <td>14</td>\n",
       "    </tr>\n",
       "    <tr>\n",
       "      <th>search</th>\n",
       "      <td>0</td>\n",
       "      <td>0</td>\n",
       "      <td>0</td>\n",
       "      <td>1</td>\n",
       "      <td>0</td>\n",
       "      <td>1</td>\n",
       "      <td>0</td>\n",
       "      <td>0</td>\n",
       "      <td>1</td>\n",
       "      <td>0</td>\n",
       "      <td>1</td>\n",
       "      <td>0</td>\n",
       "    </tr>\n",
       "    <tr>\n",
       "      <th>sell</th>\n",
       "      <td>25</td>\n",
       "      <td>25</td>\n",
       "      <td>73</td>\n",
       "      <td>68</td>\n",
       "      <td>25</td>\n",
       "      <td>17</td>\n",
       "      <td>4</td>\n",
       "      <td>1</td>\n",
       "      <td>3</td>\n",
       "      <td>12</td>\n",
       "      <td>40</td>\n",
       "      <td>38</td>\n",
       "    </tr>\n",
       "  </tbody>\n",
       "</table>\n",
       "</div>"
      ],
      "text/plain": [
       "site        Craiglist                        Le Bon coin                     \\\n",
       "Type             both     milk     water            both     milk     water   \n",
       "benefits          Non Oui  Non Oui   Non Oui         Non Oui  Non Oui   Non   \n",
       "transaction                                                                   \n",
       "Na                  0   0    1   0     0   0           0   0    0   0     0   \n",
       "ask                 5   0    4   0     1   0           0   0    0   0     0   \n",
       "exchange            0   0    0   0     0   0           0   0    0   0     6   \n",
       "give                2   0   11   6     4   1           1   1    2   3    61   \n",
       "search              0   0    0   1     0   1           0   0    1   0     1   \n",
       "sell               25  25   73  68    25  17           4   1    3  12    40   \n",
       "\n",
       "site             \n",
       "Type             \n",
       "benefits    Oui  \n",
       "transaction      \n",
       "Na            0  \n",
       "ask           0  \n",
       "exchange      1  \n",
       "give         14  \n",
       "search        0  \n",
       "sell         38  "
      ]
     },
     "execution_count": 401,
     "metadata": {},
     "output_type": "execute_result"
    }
   ],
   "source": [
    "pd.crosstab(data.transaction,[data.site,data.Type,data.benefits])"
   ]
  },
  {
   "cell_type": "markdown",
   "metadata": {},
   "source": [
    "Tabeau croisé (en pourcentage) de la relation entre la mention de bénéfice et le type de transaction"
   ]
  },
  {
   "cell_type": "code",
   "execution_count": 405,
   "metadata": {
    "collapsed": false,
    "scrolled": true
   },
   "outputs": [
    {
     "data": {
      "text/html": [
       "<div>\n",
       "<table border=\"1\" class=\"dataframe\">\n",
       "  <thead>\n",
       "    <tr style=\"text-align: right;\">\n",
       "      <th>benefits</th>\n",
       "      <th>Non</th>\n",
       "      <th>Oui</th>\n",
       "    </tr>\n",
       "    <tr>\n",
       "      <th>transaction</th>\n",
       "      <th></th>\n",
       "      <th></th>\n",
       "    </tr>\n",
       "  </thead>\n",
       "  <tbody>\n",
       "    <tr>\n",
       "      <th>Na</th>\n",
       "      <td>100</td>\n",
       "      <td>0</td>\n",
       "    </tr>\n",
       "    <tr>\n",
       "      <th>ask</th>\n",
       "      <td>100</td>\n",
       "      <td>0</td>\n",
       "    </tr>\n",
       "    <tr>\n",
       "      <th>exchange</th>\n",
       "      <td>86</td>\n",
       "      <td>14</td>\n",
       "    </tr>\n",
       "    <tr>\n",
       "      <th>give</th>\n",
       "      <td>76</td>\n",
       "      <td>24</td>\n",
       "    </tr>\n",
       "    <tr>\n",
       "      <th>search</th>\n",
       "      <td>50</td>\n",
       "      <td>50</td>\n",
       "    </tr>\n",
       "    <tr>\n",
       "      <th>sell</th>\n",
       "      <td>53</td>\n",
       "      <td>47</td>\n",
       "    </tr>\n",
       "  </tbody>\n",
       "</table>\n",
       "</div>"
      ],
      "text/plain": [
       "benefits     Non  Oui\n",
       "transaction          \n",
       "Na           100    0\n",
       "ask          100    0\n",
       "exchange      86   14\n",
       "give          76   24\n",
       "search        50   50\n",
       "sell          53   47"
      ]
     },
     "execution_count": 405,
     "metadata": {},
     "output_type": "execute_result"
    }
   ],
   "source": [
    "pd.crosstab(data.transaction,data.benefits).apply(lambda r: (100.0*r/r.sum()).apply(round), axis=1)"
   ]
  },
  {
   "cell_type": "markdown",
   "metadata": {},
   "source": [
    "Tableau croisé sur les bénéfices/produit/site"
   ]
  },
  {
   "cell_type": "code",
   "execution_count": 412,
   "metadata": {
    "collapsed": false
   },
   "outputs": [
    {
     "data": {
      "text/html": [
       "<div>\n",
       "<table border=\"1\" class=\"dataframe\">\n",
       "  <thead>\n",
       "    <tr>\n",
       "      <th>site</th>\n",
       "      <th colspan=\"2\" halign=\"left\">Craiglist</th>\n",
       "      <th colspan=\"2\" halign=\"left\">Le Bon coin</th>\n",
       "    </tr>\n",
       "    <tr>\n",
       "      <th>benefits</th>\n",
       "      <th>Non</th>\n",
       "      <th>Oui</th>\n",
       "      <th>Non</th>\n",
       "      <th>Oui</th>\n",
       "    </tr>\n",
       "    <tr>\n",
       "      <th>Produit</th>\n",
       "      <th></th>\n",
       "      <th></th>\n",
       "      <th></th>\n",
       "      <th></th>\n",
       "    </tr>\n",
       "  </thead>\n",
       "  <tbody>\n",
       "    <tr>\n",
       "      <th>Faible</th>\n",
       "      <td>111</td>\n",
       "      <td>16</td>\n",
       "      <td>95</td>\n",
       "      <td>11</td>\n",
       "    </tr>\n",
       "    <tr>\n",
       "      <th>Forte</th>\n",
       "      <td>23</td>\n",
       "      <td>60</td>\n",
       "      <td>6</td>\n",
       "      <td>29</td>\n",
       "    </tr>\n",
       "    <tr>\n",
       "      <th>Moyenne</th>\n",
       "      <td>85</td>\n",
       "      <td>98</td>\n",
       "      <td>24</td>\n",
       "      <td>31</td>\n",
       "    </tr>\n",
       "  </tbody>\n",
       "</table>\n",
       "</div>"
      ],
      "text/plain": [
       "site     Craiglist     Le Bon coin    \n",
       "benefits       Non Oui         Non Oui\n",
       "Produit                               \n",
       "Faible         111  16          95  11\n",
       "Forte           23  60           6  29\n",
       "Moyenne         85  98          24  31"
      ]
     },
     "execution_count": 412,
     "metadata": {},
     "output_type": "execute_result"
    }
   ],
   "source": [
    "pd.crosstab(data.Produit,[data.site,data.benefits])"
   ]
  },
  {
   "cell_type": "code",
   "execution_count": 415,
   "metadata": {
    "collapsed": false
   },
   "outputs": [
    {
     "name": "stdout",
     "output_type": "stream",
     "text": [
      "Test du chi2 (157.51409222927418, 6.2553189895874582e-35, 2, array([[ 136.08149406,   96.91850594],\n",
      "       [  68.91680815,   49.08319185],\n",
      "       [ 139.00169779,   98.99830221]]))\n"
     ]
    },
    {
     "data": {
      "text/html": [
       "<div>\n",
       "<table border=\"1\" class=\"dataframe\">\n",
       "  <thead>\n",
       "    <tr style=\"text-align: right;\">\n",
       "      <th>benefits</th>\n",
       "      <th>Non</th>\n",
       "      <th>Oui</th>\n",
       "    </tr>\n",
       "    <tr>\n",
       "      <th>Produit</th>\n",
       "      <th></th>\n",
       "      <th></th>\n",
       "    </tr>\n",
       "  </thead>\n",
       "  <tbody>\n",
       "    <tr>\n",
       "      <th>Faible</th>\n",
       "      <td>206</td>\n",
       "      <td>27</td>\n",
       "    </tr>\n",
       "    <tr>\n",
       "      <th>Forte</th>\n",
       "      <td>29</td>\n",
       "      <td>89</td>\n",
       "    </tr>\n",
       "    <tr>\n",
       "      <th>Moyenne</th>\n",
       "      <td>109</td>\n",
       "      <td>129</td>\n",
       "    </tr>\n",
       "  </tbody>\n",
       "</table>\n",
       "</div>"
      ],
      "text/plain": [
       "benefits  Non  Oui\n",
       "Produit           \n",
       "Faible    206   27\n",
       "Forte      29   89\n",
       "Moyenne   109  129"
      ]
     },
     "execution_count": 415,
     "metadata": {},
     "output_type": "execute_result"
    }
   ],
   "source": [
    "a = pd.crosstab(data.Produit,data.benefits)\n",
    "print(\"Test du chi2\",scipy.stats.chi2_contingency(a))\n",
    "a"
   ]
  }
 ],
 "metadata": {
  "kernelspec": {
   "display_name": "Python 3",
   "language": "python",
   "name": "python3"
  },
  "language_info": {
   "codemirror_mode": {
    "name": "ipython",
    "version": 3
   },
   "file_extension": ".py",
   "mimetype": "text/x-python",
   "name": "python",
   "nbconvert_exporter": "python",
   "pygments_lexer": "ipython3",
   "version": "3.4.4"
  }
 },
 "nbformat": 4,
 "nbformat_minor": 0
}
