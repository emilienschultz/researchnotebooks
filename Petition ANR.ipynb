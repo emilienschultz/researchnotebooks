{
 "cells": [
  {
   "cell_type": "code",
   "execution_count": 1,
   "metadata": {
    "collapsed": true
   },
   "outputs": [],
   "source": [
    "import requests\n",
    "import bs4\n",
    "import pandas as pd\n",
    "import os\n",
    "import re\n",
    "import json\n",
    "from datetime import datetime\n",
    "import numpy as np\n",
    "%matplotlib inline\n",
    "import matplotlib.pyplot as plt"
   ]
  },
  {
   "cell_type": "markdown",
   "metadata": {},
   "source": [
    "## Analyse des répondants à la pétition adressée à l'ANR"
   ]
  },
  {
   "cell_type": "markdown",
   "metadata": {},
   "source": [
    "### Récupération des données"
   ]
  },
  {
   "cell_type": "markdown",
   "metadata": {},
   "source": [
    "Récupération du nombre de signataires"
   ]
  },
  {
   "cell_type": "code",
   "execution_count": 3,
   "metadata": {
    "collapsed": false
   },
   "outputs": [
    {
     "name": "stdout",
     "output_type": "stream",
     "text": [
      "3943 signataires\n"
     ]
    }
   ],
   "source": [
    "url = \"http://www.petitions24.net/signatures/anr__la_recherche_publique_francaise_asphyxiee/\"\n",
    "data = bs4.BeautifulSoup(requests.get(url).content)\n",
    "data = data.find(\"b\",{\"class\":\"signatureAmount\"})\n",
    "N = int(data.text.replace(\" \",\"\"))\n",
    "print(N,\"signataires\")"
   ]
  },
  {
   "cell_type": "markdown",
   "metadata": {},
   "source": [
    "Récupération de la liste des noms"
   ]
  },
  {
   "cell_type": "code",
   "execution_count": null,
   "metadata": {
    "collapsed": false,
    "scrolled": true
   },
   "outputs": [],
   "source": [
    "petition = []\n",
    "pages = range(0,int(N/10))\n",
    "for p in pages:\n",
    "    url = \"http://www.petitions24.net/signatures/anr__la_recherche_publique_francaise_asphyxiee/start/\"+str(p*10)\n",
    "    data = bs4.BeautifulSoup(requests.get(url).content)\n",
    "    data = data.findAll(\"tr\",{\"class\":[\"even\",\"odd\"]})\n",
    "    data = [[u.text.replace(\"   \",\"\") for u in i.findAll(\"td\")] for i in data]\n",
    "    print(\"page :\",p,\"nombre :\",len(data))\n",
    "    petition = petition + data"
   ]
  },
  {
   "cell_type": "markdown",
   "metadata": {},
   "source": [
    "(Remarque : l'indice des signataires est plus grand que leur effectif -> ça correspond effectivement à ce qui est présent sur le site)"
   ]
  },
  {
   "cell_type": "code",
   "execution_count": 5,
   "metadata": {
    "collapsed": false
   },
   "outputs": [
    {
     "name": "stdout",
     "output_type": "stream",
     "text": [
      "Il y a 580 anonymes\n"
     ]
    }
   ],
   "source": [
    "anonymes = len([i for i in petition if len(i)<=3])\n",
    "print(\"Il y a\",anonymes,\"anonymes\")"
   ]
  },
  {
   "cell_type": "markdown",
   "metadata": {},
   "source": [
    "Passage de la liste en DataFrame pandas des signataires non anonymes et sauvegarde"
   ]
  },
  {
   "cell_type": "code",
   "execution_count": 6,
   "metadata": {
    "collapsed": false
   },
   "outputs": [],
   "source": [
    "petition = pd.DataFrame([i for i in petition if len(i)>3])\n",
    "petition.columns = [\"Id\",\"Nom\",\"Ville\",\"Statut\",\"Organisme\",\"Date\",\"Signatures\"]\n",
    "petition.set_index(\"Id\")\n",
    "petition[\"Date\"] = pd.to_datetime(petition[\"Date\"])\n",
    "petition[\"Signatures\"] = pd.Series(np.ones(len(petition[\"Date\"])))\n",
    "petition.to_csv(\"petition.csv\")"
   ]
  },
  {
   "cell_type": "code",
   "execution_count": 23,
   "metadata": {
    "collapsed": false
   },
   "outputs": [
    {
     "data": {
      "text/html": [
       "<div>\n",
       "<table border=\"1\" class=\"dataframe\">\n",
       "  <thead>\n",
       "    <tr style=\"text-align: right;\">\n",
       "      <th></th>\n",
       "      <th>Id</th>\n",
       "      <th>Nom</th>\n",
       "      <th>Ville</th>\n",
       "      <th>Statut</th>\n",
       "      <th>Organisme</th>\n",
       "      <th>Date</th>\n",
       "      <th>Signatures</th>\n",
       "      <th></th>\n",
       "    </tr>\n",
       "  </thead>\n",
       "  <tbody>\n",
       "    <tr>\n",
       "      <th>0</th>\n",
       "      <td>1</td>\n",
       "      <td>Martine Pastuglia</td>\n",
       "      <td>Versailles</td>\n",
       "      <td>Chercheur</td>\n",
       "      <td>INRA</td>\n",
       "      <td>2016-01-04 12:23:00</td>\n",
       "      <td>1</td>\n",
       "      <td>1</td>\n",
       "    </tr>\n",
       "    <tr>\n",
       "      <th>1</th>\n",
       "      <td>2</td>\n",
       "      <td>Mathilde Grelon</td>\n",
       "      <td>Versailles</td>\n",
       "      <td>Chercheur</td>\n",
       "      <td>INRA</td>\n",
       "      <td>2016-01-04 12:32:00</td>\n",
       "      <td>1</td>\n",
       "      <td>1</td>\n",
       "    </tr>\n",
       "    <tr>\n",
       "      <th>2</th>\n",
       "      <td>3</td>\n",
       "      <td>Christine MEZARD</td>\n",
       "      <td>Versailles</td>\n",
       "      <td>Directeur de Recherche</td>\n",
       "      <td>INRA</td>\n",
       "      <td>2016-01-04 12:44:00</td>\n",
       "      <td>1</td>\n",
       "      <td>1</td>\n",
       "    </tr>\n",
       "    <tr>\n",
       "      <th>3</th>\n",
       "      <td>4</td>\n",
       "      <td>Mathilde Fagard</td>\n",
       "      <td>Versailles</td>\n",
       "      <td>Directrice de Recherche</td>\n",
       "      <td>INRA</td>\n",
       "      <td>2016-01-04 16:14:00</td>\n",
       "      <td>1</td>\n",
       "      <td>1</td>\n",
       "    </tr>\n",
       "    <tr>\n",
       "      <th>4</th>\n",
       "      <td>5</td>\n",
       "      <td>Céline Masclaux Daubresse</td>\n",
       "      <td>Versailles</td>\n",
       "      <td>Chercheur</td>\n",
       "      <td>INRA</td>\n",
       "      <td>2016-01-04 16:20:00</td>\n",
       "      <td>1</td>\n",
       "      <td>1</td>\n",
       "    </tr>\n",
       "  </tbody>\n",
       "</table>\n",
       "</div>"
      ],
      "text/plain": [
       "  Id                        Nom       Ville                   Statut  \\\n",
       "0  1          Martine Pastuglia  Versailles                Chercheur   \n",
       "1  2            Mathilde Grelon  Versailles                Chercheur   \n",
       "2  3           Christine MEZARD  Versailles   Directeur de Recherche   \n",
       "3  4            Mathilde Fagard  Versailles  Directrice de Recherche   \n",
       "4  5  Céline Masclaux Daubresse  Versailles                Chercheur   \n",
       "\n",
       "  Organisme                Date  Signatures     \n",
       "0      INRA 2016-01-04 12:23:00           1  1  \n",
       "1      INRA 2016-01-04 12:32:00           1  1  \n",
       "2      INRA 2016-01-04 12:44:00           1  1  \n",
       "3      INRA 2016-01-04 16:14:00           1  1  \n",
       "4      INRA 2016-01-04 16:20:00           1  1  "
      ]
     },
     "execution_count": 23,
     "metadata": {},
     "output_type": "execute_result"
    }
   ],
   "source": [
    "petition[0:5]"
   ]
  },
  {
   "cell_type": "markdown",
   "metadata": {},
   "source": [
    "## Evolution dans le temps"
   ]
  },
  {
   "cell_type": "code",
   "execution_count": 16,
   "metadata": {
    "collapsed": false
   },
   "outputs": [
    {
     "data": {
      "text/plain": [
       "<matplotlib.axes._subplots.AxesSubplot at 0x107ee9da0>"
      ]
     },
     "execution_count": 16,
     "metadata": {},
     "output_type": "execute_result"
    },
    {
     "data": {
      "image/png": "[encoded data removed]",
      "text/plain": [
       "<matplotlib.figure.Figure at 0x10897e5c0>"
      ]
     },
     "metadata": {},
     "output_type": "display_data"
    }
   ],
   "source": [
    "pl = petition.reset_index()[[\"Signatures\",\"Date\"]].set_index(\"Date\").resample(\"h\",how=\"sum\").plot()"
   ]
  },
  {
   "cell_type": "markdown",
   "metadata": {},
   "source": [
    "## Recoder les différents champs"
   ]
  },
  {
   "cell_type": "code",
   "execution_count": 41,
   "metadata": {
    "collapsed": true
   },
   "outputs": [],
   "source": [
    "indic = {\n",
    "    \"c\":[\"chercheuse\",\"chercheur\",\"chercheur/euse\"],\n",
    "    \"dr\":[\"directeur de\",\"directrice de\",\"dr \",\"dr2\",\"dr1\",\"dr2\",\"directeur/trice de recherche\"],\n",
    "    \"cr\":[\"chargé de\",\"chargée de\",\"cr1\",\"cr2\",\"chargé(e) de recherche\",\"cr \"],\n",
    "    \"mc\":[\"mcf\",\"mcu\",\"de conférence\",\"de conference\",\"maître(sse) de conférence\",\"mdc\"],\n",
    "    \"pu\":[\"professeur\",\"professeure\",\"professeur(e) des universités\"],\n",
    "    \"i\":[\"ingénieur\",\"ingenieur\"],\n",
    "    \"d\":[\"doctorant\",\"phd\"]\n",
    "}\n",
    "\n",
    "def check(x,l):\n",
    "    for i in l:\n",
    "        if i in x:\n",
    "            return True\n",
    "    return False\n",
    "\n",
    "def recod_statut(x):\n",
    "    x = x.lower()\n",
    "    if x in [\"dr\"] or check(x,indic[\"dr\"]):\n",
    "        return \"directeur/rice de recherche\"\n",
    "    if x in [\"cr\"] or check(x,indic[\"cr\"]):\n",
    "        return \"chargé(e) de recherche\"\n",
    "    if x in [\"mc\"] or check(x,indic[\"mc\"]):\n",
    "        return \"maître(sse) de conférence\"\n",
    "    if  x in [\"pu\",\"pr\"] or check(x,indic[\"pu\"]):\n",
    "        return \"professeur(e) des universités\"\n",
    "    if \"enseignant\" in x and \"chercheur\" in x:\n",
    "        return \"enseignant(e)-chercheur(e)\"\n",
    "    if check(x,indic[\"d\"]):\n",
    "        return \"doctorant(e)\"\n",
    "    if \"post\" in x:\n",
    "        return \"post-doc\"\n",
    "    if x in [\"ir\",\"ie\"] or check(x,indic[\"i\"]):\n",
    "        return \"ingénieur(e)\"\n",
    "    if \"technic\" in x:\n",
    "        return \"technicien(ne)\"\n",
    "    if check(x,indic[\"c\"]):\n",
    "        return \"chercheur(e)\"\n",
    "    return x"
   ]
  },
  {
   "cell_type": "code",
   "execution_count": 42,
   "metadata": {
    "collapsed": false
   },
   "outputs": [
    {
     "data": {
      "text/plain": [
       "<matplotlib.axes._subplots.AxesSubplot at 0x109aa6c50>"
      ]
     },
     "execution_count": 42,
     "metadata": {},
     "output_type": "execute_result"
    },
    {
     "data": {
      "image/png": "[encoded data removed]",
      "text/plain": [
       "<matplotlib.figure.Figure at 0x109aa8438>"
      ]
     },
     "metadata": {},
     "output_type": "display_data"
    }
   ],
   "source": [
    "petition[\"Statut\"].apply(lambda x: recod_statut(x)).value_counts()[0:10].plot(kind=\"bar\")"
   ]
  },
  {
   "cell_type": "code",
   "execution_count": 39,
   "metadata": {
    "collapsed": false
   },
   "outputs": [],
   "source": [
    "indic = {\"un\":[\"université\",\"universite\",\"uni\",\"upmc\",\"lille\",\"lyon 1\",\"amu\",\"uga\",\"toulouse iii\",\"paris-sud\",\"ups\",\"strasbourg\"],\n",
    "         \"mn\":[\"mnhn\",\"naturelle\"],\n",
    "         \"ens\":[\"ens\",\"ecole normal\"]\n",
    "}\n",
    "\n",
    "def recod_statut(x):\n",
    "    x = x.lower()\n",
    "    if \"cnrs\" in x:\n",
    "        return \"cnrs\"\n",
    "    if \"inserm\" in x:\n",
    "        return \"inserm\"\n",
    "    if check(x,indic[\"un\"]):\n",
    "        return \"université\"\n",
    "    if check(x,indic[\"mn\"]):\n",
    "        return \"muséum national d'histoire naturelle \"\n",
    "    if check(x,indic[\"ens\"]):\n",
    "        return \"ens\"\n",
    "    if \"pasteur\" in x:\n",
    "        return \"institut pasteur\"\n",
    "    if \"curie\" in x:\n",
    "        return \"institut curie\"\n",
    "    return x"
   ]
  },
  {
   "cell_type": "code",
   "execution_count": 40,
   "metadata": {
    "collapsed": false
   },
   "outputs": [
    {
     "data": {
      "text/plain": [
       "<matplotlib.axes._subplots.AxesSubplot at 0x109aad400>"
      ]
     },
     "execution_count": 40,
     "metadata": {},
     "output_type": "execute_result"
    },
    {
     "data": {
      "image/png": "[encoded data removed]",
      "text/plain": [
       "<matplotlib.figure.Figure at 0x109aade48>"
      ]
     },
     "metadata": {},
     "output_type": "display_data"
    }
   ],
   "source": [
    "petition[\"Organisme\"].apply(lambda x: recod_statut(x)).value_counts()[0:10].plot(kind=\"bar\")"
   ]
  },
  {
   "cell_type": "code",
   "execution_count": 43,
   "metadata": {
    "collapsed": false
   },
   "outputs": [
    {
     "data": {
      "text/plain": [
       "<matplotlib.axes._subplots.AxesSubplot at 0x109ea36a0>"
      ]
     },
     "execution_count": 43,
     "metadata": {},
     "output_type": "execute_result"
    },
    {
     "data": {
      "image/png": "[encoded data removed]",
      "text/plain": [
       "<matplotlib.figure.Figure at 0x109ea3e80>"
      ]
     },
     "metadata": {},
     "output_type": "display_data"
    }
   ],
   "source": [
    "petition[\"Ville\"].apply(lambda x:x.lower().replace(\" \",\"\").replace(\"-\",\"\")).value_counts()[0:10].plot(kind=\"bar\")"
   ]
  }
 ],
 "metadata": {
  "kernelspec": {
   "display_name": "Python 3",
   "language": "python",
   "name": "python3"
  },
  "language_info": {
   "codemirror_mode": {
    "name": "ipython",
    "version": 3
   },
   "file_extension": ".py",
   "mimetype": "text/x-python",
   "name": "python",
   "nbconvert_exporter": "python",
   "pygments_lexer": "ipython3",
   "version": "3.4.3"
  }
 },
 "nbformat": 4,
 "nbformat_minor": 0
}
