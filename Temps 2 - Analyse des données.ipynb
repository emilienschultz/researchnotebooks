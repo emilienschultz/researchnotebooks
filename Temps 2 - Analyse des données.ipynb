{
 "cells": [
  {
   "cell_type": "markdown",
   "id": "63f18f38",
   "metadata": {
    "slideshow": {
     "slide_type": "slide"
    }
   },
   "source": [
    "# Utiliser Pandas : Enquête sur la science ouverte\n",
    "\n",
    "Reproduction\n",
    "\n",
    "Mariannig Le Béchec - Aline Bouchard - Philippe Charrier - Claire Denecker - Gabriel Gallezot - Stéphanie Rennes\n",
    "\n",
    "- Rapport : https://hal.archives-ouvertes.fr/hal-03545512v1\n",
    "- Données : https://zenodo.org/record/5827206\n"
   ]
  },
  {
   "cell_type": "markdown",
   "id": "d3c49b87",
   "metadata": {
    "slideshow": {
     "slide_type": "-"
    }
   },
   "source": [
    "## Objectifs \n",
    "\n",
    "1. Rendre les données vivantes\n",
    "2. Explorer les données\n",
    "3. Produire de nouveaux traitements (par exemple : qui utilise R & Python)\n",
    "4. Visualiser"
   ]
  },
  {
   "cell_type": "markdown",
   "id": "c03cff98",
   "metadata": {
    "slideshow": {
     "slide_type": "slide"
    }
   },
   "source": [
    "## 1. Rendre les données vivantes"
   ]
  },
  {
   "cell_type": "markdown",
   "id": "6ccbe112",
   "metadata": {},
   "source": [
    "## 1.1 Charger les données\n",
    "\n",
    "Utilisation de la bibliothèque Pandas"
   ]
  },
  {
   "cell_type": "code",
   "execution_count": 3,
   "id": "da394c8c",
   "metadata": {},
   "outputs": [
    {
     "data": {
      "text/html": [
       "<div>\n",
       "<style scoped>\n",
       "    .dataframe tbody tr th:only-of-type {\n",
       "        vertical-align: middle;\n",
       "    }\n",
       "\n",
       "    .dataframe tbody tr th {\n",
       "        vertical-align: top;\n",
       "    }\n",
       "\n",
       "    .dataframe thead th {\n",
       "        text-align: right;\n",
       "    }\n",
       "</style>\n",
       "<table border=\"1\" class=\"dataframe\">\n",
       "  <thead>\n",
       "    <tr style=\"text-align: right;\">\n",
       "      <th></th>\n",
       "      <th>Id</th>\n",
       "      <th>contexte_travail</th>\n",
       "      <th>fonction_recherche</th>\n",
       "      <th>statut_professionnel</th>\n",
       "      <th>statut_professionnel_Autre</th>\n",
       "      <th>annee_premiere_publi</th>\n",
       "      <th>Systeme_exploitation</th>\n",
       "      <th>Usage_telephone_mobile</th>\n",
       "      <th>Outils_gestion_travail_av_confinement_visioconférence</th>\n",
       "      <th>Outils_gestion_travail_av_confinement_planification_RDV</th>\n",
       "      <th>...</th>\n",
       "      <th>Souhait_partage_donnees_produites_discipline</th>\n",
       "      <th>Souhait_partage_donnees_produites_pays_continent</th>\n",
       "      <th>Souhait_partage_donnees_produites_domaine_economique</th>\n",
       "      <th>Souhait_partage_donnees_produites_secteur_associatif</th>\n",
       "      <th>Souhait_partage_donnees_produites_sans_restriction</th>\n",
       "      <th>compatibilite_diffusion_partage</th>\n",
       "      <th>evolutions_pratiques_numeriques</th>\n",
       "      <th>sexe</th>\n",
       "      <th>disciplines_9niv</th>\n",
       "      <th>annee_de_naissance-recod10niv</th>\n",
       "    </tr>\n",
       "  </thead>\n",
       "  <tbody>\n",
       "    <tr>\n",
       "      <th>0</th>\n",
       "      <td>1</td>\n",
       "      <td>nous sommes entre 6 et 10 personnes</td>\n",
       "      <td>professeur / professeure des universités et as...</td>\n",
       "      <td>fonctionnaire ou assimilé</td>\n",
       "      <td>NaN</td>\n",
       "      <td>1995</td>\n",
       "      <td>Windows</td>\n",
       "      <td>rarement</td>\n",
       "      <td>parfois</td>\n",
       "      <td>souvent</td>\n",
       "      <td>...</td>\n",
       "      <td>oui</td>\n",
       "      <td>oui</td>\n",
       "      <td>oui</td>\n",
       "      <td>oui</td>\n",
       "      <td>oui</td>\n",
       "      <td>oui</td>\n",
       "      <td>je ne sais pas</td>\n",
       "      <td>un homme</td>\n",
       "      <td>Sciences humaines</td>\n",
       "      <td>61 à 65 ans</td>\n",
       "    </tr>\n",
       "    <tr>\n",
       "      <th>1</th>\n",
       "      <td>2</td>\n",
       "      <td>nous sommes plus de 50 personnes</td>\n",
       "      <td>ingénieur / ingénieure de recherche</td>\n",
       "      <td>en CDI</td>\n",
       "      <td>NaN</td>\n",
       "      <td>2005</td>\n",
       "      <td>Windows</td>\n",
       "      <td>rarement</td>\n",
       "      <td>parfois</td>\n",
       "      <td>parfois</td>\n",
       "      <td>...</td>\n",
       "      <td>oui</td>\n",
       "      <td>oui</td>\n",
       "      <td>oui</td>\n",
       "      <td>oui</td>\n",
       "      <td>oui</td>\n",
       "      <td>NaN</td>\n",
       "      <td>NaN</td>\n",
       "      <td>un homme</td>\n",
       "      <td>Médecine</td>\n",
       "      <td>46 à 50 ans</td>\n",
       "    </tr>\n",
       "    <tr>\n",
       "      <th>2</th>\n",
       "      <td>3</td>\n",
       "      <td>nous sommes entre 2 et 5 personnes</td>\n",
       "      <td>maître / maîtresse de conférences et assimilés</td>\n",
       "      <td>fonctionnaire ou assimilé</td>\n",
       "      <td>NaN</td>\n",
       "      <td>2006</td>\n",
       "      <td>Windows</td>\n",
       "      <td>parfois</td>\n",
       "      <td>rarement</td>\n",
       "      <td>souvent</td>\n",
       "      <td>...</td>\n",
       "      <td>oui</td>\n",
       "      <td>oui</td>\n",
       "      <td>oui</td>\n",
       "      <td>oui</td>\n",
       "      <td>oui</td>\n",
       "      <td>oui, tout est dans la chronologie</td>\n",
       "      <td>non</td>\n",
       "      <td>un homme</td>\n",
       "      <td>Médecine</td>\n",
       "      <td>36 à 40 ans</td>\n",
       "    </tr>\n",
       "    <tr>\n",
       "      <th>3</th>\n",
       "      <td>4</td>\n",
       "      <td>nous sommes entre 2 et 5 personnes</td>\n",
       "      <td>directeur / directrice de recherche (CNRS, INS...</td>\n",
       "      <td>fonctionnaire ou assimilé</td>\n",
       "      <td>NaN</td>\n",
       "      <td>1989</td>\n",
       "      <td>Windows;autres OS (Android...)</td>\n",
       "      <td>souvent</td>\n",
       "      <td>rarement</td>\n",
       "      <td>souvent</td>\n",
       "      <td>...</td>\n",
       "      <td>oui</td>\n",
       "      <td>oui</td>\n",
       "      <td>non</td>\n",
       "      <td>non</td>\n",
       "      <td>non</td>\n",
       "      <td>Oui</td>\n",
       "      <td>Aucune idée</td>\n",
       "      <td>une femme</td>\n",
       "      <td>Médecine</td>\n",
       "      <td>56 à 60 ans</td>\n",
       "    </tr>\n",
       "    <tr>\n",
       "      <th>4</th>\n",
       "      <td>5</td>\n",
       "      <td>nous sommes entre 2 et 5 personnes</td>\n",
       "      <td>doctorant / doctorante (y compris CIFRE)</td>\n",
       "      <td>en CDD</td>\n",
       "      <td>NaN</td>\n",
       "      <td>2015</td>\n",
       "      <td>MacOS</td>\n",
       "      <td>souvent</td>\n",
       "      <td>rarement</td>\n",
       "      <td>parfois</td>\n",
       "      <td>...</td>\n",
       "      <td>oui</td>\n",
       "      <td>oui</td>\n",
       "      <td>oui</td>\n",
       "      <td>oui</td>\n",
       "      <td>oui</td>\n",
       "      <td>Oui</td>\n",
       "      <td>Oui</td>\n",
       "      <td>une femme</td>\n",
       "      <td>Médecine</td>\n",
       "      <td>31 à 35 ans</td>\n",
       "    </tr>\n",
       "  </tbody>\n",
       "</table>\n",
       "<p>5 rows × 131 columns</p>\n",
       "</div>"
      ],
      "text/plain": [
       "   Id                     contexte_travail  \\\n",
       "0   1  nous sommes entre 6 et 10 personnes   \n",
       "1   2     nous sommes plus de 50 personnes   \n",
       "2   3   nous sommes entre 2 et 5 personnes   \n",
       "3   4   nous sommes entre 2 et 5 personnes   \n",
       "4   5   nous sommes entre 2 et 5 personnes   \n",
       "\n",
       "                                  fonction_recherche  \\\n",
       "0  professeur / professeure des universités et as...   \n",
       "1                ingénieur / ingénieure de recherche   \n",
       "2     maître / maîtresse de conférences et assimilés   \n",
       "3  directeur / directrice de recherche (CNRS, INS...   \n",
       "4           doctorant / doctorante (y compris CIFRE)   \n",
       "\n",
       "        statut_professionnel statut_professionnel_Autre  annee_premiere_publi  \\\n",
       "0  fonctionnaire ou assimilé                        NaN                  1995   \n",
       "1                     en CDI                        NaN                  2005   \n",
       "2  fonctionnaire ou assimilé                        NaN                  2006   \n",
       "3  fonctionnaire ou assimilé                        NaN                  1989   \n",
       "4                     en CDD                        NaN                  2015   \n",
       "\n",
       "             Systeme_exploitation Usage_telephone_mobile  \\\n",
       "0                         Windows               rarement   \n",
       "1                         Windows               rarement   \n",
       "2                         Windows                parfois   \n",
       "3  Windows;autres OS (Android...)                souvent   \n",
       "4                           MacOS                souvent   \n",
       "\n",
       "  Outils_gestion_travail_av_confinement_visioconférence  \\\n",
       "0                                            parfois      \n",
       "1                                            parfois      \n",
       "2                                           rarement      \n",
       "3                                           rarement      \n",
       "4                                           rarement      \n",
       "\n",
       "  Outils_gestion_travail_av_confinement_planification_RDV  ...  \\\n",
       "0                                            souvent       ...   \n",
       "1                                            parfois       ...   \n",
       "2                                            souvent       ...   \n",
       "3                                            souvent       ...   \n",
       "4                                            parfois       ...   \n",
       "\n",
       "  Souhait_partage_donnees_produites_discipline  \\\n",
       "0                                          oui   \n",
       "1                                          oui   \n",
       "2                                          oui   \n",
       "3                                          oui   \n",
       "4                                          oui   \n",
       "\n",
       "  Souhait_partage_donnees_produites_pays_continent  \\\n",
       "0                                              oui   \n",
       "1                                              oui   \n",
       "2                                              oui   \n",
       "3                                              oui   \n",
       "4                                              oui   \n",
       "\n",
       "  Souhait_partage_donnees_produites_domaine_economique  \\\n",
       "0                                                oui     \n",
       "1                                                oui     \n",
       "2                                                oui     \n",
       "3                                                non     \n",
       "4                                                oui     \n",
       "\n",
       "  Souhait_partage_donnees_produites_secteur_associatif  \\\n",
       "0                                                oui     \n",
       "1                                                oui     \n",
       "2                                                oui     \n",
       "3                                                non     \n",
       "4                                                oui     \n",
       "\n",
       "  Souhait_partage_donnees_produites_sans_restriction  \\\n",
       "0                                                oui   \n",
       "1                                                oui   \n",
       "2                                                oui   \n",
       "3                                                non   \n",
       "4                                                oui   \n",
       "\n",
       "     compatibilite_diffusion_partage evolutions_pratiques_numeriques  \\\n",
       "0                                oui                  je ne sais pas   \n",
       "1                                NaN                             NaN   \n",
       "2  oui, tout est dans la chronologie                             non   \n",
       "3                                Oui                     Aucune idée   \n",
       "4                                Oui                             Oui   \n",
       "\n",
       "        sexe   disciplines_9niv annee_de_naissance-recod10niv  \n",
       "0   un homme  Sciences humaines                   61 à 65 ans  \n",
       "1   un homme           Médecine                   46 à 50 ans  \n",
       "2   un homme           Médecine                   36 à 40 ans  \n",
       "3  une femme           Médecine                   56 à 60 ans  \n",
       "4  une femme           Médecine                   31 à 35 ans  \n",
       "\n",
       "[5 rows x 131 columns]"
      ]
     },
     "execution_count": 3,
     "metadata": {},
     "output_type": "execute_result"
    }
   ],
   "source": [
    "import pandas as pd\n",
    "data = pd.read_csv(\"../data/SOSP_Export_base de données diffusable.csv\")\n",
    "data.head()"
   ]
  },
  {
   "cell_type": "code",
   "execution_count": 1,
   "id": "8176e3fa",
   "metadata": {},
   "outputs": [],
   "source": [
    "#list(data.columns)"
   ]
  },
  {
   "cell_type": "markdown",
   "id": "50ebf065",
   "metadata": {},
   "source": [
    "Il est possible de les regarder par colonne ,par ligne..."
   ]
  },
  {
   "cell_type": "markdown",
   "id": "74416648",
   "metadata": {
    "slideshow": {
     "slide_type": "slide"
    }
   },
   "source": [
    "Pendant que nous y sommes, chargeons les méta-données pour créer un dictionnaire des questions"
   ]
  },
  {
   "cell_type": "code",
   "execution_count": 5,
   "id": "21d51816",
   "metadata": {},
   "outputs": [
    {
     "data": {
      "text/html": [
       "<div>\n",
       "<style scoped>\n",
       "    .dataframe tbody tr th:only-of-type {\n",
       "        vertical-align: middle;\n",
       "    }\n",
       "\n",
       "    .dataframe tbody tr th {\n",
       "        vertical-align: top;\n",
       "    }\n",
       "\n",
       "    .dataframe thead th {\n",
       "        text-align: right;\n",
       "    }\n",
       "</style>\n",
       "<table border=\"1\" class=\"dataframe\">\n",
       "  <thead>\n",
       "    <tr style=\"text-align: right;\">\n",
       "      <th></th>\n",
       "      <th>Titre</th>\n",
       "      <th>Listes des variables avec les questions et modalités associées</th>\n",
       "      <th>Unnamed: 2</th>\n",
       "      <th>Unnamed: 3</th>\n",
       "      <th>Unnamed: 4</th>\n",
       "    </tr>\n",
       "  </thead>\n",
       "  <tbody>\n",
       "    <tr>\n",
       "      <th>31</th>\n",
       "      <td>ID</td>\n",
       "      <td>NaN</td>\n",
       "      <td>NaN</td>\n",
       "      <td>A</td>\n",
       "      <td>Identifiant de l’observé</td>\n",
       "    </tr>\n",
       "    <tr>\n",
       "      <th>32</th>\n",
       "      <td>contexte_travail</td>\n",
       "      <td>Habituellement, pour une opération de recherch...</td>\n",
       "      <td>je travaille seul   nous sommes entre 2 et 5 p...</td>\n",
       "      <td>B</td>\n",
       "      <td>NaN</td>\n",
       "    </tr>\n",
       "    <tr>\n",
       "      <th>33</th>\n",
       "      <td>fonction_recherche</td>\n",
       "      <td>Quelle est votre fonction dans la recherche ?</td>\n",
       "      <td>doctorant / doctorante (y compris CIFRE)   maî...</td>\n",
       "      <td>C</td>\n",
       "      <td>NaN</td>\n",
       "    </tr>\n",
       "    <tr>\n",
       "      <th>34</th>\n",
       "      <td>statut_professionnel</td>\n",
       "      <td>Quel est votre statut professionnel ?</td>\n",
       "      <td>Fonctionnaire ou assimilé en CDD   en CDI   po...</td>\n",
       "      <td>D</td>\n",
       "      <td>NaN</td>\n",
       "    </tr>\n",
       "    <tr>\n",
       "      <th>35</th>\n",
       "      <td>statut_professionnel_autre</td>\n",
       "      <td>Si, autre pouvez-vous préciser ?</td>\n",
       "      <td>Question ouverte</td>\n",
       "      <td>E</td>\n",
       "      <td>NaN</td>\n",
       "    </tr>\n",
       "    <tr>\n",
       "      <th>...</th>\n",
       "      <td>...</td>\n",
       "      <td>...</td>\n",
       "      <td>...</td>\n",
       "      <td>...</td>\n",
       "      <td>...</td>\n",
       "    </tr>\n",
       "    <tr>\n",
       "      <th>157</th>\n",
       "      <td>compatibilite_diffusion_partage\\n</td>\n",
       "      <td>34 - Le partage et la diffusion des données vo...</td>\n",
       "      <td>Question ouverte</td>\n",
       "      <td>DW</td>\n",
       "      <td>mots anonymisés sous forme de XXXXX</td>\n",
       "    </tr>\n",
       "    <tr>\n",
       "      <th>158</th>\n",
       "      <td>evolutions_pratiques_numeriques</td>\n",
       "      <td>35 - Selon vous, vos pratiques numériques vont...</td>\n",
       "      <td>Question ouverte</td>\n",
       "      <td>DX</td>\n",
       "      <td>mots anonymisés sous forme de XXXXX</td>\n",
       "    </tr>\n",
       "    <tr>\n",
       "      <th>159</th>\n",
       "      <td>sexe</td>\n",
       "      <td>Quel est votre genre ?</td>\n",
       "      <td>Une femme Un homme Je ne souhaite pas répondre</td>\n",
       "      <td>DY</td>\n",
       "      <td>NaN</td>\n",
       "    </tr>\n",
       "    <tr>\n",
       "      <th>160</th>\n",
       "      <td>Disciplines_9niv</td>\n",
       "      <td>Quelle est votre discipline principale de rech...</td>\n",
       "      <td>Sciences de l'ingénieur  Sciences humaines\\nSc...</td>\n",
       "      <td>DZ</td>\n",
       "      <td>recodage en 9 disciplines</td>\n",
       "    </tr>\n",
       "    <tr>\n",
       "      <th>161</th>\n",
       "      <td>annee_naissance_recod10niv</td>\n",
       "      <td>Quelle est votre année de naissance ?</td>\n",
       "      <td>Moins de 25 ans  25 à 30 ans 31 à 35 ans\\n36 à...</td>\n",
       "      <td>EA</td>\n",
       "      <td>NaN</td>\n",
       "    </tr>\n",
       "  </tbody>\n",
       "</table>\n",
       "<p>131 rows × 5 columns</p>\n",
       "</div>"
      ],
      "text/plain": [
       "                                 Titre  \\\n",
       "31                                  ID   \n",
       "32                   contexte_travail    \n",
       "33                  fonction_recherche   \n",
       "34                statut_professionnel   \n",
       "35          statut_professionnel_autre   \n",
       "..                                 ...   \n",
       "157  compatibilite_diffusion_partage\\n   \n",
       "158    evolutions_pratiques_numeriques   \n",
       "159                               sexe   \n",
       "160                   Disciplines_9niv   \n",
       "161         annee_naissance_recod10niv   \n",
       "\n",
       "    Listes des variables avec les questions et modalités associées  \\\n",
       "31                                                 NaN               \n",
       "32   Habituellement, pour une opération de recherch...               \n",
       "33       Quelle est votre fonction dans la recherche ?               \n",
       "34               Quel est votre statut professionnel ?               \n",
       "35                    Si, autre pouvez-vous préciser ?               \n",
       "..                                                 ...               \n",
       "157  34 - Le partage et la diffusion des données vo...               \n",
       "158  35 - Selon vous, vos pratiques numériques vont...               \n",
       "159                             Quel est votre genre ?               \n",
       "160  Quelle est votre discipline principale de rech...               \n",
       "161              Quelle est votre année de naissance ?               \n",
       "\n",
       "                                            Unnamed: 2 Unnamed: 3  \\\n",
       "31                                                 NaN          A   \n",
       "32   je travaille seul   nous sommes entre 2 et 5 p...          B   \n",
       "33   doctorant / doctorante (y compris CIFRE)   maî...          C   \n",
       "34   Fonctionnaire ou assimilé en CDD   en CDI   po...          D   \n",
       "35                                    Question ouverte          E   \n",
       "..                                                 ...        ...   \n",
       "157                                   Question ouverte         DW   \n",
       "158                                   Question ouverte         DX   \n",
       "159     Une femme Un homme Je ne souhaite pas répondre         DY   \n",
       "160  Sciences de l'ingénieur  Sciences humaines\\nSc...         DZ   \n",
       "161  Moins de 25 ans  25 à 30 ans 31 à 35 ans\\n36 à...         EA   \n",
       "\n",
       "                              Unnamed: 4  \n",
       "31              Identifiant de l’observé  \n",
       "32                                   NaN  \n",
       "33                                   NaN  \n",
       "34                                   NaN  \n",
       "35                                   NaN  \n",
       "..                                   ...  \n",
       "157  mots anonymisés sous forme de XXXXX  \n",
       "158  mots anonymisés sous forme de XXXXX  \n",
       "159                                  NaN  \n",
       "160            recodage en 9 disciplines  \n",
       "161                                  NaN  \n",
       "\n",
       "[131 rows x 5 columns]"
      ]
     },
     "execution_count": 5,
     "metadata": {},
     "output_type": "execute_result"
    }
   ],
   "source": [
    "questions = pd.read_csv(\"../data/SOSP_metadonnees_variables.csv\")\n",
    "questions = questions[31:]\n",
    "dic_questions = dict(questions.set_index(\"Titre\")[\"Listes des variables avec les questions et modalités associées\"])\n",
    "questions"
   ]
  },
  {
   "cell_type": "markdown",
   "id": "6e37ed15",
   "metadata": {
    "slideshow": {
     "slide_type": "slide"
    }
   },
   "source": [
    "## 1.2 Petite exploration des données\n",
    "\n",
    "Un ensemble de fonctions"
   ]
  },
  {
   "cell_type": "code",
   "execution_count": 31,
   "id": "a0855f94",
   "metadata": {},
   "outputs": [
    {
     "data": {
      "text/plain": [
       "array(['un homme', 'une femme', 'je ne souhaite pas répondre'],\n",
       "      dtype=object)"
      ]
     },
     "execution_count": 31,
     "metadata": {},
     "output_type": "execute_result"
    }
   ],
   "source": [
    "data[\"sexe\"].unique()"
   ]
  },
  {
   "cell_type": "code",
   "execution_count": 6,
   "id": "c80e5453",
   "metadata": {},
   "outputs": [
    {
     "data": {
      "text/plain": [
       "un homme                       565\n",
       "une femme                      480\n",
       "je ne souhaite pas répondre     44\n",
       "Name: sexe, dtype: int64"
      ]
     },
     "execution_count": 6,
     "metadata": {},
     "output_type": "execute_result"
    }
   ],
   "source": [
    "data[\"sexe\"].value_counts()"
   ]
  },
  {
   "cell_type": "markdown",
   "id": "dfe086dc",
   "metadata": {
    "slideshow": {
     "slide_type": "slide"
    }
   },
   "source": [
    "Et peut-être aussi des outils plus spécifiques, comme PySHS"
   ]
  },
  {
   "cell_type": "markdown",
   "id": "239bc741",
   "metadata": {},
   "source": [
    "Si on veut faire des pourcentages"
   ]
  },
  {
   "cell_type": "code",
   "execution_count": 7,
   "id": "41eb1883",
   "metadata": {},
   "outputs": [
    {
     "data": {
      "text/plain": [
       "un homme                       0.518825\n",
       "une femme                      0.440771\n",
       "je ne souhaite pas répondre    0.040404\n",
       "Name: sexe, dtype: float64"
      ]
     },
     "execution_count": 7,
     "metadata": {},
     "output_type": "execute_result"
    }
   ],
   "source": [
    "data[\"sexe\"].value_counts()/len(data)"
   ]
  },
  {
   "cell_type": "markdown",
   "id": "ee0390f0",
   "metadata": {},
   "source": [
    "Possibilité de faire des statistiques"
   ]
  },
  {
   "cell_type": "code",
   "execution_count": 33,
   "id": "8299bfa1",
   "metadata": {},
   "outputs": [
    {
     "data": {
      "text/plain": [
       "2004.030303030303"
      ]
     },
     "execution_count": 33,
     "metadata": {},
     "output_type": "execute_result"
    }
   ],
   "source": [
    "data[\"annee_premiere_publi\"].mean()"
   ]
  },
  {
   "cell_type": "code",
   "execution_count": 34,
   "id": "af92fc98",
   "metadata": {},
   "outputs": [
    {
     "data": {
      "text/plain": [
       "count    1089.000000\n",
       "mean     2004.030303\n",
       "std        11.362671\n",
       "min      1968.000000\n",
       "25%      1996.000000\n",
       "50%      2005.000000\n",
       "75%      2014.000000\n",
       "max      2020.000000\n",
       "Name: annee_premiere_publi, dtype: float64"
      ]
     },
     "execution_count": 34,
     "metadata": {},
     "output_type": "execute_result"
    }
   ],
   "source": [
    "data[\"annee_premiere_publi\"].describe()"
   ]
  },
  {
   "cell_type": "markdown",
   "id": "3847d569",
   "metadata": {
    "slideshow": {
     "slide_type": "slide"
    }
   },
   "source": [
    "## 2 Transformer les données pour répondre à une question\n",
    "\n",
    "Avec l'identification de questions, de réflexions, etc.\n",
    "\n",
    "Se concentrer sur un sous-ensembles de questions\n",
    "\n",
    "- fonction_recherche\n",
    "- statut_professionnel / statut_professionnel_Autre\n",
    "- annee_premiere_publi\n",
    "- Systeme_exploitation\n",
    "- 'sexe'\n",
    "- 'disciplines_9niv',\n",
    "- 'annee_de_naissance-recod10niv'\n",
    "\n",
    "Et à formuler des questions :\n",
    "\n",
    "- qui utilise quel système d'exploitation ?\n",
    "- qui utilise Python ou R ?\n",
    "- etc."
   ]
  },
  {
   "cell_type": "markdown",
   "id": "35e2c82b",
   "metadata": {
    "slideshow": {
     "slide_type": "slide"
    }
   },
   "source": [
    "### 2.1 Moment de recodage des variables\n",
    "\n",
    "Il existe plusieurs stratégies de recodage des variables \n",
    "\n",
    "- spécifique : par exemple contains, replace\n",
    "- générique, avec apply\n"
   ]
  },
  {
   "cell_type": "markdown",
   "id": "f99a4e97",
   "metadata": {},
   "source": [
    "Par exemple je veux recoder les statuts"
   ]
  },
  {
   "cell_type": "code",
   "execution_count": 39,
   "id": "cab09bd2",
   "metadata": {},
   "outputs": [
    {
     "data": {
      "text/plain": [
       "array(['professeur / professeure des universités et assimilés',\n",
       "       'ingénieur / ingénieure de recherche',\n",
       "       'maître / maîtresse de conférences et assimilés',\n",
       "       'directeur / directrice de recherche (CNRS, INSERM, INRAE, CNES...)',\n",
       "       'doctorant / doctorante (y compris CIFRE)',\n",
       "       \"ingénieur / ingénieure d'études\",\n",
       "       'chargé / chargée de recherche (CNRS, INSERM, INRAE, CNES...)',\n",
       "       'chercheur / chercheure dans le secteur privé (ingénieur R&D, consultant, expert, chef de projet)',\n",
       "       'responsable de service R&D dans le secteur privé'], dtype=object)"
      ]
     },
     "execution_count": 39,
     "metadata": {},
     "output_type": "execute_result"
    }
   ],
   "source": [
    "data[\"fonction_recherche\"].unique()"
   ]
  },
  {
   "cell_type": "code",
   "execution_count": 44,
   "id": "8453619f",
   "metadata": {},
   "outputs": [],
   "source": [
    "data[\"fonction_recherche\"] = data[\"fonction_recherche\"].replace({'professeur / professeure des universités et assimilés':\"professeur\"})"
   ]
  },
  {
   "cell_type": "markdown",
   "id": "2e40a97a",
   "metadata": {},
   "source": [
    "il est possible d'aller plus loin, et faire les recodages dont on a besoin"
   ]
  },
  {
   "cell_type": "markdown",
   "id": "787c0f30",
   "metadata": {},
   "source": [
    "Un exemple sur les systèmes d'exploitation : toutes les combinaisons ne m'intéressent pas, je veux plutôt : usager Linux, Windows, Mac, et seul ou combinaison. Je vais donc créer une variable par système"
   ]
  },
  {
   "cell_type": "code",
   "execution_count": 63,
   "id": "d0af738d",
   "metadata": {},
   "outputs": [],
   "source": [
    "data[\"OS_windows\"] = data[\"Systeme_exploitation\"].str.contains(\"Windows\")\n",
    "data[\"OS_linux\"] = data[\"Systeme_exploitation\"].str.contains(\"Linux|Unix\")\n",
    "data[\"OS_mac\"] = data[\"Systeme_exploitation\"].str.contains(\"Mac\")\n",
    "data[\"OS_multiples\"] = data[\"Systeme_exploitation\"].str.contains(\";\")"
   ]
  },
  {
   "cell_type": "code",
   "execution_count": 64,
   "id": "20acbef9",
   "metadata": {},
   "outputs": [
    {
     "data": {
      "text/plain": [
       "False    813\n",
       "True     276\n",
       "Name: OS_multiples, dtype: int64"
      ]
     },
     "execution_count": 64,
     "metadata": {},
     "output_type": "execute_result"
    }
   ],
   "source": [
    "data[\"OS_multiples\"].value_counts()"
   ]
  },
  {
   "cell_type": "markdown",
   "id": "3a4b62c6",
   "metadata": {},
   "source": [
    "Si maintenant on veut recoder le nombre d'OS"
   ]
  },
  {
   "cell_type": "code",
   "execution_count": 37,
   "id": "ebe95aa8",
   "metadata": {},
   "outputs": [
    {
     "data": {
      "text/plain": [
       "1    813\n",
       "2    220\n",
       "3     48\n",
       "4      8\n",
       "Name: Systeme_exploitation, dtype: int64"
      ]
     },
     "execution_count": 37,
     "metadata": {},
     "output_type": "execute_result"
    }
   ],
   "source": [
    "def count_os(x):\n",
    "    return x.count(\";\")+1\n",
    "data[\"Systeme_exploitation\"].apply(count_os).value_counts()"
   ]
  },
  {
   "cell_type": "markdown",
   "id": "de971c40",
   "metadata": {
    "slideshow": {
     "slide_type": "slide"
    }
   },
   "source": [
    "## 3. Rajouter des dimensions aux données\n",
    "\n"
   ]
  },
  {
   "cell_type": "markdown",
   "id": "69f28311",
   "metadata": {},
   "source": [
    "Se concentrer sur les champs explicites d'un logiciel qui désigne le processus de travail\n",
    "\n",
    "- logiciel_production_donnees\n",
    "- outils_nettoyage\n",
    "- Outils_analyses\n",
    "- Outils_visualisation\n",
    "\n",
    "(remarque en passant -> le nom des variables pourrait être mieux normalisé)"
   ]
  },
  {
   "cell_type": "markdown",
   "id": "4bba3c67",
   "metadata": {},
   "source": [
    "Opérations  que nous souhaitons faire\n",
    "\n",
    "1. Regrouper les champs\n",
    "2. Détecter la présence\n",
    "\n",
    "Faire une analyse des principales réponses et construire une heuristique de détection : facile pour Python ou Excel, difficile pour R..."
   ]
  },
  {
   "cell_type": "code",
   "execution_count": 40,
   "id": "eb95cd0d",
   "metadata": {
    "slideshow": {
     "slide_type": "slide"
    }
   },
   "outputs": [],
   "source": [
    "# Définir les colonnes concernées\n",
    "var = [\"logiciel_production_donnees\",\"outils_nettoyage\",\"Outils_analyses\",\"Outils_visualisation\"]\n",
    "\n",
    "#Regrouper toutes les informations dans un seul champ\n",
    "data[\"outils\"] = data.apply(lambda x : \" \".join([x[i] for i in var if pd.notnull(x[i])]),axis=1)\n",
    "data[\"outils\"] = data[\"outils\"].apply(lambda x : x if x!=\"\" else None)"
   ]
  },
  {
   "cell_type": "markdown",
   "id": "9521a5a1",
   "metadata": {},
   "source": [
    "Dire un mot sur la compréhension de liste"
   ]
  },
  {
   "cell_type": "code",
   "execution_count": 41,
   "id": "f9266676",
   "metadata": {},
   "outputs": [
    {
     "data": {
      "text/plain": [
       "Word                                                                                                                          13\n",
       "Aucun                                                                                                                          6\n",
       "word                                                                                                                           5\n",
       "latex                                                                                                                          4\n",
       "Excel                                                                                                                          4\n",
       "                                                                                                                              ..\n",
       "word, excel, filmaker, qgis, photoscan                                                                                         1\n",
       "J'utilise mes propres codes.\\nParfois octave ou matlab. Mes propres codes\\ngawk Mes propres outils. gnuplot\\nxgraph\\nxgobi     1\n",
       "Surtout Excel XLstat, outils maison Excel                                                                                      1\n",
       "word, illustrator, exel CCleaner                                                                                               1\n",
       "R, Excel R, MPlus, Stata, SAS, Excel R                                                                                         1\n",
       "Name: outils, Length: 1044, dtype: int64"
      ]
     },
     "execution_count": 41,
     "metadata": {},
     "output_type": "execute_result"
    }
   ],
   "source": [
    "data[\"outils\"].value_counts()"
   ]
  },
  {
   "cell_type": "markdown",
   "id": "a2611ad5",
   "metadata": {
    "slideshow": {
     "slide_type": "slide"
    }
   },
   "source": [
    "Définition d'heuristiques de détection (à améliorer potentiellement) pour détecter la présence : c'est la cuisine... et il vaut mieux connaître ses données pour cela"
   ]
  },
  {
   "cell_type": "code",
   "execution_count": 42,
   "id": "75b3f59e",
   "metadata": {},
   "outputs": [],
   "source": [
    "data[\"outils_R\"] = data[\"outils\"].str.contains(\"R,| R|R |\\nR|R | r | r,|,r \")\n",
    "data[\"outils_Python\"] = data[\"outils\"].str.lower().str.contains(\"python|pyton\")\n",
    "data[\"outils_Excel\"] = data[\"outils\"].str.lower().str.contains(\"excel|exel\")\n",
    "data[\"outils_Word\"] = data[\"outils\"].str.lower().str.contains(\"word\")\n",
    "data[\"outils_Matlab\"] = data[\"outils\"].str.lower().str.contains(\"matlab\")"
   ]
  },
  {
   "cell_type": "code",
   "execution_count": 43,
   "id": "33d72677",
   "metadata": {},
   "outputs": [
    {
     "data": {
      "text/plain": [
       "<AxesSubplot:title={'center':'Usage Excel'}>"
      ]
     },
     "execution_count": 43,
     "metadata": {},
     "output_type": "execute_result"
    },
    {
     "data": {
      "image/png": "[encoded data removed]",
      "text/plain": [
       "<Figure size 432x288 with 1 Axes>"
      ]
     },
     "metadata": {
      "needs_background": "light"
     },
     "output_type": "display_data"
    }
   ],
   "source": [
    "data[\"outils_Excel\"].value_counts().plot(kind=\"bar\",title=\"Usage Excel\")"
   ]
  },
  {
   "cell_type": "markdown",
   "id": "d5b663c8",
   "metadata": {},
   "source": [
    "### Utilisation de bibliothèques tests / mise en forme"
   ]
  },
  {
   "cell_type": "markdown",
   "id": "cdc99375",
   "metadata": {},
   "source": [
    "Création d'un tableau exploratoire"
   ]
  },
  {
   "cell_type": "code",
   "execution_count": 111,
   "id": "faab8de7",
   "metadata": {},
   "outputs": [
    {
     "data": {
      "text/html": [
       "<div>\n",
       "<style scoped>\n",
       "    .dataframe tbody tr th:only-of-type {\n",
       "        vertical-align: middle;\n",
       "    }\n",
       "\n",
       "    .dataframe tbody tr th {\n",
       "        vertical-align: top;\n",
       "    }\n",
       "\n",
       "    .dataframe thead th {\n",
       "        text-align: right;\n",
       "    }\n",
       "</style>\n",
       "<table border=\"1\" class=\"dataframe\">\n",
       "  <thead>\n",
       "    <tr style=\"text-align: right;\">\n",
       "      <th></th>\n",
       "      <th>Effectif</th>\n",
       "      <th>Pourcentage (%)</th>\n",
       "    </tr>\n",
       "  </thead>\n",
       "  <tbody>\n",
       "    <tr>\n",
       "      <th>False</th>\n",
       "      <td>815.0</td>\n",
       "      <td>75.0</td>\n",
       "    </tr>\n",
       "    <tr>\n",
       "      <th>True</th>\n",
       "      <td>272.0</td>\n",
       "      <td>25.0</td>\n",
       "    </tr>\n",
       "    <tr>\n",
       "      <th>Total</th>\n",
       "      <td>1087.0</td>\n",
       "      <td>100.0</td>\n",
       "    </tr>\n",
       "  </tbody>\n",
       "</table>\n",
       "</div>"
      ],
      "text/plain": [
       "       Effectif  Pourcentage (%)\n",
       "False     815.0             75.0\n",
       "True      272.0             25.0\n",
       "Total    1087.0            100.0"
      ]
     },
     "execution_count": 111,
     "metadata": {},
     "output_type": "execute_result"
    }
   ],
   "source": [
    "pyshs.tri_a_plat(data,\"outils_R\")"
   ]
  },
  {
   "cell_type": "markdown",
   "id": "886682e3",
   "metadata": {},
   "source": [
    "Faire un test"
   ]
  },
  {
   "cell_type": "code",
   "execution_count": 45,
   "id": "6d37c399",
   "metadata": {},
   "outputs": [],
   "source": [
    "from scipy.stats import chi2_contingency"
   ]
  },
  {
   "cell_type": "code",
   "execution_count": 48,
   "id": "7589e596",
   "metadata": {},
   "outputs": [
    {
     "data": {
      "text/html": [
       "<div>\n",
       "<style scoped>\n",
       "    .dataframe tbody tr th:only-of-type {\n",
       "        vertical-align: middle;\n",
       "    }\n",
       "\n",
       "    .dataframe tbody tr th {\n",
       "        vertical-align: top;\n",
       "    }\n",
       "\n",
       "    .dataframe thead th {\n",
       "        text-align: right;\n",
       "    }\n",
       "</style>\n",
       "<table border=\"1\" class=\"dataframe\">\n",
       "  <thead>\n",
       "    <tr style=\"text-align: right;\">\n",
       "      <th>outils_R</th>\n",
       "      <th>False</th>\n",
       "      <th>True</th>\n",
       "    </tr>\n",
       "    <tr>\n",
       "      <th>outils_Python</th>\n",
       "      <th></th>\n",
       "      <th></th>\n",
       "    </tr>\n",
       "  </thead>\n",
       "  <tbody>\n",
       "    <tr>\n",
       "      <th>False</th>\n",
       "      <td>693</td>\n",
       "      <td>226</td>\n",
       "    </tr>\n",
       "    <tr>\n",
       "      <th>True</th>\n",
       "      <td>122</td>\n",
       "      <td>46</td>\n",
       "    </tr>\n",
       "  </tbody>\n",
       "</table>\n",
       "</div>"
      ],
      "text/plain": [
       "outils_R       False  True\n",
       "outils_Python             \n",
       "False            693   226\n",
       "True             122    46"
      ]
     },
     "execution_count": 48,
     "metadata": {},
     "output_type": "execute_result"
    }
   ],
   "source": [
    "tab = pd.crosstab(data[\"outils_Python\"],data[\"outils_R\"])\n",
    "tab"
   ]
  },
  {
   "cell_type": "code",
   "execution_count": 49,
   "id": "8b8c5194",
   "metadata": {},
   "outputs": [
    {
     "data": {
      "text/plain": [
       "Chi2ContingencyResult(statistic=0.44960512742154546, pvalue=0.5025225327085595, dof=1, expected_freq=array([[689.03863845, 229.96136155],\n",
       "       [125.96136155,  42.03863845]]))"
      ]
     },
     "execution_count": 49,
     "metadata": {},
     "output_type": "execute_result"
    }
   ],
   "source": [
    "chi2_contingency(tab)"
   ]
  },
  {
   "cell_type": "markdown",
   "id": "1e643c9d",
   "metadata": {},
   "source": [
    "Des sorties un peu brutes"
   ]
  },
  {
   "cell_type": "markdown",
   "id": "71bc0ab4",
   "metadata": {
    "slideshow": {
     "slide_type": "slide"
    }
   },
   "source": [
    "### Tableaux un peu plus finalisés"
   ]
  },
  {
   "cell_type": "code",
   "execution_count": 115,
   "id": "ef9a15ff",
   "metadata": {
    "scrolled": true
   },
   "outputs": [
    {
     "data": {
      "text/html": [
       "<div>\n",
       "<style scoped>\n",
       "    .dataframe tbody tr th:only-of-type {\n",
       "        vertical-align: middle;\n",
       "    }\n",
       "\n",
       "    .dataframe tbody tr th {\n",
       "        vertical-align: top;\n",
       "    }\n",
       "\n",
       "    .dataframe thead tr th {\n",
       "        text-align: left;\n",
       "    }\n",
       "</style>\n",
       "<table border=\"1\" class=\"dataframe\">\n",
       "  <thead>\n",
       "    <tr>\n",
       "      <th></th>\n",
       "      <th colspan=\"2\" halign=\"left\">Excel</th>\n",
       "      <th colspan=\"2\" halign=\"left\">R</th>\n",
       "      <th colspan=\"2\" halign=\"left\">Python</th>\n",
       "      <th colspan=\"2\" halign=\"left\">Matlab</th>\n",
       "    </tr>\n",
       "    <tr>\n",
       "      <th></th>\n",
       "      <th>Effectif</th>\n",
       "      <th>Pourcentage (%)</th>\n",
       "      <th>Effectif</th>\n",
       "      <th>Pourcentage (%)</th>\n",
       "      <th>Effectif</th>\n",
       "      <th>Pourcentage (%)</th>\n",
       "      <th>Effectif</th>\n",
       "      <th>Pourcentage (%)</th>\n",
       "    </tr>\n",
       "  </thead>\n",
       "  <tbody>\n",
       "    <tr>\n",
       "      <th>False</th>\n",
       "      <td>730.0</td>\n",
       "      <td>67.2</td>\n",
       "      <td>815.0</td>\n",
       "      <td>75.0</td>\n",
       "      <td>919.0</td>\n",
       "      <td>84.5</td>\n",
       "      <td>973.0</td>\n",
       "      <td>89.5</td>\n",
       "    </tr>\n",
       "    <tr>\n",
       "      <th>True</th>\n",
       "      <td>357.0</td>\n",
       "      <td>32.8</td>\n",
       "      <td>272.0</td>\n",
       "      <td>25.0</td>\n",
       "      <td>168.0</td>\n",
       "      <td>15.5</td>\n",
       "      <td>114.0</td>\n",
       "      <td>10.5</td>\n",
       "    </tr>\n",
       "    <tr>\n",
       "      <th>Total</th>\n",
       "      <td>1087.0</td>\n",
       "      <td>100.0</td>\n",
       "      <td>1087.0</td>\n",
       "      <td>100.0</td>\n",
       "      <td>1087.0</td>\n",
       "      <td>100.0</td>\n",
       "      <td>1087.0</td>\n",
       "      <td>100.0</td>\n",
       "    </tr>\n",
       "  </tbody>\n",
       "</table>\n",
       "</div>"
      ],
      "text/plain": [
       "         Excel                        R                   Python  \\\n",
       "      Effectif Pourcentage (%) Effectif Pourcentage (%) Effectif   \n",
       "False    730.0            67.2    815.0            75.0    919.0   \n",
       "True     357.0            32.8    272.0            25.0    168.0   \n",
       "Total   1087.0           100.0   1087.0           100.0   1087.0   \n",
       "\n",
       "                        Matlab                  \n",
       "      Pourcentage (%) Effectif Pourcentage (%)  \n",
       "False            84.5    973.0            89.5  \n",
       "True             15.5    114.0            10.5  \n",
       "Total           100.0   1087.0           100.0  "
      ]
     },
     "execution_count": 115,
     "metadata": {},
     "output_type": "execute_result"
    }
   ],
   "source": [
    "outils = {\n",
    "\"Excel\":pyshs.tri_a_plat(data,\"outils_Excel\"),\n",
    "\"R\":pyshs.tri_a_plat(data,\"outils_R\"),\n",
    "\"Python\":pyshs.tri_a_plat(data,\"outils_Python\"),\n",
    "\"Matlab\":pyshs.tri_a_plat(data,\"outils_Matlab\"), \n",
    "         }\n",
    "\n",
    "tab = pd.concat(outils,axis=1)\n",
    "tab"
   ]
  },
  {
   "cell_type": "markdown",
   "id": "f741fd0e",
   "metadata": {
    "slideshow": {
     "slide_type": "slide"
    }
   },
   "source": [
    "Tableau croisé"
   ]
  },
  {
   "cell_type": "code",
   "execution_count": 119,
   "id": "2452ff6b",
   "metadata": {},
   "outputs": [
    {
     "data": {
      "text/html": [
       "<div>\n",
       "<style scoped>\n",
       "    .dataframe tbody tr th:only-of-type {\n",
       "        vertical-align: middle;\n",
       "    }\n",
       "\n",
       "    .dataframe tbody tr th {\n",
       "        vertical-align: top;\n",
       "    }\n",
       "\n",
       "    .dataframe thead th {\n",
       "        text-align: right;\n",
       "    }\n",
       "</style>\n",
       "<table border=\"1\" class=\"dataframe\">\n",
       "  <thead>\n",
       "    <tr style=\"text-align: right;\">\n",
       "      <th></th>\n",
       "      <th>False</th>\n",
       "      <th>True</th>\n",
       "      <th>Total</th>\n",
       "    </tr>\n",
       "  </thead>\n",
       "  <tbody>\n",
       "    <tr>\n",
       "      <th>Chimie, Matériaux</th>\n",
       "      <td>55 (93.2%)</td>\n",
       "      <td>4 (6.8%)</td>\n",
       "      <td>59 (100%)</td>\n",
       "    </tr>\n",
       "    <tr>\n",
       "      <th>Lettres et Arts</th>\n",
       "      <td>54 (93.1%)</td>\n",
       "      <td>4 (6.9%)</td>\n",
       "      <td>58 (100%)</td>\n",
       "    </tr>\n",
       "    <tr>\n",
       "      <th>Mathématiques, Informatiques</th>\n",
       "      <td>94 (68.1%)</td>\n",
       "      <td>44 (31.9%)</td>\n",
       "      <td>138 (100%)</td>\n",
       "    </tr>\n",
       "    <tr>\n",
       "      <th>Médecine</th>\n",
       "      <td>48 (88.9%)</td>\n",
       "      <td>6 (11.1%)</td>\n",
       "      <td>54 (100%)</td>\n",
       "    </tr>\n",
       "    <tr>\n",
       "      <th>Physique, Sciences de la terre et de l'Univers</th>\n",
       "      <td>60 (58.3%)</td>\n",
       "      <td>43 (41.7%)</td>\n",
       "      <td>103 (100%)</td>\n",
       "    </tr>\n",
       "    <tr>\n",
       "      <th>Science de l'ingénieur</th>\n",
       "      <td>59 (64.8%)</td>\n",
       "      <td>32 (35.2%)</td>\n",
       "      <td>91 (100%)</td>\n",
       "    </tr>\n",
       "    <tr>\n",
       "      <th>Sciences du vivant</th>\n",
       "      <td>125 (90.6%)</td>\n",
       "      <td>13 (9.4%)</td>\n",
       "      <td>138 (100%)</td>\n",
       "    </tr>\n",
       "    <tr>\n",
       "      <th>Sciences humaines</th>\n",
       "      <td>260 (94.9%)</td>\n",
       "      <td>14 (5.1%)</td>\n",
       "      <td>274 (100%)</td>\n",
       "    </tr>\n",
       "    <tr>\n",
       "      <th>Sciences sociales</th>\n",
       "      <td>152 (95.0%)</td>\n",
       "      <td>8 (5.0%)</td>\n",
       "      <td>160 (100%)</td>\n",
       "    </tr>\n",
       "    <tr>\n",
       "      <th>Total</th>\n",
       "      <td>907 (84.4%)</td>\n",
       "      <td>168 (15.6%)</td>\n",
       "      <td>1075 (100%)</td>\n",
       "    </tr>\n",
       "  </tbody>\n",
       "</table>\n",
       "</div>"
      ],
      "text/plain": [
       "                                                      False         True  \\\n",
       "Chimie, Matériaux                                55 (93.2%)     4 (6.8%)   \n",
       "Lettres et Arts                                  54 (93.1%)     4 (6.9%)   \n",
       "Mathématiques, Informatiques                     94 (68.1%)   44 (31.9%)   \n",
       "Médecine                                         48 (88.9%)    6 (11.1%)   \n",
       "Physique, Sciences de la terre et de l'Univers   60 (58.3%)   43 (41.7%)   \n",
       "Science de l'ingénieur                           59 (64.8%)   32 (35.2%)   \n",
       "Sciences du vivant                              125 (90.6%)    13 (9.4%)   \n",
       "Sciences humaines                               260 (94.9%)    14 (5.1%)   \n",
       "Sciences sociales                               152 (95.0%)     8 (5.0%)   \n",
       "Total                                           907 (84.4%)  168 (15.6%)   \n",
       "\n",
       "                                                      Total  \n",
       "Chimie, Matériaux                                 59 (100%)  \n",
       "Lettres et Arts                                   58 (100%)  \n",
       "Mathématiques, Informatiques                     138 (100%)  \n",
       "Médecine                                          54 (100%)  \n",
       "Physique, Sciences de la terre et de l'Univers   103 (100%)  \n",
       "Science de l'ingénieur                            91 (100%)  \n",
       "Sciences du vivant                               138 (100%)  \n",
       "Sciences humaines                                274 (100%)  \n",
       "Sciences sociales                                160 (100%)  \n",
       "Total                                           1075 (100%)  "
      ]
     },
     "execution_count": 119,
     "metadata": {},
     "output_type": "execute_result"
    }
   ],
   "source": [
    "pyshs.tableau_croise(data,\"disciplines_9niv\",\"outils_Python\")"
   ]
  },
  {
   "cell_type": "markdown",
   "id": "1021bc02",
   "metadata": {},
   "source": [
    "### Pandas permet les opérations sur les tableaux (jointures, etc)"
   ]
  },
  {
   "cell_type": "code",
   "execution_count": null,
   "id": "d81dd70d",
   "metadata": {},
   "outputs": [],
   "source": [
    "dic = {'Sciences humaines':\"Faible\", 'Médecine':\"Faible\", 'Mathématiques, Informatiques':\"Fort\",\n",
    "       'Sciences du vivant':\"Moyen\", 'Sciences sociales':\"Faible\", 'Lettres et Arts':\"Faible\",\n",
    "       'Chimie, Matériaux':\"Fort\", \"Science de l'ingénieur\":\"Fort\",\n",
    "       \"Physique, Sciences de la terre et de l'Univers\":\"Fort\"}\n",
    "\n",
    "dic = pd.Series(dic,name=\"Codage\")\n",
    "data = data.join(dic,on=\"disciplines_9niv\")"
   ]
  },
  {
   "cell_type": "markdown",
   "id": "3916655a",
   "metadata": {
    "slideshow": {
     "slide_type": "slide"
    }
   },
   "source": [
    "## 3. Faire un graphique\n"
   ]
  },
  {
   "cell_type": "markdown",
   "id": "35a25ef3",
   "metadata": {},
   "source": [
    "Out of the box"
   ]
  },
  {
   "cell_type": "code",
   "execution_count": 81,
   "id": "e6c68728",
   "metadata": {},
   "outputs": [
    {
     "data": {
      "text/plain": [
       "<AxesSubplot:ylabel='disciplines_9niv'>"
      ]
     },
     "execution_count": 81,
     "metadata": {},
     "output_type": "execute_result"
    },
    {
     "data": {
      "image/png": "[encoded data removed]",
      "text/plain": [
       "<Figure size 432x288 with 1 Axes>"
      ]
     },
     "metadata": {},
     "output_type": "display_data"
    }
   ],
   "source": [
    "data[\"disciplines_9niv\"].value_counts().plot(kind=\"pie\")"
   ]
  },
  {
   "cell_type": "markdown",
   "id": "be7b863f",
   "metadata": {},
   "source": [
    "Un peu mis en forme"
   ]
  },
  {
   "cell_type": "code",
   "execution_count": 80,
   "id": "d2f5c7ff",
   "metadata": {
    "slideshow": {
     "slide_type": "slide"
    }
   },
   "outputs": [
    {
     "data": {
      "image/png": "[encoded data removed]",
      "text/plain": [
       "<Figure size 360x360 with 1 Axes>"
      ]
     },
     "metadata": {},
     "output_type": "display_data"
    }
   ],
   "source": [
    "import matplotlib.pyplot as plt\n",
    "\n",
    "# Définir l'écart entre les parts\n",
    "exp = [0.05] * len(data[\"disciplines_9niv\"].dropna().unique())\n",
    "\n",
    "# Graphique avec options\n",
    "data[\"disciplines_9niv\"].value_counts().plot(kind=\"pie\",\n",
    "                                             cmap=\"viridis\",\n",
    "                                             figsize=(5,5),\n",
    "                                             explode=exp, autopct='%1.1f%%', textprops={'color':\"w\"})\n",
    "# Finaliser et sauvegarder\n",
    "plt.ylabel(\"\")\n",
    "plt.title(\"Une diversité de discipline\")\n",
    "plt.savefig(\"Mon graphique.png\",bbox_inches='tight')"
   ]
  },
  {
   "cell_type": "markdown",
   "id": "732d029c",
   "metadata": {
    "slideshow": {
     "slide_type": "slide"
    }
   },
   "source": [
    "La même en dynamique avec plotly : plus d'options de visualisation, etc."
   ]
  },
  {
   "cell_type": "code",
   "execution_count": 36,
   "id": "e7915517",
   "metadata": {},
   "outputs": [
    {
     "data": {
      "text/html": [
       "        <script type=\"text/javascript\">\n",
       "        window.PlotlyConfig = {MathJaxConfig: 'local'};\n",
       "        if (window.MathJax) {MathJax.Hub.Config({SVG: {font: \"STIX-Web\"}});}\n",
       "        if (typeof require !== 'undefined') {\n",
       "        require.undef(\"plotly\");\n",
       "        requirejs.config({\n",
       "            paths: {\n",
       "                'plotly': ['https://cdn.plot.ly/plotly-2.9.0.min']\n",
       "            }\n",
       "        });\n",
       "        require(['plotly'], function(Plotly) {\n",
       "            window._Plotly = Plotly;\n",
       "        });\n",
       "        }\n",
       "        </script>\n",
       "        "
      ]
     },
     "metadata": {},
     "output_type": "display_data"
    },
    {
     "data": {
      "application/vnd.plotly.v1+json": {
       "config": {
        "plotlyServerURL": "https://plot.ly"
       },
       "data": [
        {
         "domain": {
          "x": [
           0,
           1
          ],
          "y": [
           0,
           1
          ]
         },
         "hovertemplate": "index=%{label}<br>disciplines_9niv=%{value}<extra></extra>",
         "labels": [
          "Sciences humaines",
          "Sciences sociales",
          "Mathématiques, Informatiques",
          "Sciences du vivant",
          "Physique, Sciences de la terre et de l'Univers",
          "Science de l'ingénieur",
          "Chimie, Matériaux",
          "Lettres et Arts",
          "Médecine"
         ],
         "legendgroup": "",
         "name": "",
         "showlegend": true,
         "type": "pie",
         "values": [
          274,
          161,
          138,
          138,
          103,
          91,
          59,
          58,
          54
         ]
        }
       ],
       "layout": {
        "font": {
         "color": "blue",
         "family": "Courier New"
        },
        "legend": {
         "tracegroupgap": 0
        },
        "template": {
         "data": {
          "bar": [
           {
            "error_x": {
             "color": "#2a3f5f"
            },
            "error_y": {
             "color": "#2a3f5f"
            },
            "marker": {
             "line": {
              "color": "#E5ECF6",
              "width": 0.5
             },
             "pattern": {
              "fillmode": "overlay",
              "size": 10,
              "solidity": 0.2
             }
            },
            "type": "bar"
           }
          ],
          "barpolar": [
           {
            "marker": {
             "line": {
              "color": "#E5ECF6",
              "width": 0.5
             },
             "pattern": {
              "fillmode": "overlay",
              "size": 10,
              "solidity": 0.2
             }
            },
            "type": "barpolar"
           }
          ],
          "carpet": [
           {
            "aaxis": {
             "endlinecolor": "#2a3f5f",
             "gridcolor": "white",
             "linecolor": "white",
             "minorgridcolor": "white",
             "startlinecolor": "#2a3f5f"
            },
            "baxis": {
             "endlinecolor": "#2a3f5f",
             "gridcolor": "white",
             "linecolor": "white",
             "minorgridcolor": "white",
             "startlinecolor": "#2a3f5f"
            },
            "type": "carpet"
           }
          ],
          "choropleth": [
           {
            "colorbar": {
             "outlinewidth": 0,
             "ticks": ""
            },
            "type": "choropleth"
           }
          ],
          "contour": [
           {
            "colorbar": {
             "outlinewidth": 0,
             "ticks": ""
            },
            "colorscale": [
             [
              0,
              "#0d0887"
             ],
             [
              0.1111111111111111,
              "#46039f"
             ],
             [
              0.2222222222222222,
              "#7201a8"
             ],
             [
              0.3333333333333333,
              "#9c179e"
             ],
             [
              0.4444444444444444,
              "#bd3786"
             ],
             [
              0.5555555555555556,
              "#d8576b"
             ],
             [
              0.6666666666666666,
              "#ed7953"
             ],
             [
              0.7777777777777778,
              "#fb9f3a"
             ],
             [
              0.8888888888888888,
              "#fdca26"
             ],
             [
              1,
              "#f0f921"
             ]
            ],
            "type": "contour"
           }
          ],
          "contourcarpet": [
           {
            "colorbar": {
             "outlinewidth": 0,
             "ticks": ""
            },
            "type": "contourcarpet"
           }
          ],
          "heatmap": [
           {
            "colorbar": {
             "outlinewidth": 0,
             "ticks": ""
            },
            "colorscale": [
             [
              0,
              "#0d0887"
             ],
             [
              0.1111111111111111,
              "#46039f"
             ],
             [
              0.2222222222222222,
              "#7201a8"
             ],
             [
              0.3333333333333333,
              "#9c179e"
             ],
             [
              0.4444444444444444,
              "#bd3786"
             ],
             [
              0.5555555555555556,
              "#d8576b"
             ],
             [
              0.6666666666666666,
              "#ed7953"
             ],
             [
              0.7777777777777778,
              "#fb9f3a"
             ],
             [
              0.8888888888888888,
              "#fdca26"
             ],
             [
              1,
              "#f0f921"
             ]
            ],
            "type": "heatmap"
           }
          ],
          "heatmapgl": [
           {
            "colorbar": {
             "outlinewidth": 0,
             "ticks": ""
            },
            "colorscale": [
             [
              0,
              "#0d0887"
             ],
             [
              0.1111111111111111,
              "#46039f"
             ],
             [
              0.2222222222222222,
              "#7201a8"
             ],
             [
              0.3333333333333333,
              "#9c179e"
             ],
             [
              0.4444444444444444,
              "#bd3786"
             ],
             [
              0.5555555555555556,
              "#d8576b"
             ],
             [
              0.6666666666666666,
              "#ed7953"
             ],
             [
              0.7777777777777778,
              "#fb9f3a"
             ],
             [
              0.8888888888888888,
              "#fdca26"
             ],
             [
              1,
              "#f0f921"
             ]
            ],
            "type": "heatmapgl"
           }
          ],
          "histogram": [
           {
            "marker": {
             "pattern": {
              "fillmode": "overlay",
              "size": 10,
              "solidity": 0.2
             }
            },
            "type": "histogram"
           }
          ],
          "histogram2d": [
           {
            "colorbar": {
             "outlinewidth": 0,
             "ticks": ""
            },
            "colorscale": [
             [
              0,
              "#0d0887"
             ],
             [
              0.1111111111111111,
              "#46039f"
             ],
             [
              0.2222222222222222,
              "#7201a8"
             ],
             [
              0.3333333333333333,
              "#9c179e"
             ],
             [
              0.4444444444444444,
              "#bd3786"
             ],
             [
              0.5555555555555556,
              "#d8576b"
             ],
             [
              0.6666666666666666,
              "#ed7953"
             ],
             [
              0.7777777777777778,
              "#fb9f3a"
             ],
             [
              0.8888888888888888,
              "#fdca26"
             ],
             [
              1,
              "#f0f921"
             ]
            ],
            "type": "histogram2d"
           }
          ],
          "histogram2dcontour": [
           {
            "colorbar": {
             "outlinewidth": 0,
             "ticks": ""
            },
            "colorscale": [
             [
              0,
              "#0d0887"
             ],
             [
              0.1111111111111111,
              "#46039f"
             ],
             [
              0.2222222222222222,
              "#7201a8"
             ],
             [
              0.3333333333333333,
              "#9c179e"
             ],
             [
              0.4444444444444444,
              "#bd3786"
             ],
             [
              0.5555555555555556,
              "#d8576b"
             ],
             [
              0.6666666666666666,
              "#ed7953"
             ],
             [
              0.7777777777777778,
              "#fb9f3a"
             ],
             [
              0.8888888888888888,
              "#fdca26"
             ],
             [
              1,
              "#f0f921"
             ]
            ],
            "type": "histogram2dcontour"
           }
          ],
          "mesh3d": [
           {
            "colorbar": {
             "outlinewidth": 0,
             "ticks": ""
            },
            "type": "mesh3d"
           }
          ],
          "parcoords": [
           {
            "line": {
             "colorbar": {
              "outlinewidth": 0,
              "ticks": ""
             }
            },
            "type": "parcoords"
           }
          ],
          "pie": [
           {
            "automargin": true,
            "type": "pie"
           }
          ],
          "scatter": [
           {
            "marker": {
             "colorbar": {
              "outlinewidth": 0,
              "ticks": ""
             }
            },
            "type": "scatter"
           }
          ],
          "scatter3d": [
           {
            "line": {
             "colorbar": {
              "outlinewidth": 0,
              "ticks": ""
             }
            },
            "marker": {
             "colorbar": {
              "outlinewidth": 0,
              "ticks": ""
             }
            },
            "type": "scatter3d"
           }
          ],
          "scattercarpet": [
           {
            "marker": {
             "colorbar": {
              "outlinewidth": 0,
              "ticks": ""
             }
            },
            "type": "scattercarpet"
           }
          ],
          "scattergeo": [
           {
            "marker": {
             "colorbar": {
              "outlinewidth": 0,
              "ticks": ""
             }
            },
            "type": "scattergeo"
           }
          ],
          "scattergl": [
           {
            "marker": {
             "colorbar": {
              "outlinewidth": 0,
              "ticks": ""
             }
            },
            "type": "scattergl"
           }
          ],
          "scattermapbox": [
           {
            "marker": {
             "colorbar": {
              "outlinewidth": 0,
              "ticks": ""
             }
            },
            "type": "scattermapbox"
           }
          ],
          "scatterpolar": [
           {
            "marker": {
             "colorbar": {
              "outlinewidth": 0,
              "ticks": ""
             }
            },
            "type": "scatterpolar"
           }
          ],
          "scatterpolargl": [
           {
            "marker": {
             "colorbar": {
              "outlinewidth": 0,
              "ticks": ""
             }
            },
            "type": "scatterpolargl"
           }
          ],
          "scatterternary": [
           {
            "marker": {
             "colorbar": {
              "outlinewidth": 0,
              "ticks": ""
             }
            },
            "type": "scatterternary"
           }
          ],
          "surface": [
           {
            "colorbar": {
             "outlinewidth": 0,
             "ticks": ""
            },
            "colorscale": [
             [
              0,
              "#0d0887"
             ],
             [
              0.1111111111111111,
              "#46039f"
             ],
             [
              0.2222222222222222,
              "#7201a8"
             ],
             [
              0.3333333333333333,
              "#9c179e"
             ],
             [
              0.4444444444444444,
              "#bd3786"
             ],
             [
              0.5555555555555556,
              "#d8576b"
             ],
             [
              0.6666666666666666,
              "#ed7953"
             ],
             [
              0.7777777777777778,
              "#fb9f3a"
             ],
             [
              0.8888888888888888,
              "#fdca26"
             ],
             [
              1,
              "#f0f921"
             ]
            ],
            "type": "surface"
           }
          ],
          "table": [
           {
            "cells": {
             "fill": {
              "color": "#EBF0F8"
             },
             "line": {
              "color": "white"
             }
            },
            "header": {
             "fill": {
              "color": "#C8D4E3"
             },
             "line": {
              "color": "white"
             }
            },
            "type": "table"
           }
          ]
         },
         "layout": {
          "annotationdefaults": {
           "arrowcolor": "#2a3f5f",
           "arrowhead": 0,
           "arrowwidth": 1
          },
          "autotypenumbers": "strict",
          "coloraxis": {
           "colorbar": {
            "outlinewidth": 0,
            "ticks": ""
           }
          },
          "colorscale": {
           "diverging": [
            [
             0,
             "#8e0152"
            ],
            [
             0.1,
             "#c51b7d"
            ],
            [
             0.2,
             "#de77ae"
            ],
            [
             0.3,
             "#f1b6da"
            ],
            [
             0.4,
             "#fde0ef"
            ],
            [
             0.5,
             "#f7f7f7"
            ],
            [
             0.6,
             "#e6f5d0"
            ],
            [
             0.7,
             "#b8e186"
            ],
            [
             0.8,
             "#7fbc41"
            ],
            [
             0.9,
             "#4d9221"
            ],
            [
             1,
             "#276419"
            ]
           ],
           "sequential": [
            [
             0,
             "#0d0887"
            ],
            [
             0.1111111111111111,
             "#46039f"
            ],
            [
             0.2222222222222222,
             "#7201a8"
            ],
            [
             0.3333333333333333,
             "#9c179e"
            ],
            [
             0.4444444444444444,
             "#bd3786"
            ],
            [
             0.5555555555555556,
             "#d8576b"
            ],
            [
             0.6666666666666666,
             "#ed7953"
            ],
            [
             0.7777777777777778,
             "#fb9f3a"
            ],
            [
             0.8888888888888888,
             "#fdca26"
            ],
            [
             1,
             "#f0f921"
            ]
           ],
           "sequentialminus": [
            [
             0,
             "#0d0887"
            ],
            [
             0.1111111111111111,
             "#46039f"
            ],
            [
             0.2222222222222222,
             "#7201a8"
            ],
            [
             0.3333333333333333,
             "#9c179e"
            ],
            [
             0.4444444444444444,
             "#bd3786"
            ],
            [
             0.5555555555555556,
             "#d8576b"
            ],
            [
             0.6666666666666666,
             "#ed7953"
            ],
            [
             0.7777777777777778,
             "#fb9f3a"
            ],
            [
             0.8888888888888888,
             "#fdca26"
            ],
            [
             1,
             "#f0f921"
            ]
           ]
          },
          "colorway": [
           "#636efa",
           "#EF553B",
           "#00cc96",
           "#ab63fa",
           "#FFA15A",
           "#19d3f3",
           "#FF6692",
           "#B6E880",
           "#FF97FF",
           "#FECB52"
          ],
          "font": {
           "color": "#2a3f5f"
          },
          "geo": {
           "bgcolor": "white",
           "lakecolor": "white",
           "landcolor": "#E5ECF6",
           "showlakes": true,
           "showland": true,
           "subunitcolor": "white"
          },
          "hoverlabel": {
           "align": "left"
          },
          "hovermode": "closest",
          "mapbox": {
           "style": "light"
          },
          "paper_bgcolor": "white",
          "plot_bgcolor": "#E5ECF6",
          "polar": {
           "angularaxis": {
            "gridcolor": "white",
            "linecolor": "white",
            "ticks": ""
           },
           "bgcolor": "#E5ECF6",
           "radialaxis": {
            "gridcolor": "white",
            "linecolor": "white",
            "ticks": ""
           }
          },
          "scene": {
           "xaxis": {
            "backgroundcolor": "#E5ECF6",
            "gridcolor": "white",
            "gridwidth": 2,
            "linecolor": "white",
            "showbackground": true,
            "ticks": "",
            "zerolinecolor": "white"
           },
           "yaxis": {
            "backgroundcolor": "#E5ECF6",
            "gridcolor": "white",
            "gridwidth": 2,
            "linecolor": "white",
            "showbackground": true,
            "ticks": "",
            "zerolinecolor": "white"
           },
           "zaxis": {
            "backgroundcolor": "#E5ECF6",
            "gridcolor": "white",
            "gridwidth": 2,
            "linecolor": "white",
            "showbackground": true,
            "ticks": "",
            "zerolinecolor": "white"
           }
          },
          "shapedefaults": {
           "line": {
            "color": "#2a3f5f"
           }
          },
          "ternary": {
           "aaxis": {
            "gridcolor": "white",
            "linecolor": "white",
            "ticks": ""
           },
           "baxis": {
            "gridcolor": "white",
            "linecolor": "white",
            "ticks": ""
           },
           "bgcolor": "#E5ECF6",
           "caxis": {
            "gridcolor": "white",
            "linecolor": "white",
            "ticks": ""
           }
          },
          "title": {
           "x": 0.05
          },
          "xaxis": {
           "automargin": true,
           "gridcolor": "white",
           "linecolor": "white",
           "ticks": "",
           "title": {
            "standoff": 15
           },
           "zerolinecolor": "white",
           "zerolinewidth": 2
          },
          "yaxis": {
           "automargin": true,
           "gridcolor": "white",
           "linecolor": "white",
           "ticks": "",
           "title": {
            "standoff": 15
           },
           "zerolinecolor": "white",
           "zerolinewidth": 2
          }
         }
        },
        "title": {
         "font": {
          "color": "orange",
          "family": "Times New Roman",
          "size": 30
         },
         "text": "Une diversité de discipline"
        }
       }
      },
      "text/html": [
       "<div>                            <div id=\"a6dd3c15-6aa2-423e-9148-4649e4c83b1a\" class=\"plotly-graph-div\" style=\"height:525px; width:100%;\"></div>            <script type=\"text/javascript\">                require([\"plotly\"], function(Plotly) {                    window.PLOTLYENV=window.PLOTLYENV || {};                                    if (document.getElementById(\"a6dd3c15-6aa2-423e-9148-4649e4c83b1a\")) {                    Plotly.newPlot(                        \"a6dd3c15-6aa2-423e-9148-4649e4c83b1a\",                        [{\"domain\":{\"x\":[0.0,1.0],\"y\":[0.0,1.0]},\"hovertemplate\":\"index=%{label}<br>disciplines_9niv=%{value}<extra></extra>\",\"labels\":[\"Sciences humaines\",\"Sciences sociales\",\"Math\\u00e9matiques, Informatiques\",\"Sciences du vivant\",\"Physique, Sciences de la terre et de l'Univers\",\"Science de l'ing\\u00e9nieur\",\"Chimie, Mat\\u00e9riaux\",\"Lettres et Arts\",\"M\\u00e9decine\"],\"legendgroup\":\"\",\"name\":\"\",\"showlegend\":true,\"values\":[274,161,138,138,103,91,59,58,54],\"type\":\"pie\"}],                        {\"template\":{\"data\":{\"bar\":[{\"error_x\":{\"color\":\"#2a3f5f\"},\"error_y\":{\"color\":\"#2a3f5f\"},\"marker\":{\"line\":{\"color\":\"#E5ECF6\",\"width\":0.5},\"pattern\":{\"fillmode\":\"overlay\",\"size\":10,\"solidity\":0.2}},\"type\":\"bar\"}],\"barpolar\":[{\"marker\":{\"line\":{\"color\":\"#E5ECF6\",\"width\":0.5},\"pattern\":{\"fillmode\":\"overlay\",\"size\":10,\"solidity\":0.2}},\"type\":\"barpolar\"}],\"carpet\":[{\"aaxis\":{\"endlinecolor\":\"#2a3f5f\",\"gridcolor\":\"white\",\"linecolor\":\"white\",\"minorgridcolor\":\"white\",\"startlinecolor\":\"#2a3f5f\"},\"baxis\":{\"endlinecolor\":\"#2a3f5f\",\"gridcolor\":\"white\",\"linecolor\":\"white\",\"minorgridcolor\":\"white\",\"startlinecolor\":\"#2a3f5f\"},\"type\":\"carpet\"}],\"choropleth\":[{\"colorbar\":{\"outlinewidth\":0,\"ticks\":\"\"},\"type\":\"choropleth\"}],\"contour\":[{\"colorbar\":{\"outlinewidth\":0,\"ticks\":\"\"},\"colorscale\":[[0.0,\"#0d0887\"],[0.1111111111111111,\"#46039f\"],[0.2222222222222222,\"#7201a8\"],[0.3333333333333333,\"#9c179e\"],[0.4444444444444444,\"#bd3786\"],[0.5555555555555556,\"#d8576b\"],[0.6666666666666666,\"#ed7953\"],[0.7777777777777778,\"#fb9f3a\"],[0.8888888888888888,\"#fdca26\"],[1.0,\"#f0f921\"]],\"type\":\"contour\"}],\"contourcarpet\":[{\"colorbar\":{\"outlinewidth\":0,\"ticks\":\"\"},\"type\":\"contourcarpet\"}],\"heatmap\":[{\"colorbar\":{\"outlinewidth\":0,\"ticks\":\"\"},\"colorscale\":[[0.0,\"#0d0887\"],[0.1111111111111111,\"#46039f\"],[0.2222222222222222,\"#7201a8\"],[0.3333333333333333,\"#9c179e\"],[0.4444444444444444,\"#bd3786\"],[0.5555555555555556,\"#d8576b\"],[0.6666666666666666,\"#ed7953\"],[0.7777777777777778,\"#fb9f3a\"],[0.8888888888888888,\"#fdca26\"],[1.0,\"#f0f921\"]],\"type\":\"heatmap\"}],\"heatmapgl\":[{\"colorbar\":{\"outlinewidth\":0,\"ticks\":\"\"},\"colorscale\":[[0.0,\"#0d0887\"],[0.1111111111111111,\"#46039f\"],[0.2222222222222222,\"#7201a8\"],[0.3333333333333333,\"#9c179e\"],[0.4444444444444444,\"#bd3786\"],[0.5555555555555556,\"#d8576b\"],[0.6666666666666666,\"#ed7953\"],[0.7777777777777778,\"#fb9f3a\"],[0.8888888888888888,\"#fdca26\"],[1.0,\"#f0f921\"]],\"type\":\"heatmapgl\"}],\"histogram\":[{\"marker\":{\"pattern\":{\"fillmode\":\"overlay\",\"size\":10,\"solidity\":0.2}},\"type\":\"histogram\"}],\"histogram2d\":[{\"colorbar\":{\"outlinewidth\":0,\"ticks\":\"\"},\"colorscale\":[[0.0,\"#0d0887\"],[0.1111111111111111,\"#46039f\"],[0.2222222222222222,\"#7201a8\"],[0.3333333333333333,\"#9c179e\"],[0.4444444444444444,\"#bd3786\"],[0.5555555555555556,\"#d8576b\"],[0.6666666666666666,\"#ed7953\"],[0.7777777777777778,\"#fb9f3a\"],[0.8888888888888888,\"#fdca26\"],[1.0,\"#f0f921\"]],\"type\":\"histogram2d\"}],\"histogram2dcontour\":[{\"colorbar\":{\"outlinewidth\":0,\"ticks\":\"\"},\"colorscale\":[[0.0,\"#0d0887\"],[0.1111111111111111,\"#46039f\"],[0.2222222222222222,\"#7201a8\"],[0.3333333333333333,\"#9c179e\"],[0.4444444444444444,\"#bd3786\"],[0.5555555555555556,\"#d8576b\"],[0.6666666666666666,\"#ed7953\"],[0.7777777777777778,\"#fb9f3a\"],[0.8888888888888888,\"#fdca26\"],[1.0,\"#f0f921\"]],\"type\":\"histogram2dcontour\"}],\"mesh3d\":[{\"colorbar\":{\"outlinewidth\":0,\"ticks\":\"\"},\"type\":\"mesh3d\"}],\"parcoords\":[{\"line\":{\"colorbar\":{\"outlinewidth\":0,\"ticks\":\"\"}},\"type\":\"parcoords\"}],\"pie\":[{\"automargin\":true,\"type\":\"pie\"}],\"scatter\":[{\"marker\":{\"colorbar\":{\"outlinewidth\":0,\"ticks\":\"\"}},\"type\":\"scatter\"}],\"scatter3d\":[{\"line\":{\"colorbar\":{\"outlinewidth\":0,\"ticks\":\"\"}},\"marker\":{\"colorbar\":{\"outlinewidth\":0,\"ticks\":\"\"}},\"type\":\"scatter3d\"}],\"scattercarpet\":[{\"marker\":{\"colorbar\":{\"outlinewidth\":0,\"ticks\":\"\"}},\"type\":\"scattercarpet\"}],\"scattergeo\":[{\"marker\":{\"colorbar\":{\"outlinewidth\":0,\"ticks\":\"\"}},\"type\":\"scattergeo\"}],\"scattergl\":[{\"marker\":{\"colorbar\":{\"outlinewidth\":0,\"ticks\":\"\"}},\"type\":\"scattergl\"}],\"scattermapbox\":[{\"marker\":{\"colorbar\":{\"outlinewidth\":0,\"ticks\":\"\"}},\"type\":\"scattermapbox\"}],\"scatterpolar\":[{\"marker\":{\"colorbar\":{\"outlinewidth\":0,\"ticks\":\"\"}},\"type\":\"scatterpolar\"}],\"scatterpolargl\":[{\"marker\":{\"colorbar\":{\"outlinewidth\":0,\"ticks\":\"\"}},\"type\":\"scatterpolargl\"}],\"scatterternary\":[{\"marker\":{\"colorbar\":{\"outlinewidth\":0,\"ticks\":\"\"}},\"type\":\"scatterternary\"}],\"surface\":[{\"colorbar\":{\"outlinewidth\":0,\"ticks\":\"\"},\"colorscale\":[[0.0,\"#0d0887\"],[0.1111111111111111,\"#46039f\"],[0.2222222222222222,\"#7201a8\"],[0.3333333333333333,\"#9c179e\"],[0.4444444444444444,\"#bd3786\"],[0.5555555555555556,\"#d8576b\"],[0.6666666666666666,\"#ed7953\"],[0.7777777777777778,\"#fb9f3a\"],[0.8888888888888888,\"#fdca26\"],[1.0,\"#f0f921\"]],\"type\":\"surface\"}],\"table\":[{\"cells\":{\"fill\":{\"color\":\"#EBF0F8\"},\"line\":{\"color\":\"white\"}},\"header\":{\"fill\":{\"color\":\"#C8D4E3\"},\"line\":{\"color\":\"white\"}},\"type\":\"table\"}]},\"layout\":{\"annotationdefaults\":{\"arrowcolor\":\"#2a3f5f\",\"arrowhead\":0,\"arrowwidth\":1},\"autotypenumbers\":\"strict\",\"coloraxis\":{\"colorbar\":{\"outlinewidth\":0,\"ticks\":\"\"}},\"colorscale\":{\"diverging\":[[0,\"#8e0152\"],[0.1,\"#c51b7d\"],[0.2,\"#de77ae\"],[0.3,\"#f1b6da\"],[0.4,\"#fde0ef\"],[0.5,\"#f7f7f7\"],[0.6,\"#e6f5d0\"],[0.7,\"#b8e186\"],[0.8,\"#7fbc41\"],[0.9,\"#4d9221\"],[1,\"#276419\"]],\"sequential\":[[0.0,\"#0d0887\"],[0.1111111111111111,\"#46039f\"],[0.2222222222222222,\"#7201a8\"],[0.3333333333333333,\"#9c179e\"],[0.4444444444444444,\"#bd3786\"],[0.5555555555555556,\"#d8576b\"],[0.6666666666666666,\"#ed7953\"],[0.7777777777777778,\"#fb9f3a\"],[0.8888888888888888,\"#fdca26\"],[1.0,\"#f0f921\"]],\"sequentialminus\":[[0.0,\"#0d0887\"],[0.1111111111111111,\"#46039f\"],[0.2222222222222222,\"#7201a8\"],[0.3333333333333333,\"#9c179e\"],[0.4444444444444444,\"#bd3786\"],[0.5555555555555556,\"#d8576b\"],[0.6666666666666666,\"#ed7953\"],[0.7777777777777778,\"#fb9f3a\"],[0.8888888888888888,\"#fdca26\"],[1.0,\"#f0f921\"]]},\"colorway\":[\"#636efa\",\"#EF553B\",\"#00cc96\",\"#ab63fa\",\"#FFA15A\",\"#19d3f3\",\"#FF6692\",\"#B6E880\",\"#FF97FF\",\"#FECB52\"],\"font\":{\"color\":\"#2a3f5f\"},\"geo\":{\"bgcolor\":\"white\",\"lakecolor\":\"white\",\"landcolor\":\"#E5ECF6\",\"showlakes\":true,\"showland\":true,\"subunitcolor\":\"white\"},\"hoverlabel\":{\"align\":\"left\"},\"hovermode\":\"closest\",\"mapbox\":{\"style\":\"light\"},\"paper_bgcolor\":\"white\",\"plot_bgcolor\":\"#E5ECF6\",\"polar\":{\"angularaxis\":{\"gridcolor\":\"white\",\"linecolor\":\"white\",\"ticks\":\"\"},\"bgcolor\":\"#E5ECF6\",\"radialaxis\":{\"gridcolor\":\"white\",\"linecolor\":\"white\",\"ticks\":\"\"}},\"scene\":{\"xaxis\":{\"backgroundcolor\":\"#E5ECF6\",\"gridcolor\":\"white\",\"gridwidth\":2,\"linecolor\":\"white\",\"showbackground\":true,\"ticks\":\"\",\"zerolinecolor\":\"white\"},\"yaxis\":{\"backgroundcolor\":\"#E5ECF6\",\"gridcolor\":\"white\",\"gridwidth\":2,\"linecolor\":\"white\",\"showbackground\":true,\"ticks\":\"\",\"zerolinecolor\":\"white\"},\"zaxis\":{\"backgroundcolor\":\"#E5ECF6\",\"gridcolor\":\"white\",\"gridwidth\":2,\"linecolor\":\"white\",\"showbackground\":true,\"ticks\":\"\",\"zerolinecolor\":\"white\"}},\"shapedefaults\":{\"line\":{\"color\":\"#2a3f5f\"}},\"ternary\":{\"aaxis\":{\"gridcolor\":\"white\",\"linecolor\":\"white\",\"ticks\":\"\"},\"baxis\":{\"gridcolor\":\"white\",\"linecolor\":\"white\",\"ticks\":\"\"},\"bgcolor\":\"#E5ECF6\",\"caxis\":{\"gridcolor\":\"white\",\"linecolor\":\"white\",\"ticks\":\"\"}},\"title\":{\"x\":0.05},\"xaxis\":{\"automargin\":true,\"gridcolor\":\"white\",\"linecolor\":\"white\",\"ticks\":\"\",\"title\":{\"standoff\":15},\"zerolinecolor\":\"white\",\"zerolinewidth\":2},\"yaxis\":{\"automargin\":true,\"gridcolor\":\"white\",\"linecolor\":\"white\",\"ticks\":\"\",\"title\":{\"standoff\":15},\"zerolinecolor\":\"white\",\"zerolinewidth\":2}}},\"legend\":{\"tracegroupgap\":0},\"title\":{\"text\":\"Une diversit\\u00e9 de discipline\",\"font\":{\"family\":\"Times New Roman\",\"color\":\"orange\",\"size\":30}},\"font\":{\"family\":\"Courier New\",\"color\":\"blue\"}},                        {\"responsive\": true}                    ).then(function(){\n",
       "                            \n",
       "var gd = document.getElementById('a6dd3c15-6aa2-423e-9148-4649e4c83b1a');\n",
       "var x = new MutationObserver(function (mutations, observer) {{\n",
       "        var display = window.getComputedStyle(gd).display;\n",
       "        if (!display || display === 'none') {{\n",
       "            console.log([gd, 'removed!']);\n",
       "            Plotly.purge(gd);\n",
       "            observer.disconnect();\n",
       "        }}\n",
       "}});\n",
       "\n",
       "// Listen for the removal of the full notebook cells\n",
       "var notebookContainer = gd.closest('#notebook-container');\n",
       "if (notebookContainer) {{\n",
       "    x.observe(notebookContainer, {childList: true});\n",
       "}}\n",
       "\n",
       "// Listen for the clearing of the current output cell\n",
       "var outputEl = gd.closest('.output');\n",
       "if (outputEl) {{\n",
       "    x.observe(outputEl, {childList: true});\n",
       "}}\n",
       "\n",
       "                        })                };                });            </script>        </div>"
      ]
     },
     "metadata": {},
     "output_type": "display_data"
    }
   ],
   "source": [
    "import plotly.express as px\n",
    "\n",
    "# Permettre l'affichage dans les slides\n",
    "import plotly\n",
    "plotly.offline.init_notebook_mode(connected=True)\n",
    "\n",
    "# Afficher et compléter\n",
    "df = pd.DataFrame(data[\"disciplines_9niv\"].value_counts()) # Construction des données\n",
    "fig = px.pie(df,names=df.index,values=\"disciplines_9niv\", title='Une diversité de discipline')\n",
    "fig.update_layout(font_family=\"Courier New\", font_color=\"blue\", title_font_family=\"Times New Roman\",\n",
    "                  title_font_color=\"orange\", title_font_size=30)\n",
    "fig.show()"
   ]
  },
  {
   "cell_type": "markdown",
   "id": "0e70ef83",
   "metadata": {
    "slideshow": {
     "slide_type": "slide"
    }
   },
   "source": [
    "Création d'une autre visualisation"
   ]
  },
  {
   "cell_type": "code",
   "execution_count": 23,
   "id": "3f2e5464",
   "metadata": {},
   "outputs": [
    {
     "data": {
      "image/png": "[encoded data removed]",
      "text/plain": [
       "<Figure size 720x288 with 1 Axes>"
      ]
     },
     "metadata": {
      "needs_background": "light"
     },
     "output_type": "display_data"
    }
   ],
   "source": [
    "pd.crosstab(data[\"outils_Python\"],data[\"disciplines_9niv\"],\n",
    "            normalize=\"columns\").T.plot(kind=\"barh\",figsize=(10,4))\n",
    "\n",
    "# compléter et sauvegarder la figure\n",
    "plt.ylabel(\"\")\n",
    "plt.xlabel(\"Fréquence\")\n",
    "plt.tight_layout()\n",
    "plt.savefig(\"fig.png\",dpi=300)"
   ]
  },
  {
   "cell_type": "markdown",
   "id": "c8d2f6e2",
   "metadata": {
    "slideshow": {
     "slide_type": "slide"
    }
   },
   "source": [
    "#### Visualisation juxtaposée (un peu) finalisée"
   ]
  },
  {
   "cell_type": "markdown",
   "id": "3bfa5204",
   "metadata": {},
   "source": [
    "Produire les données dans un cas"
   ]
  },
  {
   "cell_type": "markdown",
   "id": "f4b174cd",
   "metadata": {},
   "source": [
    "Généraliser avec la grammaire des figures de Matplotlib (grille de figures, etc.)"
   ]
  },
  {
   "cell_type": "code",
   "execution_count": 128,
   "id": "dd52f215",
   "metadata": {
    "slideshow": {
     "slide_type": "subslide"
    }
   },
   "outputs": [
    {
     "data": {
      "image/png": "[encoded data removed]",
      "text/plain": [
       "<Figure size 720x720 with 4 Axes>"
      ]
     },
     "metadata": {
      "needs_background": "light"
     },
     "output_type": "display_data"
    }
   ],
   "source": [
    "info = {\"Python\":\"outils_Python\",\"R\":\"outils_R\",\"Matlab\":\"outils_Matlab\",\"Excel\":\"outils_Excel\"}\n",
    "\n",
    "fig,ax = plt.subplots(2,2,figsize=(10,10),sharey=True,sharex=True)\n",
    "plt.suptitle(\"Usage de langages pour le traitement numérique de données\")\n",
    "\n",
    "for graph,i in zip(ax.flatten(),info):\n",
    "    tab = (100*pd.crosstab(data[info[i]],data[\"disciplines_9niv\"],normalize=\"columns\"))\n",
    "    tab.T.plot(kind=\"barh\",ax=graph, legend=False,color=[\"#005073\",\"#71c7ec\"])\n",
    "    \n",
    "    graph.set_ylabel(\"\")\n",
    "    graph.set_xlabel(\"% répondants\")\n",
    "    graph.set_title(i)\n",
    "\n",
    "# Sauvegarde\n",
    "plt.legend(title='Légende',labels=[\"Faux\",\"Vrai\"], bbox_to_anchor=(1.1, 1), loc='upper left')\n",
    "plt.savefig(\"fig.png\",dpi=300,bbox_inches='tight')"
   ]
  },
  {
   "cell_type": "markdown",
   "id": "14bc512c",
   "metadata": {
    "slideshow": {
     "slide_type": "slide"
    }
   },
   "source": [
    "### 3.2 Allez plus loin\n",
    "\n",
    "\n",
    "#### Modèle : régression logistique\n",
    "\n",
    "Les facteurs qui pèsent sur l'usage de Python"
   ]
  },
  {
   "cell_type": "code",
   "execution_count": 141,
   "id": "bc484f43",
   "metadata": {},
   "outputs": [
    {
     "data": {
      "text/html": [
       "<div>\n",
       "<style scoped>\n",
       "    .dataframe tbody tr th:only-of-type {\n",
       "        vertical-align: middle;\n",
       "    }\n",
       "\n",
       "    .dataframe tbody tr th {\n",
       "        vertical-align: top;\n",
       "    }\n",
       "\n",
       "    .dataframe thead th {\n",
       "        text-align: right;\n",
       "    }\n",
       "</style>\n",
       "<table border=\"1\" class=\"dataframe\">\n",
       "  <thead>\n",
       "    <tr style=\"text-align: right;\">\n",
       "      <th></th>\n",
       "      <th></th>\n",
       "      <th>Odds Ratio</th>\n",
       "      <th>p</th>\n",
       "      <th>IC 95%</th>\n",
       "    </tr>\n",
       "    <tr>\n",
       "      <th>Variable</th>\n",
       "      <th>Modalité</th>\n",
       "      <th></th>\n",
       "      <th></th>\n",
       "      <th></th>\n",
       "    </tr>\n",
       "  </thead>\n",
       "  <tbody>\n",
       "    <tr>\n",
       "      <th>.Intercept</th>\n",
       "      <th></th>\n",
       "      <td>0.09</td>\n",
       "      <td>0.001**</td>\n",
       "      <td>0.09 [0.02-0.36]</td>\n",
       "    </tr>\n",
       "    <tr>\n",
       "      <th rowspan=\"10\" valign=\"top\">Age</th>\n",
       "      <th>25 à 30 ans</th>\n",
       "      <td>ref</td>\n",
       "      <td></td>\n",
       "      <td></td>\n",
       "    </tr>\n",
       "    <tr>\n",
       "      <th>31 à 35 ans</th>\n",
       "      <td>0.87</td>\n",
       "      <td>0.717</td>\n",
       "      <td>0.87 [0.42-1.81]</td>\n",
       "    </tr>\n",
       "    <tr>\n",
       "      <th>36 à 40 ans</th>\n",
       "      <td>1.19</td>\n",
       "      <td>0.6</td>\n",
       "      <td>1.19 [0.62-2.30]</td>\n",
       "    </tr>\n",
       "    <tr>\n",
       "      <th>41 à 45 ans</th>\n",
       "      <td>0.67</td>\n",
       "      <td>0.249</td>\n",
       "      <td>0.67 [0.34-1.32]</td>\n",
       "    </tr>\n",
       "    <tr>\n",
       "      <th>46 à 50 ans</th>\n",
       "      <td>0.59</td>\n",
       "      <td>0.131</td>\n",
       "      <td>0.59 [0.30-1.17]</td>\n",
       "    </tr>\n",
       "    <tr>\n",
       "      <th>51 à 55 ans</th>\n",
       "      <td>0.46</td>\n",
       "      <td>0.051</td>\n",
       "      <td>0.46 [0.21-1.00]</td>\n",
       "    </tr>\n",
       "    <tr>\n",
       "      <th>56 à 60 ans</th>\n",
       "      <td>0.48</td>\n",
       "      <td>0.076</td>\n",
       "      <td>0.48 [0.21-1.08]</td>\n",
       "    </tr>\n",
       "    <tr>\n",
       "      <th>61 à 65 ans</th>\n",
       "      <td>0.14</td>\n",
       "      <td>0.004**</td>\n",
       "      <td>0.14 [0.04-0.54]</td>\n",
       "    </tr>\n",
       "    <tr>\n",
       "      <th>66 ans et plus</th>\n",
       "      <td>0.24</td>\n",
       "      <td>0.083</td>\n",
       "      <td>0.24 [0.05-1.20]</td>\n",
       "    </tr>\n",
       "    <tr>\n",
       "      <th>moins de 25 ans</th>\n",
       "      <td>1.01</td>\n",
       "      <td>0.986</td>\n",
       "      <td>1.01 [0.36-2.81]</td>\n",
       "    </tr>\n",
       "    <tr>\n",
       "      <th rowspan=\"9\" valign=\"top\">Discipline</th>\n",
       "      <th>Chimie, Matériaux</th>\n",
       "      <td>ref</td>\n",
       "      <td></td>\n",
       "      <td></td>\n",
       "    </tr>\n",
       "    <tr>\n",
       "      <th>Lettres et Arts</th>\n",
       "      <td>1.14</td>\n",
       "      <td>0.857</td>\n",
       "      <td>1.14 [0.27-4.88]</td>\n",
       "    </tr>\n",
       "    <tr>\n",
       "      <th>Mathématiques, Informatiques</th>\n",
       "      <td>7.17</td>\n",
       "      <td>0.0***</td>\n",
       "      <td>7.17 [2.41-21.34]</td>\n",
       "    </tr>\n",
       "    <tr>\n",
       "      <th>Médecine</th>\n",
       "      <td>1.73</td>\n",
       "      <td>0.424</td>\n",
       "      <td>1.73 [0.45-6.60]</td>\n",
       "    </tr>\n",
       "    <tr>\n",
       "      <th>Physique, Sciences de la terre et de l'Univers</th>\n",
       "      <td>12.39</td>\n",
       "      <td>0.0***</td>\n",
       "      <td>12.39 [4.09-37.55]</td>\n",
       "    </tr>\n",
       "    <tr>\n",
       "      <th>Science de l'ingénieur</th>\n",
       "      <td>7.7</td>\n",
       "      <td>0.0***</td>\n",
       "      <td>7.70 [2.52-23.51]</td>\n",
       "    </tr>\n",
       "    <tr>\n",
       "      <th>Sciences du vivant</th>\n",
       "      <td>1.66</td>\n",
       "      <td>0.402</td>\n",
       "      <td>1.66 [0.51-5.37]</td>\n",
       "    </tr>\n",
       "    <tr>\n",
       "      <th>Sciences humaines</th>\n",
       "      <td>0.79</td>\n",
       "      <td>0.686</td>\n",
       "      <td>0.79 [0.25-2.51]</td>\n",
       "    </tr>\n",
       "    <tr>\n",
       "      <th>Sciences sociales</th>\n",
       "      <td>0.71</td>\n",
       "      <td>0.589</td>\n",
       "      <td>0.71 [0.20-2.47]</td>\n",
       "    </tr>\n",
       "    <tr>\n",
       "      <th rowspan=\"3\" valign=\"top\">Genre</th>\n",
       "      <th>je ne souhaite pas répondre</th>\n",
       "      <td>ref</td>\n",
       "      <td></td>\n",
       "      <td></td>\n",
       "    </tr>\n",
       "    <tr>\n",
       "      <th>un homme</th>\n",
       "      <td>1.01</td>\n",
       "      <td>0.988</td>\n",
       "      <td>1.01 [0.37-2.71]</td>\n",
       "    </tr>\n",
       "    <tr>\n",
       "      <th>une femme</th>\n",
       "      <td>1.28</td>\n",
       "      <td>0.627</td>\n",
       "      <td>1.28 [0.48-3.43]</td>\n",
       "    </tr>\n",
       "  </tbody>\n",
       "</table>\n",
       "</div>"
      ],
      "text/plain": [
       "                                                          Odds Ratio        p  \\\n",
       "Variable   Modalité                                                             \n",
       ".Intercept                                                      0.09  0.001**   \n",
       "Age        25 à 30 ans                                           ref            \n",
       "           31 à 35 ans                                          0.87    0.717   \n",
       "           36 à 40 ans                                          1.19      0.6   \n",
       "           41 à 45 ans                                          0.67    0.249   \n",
       "           46 à 50 ans                                          0.59    0.131   \n",
       "           51 à 55 ans                                          0.46    0.051   \n",
       "           56 à 60 ans                                          0.48    0.076   \n",
       "           61 à 65 ans                                          0.14  0.004**   \n",
       "           66 ans et plus                                       0.24    0.083   \n",
       "           moins de 25 ans                                      1.01    0.986   \n",
       "Discipline Chimie, Matériaux                                     ref            \n",
       "           Lettres et Arts                                      1.14    0.857   \n",
       "           Mathématiques, Informatiques                         7.17   0.0***   \n",
       "           Médecine                                             1.73    0.424   \n",
       "           Physique, Sciences de la terre et de l'Univers      12.39   0.0***   \n",
       "           Science de l'ingénieur                                7.7   0.0***   \n",
       "           Sciences du vivant                                   1.66    0.402   \n",
       "           Sciences humaines                                    0.79    0.686   \n",
       "           Sciences sociales                                    0.71    0.589   \n",
       "Genre      je ne souhaite pas répondre                           ref            \n",
       "           un homme                                             1.01    0.988   \n",
       "           une femme                                            1.28    0.627   \n",
       "\n",
       "                                                                       IC 95%  \n",
       "Variable   Modalité                                                            \n",
       ".Intercept                                                   0.09 [0.02-0.36]  \n",
       "Age        25 à 30 ans                                                         \n",
       "           31 à 35 ans                                       0.87 [0.42-1.81]  \n",
       "           36 à 40 ans                                       1.19 [0.62-2.30]  \n",
       "           41 à 45 ans                                       0.67 [0.34-1.32]  \n",
       "           46 à 50 ans                                       0.59 [0.30-1.17]  \n",
       "           51 à 55 ans                                       0.46 [0.21-1.00]  \n",
       "           56 à 60 ans                                       0.48 [0.21-1.08]  \n",
       "           61 à 65 ans                                       0.14 [0.04-0.54]  \n",
       "           66 ans et plus                                    0.24 [0.05-1.20]  \n",
       "           moins de 25 ans                                   1.01 [0.36-2.81]  \n",
       "Discipline Chimie, Matériaux                                                   \n",
       "           Lettres et Arts                                   1.14 [0.27-4.88]  \n",
       "           Mathématiques, Informatiques                     7.17 [2.41-21.34]  \n",
       "           Médecine                                          1.73 [0.45-6.60]  \n",
       "           Physique, Sciences de la terre et de l'Univers  12.39 [4.09-37.55]  \n",
       "           Science de l'ingénieur                           7.70 [2.52-23.51]  \n",
       "           Sciences du vivant                                1.66 [0.51-5.37]  \n",
       "           Sciences humaines                                 0.79 [0.25-2.51]  \n",
       "           Sciences sociales                                 0.71 [0.20-2.47]  \n",
       "Genre      je ne souhaite pas répondre                                         \n",
       "           un homme                                          1.01 [0.37-2.71]  \n",
       "           une femme                                         1.28 [0.48-3.43]  "
      ]
     },
     "execution_count": 141,
     "metadata": {},
     "output_type": "execute_result"
    }
   ],
   "source": [
    "# Création d'une variable indicatrice 0/1\n",
    "data[\"outils_Python_B\"] = data[\"outils_Python\"].replace({True:1,False:0}).fillna(0)\n",
    "\n",
    "# Mettre en forme les données pour éviter certains formats qui font des bugs\n",
    "data[\"annee\"] = data[\"annee_de_naissance-recod10niv\"]\n",
    "\n",
    "# Définition des variables indépendantes\n",
    "var_ind = {\"sexe\":\"Genre\",\"disciplines_9niv\":\"Discipline\",\"annee\":\"Age\"}\n",
    "\n",
    "# Calculer le modèle\n",
    "pyshs.regression_logistique(data,\"outils_Python_B\",var_ind)"
   ]
  }
 ],
 "metadata": {
  "celltoolbar": "Format de la Cellule Texte Brut",
  "kernelspec": {
   "display_name": "Python 3 (ipykernel)",
   "language": "python",
   "name": "python3"
  },
  "language_info": {
   "codemirror_mode": {
    "name": "ipython",
    "version": 3
   },
   "file_extension": ".py",
   "mimetype": "text/x-python",
   "name": "python",
   "nbconvert_exporter": "python",
   "pygments_lexer": "ipython3",
   "version": "3.9.12"
  }
 },
 "nbformat": 4,
 "nbformat_minor": 5
}
