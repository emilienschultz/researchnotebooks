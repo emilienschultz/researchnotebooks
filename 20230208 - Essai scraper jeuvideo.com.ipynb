{
 "cells": [
  {
   "cell_type": "code",
   "execution_count": 22,
   "id": "57d4f064",
   "metadata": {},
   "outputs": [],
   "source": [
    "import bs4\n",
    "import requests\n",
    "import pandas as pd"
   ]
  },
  {
   "cell_type": "markdown",
   "id": "4c0efed9",
   "metadata": {},
   "source": [
    "Exemple de lien"
   ]
  },
  {
   "cell_type": "code",
   "execution_count": 7,
   "id": "b98a9c7e",
   "metadata": {},
   "outputs": [],
   "source": [
    "url = \"https://www.jeuxvideo.com/forums/0-51-0-1-0-1-0-blabla-18-25-ans.htm\""
   ]
  },
  {
   "cell_type": "markdown",
   "id": "23458595",
   "metadata": {},
   "source": [
    "Récupérer la page"
   ]
  },
  {
   "cell_type": "code",
   "execution_count": 10,
   "id": "3a4f97e4",
   "metadata": {},
   "outputs": [],
   "source": [
    "page = requests.get(url)"
   ]
  },
  {
   "cell_type": "code",
   "execution_count": 13,
   "id": "b98383f6",
   "metadata": {},
   "outputs": [],
   "source": [
    "page = bs4.BeautifulSoup(page.content)"
   ]
  },
  {
   "cell_type": "markdown",
   "id": "b6a40056",
   "metadata": {},
   "source": [
    "Récupérer les liens"
   ]
  },
  {
   "cell_type": "code",
   "execution_count": 15,
   "id": "656de47a",
   "metadata": {},
   "outputs": [],
   "source": [
    "a = page.find_all(\"a\",{\"class\":\"topic-title\"})"
   ]
  },
  {
   "cell_type": "code",
   "execution_count": 18,
   "id": "2f794122",
   "metadata": {
    "scrolled": true
   },
   "outputs": [
    {
     "data": {
      "text/plain": [
       "25"
      ]
     },
     "execution_count": 18,
     "metadata": {},
     "output_type": "execute_result"
    }
   ],
   "source": [
    "len(a)"
   ]
  },
  {
   "cell_type": "markdown",
   "id": "b4e4a91d",
   "metadata": {},
   "source": [
    "Mise sous forme d'un tableau Pandas"
   ]
  },
  {
   "cell_type": "code",
   "execution_count": 26,
   "id": "9c7aa3c1",
   "metadata": {},
   "outputs": [],
   "source": [
    "tableau = pd.DataFrame([(i.text,i[\"href\"]) for i in a],columns=[\"Titre\",\"Lien\"]) #.to_csv(\"tableau.csv\")"
   ]
  },
  {
   "cell_type": "code",
   "execution_count": 29,
   "id": "9a8f5c3e",
   "metadata": {},
   "outputs": [
    {
     "data": {
      "text/plain": [
       "pandas.core.frame.DataFrame"
      ]
     },
     "execution_count": 29,
     "metadata": {},
     "output_type": "execute_result"
    }
   ],
   "source": [
    "type(tableau)"
   ]
  },
  {
   "cell_type": "code",
   "execution_count": 34,
   "id": "cbbc7189",
   "metadata": {},
   "outputs": [
    {
     "data": {
      "text/plain": [
       "0     False\n",
       "1     False\n",
       "2     False\n",
       "3     False\n",
       "4     False\n",
       "5     False\n",
       "6     False\n",
       "7     False\n",
       "8     False\n",
       "9     False\n",
       "10    False\n",
       "11    False\n",
       "12    False\n",
       "13    False\n",
       "14    False\n",
       "15    False\n",
       "16    False\n",
       "17    False\n",
       "18    False\n",
       "19    False\n",
       "20    False\n",
       "21    False\n",
       "22    False\n",
       "23    False\n",
       "24    False\n",
       "Name: Titre, dtype: bool"
      ]
     },
     "execution_count": 34,
     "metadata": {},
     "output_type": "execute_result"
    }
   ],
   "source": [
    "tableau[\"Titre\"].str.lower().str.contains(\"snus\")"
   ]
  }
 ],
 "metadata": {
  "kernelspec": {
   "display_name": "Python 3 (ipykernel)",
   "language": "python",
   "name": "python3"
  },
  "language_info": {
   "codemirror_mode": {
    "name": "ipython",
    "version": 3
   },
   "file_extension": ".py",
   "mimetype": "text/x-python",
   "name": "python",
   "nbconvert_exporter": "python",
   "pygments_lexer": "ipython3",
   "version": "3.9.12"
  }
 },
 "nbformat": 4,
 "nbformat_minor": 5
}
