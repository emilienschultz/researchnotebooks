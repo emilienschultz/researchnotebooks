{
 "cells": [
  {
   "cell_type": "markdown",
   "metadata": {},
   "source": [
    "#Analyse books title from WorlCat.org"
   ]
  },
  {
   "cell_type": "markdown",
   "metadata": {},
   "source": [
    "## Get books information (scrapper)"
   ]
  },
  {
   "cell_type": "code",
   "execution_count": 8,
   "metadata": {
    "collapsed": false
   },
   "outputs": [],
   "source": [
    "import requests\n",
    "import bs4\n",
    "import os\n",
    "import pylab as pl\n",
    "import pandas as pd\n",
    "from nltk.corpus import stopwords\n",
    "from nltk import word_tokenize\n",
    "from nltk.stem.porter import PorterStemmer\n",
    "import string\n",
    "import re\n",
    "import matplotlib as mp\n",
    "%matplotlib inline"
   ]
  },
  {
   "cell_type": "code",
   "execution_count": 5,
   "metadata": {
    "collapsed": false
   },
   "outputs": [],
   "source": [
    "#Download the files if not\n",
    "\n",
    "num = 6070 #numbers of titles \n",
    "urltemplate = \"https://www.worldcat.org/search?q=kw%3A%22scientific+computing%22&fq=x0%3Abook&dblist=638&\"+\\\n",
    "    \"start={pagenum}&qt=page_number_link\"\n",
    "\n",
    "if not os.path.exists(\"worldcat\"):\n",
    "    os.mkdir(\"worldcat\")\n",
    "\n",
    "for i in range(1,num,10):\n",
    "    if os.path.exists(\"worldcat/req\"+str(i)):\n",
    "        continue\n",
    "    url = urltemplate.format(pagenum=str(i))\n",
    "    req = requests.get(url)\n",
    "    with open(\"worldcat/req\"+str(i),\"wb\") as f:\n",
    "        f.write(req.content)"
   ]
  },
  {
   "cell_type": "code",
   "execution_count": 6,
   "metadata": {
    "collapsed": false
   },
   "outputs": [
    {
     "name": "stdout",
     "output_type": "stream",
     "text": [
      "There is 6070 book titles\n"
     ]
    }
   ],
   "source": [
    "#Parse information\n",
    "titles = []\n",
    "for i in os.listdir(\"worldcat\"):\n",
    "    if \"req\" in i:\n",
    "        with open(\"worldcat/\"+i,\"r\") as f:\n",
    "            content = \"\\n\".join(f.readlines())\n",
    "        page = bs4.BeautifulSoup(content,\"html.parser\")\n",
    "        for t in page.find(id=\"br-table-results\").findAll(\"td\", { \"class\" : \"result\" }):\n",
    "            try:\n",
    "                titles.append((t.find(\"strong\").contents[0],t.find(\"span\",{\"class\" : \"itemPublisher\"}).contents[0]))\n",
    "            except:\n",
    "                titles.append((t.find(\"strong\").contents[0],\"NA\"))\n",
    "print(\"There is {num} book titles\".format(num=len(titles)))"
   ]
  },
  {
   "cell_type": "code",
   "execution_count": 19,
   "metadata": {
    "collapsed": false
   },
   "outputs": [
    {
     "name": "stdout",
     "output_type": "stream",
     "text": [
      "There is 939 book titles\n"
     ]
    }
   ],
   "source": [
    "#cleaning data (different rules)\n",
    "a = dict(pd.Series([str(i[0]).lower() for i in titles]).value_counts())\n",
    "\n",
    "#repetition from the same title too much\n",
    "remove = [i for i in a if a[i]>11]\n",
    "\n",
    "#remove proceedings and explicitly mentionned in the title\n",
    "titles = [i for i in titles if not str(i[0]).lower() in remove and \"scientific computing\" in str(i[0]).lower()\\\n",
    "         and not \"proceedings\" in str(i[0]).lower()\\\n",
    "         and not \"conference\" in str(i[0]).lower()\\\n",
    "         and not \"workshop\" in str(i[0]).lower()\\\n",
    "         and not \"symposium\" in str(i[0]).lower()]\n",
    "\n",
    "print(\"There is {num} book titles\".format(num=len(titles)))"
   ]
  },
  {
   "cell_type": "markdown",
   "metadata": {},
   "source": [
    "#Analyse titles"
   ]
  },
  {
   "cell_type": "markdown",
   "metadata": {},
   "source": [
    "## Evolution  number of books published"
   ]
  },
  {
   "cell_type": "code",
   "execution_count": 20,
   "metadata": {
    "collapsed": false
   },
   "outputs": [
    {
     "data": {
      "text/plain": [
       "<matplotlib.text.Text at 0xa37315ac>"
      ]
     },
     "execution_count": 20,
     "metadata": {},
     "output_type": "execute_result"
    },
    {
     "data": {
      "image/png": "[encoded data removed]",
      "text/plain": [
       "<matplotlib.figure.Figure at 0xa630022c>"
      ]
     },
     "metadata": {},
     "output_type": "display_data"
    }
   ],
   "source": [
    "years = []\n",
    "texts2 = []\n",
    "for i in titles:\n",
    "    try:\n",
    "        t = re.findall(\"([0-9]{4})\",i[1])\n",
    "    except:\n",
    "        t=\"na\"\n",
    "    if len(t)>0 and t != \"na\":\n",
    "        years.append(int(t[0]))\n",
    "        texts2.append((i[0],t[0]))\n",
    "    else:\n",
    "        texts2.append((i[0],0))\n",
    "        \n",
    "a = pd.Series([i for i in years if i<2015 and i>1900])\n",
    "b = a.hist(bins=40)\n",
    "pl.title(\"Number of books dealing with scientific computing\")\n",
    "pl.xlabel(\"Year of publication\")\n"
   ]
  },
  {
   "cell_type": "markdown",
   "metadata": {},
   "source": [
    "## Comparison with google N-gram"
   ]
  },
  {
   "cell_type": "code",
   "execution_count": 21,
   "metadata": {
    "collapsed": false
   },
   "outputs": [
    {
     "data": {
      "text/plain": [
       "[<matplotlib.lines.Line2D at 0x9e2086ac>]"
      ]
     },
     "execution_count": 21,
     "metadata": {},
     "output_type": "execute_result"
    },
    {
     "data": {
      "image/png": "[encoded data removed]",
      "text/plain": [
       "<matplotlib.figure.Figure at 0x9e4b982c>"
      ]
     },
     "metadata": {},
     "output_type": "display_data"
    }
   ],
   "source": [
    "# https://books.google.com/ngrams/graph?content=scientific+computing&year_start=1930&year_end=2008&corpus=15&smoothing=1&share=&direct_url=t1%3B%2Cscientific%20computing%3B%2Cc0\n",
    "a=  [0.0, 0.0, 3.4695161558554827e-10, 3.4695161558554827e-10, 3.4695161558554827e-10, 0.0, 5.156557773370688e-10, 1.0194078914338434e-09, 1.0194078914338434e-09, 5.0375211409677456e-10, 2.9298698652387617e-10, 5.9675518230643354e-10, 2.0241754383754085e-09, 2.1223283500996595e-09, 3.8772419719279583e-09, 5.6196949686319426e-09, 5.4579962031435043e-09, 4.2551992300114234e-09, 1.4728941029792015e-09, 3.3709237623469335e-09, 2.7133102246483056e-09, 2.3257420989075683e-09, 1.597333358175727e-09, 1.3990620513955794e-09, 1.7620095012678878e-09, 1.0626310202136817e-09, 6.7617900908108668e-09, 8.9724817205668241e-09, 1.0891105794996747e-08, 7.5004972603191309e-09, 1.087119239073786e-08, 1.3782588847988109e-08, 1.4488048686682001e-08, 1.3210601205552544e-08, 1.1440794089878636e-08, 1.1547589551241799e-08, 1.2100773124264682e-08, 1.1308539882293189e-08, 1.2627208612059349e-08, 1.2781045259184035e-08, 2.4005328687811318e-08, 2.4671765667487005e-08, 2.5018773423350165e-08, 1.3970456199293343e-08, 1.4673776268144442e-08, 1.546954978929686e-08, 1.6965617355424456e-08, 1.8141595189054744e-08, 1.7235879390398168e-08, 1.8793308835067062e-08, 1.8667733433138285e-08, 2.1453814132617783e-08, 2.219857483017525e-08, 2.322866343718033e-08, 2.4334533795430009e-08, 3.0973142865301874e-08, 4.3178831177215216e-08, 4.9049395064078759e-08, 5.2860117468374788e-08, 5.9221722636948471e-08, 6.2433854234692873e-08, 6.4799046128882765e-08, 5.6681023134312149e-08, 5.5802830208525243e-08, 4.9005915769839703e-08, 4.9211746973772584e-08, 4.9806985202849319e-08, 5.1457671901289359e-08, 5.456425948106395e-08, 5.1941514792967304e-08, 5.5361535800102502e-08, 5.5291312861527331e-08, 6.139100131955881e-08, 6.1094646971090086e-08, 6.0430933738568157e-08, 5.4970995459295104e-08, 5.1347556725052833e-08, 4.2185427891657433e-08, 3.8798637191916896e-08]\n",
    "pl.plot(range(1930, 2009),a)"
   ]
  },
  {
   "cell_type": "markdown",
   "metadata": {},
   "source": [
    "**Analysis**\n",
    "*The analysis of trend (either Google Ngram or WorldCat) shows a bimodal distribution of books on computational sciences : we can make the hypothesis that \"scientific computing\" went through two different era*"
   ]
  },
  {
   "cell_type": "markdown",
   "metadata": {},
   "source": [
    "## Words analysis of titles"
   ]
  },
  {
   "cell_type": "code",
   "execution_count": 22,
   "metadata": {
    "collapsed": false
   },
   "outputs": [],
   "source": [
    "texts_total = [i for i in texts2 if len(str(i[0]).split())<30] #lengths max of titles\n",
    "\n",
    "stoplist = stopwords.words('english') + list(string.punctuation) #stoplist\n",
    "\n",
    "texts_total = [([word.replace(\" \",\"\").replace(\".\",\"\").replace(\",\",\"\").replace(\"(\",\"\").replace(\")\",\"\")\\\n",
    "                 .replace('\"',\"\").replace(\"]\",\"\").replace(\"[\",\"\")\\\n",
    "          for word in str(document[0]).lower().split() if word not in stoplist],document[1])\n",
    "          for document in texts_total] #remove words from stoplist\n",
    "\n",
    "#remove one time words\n",
    "l = pd.Series([i for j in texts_total for i in j[0]])\n",
    "t = dict(l.value_counts())\n",
    "adhocfilter = [u for u in t if t[u]<2] + ['1','2',\"'88\"]\n",
    "w = [u for u in t if not u in adhocfilter]\n",
    "\n",
    "#porter_stemmer = PorterStemmer() #stemmer\n",
    "#texts_total = [([porter_stemmer.stem(token) for token in text[0] if token in w],text[1])\n",
    "#          for text in texts_total]\n",
    "\n",
    "texts_total = [([token for token in text[0] if token in w],text[1])\n",
    "          for text in texts_total]\n",
    "\n",
    "\n",
    "texts_all = [i[0] for i in texts_total]\n",
    "texts_t1 = [i[0] for i in texts_total if int(i[1])<2000]\n",
    "texts_t2 = [i[0] for i in texts_total if int(i[1])>=2000]"
   ]
  },
  {
   "cell_type": "markdown",
   "metadata": {},
   "source": [
    "Words used in the title regarding each period"
   ]
  },
  {
   "cell_type": "code",
   "execution_count": 23,
   "metadata": {
    "collapsed": false
   },
   "outputs": [
    {
     "data": {
      "text/html": [
       "<div>\n",
       "<table border=\"1\" class=\"dataframe\">\n",
       "  <thead>\n",
       "    <tr style=\"text-align: right;\">\n",
       "      <th></th>\n",
       "      <th>alltitles</th>\n",
       "      <th>alltitlesperc</th>\n",
       "      <th>before2000</th>\n",
       "      <th>before2000perc</th>\n",
       "      <th>after2000</th>\n",
       "      <th>after2000perc</th>\n",
       "    </tr>\n",
       "  </thead>\n",
       "  <tbody>\n",
       "    <tr>\n",
       "      <th>scientific</th>\n",
       "      <td>945</td>\n",
       "      <td>102.494577</td>\n",
       "      <td>540</td>\n",
       "      <td>103.053435</td>\n",
       "      <td>405</td>\n",
       "      <td>101.758794</td>\n",
       "    </tr>\n",
       "    <tr>\n",
       "      <th>computing</th>\n",
       "      <td>915</td>\n",
       "      <td>99.240781</td>\n",
       "      <td>527</td>\n",
       "      <td>100.572519</td>\n",
       "      <td>388</td>\n",
       "      <td>97.487437</td>\n",
       "    </tr>\n",
       "    <tr>\n",
       "      <th>numerical</th>\n",
       "      <td>179</td>\n",
       "      <td>19.414317</td>\n",
       "      <td>111</td>\n",
       "      <td>21.183206</td>\n",
       "      <td>68</td>\n",
       "      <td>17.085427</td>\n",
       "    </tr>\n",
       "    <tr>\n",
       "      <th>parallel</th>\n",
       "      <td>90</td>\n",
       "      <td>9.761388</td>\n",
       "      <td>46</td>\n",
       "      <td>8.778626</td>\n",
       "      <td>44</td>\n",
       "      <td>11.055276</td>\n",
       "    </tr>\n",
       "    <tr>\n",
       "      <th>analysis</th>\n",
       "      <td>71</td>\n",
       "      <td>7.700651</td>\n",
       "      <td>37</td>\n",
       "      <td>7.061069</td>\n",
       "      <td>34</td>\n",
       "      <td>8.542714</td>\n",
       "    </tr>\n",
       "    <tr>\n",
       "      <th>part</th>\n",
       "      <td>70</td>\n",
       "      <td>7.592191</td>\n",
       "      <td>33</td>\n",
       "      <td>6.297710</td>\n",
       "      <td>37</td>\n",
       "      <td>9.296482</td>\n",
       "    </tr>\n",
       "    <tr>\n",
       "      <th>art</th>\n",
       "      <td>67</td>\n",
       "      <td>7.266811</td>\n",
       "      <td>56</td>\n",
       "      <td>10.687023</td>\n",
       "      <td>NaN</td>\n",
       "      <td>NaN</td>\n",
       "    </tr>\n",
       "    <tr>\n",
       "      <th>recipes</th>\n",
       "      <td>67</td>\n",
       "      <td>7.266811</td>\n",
       "      <td>59</td>\n",
       "      <td>11.259542</td>\n",
       "      <td>NaN</td>\n",
       "      <td>NaN</td>\n",
       "    </tr>\n",
       "    <tr>\n",
       "      <th>methods</th>\n",
       "      <td>66</td>\n",
       "      <td>7.158351</td>\n",
       "      <td>29</td>\n",
       "      <td>5.534351</td>\n",
       "      <td>37</td>\n",
       "      <td>9.296482</td>\n",
       "    </tr>\n",
       "    <tr>\n",
       "      <th>applications</th>\n",
       "      <td>64</td>\n",
       "      <td>6.941432</td>\n",
       "      <td>25</td>\n",
       "      <td>4.770992</td>\n",
       "      <td>39</td>\n",
       "      <td>9.798995</td>\n",
       "    </tr>\n",
       "    <tr>\n",
       "      <th>introduction</th>\n",
       "      <td>53</td>\n",
       "      <td>5.748373</td>\n",
       "      <td>19</td>\n",
       "      <td>3.625954</td>\n",
       "      <td>34</td>\n",
       "      <td>8.542714</td>\n",
       "    </tr>\n",
       "    <tr>\n",
       "      <th>engineering</th>\n",
       "      <td>44</td>\n",
       "      <td>4.772234</td>\n",
       "      <td>22</td>\n",
       "      <td>4.198473</td>\n",
       "      <td>22</td>\n",
       "      <td>5.527638</td>\n",
       "    </tr>\n",
       "    <tr>\n",
       "      <th>techniques</th>\n",
       "      <td>43</td>\n",
       "      <td>4.663774</td>\n",
       "      <td>18</td>\n",
       "      <td>3.435115</td>\n",
       "      <td>25</td>\n",
       "      <td>6.281407</td>\n",
       "    </tr>\n",
       "    <tr>\n",
       "      <th>equations</th>\n",
       "      <td>39</td>\n",
       "      <td>4.229935</td>\n",
       "      <td>NaN</td>\n",
       "      <td>NaN</td>\n",
       "      <td>27</td>\n",
       "      <td>6.783920</td>\n",
       "    </tr>\n",
       "    <tr>\n",
       "      <th>applied</th>\n",
       "      <td>38</td>\n",
       "      <td>4.121475</td>\n",
       "      <td>17</td>\n",
       "      <td>3.244275</td>\n",
       "      <td>21</td>\n",
       "      <td>5.276382</td>\n",
       "    </tr>\n",
       "    <tr>\n",
       "      <th>fortran</th>\n",
       "      <td>34</td>\n",
       "      <td>3.687636</td>\n",
       "      <td>31</td>\n",
       "      <td>5.916031</td>\n",
       "      <td>NaN</td>\n",
       "      <td>NaN</td>\n",
       "    </tr>\n",
       "    <tr>\n",
       "      <th>using</th>\n",
       "      <td>34</td>\n",
       "      <td>3.687636</td>\n",
       "      <td>NaN</td>\n",
       "      <td>NaN</td>\n",
       "      <td>23</td>\n",
       "      <td>5.778894</td>\n",
       "    </tr>\n",
       "    <tr>\n",
       "      <th>system</th>\n",
       "      <td>34</td>\n",
       "      <td>3.687636</td>\n",
       "      <td>26</td>\n",
       "      <td>4.961832</td>\n",
       "      <td>NaN</td>\n",
       "      <td>NaN</td>\n",
       "    </tr>\n",
       "    <tr>\n",
       "      <th>report</th>\n",
       "      <td>34</td>\n",
       "      <td>3.687636</td>\n",
       "      <td>19</td>\n",
       "      <td>3.625954</td>\n",
       "      <td>15</td>\n",
       "      <td>3.768844</td>\n",
       "    </tr>\n",
       "    <tr>\n",
       "      <th>3</th>\n",
       "      <td>34</td>\n",
       "      <td>3.687636</td>\n",
       "      <td>15</td>\n",
       "      <td>2.862595</td>\n",
       "      <td>19</td>\n",
       "      <td>4.773869</td>\n",
       "    </tr>\n",
       "    <tr>\n",
       "      <th>handbook</th>\n",
       "      <td>31</td>\n",
       "      <td>3.362256</td>\n",
       "      <td>15</td>\n",
       "      <td>2.862595</td>\n",
       "      <td>16</td>\n",
       "      <td>4.020101</td>\n",
       "    </tr>\n",
       "    <tr>\n",
       "      <th>advanced</th>\n",
       "      <td>30</td>\n",
       "      <td>3.253796</td>\n",
       "      <td>16</td>\n",
       "      <td>3.053435</td>\n",
       "      <td>14</td>\n",
       "      <td>3.517588</td>\n",
       "    </tr>\n",
       "    <tr>\n",
       "      <th>visualization</th>\n",
       "      <td>30</td>\n",
       "      <td>3.253796</td>\n",
       "      <td>24</td>\n",
       "      <td>4.580153</td>\n",
       "      <td>NaN</td>\n",
       "      <td>NaN</td>\n",
       "    </tr>\n",
       "    <tr>\n",
       "      <th>science</th>\n",
       "      <td>30</td>\n",
       "      <td>3.253796</td>\n",
       "      <td>18</td>\n",
       "      <td>3.435115</td>\n",
       "      <td>12</td>\n",
       "      <td>3.015075</td>\n",
       "    </tr>\n",
       "    <tr>\n",
       "      <th>software</th>\n",
       "      <td>30</td>\n",
       "      <td>3.253796</td>\n",
       "      <td>16</td>\n",
       "      <td>3.053435</td>\n",
       "      <td>14</td>\n",
       "      <td>3.517588</td>\n",
       "    </tr>\n",
       "    <tr>\n",
       "      <th>matlab</th>\n",
       "      <td>29</td>\n",
       "      <td>3.145336</td>\n",
       "      <td>NaN</td>\n",
       "      <td>NaN</td>\n",
       "      <td>25</td>\n",
       "      <td>6.281407</td>\n",
       "    </tr>\n",
       "    <tr>\n",
       "      <th>computational</th>\n",
       "      <td>29</td>\n",
       "      <td>3.145336</td>\n",
       "      <td>NaN</td>\n",
       "      <td>NaN</td>\n",
       "      <td>20</td>\n",
       "      <td>5.025126</td>\n",
       "    </tr>\n",
       "    <tr>\n",
       "      <th>performance</th>\n",
       "      <td>28</td>\n",
       "      <td>3.036876</td>\n",
       "      <td>NaN</td>\n",
       "      <td>NaN</td>\n",
       "      <td>17</td>\n",
       "      <td>4.271357</td>\n",
       "    </tr>\n",
       "    <tr>\n",
       "      <th>4</th>\n",
       "      <td>28</td>\n",
       "      <td>3.036876</td>\n",
       "      <td>NaN</td>\n",
       "      <td>NaN</td>\n",
       "      <td>22</td>\n",
       "      <td>5.527638</td>\n",
       "    </tr>\n",
       "    <tr>\n",
       "      <th>systems</th>\n",
       "      <td>28</td>\n",
       "      <td>3.036876</td>\n",
       "      <td>19</td>\n",
       "      <td>3.625954</td>\n",
       "      <td>NaN</td>\n",
       "      <td>NaN</td>\n",
       "    </tr>\n",
       "    <tr>\n",
       "      <th>computer</th>\n",
       "      <td>27</td>\n",
       "      <td>2.928416</td>\n",
       "      <td>17</td>\n",
       "      <td>3.244275</td>\n",
       "      <td>NaN</td>\n",
       "      <td>NaN</td>\n",
       "    </tr>\n",
       "    <tr>\n",
       "      <th>environment</th>\n",
       "      <td>27</td>\n",
       "      <td>2.928416</td>\n",
       "      <td>21</td>\n",
       "      <td>4.007634</td>\n",
       "      <td>NaN</td>\n",
       "      <td>NaN</td>\n",
       "    </tr>\n",
       "    <tr>\n",
       "      <th>research</th>\n",
       "      <td>26</td>\n",
       "      <td>2.819957</td>\n",
       "      <td>NaN</td>\n",
       "      <td>NaN</td>\n",
       "      <td>15</td>\n",
       "      <td>3.768844</td>\n",
       "    </tr>\n",
       "    <tr>\n",
       "      <th>mathematics</th>\n",
       "      <td>26</td>\n",
       "      <td>2.819957</td>\n",
       "      <td>NaN</td>\n",
       "      <td>NaN</td>\n",
       "      <td>14</td>\n",
       "      <td>3.517588</td>\n",
       "    </tr>\n",
       "    <tr>\n",
       "      <th>vol</th>\n",
       "      <td>25</td>\n",
       "      <td>2.711497</td>\n",
       "      <td>19</td>\n",
       "      <td>3.625954</td>\n",
       "      <td>NaN</td>\n",
       "      <td>NaN</td>\n",
       "    </tr>\n",
       "    <tr>\n",
       "      <th>rn</th>\n",
       "      <td>24</td>\n",
       "      <td>2.603037</td>\n",
       "      <td>NaN</td>\n",
       "      <td>NaN</td>\n",
       "      <td>13</td>\n",
       "      <td>3.266332</td>\n",
       "    </tr>\n",
       "    <tr>\n",
       "      <th>simulation</th>\n",
       "      <td>24</td>\n",
       "      <td>2.603037</td>\n",
       "      <td>14</td>\n",
       "      <td>2.671756</td>\n",
       "      <td>NaN</td>\n",
       "      <td>NaN</td>\n",
       "    </tr>\n",
       "    <tr>\n",
       "      <th>imacs</th>\n",
       "      <td>24</td>\n",
       "      <td>2.603037</td>\n",
       "      <td>24</td>\n",
       "      <td>4.580153</td>\n",
       "      <td>NaN</td>\n",
       "      <td>NaN</td>\n",
       "    </tr>\n",
       "    <tr>\n",
       "      <th>problems</th>\n",
       "      <td>23</td>\n",
       "      <td>2.494577</td>\n",
       "      <td>NaN</td>\n",
       "      <td>NaN</td>\n",
       "      <td>16</td>\n",
       "      <td>4.020101</td>\n",
       "    </tr>\n",
       "    <tr>\n",
       "      <th>algorithms</th>\n",
       "      <td>22</td>\n",
       "      <td>2.386117</td>\n",
       "      <td>NaN</td>\n",
       "      <td>NaN</td>\n",
       "      <td>19</td>\n",
       "      <td>4.773869</td>\n",
       "    </tr>\n",
       "  </tbody>\n",
       "</table>\n",
       "</div>"
      ],
      "text/plain": [
       "               alltitles  alltitlesperc  before2000  before2000perc  \\\n",
       "scientific           945     102.494577         540      103.053435   \n",
       "computing            915      99.240781         527      100.572519   \n",
       "numerical            179      19.414317         111       21.183206   \n",
       "parallel              90       9.761388          46        8.778626   \n",
       "analysis              71       7.700651          37        7.061069   \n",
       "part                  70       7.592191          33        6.297710   \n",
       "art                   67       7.266811          56       10.687023   \n",
       "recipes               67       7.266811          59       11.259542   \n",
       "methods               66       7.158351          29        5.534351   \n",
       "applications          64       6.941432          25        4.770992   \n",
       "introduction          53       5.748373          19        3.625954   \n",
       "engineering           44       4.772234          22        4.198473   \n",
       "techniques            43       4.663774          18        3.435115   \n",
       "equations             39       4.229935         NaN             NaN   \n",
       "applied               38       4.121475          17        3.244275   \n",
       "fortran               34       3.687636          31        5.916031   \n",
       "using                 34       3.687636         NaN             NaN   \n",
       "system                34       3.687636          26        4.961832   \n",
       "report                34       3.687636          19        3.625954   \n",
       "3                     34       3.687636          15        2.862595   \n",
       "handbook              31       3.362256          15        2.862595   \n",
       "advanced              30       3.253796          16        3.053435   \n",
       "visualization         30       3.253796          24        4.580153   \n",
       "science               30       3.253796          18        3.435115   \n",
       "software              30       3.253796          16        3.053435   \n",
       "matlab                29       3.145336         NaN             NaN   \n",
       "computational         29       3.145336         NaN             NaN   \n",
       "performance           28       3.036876         NaN             NaN   \n",
       "4                     28       3.036876         NaN             NaN   \n",
       "systems               28       3.036876          19        3.625954   \n",
       "computer              27       2.928416          17        3.244275   \n",
       "environment           27       2.928416          21        4.007634   \n",
       "research              26       2.819957         NaN             NaN   \n",
       "mathematics           26       2.819957         NaN             NaN   \n",
       "vol                   25       2.711497          19        3.625954   \n",
       "rn                    24       2.603037         NaN             NaN   \n",
       "simulation            24       2.603037          14        2.671756   \n",
       "imacs                 24       2.603037          24        4.580153   \n",
       "problems              23       2.494577         NaN             NaN   \n",
       "algorithms            22       2.386117         NaN             NaN   \n",
       "\n",
       "               after2000  after2000perc  \n",
       "scientific           405     101.758794  \n",
       "computing            388      97.487437  \n",
       "numerical             68      17.085427  \n",
       "parallel              44      11.055276  \n",
       "analysis              34       8.542714  \n",
       "part                  37       9.296482  \n",
       "art                  NaN            NaN  \n",
       "recipes              NaN            NaN  \n",
       "methods               37       9.296482  \n",
       "applications          39       9.798995  \n",
       "introduction          34       8.542714  \n",
       "engineering           22       5.527638  \n",
       "techniques            25       6.281407  \n",
       "equations             27       6.783920  \n",
       "applied               21       5.276382  \n",
       "fortran              NaN            NaN  \n",
       "using                 23       5.778894  \n",
       "system               NaN            NaN  \n",
       "report                15       3.768844  \n",
       "3                     19       4.773869  \n",
       "handbook              16       4.020101  \n",
       "advanced              14       3.517588  \n",
       "visualization        NaN            NaN  \n",
       "science               12       3.015075  \n",
       "software              14       3.517588  \n",
       "matlab                25       6.281407  \n",
       "computational         20       5.025126  \n",
       "performance           17       4.271357  \n",
       "4                     22       5.527638  \n",
       "systems              NaN            NaN  \n",
       "computer             NaN            NaN  \n",
       "environment          NaN            NaN  \n",
       "research              15       3.768844  \n",
       "mathematics           14       3.517588  \n",
       "vol                  NaN            NaN  \n",
       "rn                    13       3.266332  \n",
       "simulation           NaN            NaN  \n",
       "imacs                NaN            NaN  \n",
       "problems              16       4.020101  \n",
       "algorithms            19       4.773869  "
      ]
     },
     "execution_count": 23,
     "metadata": {},
     "output_type": "execute_result"
    }
   ],
   "source": [
    "data_words = pd.DataFrame()\n",
    "data_words[\"alltitles\"] = pd.Series([j for i in texts_all for j in i]).value_counts()[0:40]\n",
    "data_words[\"alltitlesperc\"] = pd.Series([j for i in texts_all for j in i]).value_counts()[0:40]*100/len(texts_all)\n",
    "data_words[\"before2000\"] = pd.Series([j for i in texts_t1 for j in i]).value_counts()[0:40]\n",
    "data_words[\"before2000perc\"] = pd.Series([j for i in texts_t1 for j in i]).value_counts()[0:40]*100/len(texts_t1)\n",
    "data_words[\"after2000\"] = pd.Series([j for i in texts_t2 for j in i]).value_counts()[0:40]\n",
    "data_words[\"after2000perc\"] = pd.Series([j for i in texts_t2 for j in i]).value_counts()[0:40]*100/len(texts_t2)\n",
    "data_words"
   ]
  },
  {
   "cell_type": "markdown",
   "metadata": {},
   "source": [
    "##Network between words"
   ]
  },
  {
   "cell_type": "code",
   "execution_count": 360,
   "metadata": {
    "collapsed": false
   },
   "outputs": [],
   "source": [
    "import networkx as nx\n",
    "import itertools as it\n",
    "import math\n",
    "from IPython.html import widgets\n",
    "from IPython.display import display\n",
    "from d3networkx import ForceDirectedGraph, EventfulGraph"
   ]
  },
  {
   "cell_type": "code",
   "execution_count": 382,
   "metadata": {
    "collapsed": false
   },
   "outputs": [],
   "source": [
    "#Create Graph\n",
    "G = nx.Graph()\n",
    "for i in [text for text in texts_all if len(text)<10]:\n",
    "    for j in i:\n",
    "        if j in G.node:\n",
    "            G.node[j][\"r\"]+=1\n",
    "        else:\n",
    "            G.add_node(j,label=j,r=1, font_size='10pt',charge=-200)\n",
    "    for j in list(it.combinations(i,2)):\n",
    "        if j in G.edges():\n",
    "            G[j[0]][j[1]][\"weight\"]+=1\n",
    "            G[j[0]][j[1]][\"strength\"]+=1\n",
    "            #G[j[0]][j[1]][\"strokewidth\"]=str(G[j[0]][j[1]][\"strength\"])+\"px\"\n",
    "        else:\n",
    "            G.add_edge(j[0],j[1],weight=1, stroke=\"#000000\", strokewidth=\"1px\", strength=0.3)"
   ]
  },
  {
   "cell_type": "code",
   "execution_count": null,
   "metadata": {
    "collapsed": true
   },
   "outputs": [],
   "source": [
    "#Export to a file in order to be analysed by a third party software as Gephi\n",
    "nx.write_graphml(G,\"network-titles-books-scientificcomputing.graphml\",\"utf-8\")"
   ]
  },
  {
   "cell_type": "code",
   "execution_count": 354,
   "metadata": {
    "collapsed": true
   },
   "outputs": [],
   "source": [
    "#visualisation direct widget (doesn't work for the moment)\n",
    "def create_widget(graph):\n",
    "    display(ForceDirectedGraph(graph))\n",
    "EventfulGraph.on_constructed(create_widget)"
   ]
  },
  {
   "cell_type": "code",
   "execution_count": 383,
   "metadata": {
    "collapsed": false
   },
   "outputs": [],
   "source": [
    "H = G.copy()\n",
    "H.remove_nodes_from([i for i in H.node if H.node[i][\"r\"]<10])\n",
    "for i in H.node:\n",
    "    H.node[i][\"r\"] = math.log10(H.node[i][\"r\"])\n",
    "D = EventfulGraph(H)\n",
    "d3 = ForceDirectedGraph(D)\n",
    "d3.width = 1000\n",
    "d3.height = 1000\n",
    "display(d3)"
   ]
  },
  {
   "cell_type": "code",
   "execution_count": 243,
   "metadata": {
    "collapsed": false
   },
   "outputs": [],
   "source": []
  }
 ],
 "metadata": {
  "kernelspec": {
   "display_name": "Python 3",
   "language": "python",
   "name": "python3"
  },
  "language_info": {
   "codemirror_mode": {
    "name": "ipython",
    "version": 3
   },
   "file_extension": ".py",
   "mimetype": "text/x-python",
   "name": "python",
   "nbconvert_exporter": "python",
   "pygments_lexer": "ipython3",
   "version": "3.4.3"
  }
 },
 "nbformat": 4,
 "nbformat_minor": 0
}
