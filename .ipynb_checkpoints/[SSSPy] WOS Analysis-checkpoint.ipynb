{
 "cells": [
  {
   "cell_type": "markdown",
   "metadata": {},
   "source": [
    "# Social study of scientific python\n",
    "## Web of Science Analysis"
   ]
  },
  {
   "cell_type": "markdown",
   "metadata": {},
   "source": [
    "Download data from the WOS\n",
    "- [scientific computing] All articles in the Web of Science with \"scientific programming\" or \"scientific computing\" in it\n",
    "- [python] All articles in the Web of Science with \"Python\" AND NOT \"snake\", \"reptile\""
   ]
  },
  {
   "cell_type": "code",
   "execution_count": 2,
   "metadata": {
    "collapsed": false
   },
   "outputs": [],
   "source": [
    "import emilientools\n",
    "import os"
   ]
  },
  {
   "cell_type": "code",
   "execution_count": 70,
   "metadata": {
    "collapsed": true
   },
   "outputs": [],
   "source": [
    "data = []\n",
    "with open(\"wos-python/savedrecs (43).txt\",\"r\") as f:\n",
    "    data = f.readlines()\n",
    "data = [i.replace(\"\\n\",\"\") for i in data]"
   ]
  },
  {
   "cell_type": "code",
   "execution_count": 71,
   "metadata": {
    "collapsed": false
   },
   "outputs": [],
   "source": [
    "begin = data.index('PT J')\n",
    "end = data.index('ER')\n",
    "sub = data[begin:end]"
   ]
  },
  {
   "cell_type": "code",
   "execution_count": 63,
   "metadata": {
    "collapsed": false
   },
   "outputs": [],
   "source": [
    "def rank(code):\n",
    "    return [i for i in range(0,len(sub)) if code+\" \" == sub[i][0:3]][0]\n",
    "\n",
    "def extract(sub):\n",
    "    tmp = {}\n",
    "    tmp[\"authors\"] = [sub[i][3:].lower() for i in range(rank(\"C1\"),rank(\"RP\"))]\n",
    "    tmp[\"authors_full\"] = [sub[i][3:].lower() for i in range(rank(\"AU\"),rank(\"AF\"))]\n",
    "    tmp[\"bibliography\"] = [sub[i][3:].lower() for i in range(rank(\"CR\"),rank(\"NR\"))]\n",
    "    tmp[\"title\"] = \" \".join([sub[i][3:] for i in range(rank(\"TI\"),rank(\"SO\"))]).lower()\n",
    "    tmp[\"journal\"] = \" \".join([sub[i][3:] for i in range(rank(\"SO\"),rank(\"LA\"))]).lower()\n",
    "    tmp[\"keyworlds1\"] = (\" \".join([sub[i][3:] for i in range(rank(\"DE\"),rank(\"ID\"))])).lower().split(\";\")\n",
    "    tmp[\"keyworlds2\"] = (\" \".join([sub[i][3:] for i in range(rank(\"ID\"),rank(\"AB\"))])).lower().split(\";\")\n",
    "    tmp[\"abstract\"] = (\" \".join([sub[i][3:] for i in range(rank(\"AB\"),rank(\"C1\"))])).lower()\n",
    "    tmp[\"bibliography\"] = [sub[i][3:].lower() for i in range(rank(\"CR\"),rank(\"NR\"))]\n",
    "    tmp[\"year\"] = \" \".join([sub[i][3:] for i in range(rank(\"PY\"),rank(\"VL\"))]).lower()\n",
    "    tmp[\"id\"] = \" \".join([sub[i][3:] for i in range(rank(\"DI\"),rank(\"PG\"))]).lower()\n",
    "    tmp[\"categories\"] = (\" \".join([sub[i][3:] for i in range(rank(\"WC\"),rank(\"SC\"))])).lower().split(\";\")\n",
    "    return tmp"
   ]
  },
  {
   "cell_type": "code",
   "execution_count": 74,
   "metadata": {
    "collapsed": false
   },
   "outputs": [
    {
     "name": "stdout",
     "output_type": "stream",
     "text": [
      "solver toolkit computer physics communications\n"
     ]
    },
    {
     "ename": "KeyError",
     "evalue": "0",
     "output_type": "error",
     "traceback": [
      "\u001b[1;31m---------------------------------------------------------------------------\u001b[0m",
      "\u001b[1;31mKeyError\u001b[0m                                  Traceback (most recent call last)",
      "\u001b[1;32m<ipython-input-74-cc59a1e4604a>\u001b[0m in \u001b[0;36m<module>\u001b[1;34m()\u001b[0m\n\u001b[0;32m      3\u001b[0m     \u001b[0mbegin\u001b[0m \u001b[1;33m=\u001b[0m \u001b[0mdata\u001b[0m\u001b[1;33m.\u001b[0m\u001b[0mindex\u001b[0m\u001b[1;33m(\u001b[0m\u001b[1;34m'PT J'\u001b[0m\u001b[1;33m)\u001b[0m\u001b[1;33m\u001b[0m\u001b[0m\n\u001b[0;32m      4\u001b[0m     \u001b[0mend\u001b[0m \u001b[1;33m=\u001b[0m \u001b[0mdata\u001b[0m\u001b[1;33m.\u001b[0m\u001b[0mindex\u001b[0m\u001b[1;33m(\u001b[0m\u001b[1;34m'ER'\u001b[0m\u001b[1;33m)\u001b[0m\u001b[1;33m\u001b[0m\u001b[0m\n\u001b[1;32m----> 5\u001b[1;33m     \u001b[0msub\u001b[0m \u001b[1;33m=\u001b[0m \u001b[0mextract\u001b[0m\u001b[1;33m(\u001b[0m\u001b[0mdata\u001b[0m\u001b[1;33m[\u001b[0m\u001b[0mbegin\u001b[0m\u001b[1;33m+\u001b[0m\u001b[1;36m1\u001b[0m\u001b[1;33m:\u001b[0m\u001b[0mend\u001b[0m\u001b[1;33m-\u001b[0m\u001b[1;36m1\u001b[0m\u001b[1;33m]\u001b[0m\u001b[1;33m)\u001b[0m\u001b[1;33m\u001b[0m\u001b[0m\n\u001b[0m\u001b[0;32m      6\u001b[0m     \u001b[0mr\u001b[0m\u001b[1;33m.\u001b[0m\u001b[0mappend\u001b[0m\u001b[1;33m(\u001b[0m\u001b[0msub\u001b[0m\u001b[1;33m)\u001b[0m\u001b[1;33m\u001b[0m\u001b[0m\n\u001b[0;32m      7\u001b[0m     \u001b[0mdata\u001b[0m \u001b[1;33m=\u001b[0m \u001b[0mdata\u001b[0m\u001b[1;33m[\u001b[0m\u001b[0mend\u001b[0m\u001b[1;33m:\u001b[0m\u001b[1;33m]\u001b[0m\u001b[1;33m\u001b[0m\u001b[0m\n",
      "\u001b[1;32m<ipython-input-63-4c67257f4b6a>\u001b[0m in \u001b[0;36mextract\u001b[1;34m(sub)\u001b[0m\n\u001b[0;32m      4\u001b[0m \u001b[1;32mdef\u001b[0m \u001b[0mextract\u001b[0m\u001b[1;33m(\u001b[0m\u001b[0msub\u001b[0m\u001b[1;33m)\u001b[0m\u001b[1;33m:\u001b[0m\u001b[1;33m\u001b[0m\u001b[0m\n\u001b[0;32m      5\u001b[0m     \u001b[0mtmp\u001b[0m \u001b[1;33m=\u001b[0m \u001b[1;33m{\u001b[0m\u001b[1;33m}\u001b[0m\u001b[1;33m\u001b[0m\u001b[0m\n\u001b[1;32m----> 6\u001b[1;33m     \u001b[0mtmp\u001b[0m\u001b[1;33m[\u001b[0m\u001b[1;34m\"authors\"\u001b[0m\u001b[1;33m]\u001b[0m \u001b[1;33m=\u001b[0m \u001b[1;33m[\u001b[0m\u001b[0msub\u001b[0m\u001b[1;33m[\u001b[0m\u001b[0mi\u001b[0m\u001b[1;33m]\u001b[0m\u001b[1;33m[\u001b[0m\u001b[1;36m3\u001b[0m\u001b[1;33m:\u001b[0m\u001b[1;33m]\u001b[0m\u001b[1;33m.\u001b[0m\u001b[0mlower\u001b[0m\u001b[1;33m(\u001b[0m\u001b[1;33m)\u001b[0m \u001b[1;32mfor\u001b[0m \u001b[0mi\u001b[0m \u001b[1;32min\u001b[0m \u001b[0mrange\u001b[0m\u001b[1;33m(\u001b[0m\u001b[0mrank\u001b[0m\u001b[1;33m(\u001b[0m\u001b[1;34m\"C1\"\u001b[0m\u001b[1;33m)\u001b[0m\u001b[1;33m,\u001b[0m\u001b[0mrank\u001b[0m\u001b[1;33m(\u001b[0m\u001b[1;34m\"RP\"\u001b[0m\u001b[1;33m)\u001b[0m\u001b[1;33m)\u001b[0m\u001b[1;33m]\u001b[0m\u001b[1;33m\u001b[0m\u001b[0m\n\u001b[0m\u001b[0;32m      7\u001b[0m     \u001b[0mtmp\u001b[0m\u001b[1;33m[\u001b[0m\u001b[1;34m\"authors_full\"\u001b[0m\u001b[1;33m]\u001b[0m \u001b[1;33m=\u001b[0m \u001b[1;33m[\u001b[0m\u001b[0msub\u001b[0m\u001b[1;33m[\u001b[0m\u001b[0mi\u001b[0m\u001b[1;33m]\u001b[0m\u001b[1;33m[\u001b[0m\u001b[1;36m3\u001b[0m\u001b[1;33m:\u001b[0m\u001b[1;33m]\u001b[0m\u001b[1;33m.\u001b[0m\u001b[0mlower\u001b[0m\u001b[1;33m(\u001b[0m\u001b[1;33m)\u001b[0m \u001b[1;32mfor\u001b[0m \u001b[0mi\u001b[0m \u001b[1;32min\u001b[0m \u001b[0mrange\u001b[0m\u001b[1;33m(\u001b[0m\u001b[0mrank\u001b[0m\u001b[1;33m(\u001b[0m\u001b[1;34m\"AU\"\u001b[0m\u001b[1;33m)\u001b[0m\u001b[1;33m,\u001b[0m\u001b[0mrank\u001b[0m\u001b[1;33m(\u001b[0m\u001b[1;34m\"AF\"\u001b[0m\u001b[1;33m)\u001b[0m\u001b[1;33m)\u001b[0m\u001b[1;33m]\u001b[0m\u001b[1;33m\u001b[0m\u001b[0m\n\u001b[0;32m      8\u001b[0m     \u001b[0mtmp\u001b[0m\u001b[1;33m[\u001b[0m\u001b[1;34m\"bibliography\"\u001b[0m\u001b[1;33m]\u001b[0m \u001b[1;33m=\u001b[0m \u001b[1;33m[\u001b[0m\u001b[0msub\u001b[0m\u001b[1;33m[\u001b[0m\u001b[0mi\u001b[0m\u001b[1;33m]\u001b[0m\u001b[1;33m[\u001b[0m\u001b[1;36m3\u001b[0m\u001b[1;33m:\u001b[0m\u001b[1;33m]\u001b[0m\u001b[1;33m.\u001b[0m\u001b[0mlower\u001b[0m\u001b[1;33m(\u001b[0m\u001b[1;33m)\u001b[0m \u001b[1;32mfor\u001b[0m \u001b[0mi\u001b[0m \u001b[1;32min\u001b[0m \u001b[0mrange\u001b[0m\u001b[1;33m(\u001b[0m\u001b[0mrank\u001b[0m\u001b[1;33m(\u001b[0m\u001b[1;34m\"CR\"\u001b[0m\u001b[1;33m)\u001b[0m\u001b[1;33m,\u001b[0m\u001b[0mrank\u001b[0m\u001b[1;33m(\u001b[0m\u001b[1;34m\"NR\"\u001b[0m\u001b[1;33m)\u001b[0m\u001b[1;33m)\u001b[0m\u001b[1;33m]\u001b[0m\u001b[1;33m\u001b[0m\u001b[0m\n",
      "\u001b[1;32m<ipython-input-63-4c67257f4b6a>\u001b[0m in \u001b[0;36mrank\u001b[1;34m(code)\u001b[0m\n\u001b[0;32m      1\u001b[0m \u001b[1;32mdef\u001b[0m \u001b[0mrank\u001b[0m\u001b[1;33m(\u001b[0m\u001b[0mcode\u001b[0m\u001b[1;33m)\u001b[0m\u001b[1;33m:\u001b[0m\u001b[1;33m\u001b[0m\u001b[0m\n\u001b[1;32m----> 2\u001b[1;33m     \u001b[1;32mreturn\u001b[0m \u001b[1;33m[\u001b[0m\u001b[0mi\u001b[0m \u001b[1;32mfor\u001b[0m \u001b[0mi\u001b[0m \u001b[1;32min\u001b[0m \u001b[0mrange\u001b[0m\u001b[1;33m(\u001b[0m\u001b[1;36m0\u001b[0m\u001b[1;33m,\u001b[0m\u001b[0mlen\u001b[0m\u001b[1;33m(\u001b[0m\u001b[0msub\u001b[0m\u001b[1;33m)\u001b[0m\u001b[1;33m)\u001b[0m \u001b[1;32mif\u001b[0m \u001b[0mcode\u001b[0m\u001b[1;33m+\u001b[0m\u001b[1;34m\" \"\u001b[0m \u001b[1;33m==\u001b[0m \u001b[0msub\u001b[0m\u001b[1;33m[\u001b[0m\u001b[0mi\u001b[0m\u001b[1;33m]\u001b[0m\u001b[1;33m[\u001b[0m\u001b[1;36m0\u001b[0m\u001b[1;33m:\u001b[0m\u001b[1;36m3\u001b[0m\u001b[1;33m]\u001b[0m\u001b[1;33m]\u001b[0m\u001b[1;33m[\u001b[0m\u001b[1;36m0\u001b[0m\u001b[1;33m]\u001b[0m\u001b[1;33m\u001b[0m\u001b[0m\n\u001b[0m\u001b[0;32m      3\u001b[0m \u001b[1;33m\u001b[0m\u001b[0m\n\u001b[0;32m      4\u001b[0m \u001b[1;32mdef\u001b[0m \u001b[0mextract\u001b[0m\u001b[1;33m(\u001b[0m\u001b[0msub\u001b[0m\u001b[1;33m)\u001b[0m\u001b[1;33m:\u001b[0m\u001b[1;33m\u001b[0m\u001b[0m\n\u001b[0;32m      5\u001b[0m     \u001b[0mtmp\u001b[0m \u001b[1;33m=\u001b[0m \u001b[1;33m{\u001b[0m\u001b[1;33m}\u001b[0m\u001b[1;33m\u001b[0m\u001b[0m\n",
      "\u001b[1;32m<ipython-input-63-4c67257f4b6a>\u001b[0m in \u001b[0;36m<listcomp>\u001b[1;34m(.0)\u001b[0m\n\u001b[0;32m      1\u001b[0m \u001b[1;32mdef\u001b[0m \u001b[0mrank\u001b[0m\u001b[1;33m(\u001b[0m\u001b[0mcode\u001b[0m\u001b[1;33m)\u001b[0m\u001b[1;33m:\u001b[0m\u001b[1;33m\u001b[0m\u001b[0m\n\u001b[1;32m----> 2\u001b[1;33m     \u001b[1;32mreturn\u001b[0m \u001b[1;33m[\u001b[0m\u001b[0mi\u001b[0m \u001b[1;32mfor\u001b[0m \u001b[0mi\u001b[0m \u001b[1;32min\u001b[0m \u001b[0mrange\u001b[0m\u001b[1;33m(\u001b[0m\u001b[1;36m0\u001b[0m\u001b[1;33m,\u001b[0m\u001b[0mlen\u001b[0m\u001b[1;33m(\u001b[0m\u001b[0msub\u001b[0m\u001b[1;33m)\u001b[0m\u001b[1;33m)\u001b[0m \u001b[1;32mif\u001b[0m \u001b[0mcode\u001b[0m\u001b[1;33m+\u001b[0m\u001b[1;34m\" \"\u001b[0m \u001b[1;33m==\u001b[0m \u001b[0msub\u001b[0m\u001b[1;33m[\u001b[0m\u001b[0mi\u001b[0m\u001b[1;33m]\u001b[0m\u001b[1;33m[\u001b[0m\u001b[1;36m0\u001b[0m\u001b[1;33m:\u001b[0m\u001b[1;36m3\u001b[0m\u001b[1;33m]\u001b[0m\u001b[1;33m]\u001b[0m\u001b[1;33m[\u001b[0m\u001b[1;36m0\u001b[0m\u001b[1;33m]\u001b[0m\u001b[1;33m\u001b[0m\u001b[0m\n\u001b[0m\u001b[0;32m      3\u001b[0m \u001b[1;33m\u001b[0m\u001b[0m\n\u001b[0;32m      4\u001b[0m \u001b[1;32mdef\u001b[0m \u001b[0mextract\u001b[0m\u001b[1;33m(\u001b[0m\u001b[0msub\u001b[0m\u001b[1;33m)\u001b[0m\u001b[1;33m:\u001b[0m\u001b[1;33m\u001b[0m\u001b[0m\n\u001b[0;32m      5\u001b[0m     \u001b[0mtmp\u001b[0m \u001b[1;33m=\u001b[0m \u001b[1;33m{\u001b[0m\u001b[1;33m}\u001b[0m\u001b[1;33m\u001b[0m\u001b[0m\n",
      "\u001b[1;31mKeyError\u001b[0m: 0"
     ]
    }
   ],
   "source": [
    "r = []\n",
    "while data.index('PT J'):\n",
    "    begin = data.index('PT J')\n",
    "    end = data.index('ER')\n",
    "    sub = extract(data[begin+1:end-1])\n",
    "    r.append(sub)\n",
    "    data = data[end:]\n",
    "    print(sub[\"title\"])"
   ]
  },
  {
   "cell_type": "code",
   "execution_count": 75,
   "metadata": {
    "collapsed": false
   },
   "outputs": [
    {
     "ename": "KeyError",
     "evalue": "0",
     "output_type": "error",
     "traceback": [
      "\u001b[1;31m---------------------------------------------------------------------------\u001b[0m",
      "\u001b[1;31mKeyError\u001b[0m                                  Traceback (most recent call last)",
      "\u001b[1;32m<ipython-input-75-4fc3b7e4495b>\u001b[0m in \u001b[0;36m<module>\u001b[1;34m()\u001b[0m\n\u001b[1;32m----> 1\u001b[1;33m \u001b[0mextract\u001b[0m\u001b[1;33m(\u001b[0m\u001b[0msub\u001b[0m\u001b[1;33m)\u001b[0m\u001b[1;33m\u001b[0m\u001b[0m\n\u001b[0m",
      "\u001b[1;32m<ipython-input-63-4c67257f4b6a>\u001b[0m in \u001b[0;36mextract\u001b[1;34m(sub)\u001b[0m\n\u001b[0;32m      4\u001b[0m \u001b[1;32mdef\u001b[0m \u001b[0mextract\u001b[0m\u001b[1;33m(\u001b[0m\u001b[0msub\u001b[0m\u001b[1;33m)\u001b[0m\u001b[1;33m:\u001b[0m\u001b[1;33m\u001b[0m\u001b[0m\n\u001b[0;32m      5\u001b[0m     \u001b[0mtmp\u001b[0m \u001b[1;33m=\u001b[0m \u001b[1;33m{\u001b[0m\u001b[1;33m}\u001b[0m\u001b[1;33m\u001b[0m\u001b[0m\n\u001b[1;32m----> 6\u001b[1;33m     \u001b[0mtmp\u001b[0m\u001b[1;33m[\u001b[0m\u001b[1;34m\"authors\"\u001b[0m\u001b[1;33m]\u001b[0m \u001b[1;33m=\u001b[0m \u001b[1;33m[\u001b[0m\u001b[0msub\u001b[0m\u001b[1;33m[\u001b[0m\u001b[0mi\u001b[0m\u001b[1;33m]\u001b[0m\u001b[1;33m[\u001b[0m\u001b[1;36m3\u001b[0m\u001b[1;33m:\u001b[0m\u001b[1;33m]\u001b[0m\u001b[1;33m.\u001b[0m\u001b[0mlower\u001b[0m\u001b[1;33m(\u001b[0m\u001b[1;33m)\u001b[0m \u001b[1;32mfor\u001b[0m \u001b[0mi\u001b[0m \u001b[1;32min\u001b[0m \u001b[0mrange\u001b[0m\u001b[1;33m(\u001b[0m\u001b[0mrank\u001b[0m\u001b[1;33m(\u001b[0m\u001b[1;34m\"C1\"\u001b[0m\u001b[1;33m)\u001b[0m\u001b[1;33m,\u001b[0m\u001b[0mrank\u001b[0m\u001b[1;33m(\u001b[0m\u001b[1;34m\"RP\"\u001b[0m\u001b[1;33m)\u001b[0m\u001b[1;33m)\u001b[0m\u001b[1;33m]\u001b[0m\u001b[1;33m\u001b[0m\u001b[0m\n\u001b[0m\u001b[0;32m      7\u001b[0m     \u001b[0mtmp\u001b[0m\u001b[1;33m[\u001b[0m\u001b[1;34m\"authors_full\"\u001b[0m\u001b[1;33m]\u001b[0m \u001b[1;33m=\u001b[0m \u001b[1;33m[\u001b[0m\u001b[0msub\u001b[0m\u001b[1;33m[\u001b[0m\u001b[0mi\u001b[0m\u001b[1;33m]\u001b[0m\u001b[1;33m[\u001b[0m\u001b[1;36m3\u001b[0m\u001b[1;33m:\u001b[0m\u001b[1;33m]\u001b[0m\u001b[1;33m.\u001b[0m\u001b[0mlower\u001b[0m\u001b[1;33m(\u001b[0m\u001b[1;33m)\u001b[0m \u001b[1;32mfor\u001b[0m \u001b[0mi\u001b[0m \u001b[1;32min\u001b[0m \u001b[0mrange\u001b[0m\u001b[1;33m(\u001b[0m\u001b[0mrank\u001b[0m\u001b[1;33m(\u001b[0m\u001b[1;34m\"AU\"\u001b[0m\u001b[1;33m)\u001b[0m\u001b[1;33m,\u001b[0m\u001b[0mrank\u001b[0m\u001b[1;33m(\u001b[0m\u001b[1;34m\"AF\"\u001b[0m\u001b[1;33m)\u001b[0m\u001b[1;33m)\u001b[0m\u001b[1;33m]\u001b[0m\u001b[1;33m\u001b[0m\u001b[0m\n\u001b[0;32m      8\u001b[0m     \u001b[0mtmp\u001b[0m\u001b[1;33m[\u001b[0m\u001b[1;34m\"bibliography\"\u001b[0m\u001b[1;33m]\u001b[0m \u001b[1;33m=\u001b[0m \u001b[1;33m[\u001b[0m\u001b[0msub\u001b[0m\u001b[1;33m[\u001b[0m\u001b[0mi\u001b[0m\u001b[1;33m]\u001b[0m\u001b[1;33m[\u001b[0m\u001b[1;36m3\u001b[0m\u001b[1;33m:\u001b[0m\u001b[1;33m]\u001b[0m\u001b[1;33m.\u001b[0m\u001b[0mlower\u001b[0m\u001b[1;33m(\u001b[0m\u001b[1;33m)\u001b[0m \u001b[1;32mfor\u001b[0m \u001b[0mi\u001b[0m \u001b[1;32min\u001b[0m \u001b[0mrange\u001b[0m\u001b[1;33m(\u001b[0m\u001b[0mrank\u001b[0m\u001b[1;33m(\u001b[0m\u001b[1;34m\"CR\"\u001b[0m\u001b[1;33m)\u001b[0m\u001b[1;33m,\u001b[0m\u001b[0mrank\u001b[0m\u001b[1;33m(\u001b[0m\u001b[1;34m\"NR\"\u001b[0m\u001b[1;33m)\u001b[0m\u001b[1;33m)\u001b[0m\u001b[1;33m]\u001b[0m\u001b[1;33m\u001b[0m\u001b[0m\n",
      "\u001b[1;32m<ipython-input-63-4c67257f4b6a>\u001b[0m in \u001b[0;36mrank\u001b[1;34m(code)\u001b[0m\n\u001b[0;32m      1\u001b[0m \u001b[1;32mdef\u001b[0m \u001b[0mrank\u001b[0m\u001b[1;33m(\u001b[0m\u001b[0mcode\u001b[0m\u001b[1;33m)\u001b[0m\u001b[1;33m:\u001b[0m\u001b[1;33m\u001b[0m\u001b[0m\n\u001b[1;32m----> 2\u001b[1;33m     \u001b[1;32mreturn\u001b[0m \u001b[1;33m[\u001b[0m\u001b[0mi\u001b[0m \u001b[1;32mfor\u001b[0m \u001b[0mi\u001b[0m \u001b[1;32min\u001b[0m \u001b[0mrange\u001b[0m\u001b[1;33m(\u001b[0m\u001b[1;36m0\u001b[0m\u001b[1;33m,\u001b[0m\u001b[0mlen\u001b[0m\u001b[1;33m(\u001b[0m\u001b[0msub\u001b[0m\u001b[1;33m)\u001b[0m\u001b[1;33m)\u001b[0m \u001b[1;32mif\u001b[0m \u001b[0mcode\u001b[0m\u001b[1;33m+\u001b[0m\u001b[1;34m\" \"\u001b[0m \u001b[1;33m==\u001b[0m \u001b[0msub\u001b[0m\u001b[1;33m[\u001b[0m\u001b[0mi\u001b[0m\u001b[1;33m]\u001b[0m\u001b[1;33m[\u001b[0m\u001b[1;36m0\u001b[0m\u001b[1;33m:\u001b[0m\u001b[1;36m3\u001b[0m\u001b[1;33m]\u001b[0m\u001b[1;33m]\u001b[0m\u001b[1;33m[\u001b[0m\u001b[1;36m0\u001b[0m\u001b[1;33m]\u001b[0m\u001b[1;33m\u001b[0m\u001b[0m\n\u001b[0m\u001b[0;32m      3\u001b[0m \u001b[1;33m\u001b[0m\u001b[0m\n\u001b[0;32m      4\u001b[0m \u001b[1;32mdef\u001b[0m \u001b[0mextract\u001b[0m\u001b[1;33m(\u001b[0m\u001b[0msub\u001b[0m\u001b[1;33m)\u001b[0m\u001b[1;33m:\u001b[0m\u001b[1;33m\u001b[0m\u001b[0m\n\u001b[0;32m      5\u001b[0m     \u001b[0mtmp\u001b[0m \u001b[1;33m=\u001b[0m \u001b[1;33m{\u001b[0m\u001b[1;33m}\u001b[0m\u001b[1;33m\u001b[0m\u001b[0m\n",
      "\u001b[1;32m<ipython-input-63-4c67257f4b6a>\u001b[0m in \u001b[0;36m<listcomp>\u001b[1;34m(.0)\u001b[0m\n\u001b[0;32m      1\u001b[0m \u001b[1;32mdef\u001b[0m \u001b[0mrank\u001b[0m\u001b[1;33m(\u001b[0m\u001b[0mcode\u001b[0m\u001b[1;33m)\u001b[0m\u001b[1;33m:\u001b[0m\u001b[1;33m\u001b[0m\u001b[0m\n\u001b[1;32m----> 2\u001b[1;33m     \u001b[1;32mreturn\u001b[0m \u001b[1;33m[\u001b[0m\u001b[0mi\u001b[0m \u001b[1;32mfor\u001b[0m \u001b[0mi\u001b[0m \u001b[1;32min\u001b[0m \u001b[0mrange\u001b[0m\u001b[1;33m(\u001b[0m\u001b[1;36m0\u001b[0m\u001b[1;33m,\u001b[0m\u001b[0mlen\u001b[0m\u001b[1;33m(\u001b[0m\u001b[0msub\u001b[0m\u001b[1;33m)\u001b[0m\u001b[1;33m)\u001b[0m \u001b[1;32mif\u001b[0m \u001b[0mcode\u001b[0m\u001b[1;33m+\u001b[0m\u001b[1;34m\" \"\u001b[0m \u001b[1;33m==\u001b[0m \u001b[0msub\u001b[0m\u001b[1;33m[\u001b[0m\u001b[0mi\u001b[0m\u001b[1;33m]\u001b[0m\u001b[1;33m[\u001b[0m\u001b[1;36m0\u001b[0m\u001b[1;33m:\u001b[0m\u001b[1;36m3\u001b[0m\u001b[1;33m]\u001b[0m\u001b[1;33m]\u001b[0m\u001b[1;33m[\u001b[0m\u001b[1;36m0\u001b[0m\u001b[1;33m]\u001b[0m\u001b[1;33m\u001b[0m\u001b[0m\n\u001b[0m\u001b[0;32m      3\u001b[0m \u001b[1;33m\u001b[0m\u001b[0m\n\u001b[0;32m      4\u001b[0m \u001b[1;32mdef\u001b[0m \u001b[0mextract\u001b[0m\u001b[1;33m(\u001b[0m\u001b[0msub\u001b[0m\u001b[1;33m)\u001b[0m\u001b[1;33m:\u001b[0m\u001b[1;33m\u001b[0m\u001b[0m\n\u001b[0;32m      5\u001b[0m     \u001b[0mtmp\u001b[0m \u001b[1;33m=\u001b[0m \u001b[1;33m{\u001b[0m\u001b[1;33m}\u001b[0m\u001b[1;33m\u001b[0m\u001b[0m\n",
      "\u001b[1;31mKeyError\u001b[0m: 0"
     ]
    }
   ],
   "source": [
    "extract(sub)"
   ]
  },
  {
   "cell_type": "markdown",
   "metadata": {},
   "source": [
    "### Loading corpus"
   ]
  },
  {
   "cell_type": "code",
   "execution_count": 11,
   "metadata": {
    "collapsed": false
   },
   "outputs": [],
   "source": [
    "papers = []\n",
    "for i in os.listdir(\"wos-python/\"):\n",
    "    papers+=wos.read(\"wos-python/\"+i)"
   ]
  },
  {
   "cell_type": "code",
   "execution_count": 12,
   "metadata": {
    "collapsed": false
   },
   "outputs": [],
   "source": [
    "wospy = Corpus(papers)\n",
    "wospy.abstract_to_features()"
   ]
  },
  {
   "cell_type": "code",
   "execution_count": 31,
   "metadata": {
    "collapsed": false
   },
   "outputs": [
    {
     "name": "stdout",
     "output_type": "stream",
     "text": [
      "Supervised Segmentation of Polycystic Kidneys: a New Application for Stereology Data\n",
      "WARNER JD 2014 JOURNAL OF DIGITAL IMAGING\n",
      "Pharmacokinetics of subcutaneous versus intramuscular administration of ceftiofur crystalline-free acid to bearded dragons (Pogona vitticeps)\n",
      "CHURGIN SM 2014 AMERICAN JOURNAL OF VETERINARY RESEARCH\n",
      "Physiological flexibility and climate change: The case of digestive function regulation in lizards\n",
      "NAYA DE 2011 COMPARATIVE BIOCHEMISTRY AND PHYSIOLOGY A-MOLECULAR & INTEGRATIVE PHYSIOLOGY\n",
      "Metazoan Remaining Genes for Essential Amino Acid Biosynthesis: Sequence Conservation and Evolutionary Analyses\n",
      "COSTA IR 2015 NUTRIENTS\n",
      "The effects of feeding on cell morphology and proliferation of the gastrointestinal tract of juvenile Burmese pythons (Python molurus)\n",
      "HELMSTETTER C 2009 CANADIAN JOURNAL OF ZOOLOGY-REVUE CANADIENNE DE ZOOLOGIE\n",
      "Designing a Wearable Navigation System for Image-Guided Cancer Resection Surgery\n",
      "SHAO PF 2014 ANNALS OF BIOMEDICAL ENGINEERING\n",
      "Physiological and morphological responses to the first bout of refeeding in southern catfish (Silurus meridionalis)\n",
      "ZENG LQ 2014 JOURNAL OF COMPARATIVE PHYSIOLOGY B-BIOCHEMICAL SYSTEMIC AND ENVIRONMENTAL PHYSIOLOGY\n",
      "Integrating Google Maps/Earth Into an Automated Oil Spill Forecast System\n",
      "HOU XL 2014 MARINE TECHNOLOGY SOCIETY JOURNAL\n",
      "Structure and function of the esophagus of the American alligator (Alligator mississippiensis)\n",
      "URIONA TJ 2005 JOURNAL OF EXPERIMENTAL BIOLOGY\n",
      "FIRST REPORT OF PARASITISM BY OPHIDASCARIS ROBERTSI (NEMATODA) IN A SUGAR GLIDER (PETAURUS BREVICEPS, MARSUPIALIA)\n",
      "AGUNDEZ MG 2014 JOURNAL OF ZOO AND WILDLIFE MEDICINE\n",
      "Dehydration: A mechanism for the preservation of fine detail in fossilised soft tissue of ancient terrestrial animals\n",
      "LINGHAM-SOLIAR T 2010 PALAEOGEOGRAPHY PALAEOCLIMATOLOGY PALAEOECOLOGY\n",
      "Suppression of bloodfeeding by Ochlerotatus dorsalis and Ochlerotatus melanimon on cattle treated with Python (TM) ear tags\n",
      "LLOYD JE 2002 JOURNAL OF THE AMERICAN MOSQUITO CONTROL ASSOCIATION\n",
      "Geospatial web services within a scientific workflow: Predicting marine mammal habitats in a dynamic environment\n",
      "BEST BD 2007 ECOLOGICAL INFORMATICS\n",
      "The Mount Kare python and his gold: Totemism and ecology in the Papua New Guinea highlands\n",
      "BIERSACK A 1999 AMERICAN ANTHROPOLOGIST\n",
      "Three-dimensional segmentation and skeletonization to build an airway tree data structure for small animals\n",
      "CHATURVEDI A 2005 PHYSICS IN MEDICINE AND BIOLOGY\n",
      "DoRiNA 2.0-upgrading the doRiNA database of RNA interactions in post-transcriptional regulation\n",
      "BLIN K 2015 NUCLEIC ACIDS RESEARCH\n",
      "Diseases of green tree pythons [Morelia (Chondropython) viridis] caused by mal-management\n",
      "GAL J 2004 MAGYAR ALLATORVOSOK LAPJA\n",
      "Suppressive effect of secretory phospholipase A(2) inhibitory peptide on interleukin-1 beta-induced matrix metalloproteinase production in rheumatoid synovial fibroblasts, and its antiarthritic activity in hTNFtg mice\n",
      "THWIN MM 2009 ARTHRITIS RESEARCH & THERAPY\n",
      "Ticks on captive and free-living wild animals in northeastern Brazil\n",
      "DANTAS-TORRES F 2010 EXPERIMENTAL AND APPLIED ACAROLOGY\n",
      "Seasonal Flexibility of Organ Mass and Intestinal Function for the Andean Lizard Liolaemus nigroviridis\n",
      "NAYA DE 2009 JOURNAL OF EXPERIMENTAL ZOOLOGY PART A-ECOLOGICAL GENETICS AND PHYSIOLOGY\n",
      "Molecular Detection of Hemoprotozoa and Rickettsia Species in Arthropods Collected from Wild Animals in the Burgos Province, Spain\n",
      "LLEDO L 2010 VECTOR-BORNE AND ZOONOTIC DISEASES\n",
      "Visualization and analysis of atomistic simulation data with OVITO-the Open Visualization Tool\n",
      "STUKOWSKI A 2010 MODELLING AND SIMULATION IN MATERIALS SCIENCE AND ENGINEERING\n",
      "Applying spatial analysis of genetic and environmental data to predict connection corridors to the New World screwworm populations in South America\n",
      "FRESIA P 2014 ACTA TROPICA\n",
      "Effect of body size and ration on specific dynamic action in the Antarctic plunderfish, Harpagifer antarcticus Nybelin 1947\n",
      "BOYCE SJ 1997 PHYSIOLOGICAL ZOOLOGY\n",
      "The effects of starvation on digestive tract function and structure in juvenile southern catfish (Silurus meridionalis Chen)\n",
      "ZENG LQ 2012 COMPARATIVE BIOCHEMISTRY AND PHYSIOLOGY A-MOLECULAR & INTEGRATIVE PHYSIOLOGY\n",
      "Comparison of Sanger and next generation sequencing performance for genotyping Cryptosporidium isolates at the 18S rRNA and actin loci\n",
      "PAPARINI A 2015 EXPERIMENTAL PARASITOLOGY\n",
      "The effect of short- and long-term fasting on digestive and metabolic flexibility in the Andean toad, Bufo spinulosus\n",
      "NAYA DE 2009 JOURNAL OF EXPERIMENTAL BIOLOGY\n",
      "The ASAP II database: analysis and comparative genomics of alternative splicing in 15 animal species\n",
      "KIM N 2007 NUCLEIC ACIDS RESEARCH\n",
      "Myriad: Scalable VR via peer-to-peer connectivity, PC clustering, and transient inconsistency\n",
      "SCHAEFFER B 2007 COMPUTER ANIMATION AND VIRTUAL WORLDS\n",
      "An On-the-Fly Surface-Hopping Program JADE for Nonadiabatic Molecular Dynamics of Polyatomic Systems: Implementation and Applications\n",
      "DU LK 2015 JOURNAL OF CHEMICAL THEORY AND COMPUTATION\n",
      "Effects of prey type on specific dynamic action, growth, and mass conversion efficiencies in the horned frog, Ceratophrys cranwelli\n",
      "GRAYSON KL 2005 COMPARATIVE BIOCHEMISTRY AND PHYSIOLOGY A-MOLECULAR & INTEGRATIVE PHYSIOLOGY\n",
      "Regulation of gut function varies with life-history traits in chuckwallas (Sauromalus obesus : Iguanidae)\n",
      "TRACY CR 2005 PHYSIOLOGICAL AND BIOCHEMICAL ZOOLOGY\n",
      "Compensating for a bad start: Catch-up growth in juvenile lizards (Amphibolurus muricatus, Agamidae)\n",
      "RADDER RS 2007 JOURNAL OF EXPERIMENTAL ZOOLOGY PART A-ECOLOGICAL GENETICS AND PHYSIOLOGY\n",
      "Intralaboratory validation of four in vitro assays for the prediction of the skin sensitizing potential of chemicals\n",
      "BAUCH C 2011 TOXICOLOGY IN VITRO\n",
      "Computer-Assisted 3D Kinematic Analysis of All Leg Joints in Walking Insects\n",
      "BENDER JA 2010 PLOS ONE\n",
      "DecoyFinder: an easy-to-use python GUI application for building target-specific decoy sets\n",
      "CERETO-MASSAGUE A 2012 BIOINFORMATICS\n",
      "Small intestine histomorphometry of beef cattle with divergent feed efficiency\n",
      "MONTANHOLI Y 2013 ACTA VETERINARIA SCANDINAVICA\n",
      "New insights into the physiology of natural foraging\n",
      "BURNS JM 2006 PHYSIOLOGICAL AND BIOCHEMICAL ZOOLOGY\n",
      "Colour differentiation in a coral reef fish throughout ontogeny: habitat background and flexibility\n",
      "FREDERICH B 2010 AQUATIC BIOLOGY\n",
      "EVALUATION OF MOSQUITO RESPONSES TO PYRETHROID INSECTICIDES TOPICALLY APPLIED TO SHEEP\n",
      "JOHNSON GD 2013 JOURNAL OF THE AMERICAN MOSQUITO CONTROL ASSOCIATION\n",
      "\"Fluvial Corridor\": A new ArcGIS toolbox package for multiscale riverscape exploration\n",
      "ROUX C 2015 GEOMORPHOLOGY\n",
      "Changes in the rate of CO2 release following feeding in the insect Rhodnius prolixus\n",
      "BRADLEY TJ 2003 PHYSIOLOGICAL AND BIOCHEMICAL ZOOLOGY\n",
      "Morphological changes of the rat intestinal lining in relation to body stores depletion during fasting and after refeeding\n",
      "HABOLD C 2007 PFLUGERS ARCHIV-EUROPEAN JOURNAL OF PHYSIOLOGY\n",
      "Exploratory trial to determine the efficacy of the PYthon (R) and the PYthon (R) Magnum (TM) slow-release insecticide ear tags for the control of midges (Culicoides spp.), attacking sheep and cattle and flies attacking cattle\n",
      "GOOSEN H 2012 TIJDSCHRIFT VOOR DIERGENEESKUNDE\n",
      "Introduction: Shakespeare and the Meaning of Life\n",
      "MOUSLEY A 2009 SHAKESPEARE\n",
      "Facilitating Drug Discovery: An Automated High-content Inflammation Assay in Zebrafish\n",
      "WITTMANN C 2012 JOVE-JOURNAL OF VISUALIZED EXPERIMENTS\n",
      "Primate Drum Kit: A System for Studying Acoustic Pattern Production by Non-Human Primates Using Acceleration and Strain Sensors\n",
      "RAVIGNANI A 2013 SENSORS\n",
      "ePMV Embeds Molecular Modeling into Professional Animation Software Environments\n",
      "JOHNSON GT 2011 STRUCTURE\n",
      "Field observations on the common striped possum (Dactylopsila trivirgata) in North Queensland\n",
      "HANDASYDE KA 1996 WILDLIFE RESEARCH\n",
      "Digestive flexibility during fasting in the characid fishHyphessobrycon luetkenii\n",
      "GAUCHER L 2012 JOURNAL OF MORPHOLOGY\n",
      "Vobi One: a data processing software package for functional optical imaging\n",
      "TAKERKART S 2014 FRONTIERS IN NEUROSCIENCE\n",
      "Ancient scientific basis of the \"great serpent\" from historical evidence\n",
      "STOTHERS RB 2004 ISIS\n",
      "Functional Changes with Feeding in the Gastro-Intestinal Epithelia of the Burmese Python (Python molurus)\n",
      "HELMSTETTER C 2009 ZOOLOGICAL SCIENCE\n",
      "Are declines of an endangered mammal predation-driven, and can a captive-breeding and release program aid their recovery?\n",
      "MCCLEERY R 2013 JOURNAL OF ZOOLOGY\n",
      "Discussion of actual legal minimum requirements for feeder space and perch length in laying hen husbandry in the light of the body widths measured in Lohmann Selected Leghorn and Lohmann Brown laying hens\n",
      "BRIESE A 2013 BERLINER UND MUNCHENER TIERARZTLICHE WOCHENSCHRIFT\n",
      "The Alimentary Canal of the African Lungfish Protopterus annectens During Aestivation and After Arousal\n",
      "ICARDO JM 2012 ANATOMICAL RECORD-ADVANCES IN INTEGRATIVE ANATOMY AND EVOLUTIONARY BIOLOGY\n",
      "Small mammals as patients in veterinary practice\n",
      "KRAFT W 2005 TIERAERZTLICHE PRAXIS AUSGABE KLEINTIERE HEIMTIERE\n",
      "Energetic cost of a meal in a frequent feeding lizard\n",
      "IGLESIAS S 2003 COMPARATIVE BIOCHEMISTRY AND PHYSIOLOGY A-MOLECULAR & INTEGRATIVE PHYSIOLOGY\n",
      "NCWin - A component object model (COM) for processing and visualizing NetCDF data\n",
      "LIU JX 2005 CARTOGRAPHIC JOURNAL\n",
      "Changes to a population of common ringtail possums (Pseudocheirus peregrinus) after bushfire\n",
      "RUSSELL BG 2003 WILDLIFE RESEARCH\n"
     ]
    }
   ],
   "source": [
    "for i in wospy.papers:\n",
    "    if \"anim\" in str(wospy.papers[i][\"abstract\"]):\n",
    "        print(wospy.papers[i][\"atitle\"])\n",
    "        print(i)"
   ]
  },
  {
   "cell_type": "code",
   "execution_count": 35,
   "metadata": {
    "collapsed": false
   },
   "outputs": [],
   "source": [
    "kw = { 'threshold': 2, 'topn': 200 }"
   ]
  },
  {
   "cell_type": "code",
   "execution_count": 52,
   "metadata": {
    "collapsed": false
   },
   "outputs": [],
   "source": [
    "wospy.slice('date', 'time_period', window_size=10)\n",
    "G = tet.GraphCollection().build(wospy, 'date', 'papers', 'cocitation', method_kwargs=kw)"
   ]
  },
  {
   "cell_type": "code",
   "execution_count": 44,
   "metadata": {
    "collapsed": false
   },
   "outputs": [],
   "source": [
    "bc = tet.analyze.collection.algorithm(G, 'betweenness_centrality')"
   ]
  },
  {
   "cell_type": "code",
   "execution_count": 58,
   "metadata": {
    "collapsed": false,
    "scrolled": true
   },
   "outputs": [
    {
     "ename": "TypeError",
     "evalue": "nodes() got an unexpected keyword argument 'data'",
     "output_type": "error",
     "traceback": [
      "\u001b[1;31m---------------------------------------------------------------------------\u001b[0m",
      "\u001b[1;31mTypeError\u001b[0m                                 Traceback (most recent call last)",
      "\u001b[1;32m<ipython-input-58-bac46c338246>\u001b[0m in \u001b[0;36m<module>\u001b[1;34m()\u001b[0m\n\u001b[0;32m      1\u001b[0m \u001b[1;32mimport\u001b[0m \u001b[0mtethne\u001b[0m\u001b[1;33m.\u001b[0m\u001b[0mwriters\u001b[0m \u001b[1;32mas\u001b[0m \u001b[0mwt\u001b[0m\u001b[1;33m\u001b[0m\u001b[0m\n\u001b[1;32m----> 2\u001b[1;33m \u001b[0mwt\u001b[0m\u001b[1;33m.\u001b[0m\u001b[0mgraph\u001b[0m\u001b[1;33m.\u001b[0m\u001b[0mto_graphml\u001b[0m\u001b[1;33m(\u001b[0m\u001b[0mG\u001b[0m\u001b[1;33m,\u001b[0m \u001b[1;34m'cocitation.graphml'\u001b[0m\u001b[1;33m)\u001b[0m\u001b[1;33m\u001b[0m\u001b[0m\n\u001b[0m",
      "\u001b[1;32m/home/schultz/anaconda/envs/p2/lib/python2.7/site-packages/tethne/writers/graph.pyc\u001b[0m in \u001b[0;36mto_graphml\u001b[1;34m(graph, path, encoding, prettyprint)\u001b[0m\n\u001b[0;32m    192\u001b[0m         \u001b[1;33m.\u001b[0m\u001b[1;33m/\u001b[0m\u001b[0mgraphFolder\u001b[0m\u001b[1;33m/\u001b[0m\u001b[0mgraphFile\u001b[0m\u001b[1;33m.\u001b[0m\u001b[0mgraphml\u001b[0m\u001b[1;33m.\u001b[0m\u001b[1;33m\u001b[0m\u001b[0m\n\u001b[0;32m    193\u001b[0m     \"\"\"\n\u001b[1;32m--> 194\u001b[1;33m     \u001b[0mgraph\u001b[0m \u001b[1;33m=\u001b[0m \u001b[0m_strip_list_attributes\u001b[0m\u001b[1;33m(\u001b[0m\u001b[0mgraph\u001b[0m\u001b[1;33m)\u001b[0m\u001b[1;33m\u001b[0m\u001b[0m\n\u001b[0m\u001b[0;32m    195\u001b[0m \u001b[1;33m\u001b[0m\u001b[0m\n\u001b[0;32m    196\u001b[0m     \u001b[0mwriter\u001b[0m \u001b[1;33m=\u001b[0m \u001b[0mTethneGraphMLWriter\u001b[0m\u001b[1;33m(\u001b[0m\u001b[0mencoding\u001b[0m\u001b[1;33m=\u001b[0m\u001b[0mencoding\u001b[0m\u001b[1;33m,\u001b[0m \u001b[0mprettyprint\u001b[0m\u001b[1;33m=\u001b[0m\u001b[0mprettyprint\u001b[0m\u001b[1;33m)\u001b[0m\u001b[1;33m\u001b[0m\u001b[0m\n",
      "\u001b[1;32m/home/schultz/anaconda/envs/p2/lib/python2.7/site-packages/tethne/writers/graph.pyc\u001b[0m in \u001b[0;36m_strip_list_attributes\u001b[1;34m(G)\u001b[0m\n\u001b[0;32m    304\u001b[0m \u001b[1;33m\u001b[0m\u001b[0m\n\u001b[0;32m    305\u001b[0m \u001b[1;32mdef\u001b[0m \u001b[0m_strip_list_attributes\u001b[0m\u001b[1;33m(\u001b[0m\u001b[0mG\u001b[0m\u001b[1;33m)\u001b[0m\u001b[1;33m:\u001b[0m\u001b[1;33m\u001b[0m\u001b[0m\n\u001b[1;32m--> 306\u001b[1;33m     \u001b[1;32mfor\u001b[0m \u001b[0mn\u001b[0m \u001b[1;32min\u001b[0m \u001b[0mG\u001b[0m\u001b[1;33m.\u001b[0m\u001b[0mnodes\u001b[0m\u001b[1;33m(\u001b[0m\u001b[0mdata\u001b[0m\u001b[1;33m=\u001b[0m\u001b[0mTrue\u001b[0m\u001b[1;33m)\u001b[0m\u001b[1;33m:\u001b[0m\u001b[1;33m\u001b[0m\u001b[0m\n\u001b[0m\u001b[0;32m    307\u001b[0m         \u001b[1;32mfor\u001b[0m \u001b[0mk\u001b[0m\u001b[1;33m,\u001b[0m\u001b[0mv\u001b[0m \u001b[1;32min\u001b[0m \u001b[0mn\u001b[0m\u001b[1;33m[\u001b[0m\u001b[1;36m1\u001b[0m\u001b[1;33m]\u001b[0m\u001b[1;33m.\u001b[0m\u001b[0miteritems\u001b[0m\u001b[1;33m(\u001b[0m\u001b[1;33m)\u001b[0m\u001b[1;33m:\u001b[0m\u001b[1;33m\u001b[0m\u001b[0m\n\u001b[0;32m    308\u001b[0m             \u001b[1;32mif\u001b[0m \u001b[0mtype\u001b[0m\u001b[1;33m(\u001b[0m\u001b[0mv\u001b[0m\u001b[1;33m)\u001b[0m \u001b[1;32mis\u001b[0m \u001b[0mlist\u001b[0m\u001b[1;33m:\u001b[0m\u001b[1;33m\u001b[0m\u001b[0m\n",
      "\u001b[1;31mTypeError\u001b[0m: nodes() got an unexpected keyword argument 'data'"
     ]
    }
   ],
   "source": [
    "import tethne.writers as wt\n",
    "wt.graph.to_graphml(G, 'cocitation.graphml')"
   ]
  },
  {
   "cell_type": "code",
   "execution_count": 59,
   "metadata": {
    "collapsed": false
   },
   "outputs": [
    {
     "ename": "AttributeError",
     "evalue": "'GraphCollection' object has no attribute 'is_directed'",
     "output_type": "error",
     "traceback": [
      "\u001b[1;31m---------------------------------------------------------------------------\u001b[0m",
      "\u001b[1;31mAttributeError\u001b[0m                            Traceback (most recent call last)",
      "\u001b[1;32m<ipython-input-59-35232d8a97be>\u001b[0m in \u001b[0;36m<module>\u001b[1;34m()\u001b[0m\n\u001b[1;32m----> 1\u001b[1;33m \u001b[0mnetworkx\u001b[0m\u001b[1;33m.\u001b[0m\u001b[0mwrite_graphml\u001b[0m\u001b[1;33m(\u001b[0m\u001b[0mG\u001b[0m\u001b[1;33m,\u001b[0m\u001b[1;34m\"test\"\u001b[0m\u001b[1;33m)\u001b[0m\u001b[1;33m\u001b[0m\u001b[0m\n\u001b[0m",
      "\u001b[1;32m/home/schultz/.local/lib/python2.7/site-packages/networkx/readwrite/graphml.pyc\u001b[0m in \u001b[0;36mwrite_graphml\u001b[1;34m(G, path, encoding, prettyprint)\u001b[0m\n",
      "\u001b[1;32m/home/schultz/.local/lib/python2.7/site-packages/networkx/utils/decorators.pyc\u001b[0m in \u001b[0;36m_open_file\u001b[1;34m(func, *args, **kwargs)\u001b[0m\n\u001b[0;32m    218\u001b[0m         \u001b[1;31m# Finally, we call the original function, making sure to close the fobj.\u001b[0m\u001b[1;33m\u001b[0m\u001b[1;33m\u001b[0m\u001b[0m\n\u001b[0;32m    219\u001b[0m         \u001b[1;32mtry\u001b[0m\u001b[1;33m:\u001b[0m\u001b[1;33m\u001b[0m\u001b[0m\n\u001b[1;32m--> 220\u001b[1;33m             \u001b[0mresult\u001b[0m \u001b[1;33m=\u001b[0m \u001b[0mfunc\u001b[0m\u001b[1;33m(\u001b[0m\u001b[1;33m*\u001b[0m\u001b[0mnew_args\u001b[0m\u001b[1;33m,\u001b[0m \u001b[1;33m**\u001b[0m\u001b[0mkwargs\u001b[0m\u001b[1;33m)\u001b[0m\u001b[1;33m\u001b[0m\u001b[0m\n\u001b[0m\u001b[0;32m    221\u001b[0m         \u001b[1;32mfinally\u001b[0m\u001b[1;33m:\u001b[0m\u001b[1;33m\u001b[0m\u001b[0m\n\u001b[0;32m    222\u001b[0m             \u001b[1;32mif\u001b[0m \u001b[0mclose_fobj\u001b[0m\u001b[1;33m:\u001b[0m\u001b[1;33m\u001b[0m\u001b[0m\n",
      "\u001b[1;32m/home/schultz/.local/lib/python2.7/site-packages/networkx/readwrite/graphml.pyc\u001b[0m in \u001b[0;36mwrite_graphml\u001b[1;34m(G, path, encoding, prettyprint)\u001b[0m\n\u001b[0;32m     80\u001b[0m     \"\"\"\n\u001b[0;32m     81\u001b[0m     \u001b[0mwriter\u001b[0m \u001b[1;33m=\u001b[0m \u001b[0mGraphMLWriter\u001b[0m\u001b[1;33m(\u001b[0m\u001b[0mencoding\u001b[0m\u001b[1;33m=\u001b[0m\u001b[0mencoding\u001b[0m\u001b[1;33m,\u001b[0m\u001b[0mprettyprint\u001b[0m\u001b[1;33m=\u001b[0m\u001b[0mprettyprint\u001b[0m\u001b[1;33m)\u001b[0m\u001b[1;33m\u001b[0m\u001b[0m\n\u001b[1;32m---> 82\u001b[1;33m     \u001b[0mwriter\u001b[0m\u001b[1;33m.\u001b[0m\u001b[0madd_graph_element\u001b[0m\u001b[1;33m(\u001b[0m\u001b[0mG\u001b[0m\u001b[1;33m)\u001b[0m\u001b[1;33m\u001b[0m\u001b[0m\n\u001b[0m\u001b[0;32m     83\u001b[0m     \u001b[0mwriter\u001b[0m\u001b[1;33m.\u001b[0m\u001b[0mdump\u001b[0m\u001b[1;33m(\u001b[0m\u001b[0mpath\u001b[0m\u001b[1;33m)\u001b[0m\u001b[1;33m\u001b[0m\u001b[0m\n\u001b[0;32m     84\u001b[0m \u001b[1;33m\u001b[0m\u001b[0m\n",
      "\u001b[1;32m/home/schultz/.local/lib/python2.7/site-packages/networkx/readwrite/graphml.pyc\u001b[0m in \u001b[0;36madd_graph_element\u001b[1;34m(self, G)\u001b[0m\n\u001b[0;32m    330\u001b[0m         \u001b[0mSerialize\u001b[0m \u001b[0mgraph\u001b[0m \u001b[0mG\u001b[0m \u001b[1;32min\u001b[0m \u001b[0mGraphML\u001b[0m \u001b[0mto\u001b[0m \u001b[0mthe\u001b[0m \u001b[0mstream\u001b[0m\u001b[1;33m.\u001b[0m\u001b[1;33m\u001b[0m\u001b[0m\n\u001b[0;32m    331\u001b[0m         \"\"\"\n\u001b[1;32m--> 332\u001b[1;33m         \u001b[1;32mif\u001b[0m \u001b[0mG\u001b[0m\u001b[1;33m.\u001b[0m\u001b[0mis_directed\u001b[0m\u001b[1;33m(\u001b[0m\u001b[1;33m)\u001b[0m\u001b[1;33m:\u001b[0m\u001b[1;33m\u001b[0m\u001b[0m\n\u001b[0m\u001b[0;32m    333\u001b[0m             \u001b[0mdefault_edge_type\u001b[0m\u001b[1;33m=\u001b[0m\u001b[1;34m'directed'\u001b[0m\u001b[1;33m\u001b[0m\u001b[0m\n\u001b[0;32m    334\u001b[0m         \u001b[1;32melse\u001b[0m\u001b[1;33m:\u001b[0m\u001b[1;33m\u001b[0m\u001b[0m\n",
      "\u001b[1;31mAttributeError\u001b[0m: 'GraphCollection' object has no attribute 'is_directed'"
     ]
    }
   ],
   "source": [
    "networkx.write_graphml(G,\"test\")"
   ]
  }
 ],
 "metadata": {
  "kernelspec": {
   "display_name": "Python 3",
   "language": "python",
   "name": "python3"
  },
  "language_info": {
   "codemirror_mode": {
    "name": "ipython",
    "version": 3
   },
   "file_extension": ".py",
   "mimetype": "text/x-python",
   "name": "python",
   "nbconvert_exporter": "python",
   "pygments_lexer": "ipython3",
   "version": "3.4.3"
  }
 },
 "nbformat": 4,
 "nbformat_minor": 0
}
