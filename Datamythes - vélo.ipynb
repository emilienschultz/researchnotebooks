{
 "cells": [
  {
   "cell_type": "code",
   "execution_count": 211,
   "metadata": {
    "collapsed": true
   },
   "outputs": [],
   "source": [
    "%matplotlib inline\n",
    "import pandas as pd\n",
    "import twitter as tw\n",
    "import geopandas as gpd\n",
    "import pyproj\n",
    "import math\n",
    "import numpy as np\n",
    "import matplotlib.pyplot as plt"
   ]
  },
  {
   "cell_type": "code",
   "execution_count": 241,
   "metadata": {},
   "outputs": [],
   "source": [
    "df_mars = gpd.read_file(\"Scripts/export-6.geojson\")\n",
    "df_lyon = gpd.read_file(\"Scripts/vélo-lyonok.geojson\")\n",
    "df_stras = gpd.read_file(\"Scripts/vélo-stras-ok.geojson\")\n",
    "df_rennes = gpd.read_file(\"Scripts/vélo-Rennes-ok.geojson\")\n",
    "df_barc = gpd.read_file(\"Scripts/vélo-barcelone-ok.geojson\")\n",
    "\n",
    "\n",
    "df_mars = df_mars.set_index(\"id\")\n",
    "df_lyon = df_lyon.set_index(\"id\")\n",
    "df_stras = df_stras.set_index(\"id\")\n",
    "df_rennes = df_rennes.set_index(\"id\")\n",
    "df_barc = df_barc.set_index(\"id\")"
   ]
  },
  {
   "cell_type": "markdown",
   "metadata": {},
   "source": [
    "Fonction de calcul des distances"
   ]
  },
  {
   "cell_type": "code",
   "execution_count": 229,
   "metadata": {
    "collapsed": true
   },
   "outputs": [],
   "source": [
    "wgs84 =  pyproj.Proj('+init=EPSG:4326')\n",
    "lambert = pyproj.Proj('+init=EPSG:2154')\n",
    "def distance(L):\n",
    "    d = []\n",
    "    dis = 0\n",
    "    for i in range(0,len(L.xy[0])-1):\n",
    "        X,Y = pyproj.transform(wgs84,lambert,L.xy[0][i],L.xy[1][i])\n",
    "        d.append([X,Y])\n",
    "    for i in range(0,len(d)-1):\n",
    "        dis += math.sqrt((d[i+1][0]-d[i][0])**2+(d[i+1][1]-d[i][1])**2)/1000\n",
    "    return dis"
   ]
  },
  {
   "cell_type": "code",
   "execution_count": 242,
   "metadata": {
    "collapsed": true
   },
   "outputs": [],
   "source": [
    "df_mars[\"distance\"] = df.apply(lambda x : distance(x[\"geometry\"]),axis=1)\n",
    "df_lyon[\"distance\"] = df_lyon.apply(lambda x : distance(x[\"geometry\"]),axis=1)\n",
    "df_stras[\"distance\"] = df_stras.apply(lambda x : distance(x[\"geometry\"]),axis=1)\n",
    "df_rennes[\"distance\"] = df_rennes.apply(lambda x : distance(x[\"geometry\"]),axis=1)\n",
    "df_barc[\"distance\"]  = df_barc.apply(lambda x : distance(x[\"geometry\"]),axis=1)"
   ]
  },
  {
   "cell_type": "code",
   "execution_count": 258,
   "metadata": {},
   "outputs": [
    {
     "data": {
      "text/plain": [
       "<matplotlib.text.Text at 0x1182db240>"
      ]
     },
     "execution_count": 258,
     "metadata": {},
     "output_type": "execute_result"
    },
    {
     "data": {
      "image/png": "[encoded data removed]",
      "text/plain": [
       "<matplotlib.figure.Figure at 0x1147f9668>"
      ]
     },
     "metadata": {},
     "output_type": "display_data"
    }
   ],
   "source": [
    "D = [[\"Marseille\",df_mars[\"distance\"].sum()],\n",
    " [\"Lyon\",df_lyon[\"distance\"].sum()],\n",
    " [\"Rennes\",df_rennes[\"distance\"].sum()],\n",
    " [\"Strasbourg\",df_stras[\"distance\"].sum()],\n",
    " [\"Barcelone\",df_barc[\"distance\"].sum()]]\n",
    "pd.DataFrame(D).set_index(0).plot(kind=\"bar\")\n",
    "plt.title(\"Nombre cumulé de pistes cyclables OSM par ville\")\n",
    "plt.xlabel(\"Villes\")\n",
    "plt.ylabel(\"Km\")"
   ]
  },
  {
   "cell_type": "code",
   "execution_count": 240,
   "metadata": {},
   "outputs": [
    {
     "data": {
      "text/plain": [
       "<matplotlib.legend.Legend at 0x10897e8d0>"
      ]
     },
     "execution_count": 240,
     "metadata": {},
     "output_type": "execute_result"
    },
    {
     "data": {
      "image/png": "[encoded data removed]",
      "text/plain": [
       "<matplotlib.figure.Figure at 0x108993278>"
      ]
     },
     "metadata": {},
     "output_type": "display_data"
    }
   ],
   "source": [
    "b = np.linspace(0,3,30)\n",
    "ax = df[\"distance\"].hist(alpha=0.3,bins=b, normed=True)\n",
    "df_lyon[\"distance\"].hist(ax=ax,alpha=0.3,bins=b, normed=True)\n",
    "df_stras[\"distance\"].hist(ax=ax,alpha=0.3,bins=b, normed=True)\n",
    "\n",
    "plt.legend([\"Marseille\",\"Lyon\",\"Strasbourg\"])"
   ]
  },
  {
   "cell_type": "code",
   "execution_count": 219,
   "metadata": {},
   "outputs": [
    {
     "data": {
      "text/plain": [
       "cycleway    158\n",
       "service       4\n",
       "tertiary      1\n",
       "Name: highway, dtype: int64"
      ]
     },
     "execution_count": 219,
     "metadata": {},
     "output_type": "execute_result"
    }
   ],
   "source": [
    "df[\"highway\"].value_counts()"
   ]
  },
  {
   "cell_type": "code",
   "execution_count": 223,
   "metadata": {},
   "outputs": [
    {
     "data": {
      "text/plain": [
       "Index(['@id', 'highway', 'source', 'alt_name', 'name', 'oneway', 'one',\n",
       "       'bicycle', 'foot', 'segregated', 'level', 'surface', 'lit', 'layer',\n",
       "       'incline', 'cycleway', 'maxspeed', 'ref', 'access', 'motor_vehicle',\n",
       "       'tunnel', 'bicycle_road', 'vehicle', 'lanes', 'fixme', 'emergency',\n",
       "       'bridge', 'psv', 'service', 'geometry', 'distance'],\n",
       "      dtype='object')"
      ]
     },
     "execution_count": 223,
     "metadata": {},
     "output_type": "execute_result"
    }
   ],
   "source": [
    "df.columns"
   ]
  }
 ],
 "metadata": {
  "kernelspec": {
   "display_name": "p35",
   "language": "python",
   "name": "p35"
  },
  "language_info": {
   "codemirror_mode": {
    "name": "ipython",
    "version": 3
   },
   "file_extension": ".py",
   "mimetype": "text/x-python",
   "name": "python",
   "nbconvert_exporter": "python",
   "pygments_lexer": "ipython3",
   "version": "3.5.4"
  }
 },
 "nbformat": 4,
 "nbformat_minor": 2
}
