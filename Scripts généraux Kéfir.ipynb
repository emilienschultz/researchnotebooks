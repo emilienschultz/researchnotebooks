{
 "cells": [
  {
   "cell_type": "code",
   "execution_count": 1,
   "metadata": {
    "collapsed": false
   },
   "outputs": [],
   "source": [
    "import sqlite3 as sq\n",
    "import bs4 as bs\n",
    "import re\n",
    "import locale\n",
    "import glob\n",
    "import pandas as pd\n",
    "from datetime import datetime\n",
    "import matplotlib.pyplot as plt\n",
    "import os as os\n",
    "import bs4 as bs\n",
    "import networkx as nx\n",
    "import metaknowledge as mt\n",
    "%matplotlib inline\n",
    "plt.style.use('ggplot')\n",
    "pd.options.display.max_colwidth = 10000"
   ]
  },
  {
   "cell_type": "markdown",
   "metadata": {},
   "source": [
    "# Analyse des données de publication sur le kéfir"
   ]
  },
  {
   "cell_type": "markdown",
   "metadata": {},
   "source": [
    "Deux jeux de données possible : Scopus ou WOS. Dans la suite, nous privilégions WOS car il y a des catégories thématiques codées"
   ]
  },
  {
   "cell_type": "code",
   "execution_count": 97,
   "metadata": {
    "collapsed": false
   },
   "outputs": [],
   "source": [
    "RC = mt.RecordCollection(\"Data/wos/.\")\n",
    "wos = pd.DataFrame(RC.makeDict())"
   ]
  },
  {
   "cell_type": "markdown",
   "metadata": {},
   "source": [
    "Dans quel domaine sont publiés les articles"
   ]
  },
  {
   "cell_type": "code",
   "execution_count": 82,
   "metadata": {
    "collapsed": false
   },
   "outputs": [
    {
     "data": {
      "text/html": [
       "<div>\n",
       "<table border=\"1\" class=\"dataframe\">\n",
       "  <thead>\n",
       "    <tr style=\"text-align: right;\">\n",
       "      <th></th>\n",
       "      <th>1</th>\n",
       "      <th>2</th>\n",
       "    </tr>\n",
       "    <tr>\n",
       "      <th>0</th>\n",
       "      <th></th>\n",
       "      <th></th>\n",
       "    </tr>\n",
       "  </thead>\n",
       "  <tbody>\n",
       "    <tr>\n",
       "      <th>Food Science &amp; Technology</th>\n",
       "      <td>461</td>\n",
       "      <td>336.583333</td>\n",
       "    </tr>\n",
       "    <tr>\n",
       "      <th>Biotechnology &amp; Applied Microbiology</th>\n",
       "      <td>218</td>\n",
       "      <td>131.450000</td>\n",
       "    </tr>\n",
       "    <tr>\n",
       "      <th>Microbiology</th>\n",
       "      <td>148</td>\n",
       "      <td>94.833333</td>\n",
       "    </tr>\n",
       "    <tr>\n",
       "      <th>Chemistry, Applied</th>\n",
       "      <td>96</td>\n",
       "      <td>34.583333</td>\n",
       "    </tr>\n",
       "    <tr>\n",
       "      <th>Agriculture, Dairy &amp; Animal Science</th>\n",
       "      <td>88</td>\n",
       "      <td>54.333333</td>\n",
       "    </tr>\n",
       "    <tr>\n",
       "      <th>Nutrition &amp; Dietetics</th>\n",
       "      <td>69</td>\n",
       "      <td>37.666667</td>\n",
       "    </tr>\n",
       "    <tr>\n",
       "      <th>Biochemistry &amp; Molecular Biology</th>\n",
       "      <td>68</td>\n",
       "      <td>26.200000</td>\n",
       "    </tr>\n",
       "    <tr>\n",
       "      <th>Agriculture, Multidisciplinary</th>\n",
       "      <td>32</td>\n",
       "      <td>13.666667</td>\n",
       "    </tr>\n",
       "    <tr>\n",
       "      <th>Engineering, Chemical</th>\n",
       "      <td>31</td>\n",
       "      <td>17.666667</td>\n",
       "    </tr>\n",
       "    <tr>\n",
       "      <th>Veterinary Sciences</th>\n",
       "      <td>29</td>\n",
       "      <td>25.083333</td>\n",
       "    </tr>\n",
       "  </tbody>\n",
       "</table>\n",
       "</div>"
      ],
      "text/plain": [
       "                                        1           2\n",
       "0                                                    \n",
       "Food Science & Technology             461  336.583333\n",
       "Biotechnology & Applied Microbiology  218  131.450000\n",
       "Microbiology                          148   94.833333\n",
       "Chemistry, Applied                     96   34.583333\n",
       "Agriculture, Dairy & Animal Science    88   54.333333\n",
       "Nutrition & Dietetics                  69   37.666667\n",
       "Biochemistry & Molecular Biology       68   26.200000\n",
       "Agriculture, Multidisciplinary         32   13.666667\n",
       "Engineering, Chemical                  31   17.666667\n",
       "Veterinary Sciences                    29   25.083333"
      ]
     },
     "execution_count": 82,
     "metadata": {},
     "output_type": "execute_result"
    }
   ],
   "source": [
    "d=[]\n",
    "for R in RC:\n",
    "    for i in R[\"WC\"]:\n",
    "        d.append((i,1,1/len(R[\"WC\"])))\n",
    "pd.DataFrame(d).groupby(0).sum().sort_values(1,ascending=False)[0:10]"
   ]
  },
  {
   "cell_type": "markdown",
   "metadata": {},
   "source": [
    "De quelle nationalité sont les auteurs"
   ]
  },
  {
   "cell_type": "code",
   "execution_count": 81,
   "metadata": {
    "collapsed": false,
    "scrolled": true
   },
   "outputs": [
    {
     "data": {
      "text/html": [
       "<div>\n",
       "<table border=\"1\" class=\"dataframe\">\n",
       "  <thead>\n",
       "    <tr style=\"text-align: right;\">\n",
       "      <th></th>\n",
       "      <th>1</th>\n",
       "      <th>2</th>\n",
       "    </tr>\n",
       "    <tr>\n",
       "      <th>0</th>\n",
       "      <th></th>\n",
       "      <th></th>\n",
       "    </tr>\n",
       "  </thead>\n",
       "  <tbody>\n",
       "    <tr>\n",
       "      <th>Turkey</th>\n",
       "      <td>237</td>\n",
       "      <td>110.000000</td>\n",
       "    </tr>\n",
       "    <tr>\n",
       "      <th>Argentina</th>\n",
       "      <td>210</td>\n",
       "      <td>73.133333</td>\n",
       "    </tr>\n",
       "    <tr>\n",
       "      <th>Brazil</th>\n",
       "      <td>154</td>\n",
       "      <td>57.216667</td>\n",
       "    </tr>\n",
       "    <tr>\n",
       "      <th>Taiwan</th>\n",
       "      <td>151</td>\n",
       "      <td>44.157143</td>\n",
       "    </tr>\n",
       "    <tr>\n",
       "      <th>Peoples R China</th>\n",
       "      <td>140</td>\n",
       "      <td>75.966667</td>\n",
       "    </tr>\n",
       "    <tr>\n",
       "      <th>Greece</th>\n",
       "      <td>108</td>\n",
       "      <td>61.833333</td>\n",
       "    </tr>\n",
       "    <tr>\n",
       "      <th>Poland</th>\n",
       "      <td>79</td>\n",
       "      <td>46.416667</td>\n",
       "    </tr>\n",
       "    <tr>\n",
       "      <th>Iran</th>\n",
       "      <td>70</td>\n",
       "      <td>28.166667</td>\n",
       "    </tr>\n",
       "    <tr>\n",
       "      <th>Japan</th>\n",
       "      <td>65</td>\n",
       "      <td>36.733333</td>\n",
       "    </tr>\n",
       "    <tr>\n",
       "      <th>Germany</th>\n",
       "      <td>63</td>\n",
       "      <td>35.883333</td>\n",
       "    </tr>\n",
       "  </tbody>\n",
       "</table>\n",
       "</div>"
      ],
      "text/plain": [
       "                   1           2\n",
       "0                               \n",
       "Turkey           237  110.000000\n",
       "Argentina        210   73.133333\n",
       "Brazil           154   57.216667\n",
       "Taiwan           151   44.157143\n",
       "Peoples R China  140   75.966667\n",
       "Greece           108   61.833333\n",
       "Poland            79   46.416667\n",
       "Iran              70   28.166667\n",
       "Japan             65   36.733333\n",
       "Germany           63   35.883333"
      ]
     },
     "execution_count": 81,
     "metadata": {},
     "output_type": "execute_result"
    }
   ],
   "source": [
    "d=[]\n",
    "for R in RC:\n",
    "    try:\n",
    "        for i in R[\"C1\"]:\n",
    "            d.append((i.split(\",\")[-1].strip().replace(\".\",\"\"),1,1/len(R[\"C1\"])))\n",
    "    except:\n",
    "        continue\n",
    "pd.DataFrame(d).groupby(0).sum().sort_values(1,ascending=False)[0:10]\n",
    "\n"
   ]
  },
  {
   "cell_type": "markdown",
   "metadata": {},
   "source": [
    "Les mots clés"
   ]
  },
  {
   "cell_type": "code",
   "execution_count": 84,
   "metadata": {
    "collapsed": false
   },
   "outputs": [
    {
     "data": {
      "text/html": [
       "<div>\n",
       "<table border=\"1\" class=\"dataframe\">\n",
       "  <thead>\n",
       "    <tr style=\"text-align: right;\">\n",
       "      <th></th>\n",
       "      <th>1</th>\n",
       "    </tr>\n",
       "    <tr>\n",
       "      <th>0</th>\n",
       "      <th></th>\n",
       "    </tr>\n",
       "  </thead>\n",
       "  <tbody>\n",
       "    <tr>\n",
       "      <th>kefir</th>\n",
       "      <td>300</td>\n",
       "    </tr>\n",
       "    <tr>\n",
       "      <th>lactic acid bacteria</th>\n",
       "      <td>65</td>\n",
       "    </tr>\n",
       "    <tr>\n",
       "      <th>kefir grains</th>\n",
       "      <td>50</td>\n",
       "    </tr>\n",
       "    <tr>\n",
       "      <th>fermentation</th>\n",
       "      <td>47</td>\n",
       "    </tr>\n",
       "    <tr>\n",
       "      <th>probiotic</th>\n",
       "      <td>46</td>\n",
       "    </tr>\n",
       "    <tr>\n",
       "      <th>probiotics</th>\n",
       "      <td>45</td>\n",
       "    </tr>\n",
       "    <tr>\n",
       "      <th>kefiran</th>\n",
       "      <td>34</td>\n",
       "    </tr>\n",
       "    <tr>\n",
       "      <th>exopolysaccharide</th>\n",
       "      <td>32</td>\n",
       "    </tr>\n",
       "    <tr>\n",
       "      <th>fermented milk</th>\n",
       "      <td>26</td>\n",
       "    </tr>\n",
       "    <tr>\n",
       "      <th>whey</th>\n",
       "      <td>24</td>\n",
       "    </tr>\n",
       "  </tbody>\n",
       "</table>\n",
       "</div>"
      ],
      "text/plain": [
       "                        1\n",
       "0                        \n",
       "kefir                 300\n",
       "lactic acid bacteria   65\n",
       "kefir grains           50\n",
       "fermentation           47\n",
       "probiotic              46\n",
       "probiotics             45\n",
       "kefiran                34\n",
       "exopolysaccharide      32\n",
       "fermented milk         26\n",
       "whey                   24"
      ]
     },
     "execution_count": 84,
     "metadata": {},
     "output_type": "execute_result"
    }
   ],
   "source": [
    "d=[]\n",
    "for R in RC:\n",
    "    try:\n",
    "        for i in R[\"DE\"]:\n",
    "            d.append((i,1))\n",
    "    except:\n",
    "        continue\n",
    "pd.DataFrame(d).groupby(0).sum().sort_values(1,ascending=False)[0:10]\n"
   ]
  },
  {
   "cell_type": "markdown",
   "metadata": {},
   "source": [
    "Définir les ontologies qui vont être utilisées par la suite"
   ]
  },
  {
   "cell_type": "code",
   "execution_count": 145,
   "metadata": {
    "collapsed": false
   },
   "outputs": [],
   "source": [
    "health = [\"benefits\",\"health\",\"efficacy\",\"patient\",\"therapy\",\"treatment\",\"cancer\"]\n",
    "milk = [\"milk\",\"yogurt\",\"cream\",\"yoghurt\",\"butter\",\"dairy\"]\n",
    "sugary = [\"sugary\",\"water kefir\"]\n"
   ]
  },
  {
   "cell_type": "markdown",
   "metadata": {},
   "source": [
    "Codage des catégories"
   ]
  },
  {
   "cell_type": "code",
   "execution_count": null,
   "metadata": {
    "collapsed": true
   },
   "outputs": [],
   "source": [
    "def test_onto(x,onto):\n",
    "    if pd.isnull(x):\n",
    "        return False\n",
    "    for i in onto:\n",
    "        if i in x:\n",
    "            return True\n",
    "    return False\n",
    "\n",
    "wos[\"health\"] = wos[\"text\"].apply(lambda x : test_onto(x,health))\n",
    "wos[\"milk\"] = wos[\"text\"].apply(lambda x : test_onto(x,milk))\n",
    "wos[\"sugary\"] = wos[\"text\"].apply(lambda x : test_onto(x,sugary))"
   ]
  },
  {
   "cell_type": "markdown",
   "metadata": {},
   "source": [
    "Evolution des catégories"
   ]
  },
  {
   "cell_type": "code",
   "execution_count": 155,
   "metadata": {
    "collapsed": false
   },
   "outputs": [
    {
     "data": {
      "text/plain": [
       "<matplotlib.legend.Legend at 0x11e45ce48>"
      ]
     },
     "execution_count": 155,
     "metadata": {},
     "output_type": "execute_result"
    },
    {
     "data": {
      "image/png": "[encoded data removed]",
      "text/plain": [
       "<matplotlib.figure.Figure at 0x11e250ac8>"
      ]
     },
     "metadata": {},
     "output_type": "display_data"
    }
   ],
   "source": [
    "ax = wos[pd.notnull(wos[\"AB\"])][\"PY\"].value_counts().sort_index().plot(figsize=(10,5))\n",
    "wos[wos[\"health\"]][\"PY\"].value_counts().sort_index().plot(ax = ax)\n",
    "wos[wos[\"milk\"]][\"PY\"].value_counts().sort_index().plot(ax = ax)\n",
    "wos[wos[\"sugary\"]][\"PY\"].value_counts().sort_index().plot(ax = ax)\n",
    "plt.xlim(1990)\n",
    "plt.legend([\"Total\",\"Lien avec la santé\",\"Mentionne kéfir de lait\",\"Mentionne kéfir d'eau\"],loc=2)"
   ]
  },
  {
   "cell_type": "markdown",
   "metadata": {},
   "source": [
    "## Annexe"
   ]
  },
  {
   "cell_type": "code",
   "execution_count": 25,
   "metadata": {
    "collapsed": false
   },
   "outputs": [],
   "source": [
    "#data=  pd.read_csv(\"Data/scopus-kefir.csv\")\n",
    "#data[\"Year\"].value_counts().sort_index().plot()\n",
    "data[\"kw\"] = data[\"Author Keywords\"].apply(lambda x: [] if pd.isnull(x) else x.split(\";\"))\n",
    "data[\"kw2\"] = data['Index Keywords'].apply(lambda x: [] if pd.isnull(x) else x.split(\";\"))\n",
    "\n",
    "\n",
    "data[\"text\"] = data.apply(lambda x : x[\"Abstract\"]+\"\\n\"+x[\"Title\"]+\"\\n\",axis=1).str.lower()\n",
    "\n"
   ]
  },
  {
   "cell_type": "code",
   "execution_count": 15,
   "metadata": {
    "collapsed": false
   },
   "outputs": [],
   "source": [
    "with open(\"iram-kefir.txt\",\"w\") as f:\n",
    "    for i,j in data.iterrows():\n",
    "        f.write(\"**** *year_%s\\n\\n%s\\n\\n\" %(j[\"Year\"],j[\"text\"].replace(\"*\",\"\")))"
   ]
  },
  {
   "cell_type": "code",
   "execution_count": null,
   "metadata": {
    "collapsed": false
   },
   "outputs": [],
   "source": [
    "pd.Series([i.strip().lower() for j in list(data[\"kw2\"]) for i in j]).value_counts()"
   ]
  },
  {
   "cell_type": "markdown",
   "metadata": {},
   "source": [
    "## Autre"
   ]
  },
  {
   "cell_type": "code",
   "execution_count": null,
   "metadata": {
    "collapsed": false
   },
   "outputs": [],
   "source": [
    "data = []\n",
    "for i in range(1,51):\n",
    "    print i\n",
    "    url = \"http://www.torontoadvisors.com/kefir/suppliers?page=%s\" % i\n",
    "    t = urllib2.urlopen(url).read()\n",
    "    t = t.split('<div class=\"web2py_counter\">')[1].replace(\"\\n\",\" \")\n",
    "    t = re.findall('<tr (.*?)</tr>',t)\n",
    "    print len(t)\n",
    "    for j in t:\n",
    "        d =  re.findall('<td>(.*?)</td>',j)\n",
    "        if d!=[]:\n",
    "            data.append(d)"
   ]
  },
  {
   "cell_type": "code",
   "execution_count": 43,
   "metadata": {
    "collapsed": false
   },
   "outputs": [],
   "source": [
    "with open(\"kefir-torontoadvisors.csv\",\"w\") as f:\n",
    "    for i in data:\n",
    "        f.write(i[0]+\"|\"+i[1]+\"|\"+i[2]+\"|\"+i[3].replace(\"\\r\",\" \")+\"\\n\")"
   ]
  },
  {
   "cell_type": "code",
   "execution_count": 28,
   "metadata": {
    "collapsed": false
   },
   "outputs": [
    {
     "name": "stdout",
     "output_type": "stream",
     "text": [
      "Badreddine \n",
      "fay\n",
      "madmed\n",
      "Sidane\n",
      "Kheirouna\n",
      "Minou\n",
      "Minoucha\n",
      "MEKMOHA\n",
      "Chaouki\n",
      "hassen\n",
      "mycomp134\n",
      "Anfiteatro, Dominic\n",
      "jaruvan\n",
      "Wendy\n",
      "The Pantry Practitioner\n",
      "helena hill\n",
      "greta\n",
      "Marion\n",
      "Springvalley\n",
      "Belyons Farm\n"
     ]
    }
   ],
   "source": [
    "url = \"http://www.torontoadvisors.com/kefir/suppliers?page=%s\" % 1\n",
    "t = urllib2.urlopen(url).read()\n",
    "t = t.split('<div class=\"web2py_counter\">')[1].replace(\"\\n\",\" \")\n",
    "t = re.findall('<tr (.*?)</tr>',t)\n",
    "for i in t:\n",
    "    d =  re.findall('<td>(.*?)</td>',i)\n",
    "    if d!=[]:\n",
    "        print d[0]"
   ]
  }
 ],
 "metadata": {
  "anaconda-cloud": {},
  "kernelspec": {
   "display_name": "Python [default]",
   "language": "python",
   "name": "python3"
  },
  "language_info": {
   "codemirror_mode": {
    "name": "ipython",
    "version": 3
   },
   "file_extension": ".py",
   "mimetype": "text/x-python",
   "name": "python",
   "nbconvert_exporter": "python",
   "pygments_lexer": "ipython3",
   "version": "3.4.5"
  }
 },
 "nbformat": 4,
 "nbformat_minor": 0
}
