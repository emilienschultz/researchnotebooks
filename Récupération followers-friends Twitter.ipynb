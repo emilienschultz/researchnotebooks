{
 "cells": [
  {
   "cell_type": "code",
   "execution_count": 48,
   "metadata": {},
   "outputs": [],
   "source": [
    "import pandas as pd\n",
    "import tweepy as tw\n",
    "import json\n",
    "import time\n",
    "\n",
    "# Chargement du token d'accès\n",
    "with open(\"twitter.keys\",\"r\") as f:\n",
    "    codes = json.load(f)"
   ]
  },
  {
   "cell_type": "markdown",
   "metadata": {},
   "source": [
    "Sources qui ont servi d'inspiration pour le code: \n",
    "\n",
    "- https://gist.github.com/PandaWhoCodes/46f58fdead71f4c71453d9ed1e21adf8"
   ]
  },
  {
   "cell_type": "markdown",
   "metadata": {},
   "source": [
    "Définition des variables"
   ]
  },
  {
   "cell_type": "code",
   "execution_count": 12,
   "metadata": {},
   "outputs": [],
   "source": [
    "liste_users = [\"emilienschultz\"]"
   ]
  },
  {
   "cell_type": "markdown",
   "metadata": {},
   "source": [
    "Boucle sur l'ensemble des comptes"
   ]
  },
  {
   "cell_type": "code",
   "execution_count": 35,
   "metadata": {},
   "outputs": [],
   "source": [
    "auth = tw.OAuthHandler(codes[\"consumer_key\"], codes[\"consumer_secret\"])\n",
    "auth.set_access_token(codes[\"access_token\"], codes[\"access_token_secret\"])\n",
    "\n",
    "api = tw.API(auth)\n",
    "\n",
    "corpus_followers = {}\n",
    "\n",
    "# Boucle sur les utilisateurs\n",
    "for i in liste_users:\n",
    "    # Boucle pour un compte\n",
    "    followers = []\n",
    "    friends = []\n",
    "    \n",
    "    # followers\n",
    "    for page in tw.Cursor(api.followers, screen_name=i, wait_on_rate_limit=True,count=200).pages():\n",
    "        try:\n",
    "            followers.extend(page)\n",
    "        except tw.TweepError as e:\n",
    "            print(\"Going to sleep:\", e)\n",
    "            time.sleep(60)\n",
    "            \n",
    "    # friends\n",
    "    for page in tw.Cursor(api.friends, screen_name=i, wait_on_rate_limit=True,count=200).pages():\n",
    "        try:\n",
    "            friends.extend(page)\n",
    "        except tw.TweepError as e:\n",
    "            print(\"Going to sleep:\", e)\n",
    "            time.sleep(60)\n",
    "            \n",
    "    # Ajout au corpus\n",
    "    corpus_followers[i] = {\"followers\":followers,\"friends\":friends}"
   ]
  },
  {
   "cell_type": "markdown",
   "metadata": {},
   "source": [
    "Remarque : il faut ensuite construire le reste de la fonction pour traiter les données"
   ]
  }
 ],
 "metadata": {
  "kernelspec": {
   "display_name": "Python 3",
   "language": "python",
   "name": "python3"
  },
  "language_info": {
   "codemirror_mode": {
    "name": "ipython",
    "version": 3
   },
   "file_extension": ".py",
   "mimetype": "text/x-python",
   "name": "python",
   "nbconvert_exporter": "python",
   "pygments_lexer": "ipython3",
   "version": "3.7.7"
  }
 },
 "nbformat": 4,
 "nbformat_minor": 4
}
