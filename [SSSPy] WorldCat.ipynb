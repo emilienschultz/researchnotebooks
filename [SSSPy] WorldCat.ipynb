{
 "cells": [
  {
   "cell_type": "markdown",
   "metadata": {},
   "source": [
    "#Analyse books title from WorlCat.org"
   ]
  },
  {
   "cell_type": "markdown",
   "metadata": {},
   "source": [
    "## Get books information (scrapper)"
   ]
  },
  {
   "cell_type": "code",
   "execution_count": 22,
   "metadata": {
    "collapsed": false
   },
   "outputs": [],
   "source": [
    "import requests\n",
    "import bs4\n",
    "import os\n",
    "import pylab as pl\n",
    "import pandas as pd\n",
    "from nltk.corpus import stopwords\n",
    "from nltk import word_tokenize\n",
    "from nltk.stem.porter import PorterStemmer\n",
    "import string\n",
    "import re\n",
    "import matplotlib as mp\n",
    "import matplotlib.pylab as plt\n",
    "%matplotlib inline"
   ]
  },
  {
   "cell_type": "markdown",
   "metadata": {},
   "source": [
    "Scrap data from WorldCat database"
   ]
  },
  {
   "cell_type": "code",
   "execution_count": 3,
   "metadata": {
    "collapsed": true
   },
   "outputs": [],
   "source": [
    "def scrap_data(name, num, urltemplate):\n",
    "    if not os.path.exists(name):\n",
    "        os.mkdir(name)\n",
    "\n",
    "    for i in range(1,num,10):\n",
    "        if os.path.exists(name+\"/req\"+str(i)):\n",
    "            continue\n",
    "        url = urltemplate.format(pagenum=str(i))\n",
    "        req = requests.get(url)\n",
    "        with open(name+\"/req\"+str(i),\"wb\") as f:\n",
    "            f.write(req.content)"
   ]
  },
  {
   "cell_type": "code",
   "execution_count": 18,
   "metadata": {
    "collapsed": false
   },
   "outputs": [],
   "source": [
    "#Download the files if not already downloaded (use the url produced by wordcast research engine) and templates it\n",
    "\n",
    "# books with \"scientific computing\"\n",
    "name = \"wc-scicomputing\"\n",
    "num = 6070 #numbers of titles \n",
    "urltemplate = \"https://www.worldcat.org/search?q=kw%3A%22scientific+computing%22&fq=x0%3Abook&dblist=638&\"+\\\n",
    "    \"start={pagenum}&qt=page_number_link\"\n",
    "scrap_data(name, num, urltemplate)\n",
    "    \n",
    "# books with \"scientific python)\n",
    "name = \"wc-python\"\n",
    "num = 304\n",
    "urltemplate = \"https://www.worldcat.org/search?q=kw%3Ascientific+python&fq=x0%3Abook&dblist=638&start={pagenum}&qt=page_number_link\"\n",
    "scrap_data(name, num, urltemplate)"
   ]
  },
  {
   "cell_type": "code",
   "execution_count": 4,
   "metadata": {
    "collapsed": false
   },
   "outputs": [],
   "source": [
    "#Parse information\n",
    "def get_titles(rep):\n",
    "    titles = []\n",
    "    for i in os.listdir(rep):\n",
    "        if \"req\" in i:\n",
    "            with open(rep+\"/\"+i,\"r\") as f:\n",
    "                content = \"\\n\".join(f.readlines())\n",
    "            page = bs4.BeautifulSoup(content,\"html.parser\")\n",
    "            for t in page.find(id=\"br-table-results\").findAll(\"td\", { \"class\" : \"result\" }):\n",
    "                try:\n",
    "                    titles.append((t.find(\"strong\").contents[0],t.find(\"span\",{\"class\" : \"itemPublisher\"}).contents[0]))\n",
    "                except:\n",
    "                    titles.append((t.find(\"strong\").contents[0],\"NA\"))\n",
    "    print(\"There is {num} book titles for {repname}\".format(num=len(titles),repname=rep))\n",
    "    return titles"
   ]
  },
  {
   "cell_type": "code",
   "execution_count": 5,
   "metadata": {
    "collapsed": false
   },
   "outputs": [
    {
     "name": "stdout",
     "output_type": "stream",
     "text": [
      "There is 304 book titles for wc-python\n",
      "There is 6070 book titles for wc-scicomputing\n"
     ]
    }
   ],
   "source": [
    "python = get_titles(\"wc-python\")\n",
    "scicomp = get_titles(\"wc-scicomputing\")"
   ]
  },
  {
   "cell_type": "markdown",
   "metadata": {},
   "source": [
    "Cleaning data (ad hoc rules)"
   ]
  },
  {
   "cell_type": "code",
   "execution_count": 9,
   "metadata": {
    "collapsed": false
   },
   "outputs": [
    {
     "name": "stdout",
     "output_type": "stream",
     "text": [
      "There is 304 book titles\n"
     ]
    }
   ],
   "source": [
    "a = dict(pd.Series([str(i[0]).lower() for i in python]).value_counts())\n",
    "\n",
    "#repetition from the same title too much\n",
    "remove = [i for i in a if a[i]>11]\n",
    "\n",
    "python = [i for i in python if not str(i[0]).lower() in remove]\n",
    "\n",
    "print(\"There is {num} book titles\".format(num=len(python)))"
   ]
  },
  {
   "cell_type": "code",
   "execution_count": 10,
   "metadata": {
    "collapsed": false
   },
   "outputs": [
    {
     "name": "stdout",
     "output_type": "stream",
     "text": [
      "There is 939 book titles\n"
     ]
    }
   ],
   "source": [
    "a = dict(pd.Series([str(i[0]).lower() for i in scicomp]).value_counts())\n",
    "\n",
    "#repetition from the same title too much\n",
    "remove = [i for i in a if a[i]>11]\n",
    "\n",
    "#remove proceedings and explicitly mentionned in the title\n",
    "scicomp = [i for i in scicomp if not str(i[0]).lower() in remove and \"scientific computing\" in str(i[0]).lower()\\\n",
    "         and not \"proceedings\" in str(i[0]).lower()\\\n",
    "         and not \"conference\" in str(i[0]).lower()\\\n",
    "         and not \"workshop\" in str(i[0]).lower()\\\n",
    "         and not \"symposium\" in str(i[0]).lower()]\n",
    "\n",
    "print(\"There is {num} book titles\".format(num=len(scicomp)))"
   ]
  },
  {
   "cell_type": "markdown",
   "metadata": {},
   "source": [
    "#Analyse titles"
   ]
  },
  {
   "cell_type": "markdown",
   "metadata": {},
   "source": [
    "## Evolution  number of books published"
   ]
  },
  {
   "cell_type": "markdown",
   "metadata": {},
   "source": [
    "### Insight with Google N-gram"
   ]
  },
  {
   "cell_type": "code",
   "execution_count": 62,
   "metadata": {
    "collapsed": false
   },
   "outputs": [
    {
     "data": {
      "text/plain": [
       "[<matplotlib.lines.Line2D at 0xa96af0ec>]"
      ]
     },
     "execution_count": 62,
     "metadata": {},
     "output_type": "execute_result"
    },
    {
     "data": {
      "image/png": "[encoded data removed]",
      "text/plain": [
       "<matplotlib.figure.Figure at 0xaadafe6c>"
      ]
     },
     "metadata": {},
     "output_type": "display_data"
    }
   ],
   "source": [
    "# https://books.google.com/ngrams/graph?content=scientific+computing&year_start=1930&year_end=2008&corpus=15&smoothing=1&share=&direct_url=t1%3B%2Cscientific%20computing%3B%2Cc0\n",
    "a=  [0.0, 0.0, 3.4695161558554827e-10, 3.4695161558554827e-10, 3.4695161558554827e-10, 0.0, 5.156557773370688e-10, 1.0194078914338434e-09, 1.0194078914338434e-09, 5.0375211409677456e-10, 2.9298698652387617e-10, 5.9675518230643354e-10, 2.0241754383754085e-09, 2.1223283500996595e-09, 3.8772419719279583e-09, 5.6196949686319426e-09, 5.4579962031435043e-09, 4.2551992300114234e-09, 1.4728941029792015e-09, 3.3709237623469335e-09, 2.7133102246483056e-09, 2.3257420989075683e-09, 1.597333358175727e-09, 1.3990620513955794e-09, 1.7620095012678878e-09, 1.0626310202136817e-09, 6.7617900908108668e-09, 8.9724817205668241e-09, 1.0891105794996747e-08, 7.5004972603191309e-09, 1.087119239073786e-08, 1.3782588847988109e-08, 1.4488048686682001e-08, 1.3210601205552544e-08, 1.1440794089878636e-08, 1.1547589551241799e-08, 1.2100773124264682e-08, 1.1308539882293189e-08, 1.2627208612059349e-08, 1.2781045259184035e-08, 2.4005328687811318e-08, 2.4671765667487005e-08, 2.5018773423350165e-08, 1.3970456199293343e-08, 1.4673776268144442e-08, 1.546954978929686e-08, 1.6965617355424456e-08, 1.8141595189054744e-08, 1.7235879390398168e-08, 1.8793308835067062e-08, 1.8667733433138285e-08, 2.1453814132617783e-08, 2.219857483017525e-08, 2.322866343718033e-08, 2.4334533795430009e-08, 3.0973142865301874e-08, 4.3178831177215216e-08, 4.9049395064078759e-08, 5.2860117468374788e-08, 5.9221722636948471e-08, 6.2433854234692873e-08, 6.4799046128882765e-08, 5.6681023134312149e-08, 5.5802830208525243e-08, 4.9005915769839703e-08, 4.9211746973772584e-08, 4.9806985202849319e-08, 5.1457671901289359e-08, 5.456425948106395e-08, 5.1941514792967304e-08, 5.5361535800102502e-08, 5.5291312861527331e-08, 6.139100131955881e-08, 6.1094646971090086e-08, 6.0430933738568157e-08, 5.4970995459295104e-08, 5.1347556725052833e-08, 4.2185427891657433e-08, 3.8798637191916896e-08]\n",
    "pl.plot(range(1930, 2009),a)"
   ]
  },
  {
   "cell_type": "code",
   "execution_count": 78,
   "metadata": {
    "collapsed": false
   },
   "outputs": [],
   "source": [
    "def plot_titles(titles,title,vmin=1900,vmax=2015):\n",
    "    years = []\n",
    "    texts2 = []\n",
    "    for i in titles:\n",
    "        try:\n",
    "            t = re.findall(\"([0-9]{4})\",i[1])\n",
    "        except:\n",
    "            t=\"na\"\n",
    "        if len(t)>0 and t != \"na\":\n",
    "            years.append(int(t[0]))\n",
    "            texts2.append((i[0],t[0]))\n",
    "        else:\n",
    "            texts2.append((i[0],0))\n",
    "\n",
    "    a = pd.Series([i for i in years if i<vmax and i>vmin])\n",
    "    b = a.hist(bins=40)\n",
    "    pl.title(title)\n",
    "    plt.xlim((vmin,vmax))\n",
    "    pl.xlabel(\"Year of publication\")"
   ]
  },
  {
   "cell_type": "code",
   "execution_count": 79,
   "metadata": {
    "collapsed": false
   },
   "outputs": [
    {
     "data": {
      "image/png": "[encoded data removed]",
      "text/plain": [
       "<matplotlib.figure.Figure at 0xa994ca6c>"
      ]
     },
     "metadata": {},
     "output_type": "display_data"
    }
   ],
   "source": [
    "plt.figure(figsize=(7,8))\n",
    "plt.subplot(311)\n",
    "plot_titles(python,\"Scientific python (books WorldCat)\",1930,2009)\n",
    "plt.subplot(312)\n",
    "plot_titles(scicomp,\"Scientific computing (books WorldCat)\",1930,2009)\n",
    "plt.subplot(313)\n",
    "pl.plot(range(1930, 2009),a)\n",
    "pl.title(\"Google Ngram 'scientific computing' 2-gram\")\n",
    "pl.xlabel(\"Year of publication\")\n",
    "plt.tight_layout()\n",
    "plt.savefig(\"books-worldcat.png\")"
   ]
  },
  {
   "cell_type": "markdown",
   "metadata": {},
   "source": [
    "**Analysis**\n",
    "*The analysis of trend (either Google Ngram or WorldCat) shows a bimodal distribution of books on computational sciences : we can make the hypothesis that \"scientific computing\" went through two different era*"
   ]
  },
  {
   "cell_type": "markdown",
   "metadata": {},
   "source": [
    "## Words analysis of titles"
   ]
  },
  {
   "cell_type": "code",
   "execution_count": 104,
   "metadata": {
    "collapsed": false
   },
   "outputs": [],
   "source": [
    "def analyse_titles(titles,sep=2000):\n",
    "    corpus = []\n",
    "    for i in titles:\n",
    "        try:\n",
    "            t = re.findall(\"([0-9]{4})\",i[1])\n",
    "        except:\n",
    "            t=\"na\"\n",
    "        if len(t)>0 and t != \"na\":\n",
    "            corpus.append((i[0],t[0]))\n",
    "        else:\n",
    "            corpus.append((i[0],0))\n",
    "\n",
    "    corpus = [i for i in corpus if len(str(i[0]).split())<30] #lengths max of titles\n",
    "\n",
    "    stoplist = stopwords.words('english') + list(string.punctuation) #stoplist\n",
    "\n",
    "    corpus = [([word.replace(\" \",\"\").replace(\".\",\"\").replace(\",\",\"\").replace(\"(\",\"\").replace(\")\",\"\")\\\n",
    "                     .replace('\"',\"\").replace(\"]\",\"\").replace(\"[\",\"\")\\\n",
    "              for word in str(document[0]).lower().split() if word not in stoplist],document[1])\n",
    "              for document in corpus] #remove words from stoplist\n",
    "\n",
    "    #remove one time words\n",
    "    l = pd.Series([i for j in corpus for i in j[0]])\n",
    "    t = dict(l.value_counts())\n",
    "    adhocfilter = [u for u in t if t[u]<2] + ['1','2',\"'88\",\"3\",\"4\"]\n",
    "    w = [u for u in t if not u in adhocfilter]\n",
    "\n",
    "    porter_stemmer = PorterStemmer() #stemmer\n",
    "    corpus = [([porter_stemmer.stem(token) for token in text[0] if token in w],text[1])\n",
    "              for text in corpus]\n",
    "\n",
    "    #corpus = [([token for token in text[0] if token in w],text[1])\n",
    "    #          for text in corpus]\n",
    "\n",
    "\n",
    "    corpus_all = [i[0] for i in corpus]\n",
    "    corpus_t1 = [i[0] for i in corpus if int(i[1])<sep]\n",
    "    corpus_t2 = [i[0] for i in corpus if int(i[1])>=sep]\n",
    "    \n",
    "    return corpus_all,corpus_t1,corpus_t2"
   ]
  },
  {
   "cell_type": "markdown",
   "metadata": {},
   "source": [
    "Words used in the title regarding each period"
   ]
  },
  {
   "cell_type": "code",
   "execution_count": 109,
   "metadata": {
    "collapsed": false
   },
   "outputs": [
    {
     "data": {
      "text/html": [
       "<div>\n",
       "<table border=\"1\" class=\"dataframe\">\n",
       "  <thead>\n",
       "    <tr style=\"text-align: right;\">\n",
       "      <th></th>\n",
       "      <th>all</th>\n",
       "      <th>all-percent</th>\n",
       "      <th>t1</th>\n",
       "      <th>t1-percent</th>\n",
       "      <th>t2</th>\n",
       "      <th>t2-percent</th>\n",
       "    </tr>\n",
       "  </thead>\n",
       "  <tbody>\n",
       "    <tr>\n",
       "      <th>comput</th>\n",
       "      <td>996</td>\n",
       "      <td>109.56</td>\n",
       "      <td>413</td>\n",
       "      <td>107.38</td>\n",
       "      <td>583</td>\n",
       "      <td>110.77</td>\n",
       "    </tr>\n",
       "    <tr>\n",
       "      <th>scientif</th>\n",
       "      <td>945</td>\n",
       "      <td>103.95</td>\n",
       "      <td>398</td>\n",
       "      <td>103.48</td>\n",
       "      <td>547</td>\n",
       "      <td>103.93</td>\n",
       "    </tr>\n",
       "    <tr>\n",
       "      <th>numer</th>\n",
       "      <td>194</td>\n",
       "      <td>21.34</td>\n",
       "      <td>74</td>\n",
       "      <td>19.24</td>\n",
       "      <td>120</td>\n",
       "      <td>22.80</td>\n",
       "    </tr>\n",
       "    <tr>\n",
       "      <th>parallel</th>\n",
       "      <td>95</td>\n",
       "      <td>10.45</td>\n",
       "      <td>32</td>\n",
       "      <td>8.32</td>\n",
       "      <td>63</td>\n",
       "      <td>11.97</td>\n",
       "    </tr>\n",
       "    <tr>\n",
       "      <th>analysi</th>\n",
       "      <td>71</td>\n",
       "      <td>7.81</td>\n",
       "      <td>23</td>\n",
       "      <td>5.98</td>\n",
       "      <td>48</td>\n",
       "      <td>9.12</td>\n",
       "    </tr>\n",
       "    <tr>\n",
       "      <th>part</th>\n",
       "      <td>70</td>\n",
       "      <td>7.70</td>\n",
       "      <td>31</td>\n",
       "      <td>8.06</td>\n",
       "      <td>39</td>\n",
       "      <td>7.41</td>\n",
       "    </tr>\n",
       "    <tr>\n",
       "      <th>applic</th>\n",
       "      <td>68</td>\n",
       "      <td>7.48</td>\n",
       "      <td>16</td>\n",
       "      <td>4.16</td>\n",
       "      <td>52</td>\n",
       "      <td>9.88</td>\n",
       "    </tr>\n",
       "    <tr>\n",
       "      <th>recip</th>\n",
       "      <td>67</td>\n",
       "      <td>7.37</td>\n",
       "      <td>44</td>\n",
       "      <td>11.44</td>\n",
       "      <td>23</td>\n",
       "      <td>4.37</td>\n",
       "    </tr>\n",
       "    <tr>\n",
       "      <th>art</th>\n",
       "      <td>67</td>\n",
       "      <td>7.37</td>\n",
       "      <td>41</td>\n",
       "      <td>10.66</td>\n",
       "      <td>26</td>\n",
       "      <td>4.94</td>\n",
       "    </tr>\n",
       "    <tr>\n",
       "      <th>method</th>\n",
       "      <td>66</td>\n",
       "      <td>7.26</td>\n",
       "      <td>17</td>\n",
       "      <td>4.42</td>\n",
       "      <td>49</td>\n",
       "      <td>9.31</td>\n",
       "    </tr>\n",
       "    <tr>\n",
       "      <th>system</th>\n",
       "      <td>62</td>\n",
       "      <td>6.82</td>\n",
       "      <td>37</td>\n",
       "      <td>9.62</td>\n",
       "      <td>25</td>\n",
       "      <td>4.75</td>\n",
       "    </tr>\n",
       "    <tr>\n",
       "      <th>introduct</th>\n",
       "      <td>53</td>\n",
       "      <td>5.83</td>\n",
       "      <td>16</td>\n",
       "      <td>4.16</td>\n",
       "      <td>37</td>\n",
       "      <td>7.03</td>\n",
       "    </tr>\n",
       "    <tr>\n",
       "      <th>engin</th>\n",
       "      <td>50</td>\n",
       "      <td>5.50</td>\n",
       "      <td>NaN</td>\n",
       "      <td>NaN</td>\n",
       "      <td>48</td>\n",
       "      <td>9.12</td>\n",
       "    </tr>\n",
       "    <tr>\n",
       "      <th>advanc</th>\n",
       "      <td>46</td>\n",
       "      <td>5.06</td>\n",
       "      <td>17</td>\n",
       "      <td>4.42</td>\n",
       "      <td>29</td>\n",
       "      <td>5.51</td>\n",
       "    </tr>\n",
       "    <tr>\n",
       "      <th>techniqu</th>\n",
       "      <td>43</td>\n",
       "      <td>4.73</td>\n",
       "      <td>14</td>\n",
       "      <td>3.64</td>\n",
       "      <td>29</td>\n",
       "      <td>5.51</td>\n",
       "    </tr>\n",
       "    <tr>\n",
       "      <th>equat</th>\n",
       "      <td>41</td>\n",
       "      <td>4.51</td>\n",
       "      <td>14</td>\n",
       "      <td>3.64</td>\n",
       "      <td>27</td>\n",
       "      <td>5.13</td>\n",
       "    </tr>\n",
       "    <tr>\n",
       "      <th>program</th>\n",
       "      <td>40</td>\n",
       "      <td>4.40</td>\n",
       "      <td>19</td>\n",
       "      <td>4.94</td>\n",
       "      <td>21</td>\n",
       "      <td>3.99</td>\n",
       "    </tr>\n",
       "    <tr>\n",
       "      <th>use</th>\n",
       "      <td>40</td>\n",
       "      <td>4.40</td>\n",
       "      <td>NaN</td>\n",
       "      <td>NaN</td>\n",
       "      <td>30</td>\n",
       "      <td>5.70</td>\n",
       "    </tr>\n",
       "    <tr>\n",
       "      <th>solut</th>\n",
       "      <td>40</td>\n",
       "      <td>4.40</td>\n",
       "      <td>13</td>\n",
       "      <td>3.38</td>\n",
       "      <td>27</td>\n",
       "      <td>5.13</td>\n",
       "    </tr>\n",
       "    <tr>\n",
       "      <th>environ</th>\n",
       "      <td>39</td>\n",
       "      <td>4.29</td>\n",
       "      <td>24</td>\n",
       "      <td>6.24</td>\n",
       "      <td>NaN</td>\n",
       "      <td>NaN</td>\n",
       "    </tr>\n",
       "    <tr>\n",
       "      <th>mathemat</th>\n",
       "      <td>38</td>\n",
       "      <td>4.18</td>\n",
       "      <td>19</td>\n",
       "      <td>4.94</td>\n",
       "      <td>NaN</td>\n",
       "      <td>NaN</td>\n",
       "    </tr>\n",
       "    <tr>\n",
       "      <th>appli</th>\n",
       "      <td>38</td>\n",
       "      <td>4.18</td>\n",
       "      <td>NaN</td>\n",
       "      <td>NaN</td>\n",
       "      <td>27</td>\n",
       "      <td>5.13</td>\n",
       "    </tr>\n",
       "    <tr>\n",
       "      <th>report</th>\n",
       "      <td>38</td>\n",
       "      <td>4.18</td>\n",
       "      <td>15</td>\n",
       "      <td>3.90</td>\n",
       "      <td>23</td>\n",
       "      <td>4.37</td>\n",
       "    </tr>\n",
       "    <tr>\n",
       "      <th>scienc</th>\n",
       "      <td>35</td>\n",
       "      <td>3.85</td>\n",
       "      <td>14</td>\n",
       "      <td>3.64</td>\n",
       "      <td>21</td>\n",
       "      <td>3.99</td>\n",
       "    </tr>\n",
       "    <tr>\n",
       "      <th>fortran</th>\n",
       "      <td>34</td>\n",
       "      <td>3.74</td>\n",
       "      <td>19</td>\n",
       "      <td>4.94</td>\n",
       "      <td>NaN</td>\n",
       "      <td>NaN</td>\n",
       "    </tr>\n",
       "    <tr>\n",
       "      <th>model</th>\n",
       "      <td>32</td>\n",
       "      <td>3.52</td>\n",
       "      <td>NaN</td>\n",
       "      <td>NaN</td>\n",
       "      <td>21</td>\n",
       "      <td>3.99</td>\n",
       "    </tr>\n",
       "    <tr>\n",
       "      <th>problem</th>\n",
       "      <td>31</td>\n",
       "      <td>3.41</td>\n",
       "      <td>NaN</td>\n",
       "      <td>NaN</td>\n",
       "      <td>22</td>\n",
       "      <td>4.18</td>\n",
       "    </tr>\n",
       "    <tr>\n",
       "      <th>handbook</th>\n",
       "      <td>31</td>\n",
       "      <td>3.41</td>\n",
       "      <td>13</td>\n",
       "      <td>3.38</td>\n",
       "      <td>NaN</td>\n",
       "      <td>NaN</td>\n",
       "    </tr>\n",
       "    <tr>\n",
       "      <th>perform</th>\n",
       "      <td>30</td>\n",
       "      <td>3.30</td>\n",
       "      <td>NaN</td>\n",
       "      <td>NaN</td>\n",
       "      <td>25</td>\n",
       "      <td>4.75</td>\n",
       "    </tr>\n",
       "    <tr>\n",
       "      <th>visual</th>\n",
       "      <td>30</td>\n",
       "      <td>3.30</td>\n",
       "      <td>18</td>\n",
       "      <td>4.68</td>\n",
       "      <td>NaN</td>\n",
       "      <td>NaN</td>\n",
       "    </tr>\n",
       "  </tbody>\n",
       "</table>\n",
       "</div>"
      ],
      "text/plain": [
       "           all  all-percent   t1  t1-percent   t2  t2-percent\n",
       "comput     996       109.56  413      107.38  583      110.77\n",
       "scientif   945       103.95  398      103.48  547      103.93\n",
       "numer      194        21.34   74       19.24  120       22.80\n",
       "parallel    95        10.45   32        8.32   63       11.97\n",
       "analysi     71         7.81   23        5.98   48        9.12\n",
       "part        70         7.70   31        8.06   39        7.41\n",
       "applic      68         7.48   16        4.16   52        9.88\n",
       "recip       67         7.37   44       11.44   23        4.37\n",
       "art         67         7.37   41       10.66   26        4.94\n",
       "method      66         7.26   17        4.42   49        9.31\n",
       "system      62         6.82   37        9.62   25        4.75\n",
       "introduct   53         5.83   16        4.16   37        7.03\n",
       "engin       50         5.50  NaN         NaN   48        9.12\n",
       "advanc      46         5.06   17        4.42   29        5.51\n",
       "techniqu    43         4.73   14        3.64   29        5.51\n",
       "equat       41         4.51   14        3.64   27        5.13\n",
       "program     40         4.40   19        4.94   21        3.99\n",
       "use         40         4.40  NaN         NaN   30        5.70\n",
       "solut       40         4.40   13        3.38   27        5.13\n",
       "environ     39         4.29   24        6.24  NaN         NaN\n",
       "mathemat    38         4.18   19        4.94  NaN         NaN\n",
       "appli       38         4.18  NaN         NaN   27        5.13\n",
       "report      38         4.18   15        3.90   23        4.37\n",
       "scienc      35         3.85   14        3.64   21        3.99\n",
       "fortran     34         3.74   19        4.94  NaN         NaN\n",
       "model       32         3.52  NaN         NaN   21        3.99\n",
       "problem     31         3.41  NaN         NaN   22        4.18\n",
       "handbook    31         3.41   13        3.38  NaN         NaN\n",
       "perform     30         3.30  NaN         NaN   25        4.75\n",
       "visual      30         3.30   18        4.68  NaN         NaN"
      ]
     },
     "execution_count": 109,
     "metadata": {},
     "output_type": "execute_result"
    }
   ],
   "source": [
    "n = 30\n",
    "tall,tt1,tt2 = analyse_titles(scicomp,1995)\n",
    "data_words = pd.DataFrame()\n",
    "data_words[\"all\"] = pd.Series([j for i in tall for j in i]).value_counts()[0:n]\n",
    "data_words[\"all-percent\"] = pd.Series([j for i in tall for j in i]).value_counts()[0:n]*round(100/len(tall),2)\n",
    "data_words[\"t1\"] = pd.Series([j for i in tt1 for j in i]).value_counts()[0:n]\n",
    "data_words[\"t1-percent\"] = pd.Series([j for i in tt1 for j in i]).value_counts()[0:n]*round(100/len(tt1),2)\n",
    "data_words[\"t2\"] = pd.Series([j for i in tt2 for j in i]).value_counts()[0:n]\n",
    "data_words[\"t2-percent\"] = pd.Series([j for i in tt2 for j in i]).value_counts()[0:n]*round(100/len(tt2),2)\n",
    "data_words"
   ]
  },
  {
   "cell_type": "markdown",
   "metadata": {},
   "source": [
    "##Network between words"
   ]
  },
  {
   "cell_type": "code",
   "execution_count": 360,
   "metadata": {
    "collapsed": false
   },
   "outputs": [],
   "source": [
    "import networkx as nx\n",
    "import itertools as it\n",
    "import math\n",
    "from IPython.html import widgets\n",
    "from IPython.display import display\n",
    "from d3networkx import ForceDirectedGraph, EventfulGraph"
   ]
  },
  {
   "cell_type": "code",
   "execution_count": 382,
   "metadata": {
    "collapsed": false
   },
   "outputs": [],
   "source": [
    "#Create Graph\n",
    "G = nx.Graph()\n",
    "for i in [text for text in texts_all if len(text)<10]:\n",
    "    for j in i:\n",
    "        if j in G.node:\n",
    "            G.node[j][\"r\"]+=1\n",
    "        else:\n",
    "            G.add_node(j,label=j,r=1, font_size='10pt',charge=-200)\n",
    "    for j in list(it.combinations(i,2)):\n",
    "        if j in G.edges():\n",
    "            G[j[0]][j[1]][\"weight\"]+=1\n",
    "            G[j[0]][j[1]][\"strength\"]+=1\n",
    "            #G[j[0]][j[1]][\"strokewidth\"]=str(G[j[0]][j[1]][\"strength\"])+\"px\"\n",
    "        else:\n",
    "            G.add_edge(j[0],j[1],weight=1, stroke=\"#000000\", strokewidth=\"1px\", strength=0.3)"
   ]
  },
  {
   "cell_type": "code",
   "execution_count": null,
   "metadata": {
    "collapsed": true
   },
   "outputs": [],
   "source": [
    "#Export to a file in order to be analysed by a third party software as Gephi\n",
    "nx.write_graphml(G,\"network-titles-books-scientificcomputing.graphml\",\"utf-8\")"
   ]
  },
  {
   "cell_type": "code",
   "execution_count": 354,
   "metadata": {
    "collapsed": true
   },
   "outputs": [],
   "source": [
    "#visualisation direct widget (doesn't work for the moment)\n",
    "def create_widget(graph):\n",
    "    display(ForceDirectedGraph(graph))\n",
    "EventfulGraph.on_constructed(create_widget)"
   ]
  },
  {
   "cell_type": "code",
   "execution_count": 383,
   "metadata": {
    "collapsed": false
   },
   "outputs": [],
   "source": [
    "H = G.copy()\n",
    "H.remove_nodes_from([i for i in H.node if H.node[i][\"r\"]<10])\n",
    "for i in H.node:\n",
    "    H.node[i][\"r\"] = math.log10(H.node[i][\"r\"])\n",
    "D = EventfulGraph(H)\n",
    "d3 = ForceDirectedGraph(D)\n",
    "d3.width = 1000\n",
    "d3.height = 1000\n",
    "display(d3)"
   ]
  },
  {
   "cell_type": "code",
   "execution_count": 243,
   "metadata": {
    "collapsed": false
   },
   "outputs": [],
   "source": []
  }
 ],
 "metadata": {
  "kernelspec": {
   "display_name": "Python 3",
   "language": "python",
   "name": "python3"
  },
  "language_info": {
   "codemirror_mode": {
    "name": "ipython",
    "version": 3
   },
   "file_extension": ".py",
   "mimetype": "text/x-python",
   "name": "python",
   "nbconvert_exporter": "python",
   "pygments_lexer": "ipython3",
   "version": "3.4.3"
  }
 },
 "nbformat": 4,
 "nbformat_minor": 0
}
