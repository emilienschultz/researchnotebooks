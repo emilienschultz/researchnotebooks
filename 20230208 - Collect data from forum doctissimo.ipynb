{
 "cells": [
  {
   "cell_type": "markdown",
   "id": "132198f5",
   "metadata": {},
   "source": [
    "# Collect data from a forum (social media 1.0)\n",
    "\n",
    "**Objectif** : Forum doctissimo (health) to extract urls used around the uses of cannabis & CBD\n",
    "\n",
    "There is no API, we need to scrap the data"
   ]
  },
  {
   "cell_type": "markdown",
   "id": "8e04ac7f",
   "metadata": {},
   "source": [
    "## 1. Collect data"
   ]
  },
  {
   "cell_type": "markdown",
   "id": "5a82be45",
   "metadata": {},
   "source": [
    "### Test on a page"
   ]
  },
  {
   "cell_type": "markdown",
   "id": "0ca6d512",
   "metadata": {},
   "source": [
    "One URL"
   ]
  },
  {
   "cell_type": "code",
   "execution_count": 1,
   "id": "bc5d6b79",
   "metadata": {},
   "outputs": [],
   "source": [
    "url = \"https://forum.doctissimo.fr/sante/cannabis/liste_sujet-1.htm\""
   ]
  },
  {
   "cell_type": "markdown",
   "id": "281f0a6c",
   "metadata": {},
   "source": [
    "Get the page"
   ]
  },
  {
   "cell_type": "code",
   "execution_count": 2,
   "id": "06fd512f",
   "metadata": {},
   "outputs": [],
   "source": [
    "from urllib.request import urlopen  # standard python module\n",
    "html = urlopen(url).read()"
   ]
  },
  {
   "cell_type": "markdown",
   "id": "b83c6b3b",
   "metadata": {},
   "source": [
    "The content"
   ]
  },
  {
   "cell_type": "code",
   "execution_count": 4,
   "id": "6276c17a",
   "metadata": {},
   "outputs": [
    {
     "data": {
      "text/plain": [
       "b'\\n\\t<!DOCTYPE html PUBLIC \"-//W3C//DTD XHTML 1.0 Transitional//EN\" \"https://www.w3.org/TR/xhtml1/DTD/xhtml1-transitional.dtd\">\\n\\t<html xml:lang=\"fr\" lang=\"fr\">\\n\\t<head>\\n\\t<meta http-equiv=\"Content-Type\" content=\"text/html; charset=UTF-8\" />\\n\\t<meta name=\"viewport\" content=\"\" />\\n<link rel=\"next\" href=\"https://forum.doctissimo.fr/sante/cannabis/liste_sujet-2.htm\" />\\n<title>Forum Cannabis - Doctissimo</title><link rel=\"stylesheet\" type=\"text/css\" href=\"https://forum.doctissimo.fr/forum_style.php?is_responsive=0&amp;user=0&amp;id_forum=4&amp;color_key=FFFFFF/FFFFFF/333333/C2C3F4/42529d/FFFFFF/FFFFFF/333333/333333/333333/285291/FFFFFF/F8F8F8/F8F8F8/F8F8F8/C0C0C0/C0C0C0/FFFFFF/333333/333333/0000ff/FFEEEE/000000/FFFFFF/FF0000/FFFFFF/0/0/https%3A%40%40images.doctissimo.fr%40shared%40forum/NULL/&amp;v=1638174587\" /><link type=\"text/css\" rel=\"stylesheet\" href=\"https://images.doctissimo.fr/generated/forum/compressed/pictures.css?v=1638174587\" /><script type=\"text/javascript\" src=\"https://images.doctissimo.fr/generated/forum/compressed/tabs.js?version=1638174587\" async></script><script type=\"text/javascript\" src=\"https://images.doctissimo.fr/generated/forum/compressed/forum1.js?version=1638174587\" async></script><style type=\"text/css\">\\n\\t.textareaOff {\\n\\t\\tfont-size:8px;\\n\\t\\tborder:1px solid #f00;\\n\\t\\tbackground-color:#ddd;\\n\\t}\\n\\t</style><meta http-equiv=\"Imagetoolbar\" content=\"no\" />\\n<meta name=\"Robots\" content=\"index, follow\" />\\n\\n<!-- BEGIN CMP DIDOMI -->\\n\\t\\n\\t\\t<script type=\"text/javascript\">\\n\\t\\t\\twindow.gdprAppliesGlobally=true;(function(){function a(e){if(!window.frames[e]){if(document.body&&document.body.firstChild){var t=document.body;var n=document.createElement(\"iframe\");n.style.display=\"none\";n.name=e;n.title=e;t.insertBefore(n,t.firstChild)}\\n\\t\\t\\telse{setTimeout(function(){a(e)},5)}}}function e(n,r,o,c,s){function e(e,t,n,a){if(typeof n!==\"function\"){return}if(!window[r]){window[r]=[]}var i=false;if(s){i=s(e,t,n)}if(!i){window[r].push({command:e,parameter:t,callback:n,version:a})}}e.stub='"
      ]
     },
     "execution_count": 4,
     "metadata": {},
     "output_type": "execute_result"
    }
   ],
   "source": [
    "html[0:2000]"
   ]
  },
  {
   "cell_type": "markdown",
   "id": "495c48fe",
   "metadata": {},
   "source": [
    "HTML : we need to look at the content, explore. We identify the html tage 'sujetCase3' with the content"
   ]
  },
  {
   "cell_type": "markdown",
   "id": "4dab1118",
   "metadata": {},
   "source": [
    "To deal with HTML, we can use the `bs4` library"
   ]
  },
  {
   "cell_type": "markdown",
   "id": "bebb3de2",
   "metadata": {},
   "source": [
    "<td class=\"sujetCase3\"> TOPIC </td>"
   ]
  },
  {
   "cell_type": "code",
   "execution_count": 10,
   "id": "bc2af4e6",
   "metadata": {},
   "outputs": [
    {
     "data": {
      "text/plain": [
       "100"
      ]
     },
     "execution_count": 10,
     "metadata": {},
     "output_type": "execute_result"
    }
   ],
   "source": [
    "import bs4\n",
    "\n",
    "html_bs4 = bs4.BeautifulSoup(html)\n",
    "data = html_bs4.find_all(\"td\",{\"class\":\"sujetCase3\"})\n",
    "len(data)"
   ]
  },
  {
   "cell_type": "code",
   "execution_count": 13,
   "id": "2163b48b",
   "metadata": {},
   "outputs": [
    {
     "data": {
      "text/plain": [
       "<td class=\"sujetCase3\" scope=\"row\"><a class=\"cCatTopic\" href=\"https://forum.doctissimo.fr/sante/cannabis/cannabis-douleurs-regles-sujet_162374_1.htm\" id=\"url_topic_162374\" title=\"Sujet n°162374\">Cannabis et douleurs de règles</a></td>"
      ]
     },
     "execution_count": 13,
     "metadata": {},
     "output_type": "execute_result"
    }
   ],
   "source": [
    "data[2]"
   ]
  },
  {
   "cell_type": "code",
   "execution_count": 9,
   "id": "f55613ce",
   "metadata": {},
   "outputs": [
    {
     "data": {
      "text/plain": [
       "bs4.BeautifulSoup"
      ]
     },
     "execution_count": 9,
     "metadata": {},
     "output_type": "execute_result"
    }
   ],
   "source": [
    "type(html_bs4)"
   ]
  },
  {
   "cell_type": "markdown",
   "id": "1d80b354",
   "metadata": {},
   "source": [
    "What do we have ?"
   ]
  },
  {
   "cell_type": "code",
   "execution_count": 5,
   "id": "b31683a5",
   "metadata": {},
   "outputs": [
    {
     "data": {
      "text/plain": [
       "<td class=\"sujetCase3\" scope=\"row\"><span class=\"DOC_cryptlinkaHR0cHM6Ly9mb3J1bS5kb2N0aXNzaW1vLmZyL3NhbnRlL2Nhbm5hYmlzL3Rlc3QtdXJpbmFpcmUtc3VqZXRfMTYyNDM5XzEuaHRt DOC_cryptlink cCatTopic\" id=\"url_topic_162439\" rel=\"nofollow\" title=\"Sujet n°162439\">Test urinaire thc</span></td>"
      ]
     },
     "execution_count": 5,
     "metadata": {},
     "output_type": "execute_result"
    }
   ],
   "source": [
    "data[4]"
   ]
  },
  {
   "cell_type": "code",
   "execution_count": 33,
   "id": "62e7fdce",
   "metadata": {},
   "outputs": [
    {
     "data": {
      "text/plain": [
       "<td class=\"sujetCase3\" scope=\"row\"><a class=\"cCatTopic\" href=\"https://forum.doctissimo.fr/sante/cannabis/reinsertion-socioprofessionnelle-consommateurs-sujet_162368_1.htm\" id=\"url_topic_162368\" title=\"Sujet n°162368\">ECHANGES SUR LA RÉINSERTION SOCIOPROFESSIONNELLE D'EX-CONSOMMATEURS DE CANNABIS</a></td>"
      ]
     },
     "execution_count": 33,
     "metadata": {},
     "output_type": "execute_result"
    }
   ],
   "source": [
    "data[6]"
   ]
  },
  {
   "cell_type": "markdown",
   "id": "1bb86263",
   "metadata": {},
   "source": [
    "There is a link only if there are responses"
   ]
  },
  {
   "cell_type": "markdown",
   "id": "dec62051",
   "metadata": {},
   "source": [
    "We want also to get the titles"
   ]
  },
  {
   "cell_type": "code",
   "execution_count": 14,
   "id": "503cfc6e",
   "metadata": {},
   "outputs": [
    {
     "data": {
      "text/plain": [
       "'Test urinaire thc'"
      ]
     },
     "execution_count": 14,
     "metadata": {},
     "output_type": "execute_result"
    }
   ],
   "source": [
    "data[6].text"
   ]
  },
  {
   "cell_type": "code",
   "execution_count": 9,
   "id": "737059e9",
   "metadata": {},
   "outputs": [],
   "source": [
    "textes = [i.text for i in data]"
   ]
  },
  {
   "cell_type": "markdown",
   "id": "a0ffea29",
   "metadata": {},
   "source": [
    "Get the links of the page"
   ]
  },
  {
   "cell_type": "code",
   "execution_count": 15,
   "id": "5e197de1",
   "metadata": {
    "scrolled": true
   },
   "outputs": [
    {
     "name": "stdout",
     "output_type": "stream",
     "text": [
      "82\n"
     ]
    }
   ],
   "source": [
    "# Tableau vide\n",
    "liens = []\n",
    "\n",
    "#Boucle sur les liens\n",
    "for ligne in data:\n",
    "    \n",
    "    # Chercher le lien\n",
    "    lien = ligne.find(\"a\")\n",
    "    \n",
    "    # S'il existe, le garder dans le tableau\n",
    "    if lien:\n",
    "        liens.append(lien[\"href\"])\n",
    "        \n",
    "print(len(liens))"
   ]
  },
  {
   "cell_type": "markdown",
   "id": "176dadf0",
   "metadata": {},
   "source": [
    "And now, we want the content of each of these pages of responses."
   ]
  },
  {
   "cell_type": "code",
   "execution_count": 18,
   "id": "808152c6",
   "metadata": {},
   "outputs": [
    {
     "name": "stdout",
     "output_type": "stream",
     "text": [
      "https://forum.doctissimo.fr/sante/cannabis/plateforme-numerique-addictions-sujet_162438_1.htm\n",
      "https://forum.doctissimo.fr/sante/cannabis/cannabis-douleurs-regles-sujet_162374_1.htm\n",
      "https://forum.doctissimo.fr/sante/cannabis/cannabis-menace-couple-sujet_162386_1.htm\n",
      "https://forum.doctissimo.fr/sante/cannabis/test-positif-thc-sujet_162409_1.htm\n",
      "https://forum.doctissimo.fr/sante/cannabis/guerire-addiction-cannabis-sujet_162437_1.htm\n",
      "https://forum.doctissimo.fr/sante/cannabis/dure-arreter-sujet_162396_1.htm\n",
      "https://forum.doctissimo.fr/sante/cannabis/reinsertion-socioprofessionnelle-consommateurs-sujet_162368_1.htm\n",
      "https://forum.doctissimo.fr/sante/cannabis/grosse-addiction-habitude-sujet_162436_1.htm\n",
      "https://forum.doctissimo.fr/sante/cannabis/test-urinaire-sujet_151489_1.htm\n",
      "https://forum.doctissimo.fr/sante/cannabis/urine-consommation-soir-sujet_162235_1.htm\n"
     ]
    }
   ],
   "source": [
    "pages = {} # tableau vide\n",
    "for lien in liens[0:10]: # on teste sur 10 pour commencer\n",
    "    print(lien)\n",
    "    html = urlopen(lien).read()\n",
    "    pages[lien] = html"
   ]
  },
  {
   "cell_type": "markdown",
   "id": "4eae7737",
   "metadata": {},
   "source": [
    "On each of thoses pages, we want to get the urls on the page."
   ]
  },
  {
   "cell_type": "code",
   "execution_count": 19,
   "id": "13f1e4b4",
   "metadata": {},
   "outputs": [],
   "source": [
    "def obtenir_liens(html):\n",
    "    liens = bs4.BeautifulSoup(html).find_all(\"a\",{\"class\":\"cLink\"})\n",
    "    return [l[\"href\"] for l in liens]"
   ]
  },
  {
   "cell_type": "markdown",
   "id": "60a003b4",
   "metadata": {},
   "source": [
    "Let's test"
   ]
  },
  {
   "cell_type": "code",
   "execution_count": 20,
   "id": "0e31f3b1",
   "metadata": {},
   "outputs": [
    {
     "data": {
      "text/plain": [
       "['https://nox.tips/', 'https://xender.vip/']"
      ]
     },
     "execution_count": 20,
     "metadata": {},
     "output_type": "execute_result"
    }
   ],
   "source": [
    "obtenir_liens(pages[list(pages.keys())[2]])"
   ]
  },
  {
   "cell_type": "markdown",
   "id": "1e2989f7",
   "metadata": {},
   "source": [
    "Apply to all pages"
   ]
  },
  {
   "cell_type": "code",
   "execution_count": 21,
   "id": "4ac35c86",
   "metadata": {},
   "outputs": [],
   "source": [
    "liens_pages = {}\n",
    "for p in pages:\n",
    "    liens_pages[p] = obtenir_liens(pages[p])"
   ]
  },
  {
   "cell_type": "markdown",
   "id": "81db3189",
   "metadata": {},
   "source": [
    "Semi-structured data"
   ]
  },
  {
   "cell_type": "code",
   "execution_count": 22,
   "id": "b1479f6f",
   "metadata": {},
   "outputs": [
    {
     "data": {
      "text/plain": [
       "{'https://forum.doctissimo.fr/sante/cannabis/plateforme-numerique-addictions-sujet_162438_1.htm': ['https://forms.gle/p3VVS28QRK1X9HSE9'],\n",
       " 'https://forum.doctissimo.fr/sante/cannabis/cannabis-douleurs-regles-sujet_162374_1.htm': ['https://forms.gle/kpwj3uTsjaJvsvGi8'],\n",
       " 'https://forum.doctissimo.fr/sante/cannabis/cannabis-menace-couple-sujet_162386_1.htm': ['https://nox.tips/',\n",
       "  'https://xender.vip/'],\n",
       " 'https://forum.doctissimo.fr/sante/cannabis/test-positif-thc-sujet_162409_1.htm': ['https://cocorikush.fr/blog/29_kleaner-spray-anti-thc.html',\n",
       "  'https://cocorikush.fr/blog/29_kleaner-spray-anti-thc.html'],\n",
       " 'https://forum.doctissimo.fr/sante/cannabis/guerire-addiction-cannabis-sujet_162437_1.htm': [],\n",
       " 'https://forum.doctissimo.fr/sante/cannabis/dure-arreter-sujet_162396_1.htm': ['https://www.drogues-info-service.fr/Les-drogues-et-vous/L-arret/Arreter-comment-faire',\n",
       "  'https://www.drogues-info-service.fr/Les-drogues-et-vous/L-arret/Est-il-possible-d-arreter-seul-le-cannabis',\n",
       "  'https://www.drogues-info-service.fr/Les-drogues-et-vous/L-arret/Je-souhaite-me-faire-aider',\n",
       "  'https://www.drogues-info-service.fr/Les-drogues-et-vous/L-arret/Arreter-comment-faire',\n",
       "  'https://www.drogues-info-service.fr/Les-drogues-et-vous/L-arret/Est-il-possible-d-arreter-seul-le-cannabis',\n",
       "  'https://www.drogues-info-service.fr/Les-drogues-et-vous/L-arret/Je-souhaite-me-faire-aider',\n",
       "  'https://www.la-clinique-e-sante.com/blog/addictions/etapes-sevrage-cannabis#cannabis'],\n",
       " 'https://forum.doctissimo.fr/sante/cannabis/reinsertion-socioprofessionnelle-consommateurs-sujet_162368_1.htm': [],\n",
       " 'https://forum.doctissimo.fr/sante/cannabis/grosse-addiction-habitude-sujet_162436_1.htm': [],\n",
       " 'https://forum.doctissimo.fr/sante/cannabis/test-urinaire-sujet_151489_1.htm': [],\n",
       " 'https://forum.doctissimo.fr/sante/cannabis/urine-consommation-soir-sujet_162235_1.htm': ['https://topcbd.ch/blog/',\n",
       "  'https://topcbd.ch/blog/',\n",
       "  'https://topcbd.ch/blog/']}"
      ]
     },
     "execution_count": 22,
     "metadata": {},
     "output_type": "execute_result"
    }
   ],
   "source": [
    "liens_pages"
   ]
  },
  {
   "cell_type": "markdown",
   "id": "704c7c05",
   "metadata": {},
   "source": [
    "## 2. Explore and understand the data\n",
    "\n",
    "We need to convert the partialy structured data to tables. We use `pandas`"
   ]
  },
  {
   "cell_type": "code",
   "execution_count": 23,
   "id": "c84b430d",
   "metadata": {},
   "outputs": [],
   "source": [
    "import pandas as pd"
   ]
  },
  {
   "cell_type": "code",
   "execution_count": 24,
   "id": "282010a9",
   "metadata": {},
   "outputs": [
    {
     "data": {
      "text/html": [
       "<div>\n",
       "<style scoped>\n",
       "    .dataframe tbody tr th:only-of-type {\n",
       "        vertical-align: middle;\n",
       "    }\n",
       "\n",
       "    .dataframe tbody tr th {\n",
       "        vertical-align: top;\n",
       "    }\n",
       "\n",
       "    .dataframe thead th {\n",
       "        text-align: right;\n",
       "    }\n",
       "</style>\n",
       "<table border=\"1\" class=\"dataframe\">\n",
       "  <thead>\n",
       "    <tr style=\"text-align: right;\">\n",
       "      <th></th>\n",
       "      <th>page</th>\n",
       "      <th>nb liens</th>\n",
       "    </tr>\n",
       "  </thead>\n",
       "  <tbody>\n",
       "    <tr>\n",
       "      <th>0</th>\n",
       "      <td>https://forum.doctissimo.fr/sante/cannabis/pla...</td>\n",
       "      <td>1</td>\n",
       "    </tr>\n",
       "    <tr>\n",
       "      <th>1</th>\n",
       "      <td>https://forum.doctissimo.fr/sante/cannabis/can...</td>\n",
       "      <td>1</td>\n",
       "    </tr>\n",
       "    <tr>\n",
       "      <th>2</th>\n",
       "      <td>https://forum.doctissimo.fr/sante/cannabis/can...</td>\n",
       "      <td>2</td>\n",
       "    </tr>\n",
       "    <tr>\n",
       "      <th>3</th>\n",
       "      <td>https://forum.doctissimo.fr/sante/cannabis/tes...</td>\n",
       "      <td>2</td>\n",
       "    </tr>\n",
       "    <tr>\n",
       "      <th>4</th>\n",
       "      <td>https://forum.doctissimo.fr/sante/cannabis/gue...</td>\n",
       "      <td>0</td>\n",
       "    </tr>\n",
       "    <tr>\n",
       "      <th>5</th>\n",
       "      <td>https://forum.doctissimo.fr/sante/cannabis/dur...</td>\n",
       "      <td>7</td>\n",
       "    </tr>\n",
       "    <tr>\n",
       "      <th>6</th>\n",
       "      <td>https://forum.doctissimo.fr/sante/cannabis/rei...</td>\n",
       "      <td>0</td>\n",
       "    </tr>\n",
       "    <tr>\n",
       "      <th>7</th>\n",
       "      <td>https://forum.doctissimo.fr/sante/cannabis/gro...</td>\n",
       "      <td>0</td>\n",
       "    </tr>\n",
       "    <tr>\n",
       "      <th>8</th>\n",
       "      <td>https://forum.doctissimo.fr/sante/cannabis/tes...</td>\n",
       "      <td>0</td>\n",
       "    </tr>\n",
       "    <tr>\n",
       "      <th>9</th>\n",
       "      <td>https://forum.doctissimo.fr/sante/cannabis/uri...</td>\n",
       "      <td>3</td>\n",
       "    </tr>\n",
       "  </tbody>\n",
       "</table>\n",
       "</div>"
      ],
      "text/plain": [
       "                                                page  nb liens\n",
       "0  https://forum.doctissimo.fr/sante/cannabis/pla...         1\n",
       "1  https://forum.doctissimo.fr/sante/cannabis/can...         1\n",
       "2  https://forum.doctissimo.fr/sante/cannabis/can...         2\n",
       "3  https://forum.doctissimo.fr/sante/cannabis/tes...         2\n",
       "4  https://forum.doctissimo.fr/sante/cannabis/gue...         0\n",
       "5  https://forum.doctissimo.fr/sante/cannabis/dur...         7\n",
       "6  https://forum.doctissimo.fr/sante/cannabis/rei...         0\n",
       "7  https://forum.doctissimo.fr/sante/cannabis/gro...         0\n",
       "8  https://forum.doctissimo.fr/sante/cannabis/tes...         0\n",
       "9  https://forum.doctissimo.fr/sante/cannabis/uri...         3"
      ]
     },
     "execution_count": 24,
     "metadata": {},
     "output_type": "execute_result"
    }
   ],
   "source": [
    "pd.DataFrame([[p,len(liens_pages[p])] for p in liens_pages],columns=[\"page\",\"nb liens\"])"
   ]
  },
  {
   "cell_type": "markdown",
   "id": "67ca2d1f",
   "metadata": {},
   "source": [
    "Are the links uniques ?"
   ]
  },
  {
   "cell_type": "code",
   "execution_count": 25,
   "id": "2e48bb6a",
   "metadata": {},
   "outputs": [
    {
     "data": {
      "text/plain": [
       "https://topcbd.ch/blog/                                                                                       3\n",
       "https://cocorikush.fr/blog/29_kleaner-spray-anti-thc.html                                                     2\n",
       "https://www.drogues-info-service.fr/Les-drogues-et-vous/L-arret/Arreter-comment-faire                         2\n",
       "https://www.drogues-info-service.fr/Les-drogues-et-vous/L-arret/Est-il-possible-d-arreter-seul-le-cannabis    2\n",
       "https://www.drogues-info-service.fr/Les-drogues-et-vous/L-arret/Je-souhaite-me-faire-aider                    2\n",
       "https://forms.gle/p3VVS28QRK1X9HSE9                                                                           1\n",
       "https://forms.gle/kpwj3uTsjaJvsvGi8                                                                           1\n",
       "https://nox.tips/                                                                                             1\n",
       "https://xender.vip/                                                                                           1\n",
       "https://www.la-clinique-e-sante.com/blog/addictions/etapes-sevrage-cannabis#cannabis                          1\n",
       "dtype: int64"
      ]
     },
     "execution_count": 25,
     "metadata": {},
     "output_type": "execute_result"
    }
   ],
   "source": [
    "# un tableau vide\n",
    "tous_les_liens = []\n",
    "\n",
    "# ajouter chaque lien de chaque page\n",
    "for p in liens_pages:\n",
    "    tous_les_liens+=liens_pages[p]\n",
    "    \n",
    "# créer un tableau et compter\n",
    "pd.Series(tous_les_liens).value_counts()"
   ]
  },
  {
   "cell_type": "markdown",
   "id": "ccb49cb6",
   "metadata": {},
   "source": [
    "## 3. Go to networks\n",
    "\n",
    "We want  to build a network with the URL as a relation between threads\n",
    "\n",
    "- Each link is a node\n",
    "- Two nodes are connected if the link is on the same page"
   ]
  },
  {
   "cell_type": "code",
   "execution_count": 1,
   "id": "0836935d",
   "metadata": {},
   "outputs": [],
   "source": [
    "import networkx as nx"
   ]
  },
  {
   "cell_type": "markdown",
   "id": "522b0183",
   "metadata": {},
   "source": [
    "Build the graph"
   ]
  },
  {
   "cell_type": "code",
   "execution_count": 29,
   "id": "6ebbd5bd",
   "metadata": {},
   "outputs": [],
   "source": [
    "# Créer un graph vide\n",
    "graph = nx.Graph()\n",
    "\n",
    "# pour chaque page\n",
    "for p in liens_pages:\n",
    "    \n",
    "    graph.add_node(p,poids=1,cat=\"page\")\n",
    "    \n",
    "    # pour chaque lien de la page\n",
    "    for l in liens_pages[p]:\n",
    "        \n",
    "        # ajouter le noeud ou augmenter sa taille\n",
    "        if graph.has_node(l):\n",
    "            graph.nodes[l][\"poids\"]+=1\n",
    "        else:\n",
    "            graph.add_node(l,poids=1,cat=\"lien\")\n",
    "            \n",
    "        # ajouter le lien ou augmenter sa taille\n",
    "        if graph.has_edge(p,l):\n",
    "            graph[p][l][\"poids\"]+=1\n",
    "        else:\n",
    "            graph.add_edge(p,l,poids=1)        \n",
    "        "
   ]
  },
  {
   "cell_type": "markdown",
   "id": "292c0e2c",
   "metadata": {},
   "source": [
    "The size of the network"
   ]
  },
  {
   "cell_type": "code",
   "execution_count": 23,
   "id": "beeb3acc",
   "metadata": {},
   "outputs": [
    {
     "data": {
      "text/plain": [
       "(127, 109)"
      ]
     },
     "execution_count": 23,
     "metadata": {},
     "output_type": "execute_result"
    }
   ],
   "source": [
    "len(graph.nodes),len(graph.edges)"
   ]
  },
  {
   "cell_type": "markdown",
   "id": "2ecca4ee",
   "metadata": {},
   "source": [
    "## 4. Visualisation\n"
   ]
  },
  {
   "cell_type": "code",
   "execution_count": 24,
   "id": "2d8147ab",
   "metadata": {},
   "outputs": [],
   "source": [
    "from ipysigma import Sigma"
   ]
  },
  {
   "cell_type": "code",
   "execution_count": 30,
   "id": "57f1d2a7",
   "metadata": {},
   "outputs": [
    {
     "data": {
      "application/vnd.jupyter.widget-view+json": {
       "model_id": "7efa14234ae04f879cef8efd5d97a1e7",
       "version_major": 2,
       "version_minor": 0
      },
      "text/plain": [
       "Sigma(nx.Graph with 164 nodes and 109 edges)"
      ]
     },
     "metadata": {},
     "output_type": "display_data"
    }
   ],
   "source": [
    "Sigma(graph,node_size=\"poids\",node_color=\"cat\")"
   ]
  },
  {
   "cell_type": "markdown",
   "id": "5bb81c1d",
   "metadata": {},
   "source": [
    "## Questions pour le script\n",
    "\n",
    "- comment faire pour récupérer plus de pages ?\n",
    "- comment l'appliquer à un autre sujet ?\n",
    "- comment faire pour savoir le nombre de sujets qui parlent de CBD ?"
   ]
  }
 ],
 "metadata": {
  "kernelspec": {
   "display_name": "Python 3 (ipykernel)",
   "language": "python",
   "name": "python3"
  },
  "language_info": {
   "codemirror_mode": {
    "name": "ipython",
    "version": 3
   },
   "file_extension": ".py",
   "mimetype": "text/x-python",
   "name": "python",
   "nbconvert_exporter": "python",
   "pygments_lexer": "ipython3",
   "version": "3.9.12"
  }
 },
 "nbformat": 4,
 "nbformat_minor": 5
}
