{
 "cells": [
  {
   "cell_type": "markdown",
   "metadata": {},
   "source": [
    "## Production de bilans comptables à partir des données extraites de la burette"
   ]
  },
  {
   "cell_type": "markdown",
   "metadata": {},
   "source": [
    "Bibliothèques"
   ]
  },
  {
   "cell_type": "code",
   "execution_count": 1,
   "metadata": {},
   "outputs": [],
   "source": [
    "#Bibliothèques nécessaires\n",
    "import pandas as pd\n",
    "import os\n",
    "%matplotlib inline"
   ]
  },
  {
   "cell_type": "markdown",
   "metadata": {},
   "source": [
    "## Définition des variables et des fonctions"
   ]
  },
  {
   "cell_type": "code",
   "execution_count": 2,
   "metadata": {},
   "outputs": [],
   "source": [
    "# Les lignes budgétaires servant à faire les calculs\n",
    "cat = {'Caisse principale': 531100,\n",
    " 'Chèques à encaisser': 511200,\n",
    " 'Clients - Ventes de biens ou de prestations de services': 411100,\n",
    " 'Cotisations': 756000,\n",
    " 'Divers': 708810,\n",
    " 'Dons Manuels non affectés': 758100,\n",
    " 'Erreur de caisse négative': 658001,\n",
    " 'Erreur de caisse positive': 758001,\n",
    " 'Helloasso': 510001,\n",
    " 'Marquage': 706100,\n",
    " 'Pièces neuves': 707300,\n",
    " 'Vente antivols': 707200,\n",
    " 'Vente de vélos': 707100,\n",
    " 'Ventes de dons en nature': 758700,\n",
    " 'Caisse principale':531100,\n",
    " 'Coup de pouce':511500,\n",
    " 'Virements internes de liquide': 580000}\n",
    "\n",
    "#Pour les données et pour le compte mentionné, renvoie le bilan Crédit-Débit\n",
    "def obtenir_total_compte(mois,compte,detail=False):\n",
    "    t = mois[mois[\"Compte/Code\"]==compte][[\"Date\",\"Débit\",\"Crédit\"]]\n",
    "    if detail:\n",
    "        return t\n",
    "    else:\n",
    "        return t[\"Crédit\"].sum()-t[\"Débit\"].sum()\n",
    "\n",
    "#Résumé général du mois avec production des fichiers\n",
    "def get_resume_mois(mois,nom_du_mois=\"\"):\n",
    "    total = []\n",
    "    \n",
    "    #Totaux pour les différentes lignes\n",
    "    total.append([\"Total cotisation\",obtenir_total_compte(mois,756000)])\n",
    "    total.append([\"Vente de vélo\",obtenir_total_compte(mois,707100)])\n",
    "    total.append([\"Antivols\",obtenir_total_compte(mois,707200)])\n",
    "    total.append([\"Pièce neuves\",obtenir_total_compte(mois,707300)])\n",
    "    total.append([\"Pièce d'occasion\",obtenir_total_compte(mois,758700)])\n",
    "    total.append([\"Gravage\",obtenir_total_compte(mois,706100)])\n",
    "    total.append([\"Dons\",obtenir_total_compte(mois,758100)])\n",
    "    total.append([\"Autres produits\",obtenir_total_compte(mois,708810)])\n",
    "    total.append([\"Helloasso\",obtenir_total_compte(mois,510001)])\n",
    "    total.append([\"Total prestation permanence\",obtenir_total_compte(mois,411100)])    \n",
    "    total.append([\"Total chèque\",obtenir_total_compte(mois,511200)])\n",
    "    total.append([\"Total coup de pouce\",obtenir_total_compte(mois,511500)])\n",
    "    total.append([\"Total retraits de caisse\",obtenir_total_compte(mois,580000)])\n",
    "    total.append([\"Total entrée (liquide/chèque/coupdepouce)\",0])\n",
    "    total.append([\"Total argent liquide en caisse\",obtenir_total_compte(mois,531100)])\n",
    "\n",
    "    #Extrait à part des mouvements de la caisse 58000 dans un fichier résumés/Mouvements pour vérification\n",
    "    obtenir_total_compte(mois,580000,detail=True).sort_values(\"Débit\").drop(\"Crédit\",axis=1).round(1).to_excel(\"résumés/Mouvements 580000 \"+nom_du_mois+\".xls\")\n",
    "    \n",
    "    #Mise en forme du tableau final\n",
    "    t = pd.DataFrame(total,columns=[\"Colonne\",\"Total\"]).set_index(\"Colonne\")\n",
    "    \n",
    "    #Ajout de deux lignes supplémentaires\n",
    "    t.loc[\"Total entrée (liquide/chèque/coupdepouce)\"][\"Total\"] = t.iloc[0:10][\"Total\"].sum()\n",
    "    \n",
    "    #Écrire dans un fichier\n",
    "    t.round(1).to_excel(\"résumés/Résumé mois {}.xls\".format(nom_du_mois))\n",
    "    \n",
    "    return t.round(1)"
   ]
  },
  {
   "cell_type": "markdown",
   "metadata": {},
   "source": [
    "## Script détaillé"
   ]
  },
  {
   "cell_type": "markdown",
   "metadata": {},
   "source": [
    "La première étape est d'extraire les données de la burette > comptabilité > écriture comptables > afficher les 2000 premiers résultats, sélectionner, puis Autres options > extraire > \"Tous types de données\" et export-python2 pour sélectionner les variables pré-sélectionnées.\n",
    "\n",
    "Mettre le fichier CSV dans le dossier correspondant"
   ]
  },
  {
   "cell_type": "markdown",
   "metadata": {},
   "source": [
    "Charger les données contenues dans le dossier data-burette-2021\n"
   ]
  },
  {
   "cell_type": "code",
   "execution_count": 3,
   "metadata": {},
   "outputs": [],
   "source": [
    "data = pd.concat([pd.read_csv(\"./data-burette-2021/\"+i) for i in os.listdir(\"./data-burette-2021/\") if \"csv\" in i])"
   ]
  },
  {
   "cell_type": "markdown",
   "metadata": {},
   "source": [
    "Sélection des données d'un mois particulier"
   ]
  },
  {
   "cell_type": "code",
   "execution_count": 17,
   "metadata": {},
   "outputs": [
    {
     "data": {
      "text/plain": [
       "543"
      ]
     },
     "execution_count": 17,
     "metadata": {},
     "output_type": "execute_result"
    }
   ],
   "source": [
    "mois = data[(data[\"Date\"]>=\"2021-05-01\") & (data[\"Date\"]<=\"2021-05-31\")]\n",
    "len(mois)"
   ]
  },
  {
   "cell_type": "markdown",
   "metadata": {},
   "source": [
    "Application du script pour le mois"
   ]
  },
  {
   "cell_type": "code",
   "execution_count": 18,
   "metadata": {},
   "outputs": [
    {
     "data": {
      "text/html": [
       "<div>\n",
       "<style scoped>\n",
       "    .dataframe tbody tr th:only-of-type {\n",
       "        vertical-align: middle;\n",
       "    }\n",
       "\n",
       "    .dataframe tbody tr th {\n",
       "        vertical-align: top;\n",
       "    }\n",
       "\n",
       "    .dataframe thead th {\n",
       "        text-align: right;\n",
       "    }\n",
       "</style>\n",
       "<table border=\"1\" class=\"dataframe\">\n",
       "  <thead>\n",
       "    <tr style=\"text-align: right;\">\n",
       "      <th></th>\n",
       "      <th>Total</th>\n",
       "    </tr>\n",
       "    <tr>\n",
       "      <th>Colonne</th>\n",
       "      <th></th>\n",
       "    </tr>\n",
       "  </thead>\n",
       "  <tbody>\n",
       "    <tr>\n",
       "      <th>Total cotisation</th>\n",
       "      <td>907.0</td>\n",
       "    </tr>\n",
       "    <tr>\n",
       "      <th>Vente de vélo</th>\n",
       "      <td>430.0</td>\n",
       "    </tr>\n",
       "    <tr>\n",
       "      <th>Antivols</th>\n",
       "      <td>91.0</td>\n",
       "    </tr>\n",
       "    <tr>\n",
       "      <th>Pièce neuves</th>\n",
       "      <td>507.4</td>\n",
       "    </tr>\n",
       "    <tr>\n",
       "      <th>Pièce d'occasion</th>\n",
       "      <td>227.1</td>\n",
       "    </tr>\n",
       "    <tr>\n",
       "      <th>Gravage</th>\n",
       "      <td>0.0</td>\n",
       "    </tr>\n",
       "    <tr>\n",
       "      <th>Dons</th>\n",
       "      <td>21.0</td>\n",
       "    </tr>\n",
       "    <tr>\n",
       "      <th>Autres produits</th>\n",
       "      <td>0.0</td>\n",
       "    </tr>\n",
       "    <tr>\n",
       "      <th>Helloasso</th>\n",
       "      <td>-135.0</td>\n",
       "    </tr>\n",
       "    <tr>\n",
       "      <th>Total prestation permanence</th>\n",
       "      <td>0.0</td>\n",
       "    </tr>\n",
       "    <tr>\n",
       "      <th>Total chèque</th>\n",
       "      <td>-225.0</td>\n",
       "    </tr>\n",
       "    <tr>\n",
       "      <th>Total coup de pouce</th>\n",
       "      <td>0.0</td>\n",
       "    </tr>\n",
       "    <tr>\n",
       "      <th>Total retraits de caisse</th>\n",
       "      <td>-1617.4</td>\n",
       "    </tr>\n",
       "    <tr>\n",
       "      <th>Total entrée (liquide/chèque/coupdepouce)</th>\n",
       "      <td>2048.5</td>\n",
       "    </tr>\n",
       "    <tr>\n",
       "      <th>Total argent liquide en caisse</th>\n",
       "      <td>-186.6</td>\n",
       "    </tr>\n",
       "  </tbody>\n",
       "</table>\n",
       "</div>"
      ],
      "text/plain": [
       "                                            Total\n",
       "Colonne                                          \n",
       "Total cotisation                            907.0\n",
       "Vente de vélo                               430.0\n",
       "Antivols                                     91.0\n",
       "Pièce neuves                                507.4\n",
       "Pièce d'occasion                            227.1\n",
       "Gravage                                       0.0\n",
       "Dons                                         21.0\n",
       "Autres produits                               0.0\n",
       "Helloasso                                  -135.0\n",
       "Total prestation permanence                   0.0\n",
       "Total chèque                               -225.0\n",
       "Total coup de pouce                           0.0\n",
       "Total retraits de caisse                  -1617.4\n",
       "Total entrée (liquide/chèque/coupdepouce)  2048.5\n",
       "Total argent liquide en caisse             -186.6"
      ]
     },
     "execution_count": 18,
     "metadata": {},
     "output_type": "execute_result"
    }
   ],
   "source": [
    "get_resume_mois(mois,\"mai\")"
   ]
  },
  {
   "cell_type": "markdown",
   "metadata": {},
   "source": [
    "## Analyses complémentaires"
   ]
  },
  {
   "cell_type": "markdown",
   "metadata": {},
   "source": [
    "Par exemple analyser les évolutions sur une période"
   ]
  },
  {
   "cell_type": "code",
   "execution_count": null,
   "metadata": {},
   "outputs": [],
   "source": [
    "# Sélection d'une partie des données\n",
    "data = data[(data[\"Date\"]>=\"2021-01-01\")]\n",
    "\n",
    "# Mise sous forme de série temporelle\n",
    "data[\"Date-index\"] = pd.to_datetime(data[\"Date\"])\n",
    "data = data.set_index(\"Date-index\")\n",
    "data[\"num\"] = 1"
   ]
  },
  {
   "cell_type": "markdown",
   "metadata": {},
   "source": [
    "### Suivi des problèmes de caisse sur l'année\n",
    "\n",
    "Pour voir s'il y a des différentiels trop importants et réguliers ..."
   ]
  },
  {
   "cell_type": "markdown",
   "metadata": {},
   "source": [
    "Erreurs de caisses négative lors de la fermeture"
   ]
  },
  {
   "cell_type": "code",
   "execution_count": 21,
   "metadata": {
    "scrolled": true
   },
   "outputs": [
    {
     "data": {
      "text/plain": [
       "<matplotlib.axes._subplots.AxesSubplot at 0x1236e38d0>"
      ]
     },
     "execution_count": 21,
     "metadata": {},
     "output_type": "execute_result"
    },
    {
     "data": {
      "image/png": "[encoded data removed]",
      "text/plain": [
       "<Figure size 432x288 with 1 Axes>"
      ]
     },
     "metadata": {
      "needs_background": "light"
     },
     "output_type": "display_data"
    }
   ],
   "source": [
    "data[data[\"Compte/Code\"]==658001][\"Débit\"].resample(\"d\").sum().plot()"
   ]
  },
  {
   "cell_type": "markdown",
   "metadata": {},
   "source": [
    "Erreurs de caisse positives lors de l'ouverture"
   ]
  },
  {
   "cell_type": "code",
   "execution_count": 22,
   "metadata": {},
   "outputs": [
    {
     "data": {
      "text/plain": [
       "<matplotlib.axes._subplots.AxesSubplot at 0x1210e5d10>"
      ]
     },
     "execution_count": 22,
     "metadata": {},
     "output_type": "execute_result"
    },
    {
     "data": {
      "image/png": "[encoded data removed]",
      "text/plain": [
       "<Figure size 432x288 with 1 Axes>"
      ]
     },
     "metadata": {
      "needs_background": "light"
     },
     "output_type": "display_data"
    }
   ],
   "source": [
    "data[data[\"Compte/Code\"]==758001][\"Crédit\"].resample(\"d\").sum().plot()"
   ]
  },
  {
   "cell_type": "markdown",
   "metadata": {},
   "source": [
    "Erreur de caisse positive"
   ]
  }
 ],
 "metadata": {
  "kernelspec": {
   "display_name": "Python 3",
   "language": "python",
   "name": "python3"
  },
  "language_info": {
   "codemirror_mode": {
    "name": "ipython",
    "version": 3
   },
   "file_extension": ".py",
   "mimetype": "text/x-python",
   "name": "python",
   "nbconvert_exporter": "python",
   "pygments_lexer": "ipython3",
   "version": "3.7.7"
  }
 },
 "nbformat": 4,
 "nbformat_minor": 2
}
