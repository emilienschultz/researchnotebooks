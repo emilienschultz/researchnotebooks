{
 "cells": [
  {
   "cell_type": "markdown",
   "metadata": {},
   "source": [
    "# Social study of scientific python\n",
    "## Web of Science Analysis"
   ]
  },
  {
   "cell_type": "markdown",
   "metadata": {},
   "source": [
    "Download data from the WOS\n",
    "- [scientific computing] All articles in the Web of Science with \"scientific programming\" or \"scientific computing\" in it\n",
    "- [python] All articles in the Web of Science with \"Python\" AND NOT \"snake\", \"reptile\""
   ]
  },
  {
   "cell_type": "code",
   "execution_count": 15,
   "metadata": {
    "collapsed": false
   },
   "outputs": [],
   "source": [
    "import emilientools\n",
    "from emilientools import io\n",
    "import os as os\n",
    "import pandas as pd\n",
    "import networkx as nx\n",
    "import matplotlib.pylab as plt\n",
    "%matplotlib inline"
   ]
  },
  {
   "cell_type": "markdown",
   "metadata": {},
   "source": [
    "###  \"Python\" articles"
   ]
  },
  {
   "cell_type": "code",
   "execution_count": 31,
   "metadata": {
    "collapsed": false
   },
   "outputs": [
    {
     "name": "stdout",
     "output_type": "stream",
     "text": [
      "There are 1691 articles in the corpus\n"
     ]
    }
   ],
   "source": [
    "corpus = emilientools.io.WosCorpus()\n",
    "corpus.add_wos(\"wos-python\",directory=True)\n",
    "print(\"There are {number} articles in the corpus\".format(number=len(corpus.corpus)))"
   ]
  },
  {
   "cell_type": "markdown",
   "metadata": {},
   "source": [
    "## Visualisation"
   ]
  },
  {
   "cell_type": "code",
   "execution_count": 32,
   "metadata": {
    "collapsed": false
   },
   "outputs": [
    {
     "data": {
      "image/png": "[encoded data removed]",
      "text/plain": [
       "<matplotlib.figure.Figure at 0xafdc2dcc>"
      ]
     },
     "metadata": {},
     "output_type": "display_data"
    }
   ],
   "source": [
    "python = pd.Series([int(i[\"year\"]) for i in corpus.corpus if i[\"year\"]!=\"0000\"])\n",
    "python.hist()\n",
    "plt.title(\"WOS articles mentionning 'python'\")\n",
    "plt.xlabel(\"Year\")\n",
    "plt.ylabel(\"Frequency\")\n",
    "plt.savefig(\"hist-wospython.png\")"
   ]
  },
  {
   "cell_type": "markdown",
   "metadata": {},
   "source": [
    "**Citations**"
   ]
  },
  {
   "cell_type": "code",
   "execution_count": 4,
   "metadata": {
    "collapsed": false
   },
   "outputs": [],
   "source": [
    "s = pd.Series([j for i in corpus.corpus for j in i[\"bibliography_clean\"]]).value_counts()"
   ]
  },
  {
   "cell_type": "code",
   "execution_count": 8,
   "metadata": {
    "collapsed": false
   },
   "outputs": [
    {
     "data": {
      "text/plain": [
       "oliphant te 2007 comput sci eng                                                       81\n",
       "hunter jd 2007 comput sci eng                                                         74\n",
       "jones e. 2001 scipy open source sc                                                    63\n",
       "perez f 2007 comput sci eng                                                           47\n",
       "cock pja 2009 bioinformatics                                                          37\n",
       "berman hm 2000 nucleic acids res                                                      36\n",
       "humphrey w 1996 j mol graph model                                                     26\n",
       "li h 2009 bioinformatics                                                              26\n",
       "pedregosa f 2011 j mach learn res                                                     26\n",
       "altschul sf 1997 nucleic acids res                                                    25\n",
       "behnel s 2011 comput sci eng                                                          24\n",
       "oliphant t.e. 2006 guide numpy                                                        24\n",
       "van der walt s 2011 comput sci eng                                                    23\n",
       "hinsen k 2000 j comput chem                                                           23\n",
       "altschul sf 1990 j mol biol                                                           22\n",
       "secor sm 1995 j exp biol                                                              22\n",
       "secor sm 2001 comp biochem phys a                                                     20\n",
       "secor sm 1997 physiol zool                                                            19\n",
       "starck jm 2001 j exp biol                                                             18\n",
       "sanner mf 1999 j mol graph model                                                      17\n",
       "delano w. l. 2002 pymol mol graphics s                                                17\n",
       "hamelryck t 2003 bioinformatics                                                       16\n",
       "klockner a 2012 parallel comput                                                       15\n",
       "grosse-kunstleve rw 2002 j appl crystallogr                                           15\n",
       "kent wj 2002 genome res                                                               15\n",
       "peterson pearu 2009 international journal of computational science and engineering    15\n",
       "hucka m 2003 bioinformatics                                                           14\n",
       "beazley dm 2003 future gener comp sy                                                  14\n",
       "jobling m 1981 j fish biol                                                            14\n",
       "johansson jr 2012 comput phys commun                                                  14\n",
       "dtype: int64"
      ]
     },
     "execution_count": 8,
     "metadata": {},
     "output_type": "execute_result"
    }
   ],
   "source": [
    "s[0:30]"
   ]
  },
  {
   "cell_type": "code",
   "execution_count": 48,
   "metadata": {
    "collapsed": false
   },
   "outputs": [],
   "source": [
    "#Create a network of cocitations\n",
    "filter_articles = [i for i in dict(s) if s[i]>10]\n",
    "G = nx.Graph()\n",
    "for i in corpus.corpus:\n",
    "    G.add_node(i[\"id\"],Label=i[\"year\"]+\" \"+i[\"title\"][0:30],weight=1,type=\"article\")\n",
    "    for j in [u for u in i[\"bibliography_clean\"] if u in filter_articles]:\n",
    "        if j in G.node:\n",
    "            G.node[j][\"weight\"]+=1\n",
    "        else:\n",
    "            G.add_node(j,Label=j,weight=1,type=\"ref\")\n",
    "        if () in G.edges():\n",
    "            G[i[\"id\"]][j][\"weight\"]+=1\n",
    "        else:\n",
    "            G.add_edge(i[\"id\"],j,weight=1)"
   ]
  },
  {
   "cell_type": "code",
   "execution_count": 50,
   "metadata": {
    "collapsed": false
   },
   "outputs": [],
   "source": [
    "# Use Gephi to visualize the network\n",
    "nx.write_graphml(G,\"nw-python-08082015.graphml\")"
   ]
  },
  {
   "cell_type": "markdown",
   "metadata": {},
   "source": [
    "The analyse shows that there is a cluster linked to python as an animal, and it seems no easy way to clean it for the moment\n",
    "- a solution would be to use keywords to filter\n",
    "- an other solution is to exlude automaticaly all the field of zoology"
   ]
  },
  {
   "cell_type": "markdown",
   "metadata": {},
   "source": [
    "### Keywords"
   ]
  },
  {
   "cell_type": "code",
   "execution_count": 3,
   "metadata": {
    "collapsed": false
   },
   "outputs": [],
   "source": [
    "s = pd.Series([j for i in corpus.corpus for j in i[\"keywords1\"]]).value_counts()"
   ]
  },
  {
   "cell_type": "code",
   "execution_count": 4,
   "metadata": {
    "collapsed": false
   },
   "outputs": [
    {
     "data": {
      "text/plain": [
       "python                         159\n",
       "software                        33\n",
       "methods: data analysis          18\n",
       "performance                     17\n",
       "algorithms                      16\n",
       "simulation                      16\n",
       "open source                     16\n",
       "methods: numerical              13\n",
       "molecular dynamics              13\n",
       "gis                             13\n",
       "cosmic microwave background     12\n",
       "optimization                    11\n",
       "automation                      11\n",
       "specific dynamic action         11\n",
       "graphical user interface        10\n",
       "bioinformatics                  10\n",
       "languages                       10\n",
       "c plus                          10\n",
       "object-oriented programming     10\n",
       "design                          10\n",
       "database                         9\n",
       "data analysis                    9\n",
       "machine learning                 9\n",
       "image processing                 8\n",
       "scripting                        8\n",
       "open-source                      7\n",
       "methods: statistical             7\n",
       "gpu                              7\n",
       "open-source software             7\n",
       "techniques: photometric          7\n",
       "dtype: int64"
      ]
     },
     "execution_count": 4,
     "metadata": {},
     "output_type": "execute_result"
    }
   ],
   "source": [
    "s[0:30]"
   ]
  },
  {
   "cell_type": "markdown",
   "metadata": {},
   "source": [
    "### \"Scientific computing\" articles"
   ]
  },
  {
   "cell_type": "code",
   "execution_count": 33,
   "metadata": {
    "collapsed": false
   },
   "outputs": [
    {
     "name": "stdout",
     "output_type": "stream",
     "text": [
      "There are 1778 articles in the corpus\n"
     ]
    }
   ],
   "source": [
    "corpus = emilientools.io.WosCorpus()\n",
    "corpus.add_wos(\"wos-sc\",directory=True)\n",
    "print(\"There are {number} articles in the corpus\".format(number=len(corpus.corpus)))"
   ]
  },
  {
   "cell_type": "markdown",
   "metadata": {},
   "source": [
    "### Visualisation"
   ]
  },
  {
   "cell_type": "code",
   "execution_count": 34,
   "metadata": {
    "collapsed": false
   },
   "outputs": [
    {
     "data": {
      "image/png": "[encoded data removed]",
      "text/plain": [
       "<matplotlib.figure.Figure at 0xafe8f42c>"
      ]
     },
     "metadata": {},
     "output_type": "display_data"
    }
   ],
   "source": [
    "sc = pd.Series([int(i[\"year\"]) for i in corpus.corpus if i[\"year\"]!=\"0000\"])\n",
    "sc.hist()\n",
    "plt.title(\"WOS articles mentionning 'scientific computing'\")\n",
    "plt.xlabel(\"Year\")\n",
    "plt.ylabel(\"Frequency\")\n",
    "plt.savefig(\"hist-wossc.png\")"
   ]
  },
  {
   "cell_type": "code",
   "execution_count": 37,
   "metadata": {
    "collapsed": true
   },
   "outputs": [],
   "source": [
    "s = pd.Series([j for i in corpus.corpus for j in i[\"bibliography_clean\"]]).value_counts()"
   ]
  },
  {
   "cell_type": "code",
   "execution_count": 38,
   "metadata": {
    "collapsed": false
   },
   "outputs": [
    {
     "data": {
      "text/plain": [
       "golub g 1996 matrix computations                                  32\n",
       "dongarra jj 1990 acm t math software                              26\n",
       "barrett r. 1994 templates solution l                              25\n",
       "anderson e. 1999 lapack users guide                               24\n",
       "lawson c. l. 1979 acm transactions on mathematical software       24\n",
       "dean j 2008 commun acm                                            24\n",
       "saad y 1986 siam j sci stat comp                                  19\n",
       "foster i 1997 int j supercomput ap                                19\n",
       "dongarra jj 1988 acm t math software                              18\n",
       "balay s 1997 modern software tools for scientific computing       18\n",
       "whaley rc 2001 parallel comput                                    17\n",
       "saad y. 2003 iterative methods sp                                 17\n",
       "foster i 2001 int j high perform c                                17\n",
       "foster ian 1998 grid blueprint new c                              15\n",
       "valiant lg 1990 commun acm                                        15\n",
       "gamma e. 1995 design patterns elem                                15\n",
       "catalyurek uv 1999 ieee t parall distr                            15\n",
       "gropp w 1999 using mpi portable p                                 14\n",
       "foster i. 1999 grid blueprint new c                               14\n",
       "karypis g. 1998 metis software packa                              14\n",
       "foster i. 2002 physl grid open grid                               14\n",
       "blackford l.s. 1997 scalapack users guid                          13\n",
       "cormen t. h. 2001 intro algorithms                                13\n",
       "mattson p. r. 2002 thesis stanford u                              12\n",
       "smith b. 1996 domain decomposition                                12\n",
       "golub g. h. 1989 matrix computations                              12\n",
       "moore r. e. 1966 interval anal                                    12\n",
       "allan ba 2002 concurr comp-pract e                                11\n",
       "plimpton s 1995 j comput phys                                     11\n",
       "kumar v. 1994 intro parallel compu                                11\n",
       "vandervorst ha 1992 siam j sci stat comp                          11\n",
       "snir m. 1998 mpi complete referen                                 11\n",
       "karypis g 1998 siam j sci comput                                  11\n",
       "ludascher b 2006 concurr comp-pract e                             11\n",
       "bisseling r. h. 2004 parallel sci computa                         11\n",
       "asanovic k. 2006 ucbeecs2006183                                   11\n",
       "geist a. 1994 pvm parallel virtual                                11\n",
       "gallopoulos e. 1994 ieee computational science and engineering    10\n",
       "garey m.r. 1979 computers intractabi                              10\n",
       "iosup a 2011 ieee t parall distr                                  10\n",
       "dtype: int64"
      ]
     },
     "execution_count": 38,
     "metadata": {},
     "output_type": "execute_result"
    }
   ],
   "source": [
    "s[0:40]"
   ]
  },
  {
   "cell_type": "code",
   "execution_count": 39,
   "metadata": {
    "collapsed": false
   },
   "outputs": [
    {
     "data": {
      "text/plain": [
       "systems                      58\n",
       "algorithm                    53\n",
       "algorithms                   41\n",
       "equations                    31\n",
       "software                     27\n",
       "performance                  25\n",
       "model                        25\n",
       "simulation                   22\n",
       "parallel                     22\n",
       "simulations                  20\n",
       "optimization                 19\n",
       "implementation               17\n",
       "system                       16\n",
       "models                       14\n",
       "framework                    14\n",
       "flow                         13\n",
       "design                       13\n",
       "approximation                12\n",
       "networks                     11\n",
       "generation                   11\n",
       "computation                  11\n",
       "set                          10\n",
       "matrices                     10\n",
       "matrix                       10\n",
       "architectures                 9\n",
       "navier-stokes equations       9\n",
       "architecture                  9\n",
       "graphs                        8\n",
       "environment                   8\n",
       "graphics processing units     8\n",
       "dtype: int64"
      ]
     },
     "execution_count": 39,
     "metadata": {},
     "output_type": "execute_result"
    }
   ],
   "source": [
    "s = pd.Series([j.strip() for i in corpus.corpus for j in i[\"keywords2\"]]).value_counts()\n",
    "s[0:30]"
   ]
  },
  {
   "cell_type": "code",
   "execution_count": 43,
   "metadata": {
    "collapsed": false
   },
   "outputs": [],
   "source": [
    "#Create a network of cocitations\n",
    "filter_articles = [i for i in dict(s) if s[i]>1]\n",
    "G = nx.Graph()\n",
    "for i in corpus.corpus:\n",
    "    G.add_node(i[\"id\"],Label=i[\"year\"]+\" \"+i[\"title\"][0:30],weight=1,type=\"article\")\n",
    "    for j in [u for u in i[\"bibliography_clean\"] if u in filter_articles]:\n",
    "        if j in G.node:\n",
    "            G.node[j][\"weight\"]+=1\n",
    "        else:\n",
    "            G.add_node(j,Label=j,weight=1,type=\"ref\")\n",
    "        if () in G.edges():\n",
    "            G[i[\"id\"]][j][\"weight\"]+=1\n",
    "        else:\n",
    "            G.add_edge(i[\"id\"],j,weight=1)"
   ]
  },
  {
   "cell_type": "code",
   "execution_count": 44,
   "metadata": {
    "collapsed": true
   },
   "outputs": [],
   "source": [
    "# Use Gephi to visualize the network\n",
    "nx.write_graphml(G,\"nw-sc-09082015.graphml\")"
   ]
  }
 ],
 "metadata": {
  "kernelspec": {
   "display_name": "Python 3",
   "language": "python",
   "name": "python3"
  },
  "language_info": {
   "codemirror_mode": {
    "name": "ipython",
    "version": 3
   },
   "file_extension": ".py",
   "mimetype": "text/x-python",
   "name": "python",
   "nbconvert_exporter": "python",
   "pygments_lexer": "ipython3",
   "version": "3.4.3"
  }
 },
 "nbformat": 4,
 "nbformat_minor": 0
}
